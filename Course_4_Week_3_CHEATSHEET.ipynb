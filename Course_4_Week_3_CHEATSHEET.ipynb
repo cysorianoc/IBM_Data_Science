{
  "nbformat": 4,
  "nbformat_minor": 0,
  "metadata": {
    "colab": {
      "provenance": [],
      "authorship_tag": "ABX9TyMBGYIaTaUeKRbqBIPxYGXl",
      "include_colab_link": true
    },
    "kernelspec": {
      "name": "python3",
      "display_name": "Python 3"
    },
    "language_info": {
      "name": "python"
    }
  },
  "cells": [
    {
      "cell_type": "markdown",
      "metadata": {
        "id": "view-in-github",
        "colab_type": "text"
      },
      "source": [
        "<a href=\"https://colab.research.google.com/github/cysorianoc/IBM_Data_Science/blob/main/Course_4_Week_3_CHEATSHEET.ipynb\" target=\"_parent\"><img src=\"https://colab.research.google.com/assets/colab-badge.svg\" alt=\"Open In Colab\"/></a>"
      ]
    },
    {
      "cell_type": "markdown",
      "source": [
        "\n",
        "# Cheat Sheet: Python Programming Fundamentals\n",
        "---\n",
        " The following are some code lines to illustrate examples of the concepts seen in the course\n"
      ],
      "metadata": {
        "id": "jIIM1_VsXxKj"
      }
    },
    {
      "cell_type": "code",
      "source": [
        "# Using booleand including AND\n",
        "marks = 90\n",
        "attendance_percentage = 87\n",
        "if marks >= 80 and attendance_percentage >= 85:\n",
        "    print(\"qualify for honors\")\n",
        "else:\n",
        "    print(\"Not qualified for honors\")\n",
        "# Output = qualify for honors"
      ],
      "metadata": {
        "colab": {
          "base_uri": "https://localhost:8080/"
        },
        "id": "TF-3feagXwlB",
        "outputId": "8d522e60-511c-4489-ebd6-14e01c8d9187"
      },
      "execution_count": 55,
      "outputs": [
        {
          "output_type": "stream",
          "name": "stdout",
          "text": [
            "qualify for honors\n"
          ]
        }
      ]
    },
    {
      "cell_type": "code",
      "source": [
        "# Class definition\n",
        "class Person:\n",
        "    def __init__(self, name, age):\n",
        "        self.name = name\n",
        "        self.age = age\n",
        "# Methods\n",
        "    def person_details(self):\n",
        "      print('Name: ', self.name)\n",
        "      print('Age:', self.age,' years')\n",
        "\n",
        "\n",
        "\n",
        "# Here we use theelement using the parameters defined\n",
        "Person1=Person('Mary',35)\n",
        "# Here we apply the method defined\n",
        "Person1.person_details()"
      ],
      "metadata": {
        "colab": {
          "base_uri": "https://localhost:8080/"
        },
        "id": "HL8oXZwhYBiK",
        "outputId": "3dc29ec6-e19f-49e3-d76b-7736298ca18e"
      },
      "execution_count": 67,
      "outputs": [
        {
          "output_type": "stream",
          "name": "stdout",
          "text": [
            "Name:  Mary\n",
            "Age: 35  years\n"
          ]
        }
      ]
    },
    {
      "cell_type": "code",
      "source": [
        "# Define a function\n",
        "def greet(name):\n",
        "  print('Hello,', name)\n",
        "\n",
        "# And here we call the function\n",
        "greet('Mary')"
      ],
      "metadata": {
        "colab": {
          "base_uri": "https://localhost:8080/"
        },
        "id": "StMfZwisYBgW",
        "outputId": "3b616367-88c7-45f8-9f98-4e1a9df205ed"
      },
      "execution_count": 66,
      "outputs": [
        {
          "output_type": "stream",
          "name": "stdout",
          "text": [
            "Hello, Mary\n"
          ]
        }
      ]
    },
    {
      "cell_type": "code",
      "source": [
        "# Equal in terms of boolean\n",
        "5==5"
      ],
      "metadata": {
        "colab": {
          "base_uri": "https://localhost:8080/"
        },
        "id": "s3l7rSU1YBea",
        "outputId": "2c7df7d6-ead1-45fd-e34e-f2c481d34ef1"
      },
      "execution_count": 62,
      "outputs": [
        {
          "output_type": "execute_result",
          "data": {
            "text/plain": [
              "True"
            ]
          },
          "metadata": {},
          "execution_count": 62
        }
      ]
    },
    {
      "cell_type": "code",
      "source": [
        "# For loop: execute a block of code over a sequence of elements (list, range, string)\n",
        "# So here we execute this code over a range of values\n",
        "for num in range(1,10):\n",
        "  print(num)"
      ],
      "metadata": {
        "colab": {
          "base_uri": "https://localhost:8080/"
        },
        "id": "nkECASWWYBcU",
        "outputId": "8fe5e975-222a-4907-b5ea-9b78a4475dad"
      },
      "execution_count": 64,
      "outputs": [
        {
          "output_type": "stream",
          "name": "stdout",
          "text": [
            "1\n",
            "2\n",
            "3\n",
            "4\n",
            "5\n",
            "6\n",
            "7\n",
            "8\n",
            "9\n"
          ]
        }
      ]
    },
    {
      "cell_type": "code",
      "source": [
        "# Here we can use a for loop over a list\n",
        "fruits=[\"apple\", \"banana\", \"orange\", \"grape\", \"kiwi\"]\n",
        "for fruit in fruits:\n",
        "  print(fruit)"
      ],
      "metadata": {
        "colab": {
          "base_uri": "https://localhost:8080/"
        },
        "id": "rR0E-fDwYBaQ",
        "outputId": "04f1a8a5-b8d8-4ae3-995d-a5716c57fcef"
      },
      "execution_count": 65,
      "outputs": [
        {
          "output_type": "stream",
          "name": "stdout",
          "text": [
            "apple\n",
            "banana\n",
            "orange\n",
            "grape\n",
            "kiwi\n"
          ]
        }
      ]
    },
    {
      "cell_type": "code",
      "source": [
        "# Greater than, less than that return boolean values: True or False\n",
        "quantity=105\n",
        "minimun=100\n",
        "quantity<=minimun"
      ],
      "metadata": {
        "colab": {
          "base_uri": "https://localhost:8080/"
        },
        "id": "TM_AovjSYBYQ",
        "outputId": "41c2807d-ab50-4537-bd40-6652565f4bb7"
      },
      "execution_count": 68,
      "outputs": [
        {
          "output_type": "execute_result",
          "data": {
            "text/plain": [
              "False"
            ]
          },
          "metadata": {},
          "execution_count": 68
        }
      ]
    },
    {
      "cell_type": "code",
      "source": [
        "# If statement: executes code block if the condition is True\n",
        "temperature=int(input('Enter the current temperature: '))\n",
        "if temperature>30:\n",
        "  print('It is a hot day')"
      ],
      "metadata": {
        "colab": {
          "base_uri": "https://localhost:8080/"
        },
        "id": "apWdiv7CYBWK",
        "outputId": "1fad3263-9f87-45cf-967c-69784dbba3bf"
      },
      "execution_count": 71,
      "outputs": [
        {
          "output_type": "stream",
          "name": "stdout",
          "text": [
            "Enter the current temperature: 32\n",
            "It is a hot day\n"
          ]
        }
      ]
    },
    {
      "cell_type": "code",
      "source": [
        "# using if-elif-else: Executes the first code block if condition1 is `True`, otherwise checks condition2, and so on. If no condition is `True`, the else block is executed.\n",
        "\n",
        "score=85\n",
        "if score >=90:\n",
        "  print('You got an A!')\n",
        "elif score>=80:\n",
        "  print('You got a B!')\n",
        "else:\n",
        "  print('You need to work harder')\n",
        "\n"
      ],
      "metadata": {
        "colab": {
          "base_uri": "https://localhost:8080/"
        },
        "id": "OcCWMv-SYBTy",
        "outputId": "41ed4f19-0c39-4627-8116-d45a4b2d52c2"
      },
      "execution_count": 72,
      "outputs": [
        {
          "output_type": "stream",
          "name": "stdout",
          "text": [
            "You got a B!\n"
          ]
        }
      ]
    },
    {
      "cell_type": "code",
      "source": [
        "# using if-else: Executes the first code block if the condition is `True`, otherwise the second block\n",
        "age=22\n",
        "if age>=18:\n",
        "  print('You are an adult')\n",
        "else:\n",
        "  print('You are not an adult yet')"
      ],
      "metadata": {
        "colab": {
          "base_uri": "https://localhost:8080/"
        },
        "id": "fb16TRCGYBRc",
        "outputId": "a35af4f4-58ed-4501-ffe9-3ef537ae827e"
      },
      "execution_count": 73,
      "outputs": [
        {
          "output_type": "stream",
          "name": "stdout",
          "text": [
            "You are an adult\n"
          ]
        }
      ]
    },
    {
      "cell_type": "code",
      "source": [
        "# Loop Controls: `break` exits the loop prematurely. `continue` skips the rest of the current iteration and moves to the next iteration.\n",
        "# Example 1\n",
        "\n",
        "for num in range(1,10):\n",
        "  if num==5:\n",
        "    break\n",
        "  print(num)\n",
        "\n"
      ],
      "metadata": {
        "colab": {
          "base_uri": "https://localhost:8080/"
        },
        "id": "gHhKfEJIhKVv",
        "outputId": "57ba03c0-67f6-4afb-ffa1-008a4640e356"
      },
      "execution_count": 74,
      "outputs": [
        {
          "output_type": "stream",
          "name": "stdout",
          "text": [
            "1\n",
            "2\n",
            "3\n",
            "4\n"
          ]
        }
      ]
    },
    {
      "cell_type": "code",
      "source": [
        "# Example 2\n",
        "\n",
        "for num in range(1,10):\n",
        "  if num==5:\n",
        "    continue\n",
        "  print(num)"
      ],
      "metadata": {
        "colab": {
          "base_uri": "https://localhost:8080/"
        },
        "id": "7NQ64-f6hKTK",
        "outputId": "c5d3eb97-dbf2-4f01-e5f8-f3149ad71d10"
      },
      "execution_count": 75,
      "outputs": [
        {
          "output_type": "stream",
          "name": "stdout",
          "text": [
            "1\n",
            "2\n",
            "3\n",
            "4\n",
            "6\n",
            "7\n",
            "8\n",
            "9\n"
          ]
        }
      ]
    },
    {
      "cell_type": "code",
      "source": [
        "# range() funtion\n",
        "range(5) # #generates a sequence of integers from 0 to 4."
      ],
      "metadata": {
        "colab": {
          "base_uri": "https://localhost:8080/"
        },
        "id": "fz6Kc1sAhKPC",
        "outputId": "af07fb08-7570-4124-f8a9-38bc412480d7"
      },
      "execution_count": 79,
      "outputs": [
        {
          "output_type": "execute_result",
          "data": {
            "text/plain": [
              "range(0, 5)"
            ]
          },
          "metadata": {},
          "execution_count": 79
        }
      ]
    },
    {
      "cell_type": "code",
      "source": [
        "range(2,10) # #generates a sequence of integers from 2 to 9"
      ],
      "metadata": {
        "colab": {
          "base_uri": "https://localhost:8080/"
        },
        "id": "IqfppgaZhKNL",
        "outputId": "5038c7eb-daf1-43e6-c60f-79815bc0a871"
      },
      "execution_count": 80,
      "outputs": [
        {
          "output_type": "execute_result",
          "data": {
            "text/plain": [
              "range(2, 10)"
            ]
          },
          "metadata": {},
          "execution_count": 80
        }
      ]
    },
    {
      "cell_type": "code",
      "source": [
        "range(1,11,2) #generates odd integers from 1 to 9."
      ],
      "metadata": {
        "colab": {
          "base_uri": "https://localhost:8080/"
        },
        "id": "k70gU-QzhKLI",
        "outputId": "0015865e-87a6-4ef9-f1a3-3d9888497c25"
      },
      "execution_count": 82,
      "outputs": [
        {
          "output_type": "execute_result",
          "data": {
            "text/plain": [
              "range(1, 11, 2)"
            ]
          },
          "metadata": {},
          "execution_count": 82
        }
      ]
    },
    {
      "cell_type": "code",
      "source": [
        "# to retrieve the elements in the range we use a for loop\n",
        "for i in range (1,11,2):\n",
        "  print(i)"
      ],
      "metadata": {
        "colab": {
          "base_uri": "https://localhost:8080/"
        },
        "id": "W6vGB9WqhKJB",
        "outputId": "9de9d85d-12d9-4187-9f07-456b3e8746d2"
      },
      "execution_count": 84,
      "outputs": [
        {
          "output_type": "stream",
          "name": "stdout",
          "text": [
            "1\n",
            "3\n",
            "5\n",
            "7\n",
            "9\n"
          ]
        }
      ]
    },
    {
      "cell_type": "code",
      "source": [
        "# Using return: `Return` is a keyword used to send a value back from a function to its caller.\n",
        "\n",
        "def add(a,b):\n",
        "  c=a+b\n",
        "  return(c)\n",
        "\n",
        "add(10,20)"
      ],
      "metadata": {
        "colab": {
          "base_uri": "https://localhost:8080/"
        },
        "id": "S9r0YudfhKG-",
        "outputId": "47252b98-ab95-437a-9327-bac1905d53a1"
      },
      "execution_count": 85,
      "outputs": [
        {
          "output_type": "execute_result",
          "data": {
            "text/plain": [
              "30"
            ]
          },
          "metadata": {},
          "execution_count": 85
        }
      ]
    },
    {
      "cell_type": "code",
      "source": [
        "# Handling exceptions using try and except: Tries to execute the code in the try block. If an exception of the specified type occurs, the code in the except block is executed.\n",
        "# Example\n",
        "try:\n",
        "  numerator=10\n",
        "  denominator=0\n",
        "  result=numerator/denominator\n",
        "  print(result)\n",
        "except Exception as e:\n",
        "  print(f\"An error occurred: {e}\")\n",
        "\n"
      ],
      "metadata": {
        "colab": {
          "base_uri": "https://localhost:8080/"
        },
        "id": "dSSTjT0KhKEr",
        "outputId": "f51d770e-2668-453a-b6fc-9350c0af1523"
      },
      "execution_count": 88,
      "outputs": [
        {
          "output_type": "stream",
          "name": "stdout",
          "text": [
            "An error occurred: division by zero\n"
          ]
        }
      ]
    },
    {
      "cell_type": "code",
      "source": [
        "try:\n",
        "  num=int(input('Enter a number: '))\n",
        "except Exception as e:\n",
        "  print(f\"An error occurred: {e}\")"
      ],
      "metadata": {
        "colab": {
          "base_uri": "https://localhost:8080/"
        },
        "id": "rbn7_CuGhKCU",
        "outputId": "3ddf3841-2121-4290-d1c9-bf9b6f46b9c1"
      },
      "execution_count": 91,
      "outputs": [
        {
          "output_type": "stream",
          "name": "stdout",
          "text": [
            "Enter a number: A\n",
            "An error occurred: invalid literal for int() with base 10: 'A'\n"
          ]
        }
      ]
    },
    {
      "cell_type": "code",
      "source": [
        "# While loop: A `while` loop repeatedly executes a block of code as long as a specified condition remains `True`.\n",
        "count = 0\n",
        "while count < 5:\n",
        "    print(count)\n",
        "    count += 1"
      ],
      "metadata": {
        "colab": {
          "base_uri": "https://localhost:8080/"
        },
        "id": "0hyQrsNHhJ_z",
        "outputId": "769430ff-5272-4f8c-b2a1-37fe4fe920a3"
      },
      "execution_count": 97,
      "outputs": [
        {
          "output_type": "stream",
          "name": "stdout",
          "text": [
            "0\n",
            "1\n",
            "2\n",
            "3\n",
            "4\n"
          ]
        }
      ]
    },
    {
      "cell_type": "code",
      "source": [
        "# Just a reminder about lists\n",
        "# here we see that the list is declared by []\n",
        "test_list=['A','B','C']\n",
        "# now we can use the enumerate function to retrieve the index of each element\n",
        "for index, letters in enumerate(test_list):  # here we declare two elements the index and the content inside the brackets of the list\n",
        "  print(index,letters)\n"
      ],
      "metadata": {
        "colab": {
          "base_uri": "https://localhost:8080/"
        },
        "id": "G6Z2McRKREdg",
        "outputId": "74cc117d-7218-4499-b611-c660f59d1e3e"
      },
      "execution_count": 20,
      "outputs": [
        {
          "output_type": "stream",
          "name": "stdout",
          "text": [
            "0 A\n",
            "1 B\n",
            "2 C\n"
          ]
        }
      ]
    },
    {
      "cell_type": "code",
      "source": [
        "# Here we see how to access a certain element of the list\n",
        "test_list[0]"
      ],
      "metadata": {
        "colab": {
          "base_uri": "https://localhost:8080/",
          "height": 36
        },
        "id": "ypliuW_zSciE",
        "outputId": "47e51349-16e0-4933-972a-94591f305c27"
      },
      "execution_count": 21,
      "outputs": [
        {
          "output_type": "execute_result",
          "data": {
            "text/plain": [
              "'A'"
            ],
            "application/vnd.google.colaboratory.intrinsic+json": {
              "type": "string"
            }
          },
          "metadata": {},
          "execution_count": 21
        }
      ]
    },
    {
      "cell_type": "code",
      "source": [
        "# This is an example of list mutability, which basically means that we can modify them\n",
        "test_list[0]='C'\n",
        "test_list"
      ],
      "metadata": {
        "colab": {
          "base_uri": "https://localhost:8080/"
        },
        "id": "q4cc7CoMSv4G",
        "outputId": "b11b95c2-f85a-4b1e-f791-9c786d0ef489"
      },
      "execution_count": 22,
      "outputs": [
        {
          "output_type": "execute_result",
          "data": {
            "text/plain": [
              "['C', 'B', 'C']"
            ]
          },
          "metadata": {},
          "execution_count": 22
        }
      ]
    },
    {
      "cell_type": "code",
      "source": [
        "# Now an example of tupples which are initialized by ()\n",
        "test_tupple=('A','B','C') # a similar example with a tuple which is delimited by parenthesis ()\n",
        "# a similar example for enumerating the elements in the tupple\n",
        "for index,letters in enumerate (test_tupple):\n",
        "  print(index,letters)"
      ],
      "metadata": {
        "colab": {
          "base_uri": "https://localhost:8080/"
        },
        "id": "rb2dkArHRF_-",
        "outputId": "9a0eeca4-7bd3-4235-bad9-9ce39b94f130"
      },
      "execution_count": 25,
      "outputs": [
        {
          "output_type": "stream",
          "name": "stdout",
          "text": [
            "0 A\n",
            "1 B\n",
            "2 C\n"
          ]
        }
      ]
    },
    {
      "cell_type": "code",
      "source": [
        "# here we access a particular element of the tupple\n",
        "test_tupple[0]"
      ],
      "metadata": {
        "colab": {
          "base_uri": "https://localhost:8080/",
          "height": 36
        },
        "id": "iwysi2WGSR1e",
        "outputId": "8b592743-cdc6-477a-b61d-eda079273644"
      },
      "execution_count": 27,
      "outputs": [
        {
          "output_type": "execute_result",
          "data": {
            "text/plain": [
              "'A'"
            ],
            "application/vnd.google.colaboratory.intrinsic+json": {
              "type": "string"
            }
          },
          "metadata": {},
          "execution_count": 27
        }
      ]
    },
    {
      "cell_type": "code",
      "source": [
        "# if we run this line we will have an error as tupples as immutable\n",
        "test_tupple[0]='C'"
      ],
      "metadata": {
        "id": "pxalHA4AT6eT"
      },
      "execution_count": null,
      "outputs": []
    },
    {
      "cell_type": "code",
      "source": [
        "# another exmaple initializing a dictionary delimited by {}\n",
        "dictionary={'A','B','H','B','R'}\n",
        "for i,v in enumerate (dictionary):\n",
        "  print(i,v)\n",
        " # note that repeated elements are not counted"
      ],
      "metadata": {
        "colab": {
          "base_uri": "https://localhost:8080/"
        },
        "id": "JVbJZz6mUDJn",
        "outputId": "c46692a8-5f10-448a-e506-18a7bd79000d"
      },
      "execution_count": 40,
      "outputs": [
        {
          "output_type": "stream",
          "name": "stdout",
          "text": [
            "0 A\n",
            "1 B\n",
            "2 H\n",
            "3 R\n"
          ]
        }
      ]
    },
    {
      "cell_type": "code",
      "source": [
        "# another exmaple initializing a dictionary delimited by {}\n",
        "dictionary={'A':10,'B':20,'H':30,'B':50,'B':60}\n",
        "dictionary.values()   # for trepeated keys it takes the last one"
      ],
      "metadata": {
        "colab": {
          "base_uri": "https://localhost:8080/"
        },
        "id": "1qbRID8qrTPw",
        "outputId": "083b299e-d722-4542-9c7a-278e0ba7652a"
      },
      "execution_count": 105,
      "outputs": [
        {
          "output_type": "execute_result",
          "data": {
            "text/plain": [
              "dict_values([10, 60, 30])"
            ]
          },
          "metadata": {},
          "execution_count": 105
        }
      ]
    },
    {
      "cell_type": "code",
      "source": [
        "dictionary.keys()"
      ],
      "metadata": {
        "colab": {
          "base_uri": "https://localhost:8080/"
        },
        "id": "1dSJ0LXXsVbp",
        "outputId": "639e435b-439b-4c1e-be73-0a72888ffdf0"
      },
      "execution_count": 106,
      "outputs": [
        {
          "output_type": "execute_result",
          "data": {
            "text/plain": [
              "dict_keys(['A', 'B', 'H'])"
            ]
          },
          "metadata": {},
          "execution_count": 106
        }
      ]
    },
    {
      "cell_type": "code",
      "source": [
        "for i, x in enumerate(['A', 'B', 'C']):\n",
        "    print(i, 2 * x)"
      ],
      "metadata": {
        "colab": {
          "base_uri": "https://localhost:8080/"
        },
        "id": "_PR2lZNoUnmk",
        "outputId": "b05a7306-dd8b-4d2e-8342-0b809b864a47"
      },
      "execution_count": 42,
      "outputs": [
        {
          "output_type": "stream",
          "name": "stdout",
          "text": [
            "0 AA\n",
            "1 BB\n",
            "2 CC\n"
          ]
        }
      ]
    },
    {
      "cell_type": "code",
      "source": [
        "class Points(object):\n",
        "    def __init__(self, x, y):\n",
        "        self.x = x\n",
        "        self.y = y\n",
        "    def print_point(self):\n",
        "        print('x=', self.x, ' y=', self.y)\n",
        "\n",
        "\n",
        "p2 = Points(1, 2)\n",
        "p2.x = 'A'\n",
        "p2.print_point()"
      ],
      "metadata": {
        "colab": {
          "base_uri": "https://localhost:8080/"
        },
        "id": "7nL9lxZzVftC",
        "outputId": "dfe81944-f184-48dc-dc04-59c98d163464"
      },
      "execution_count": 43,
      "outputs": [
        {
          "output_type": "stream",
          "name": "stdout",
          "text": [
            "x= A  y= 2\n"
          ]
        }
      ]
    },
    {
      "cell_type": "code",
      "source": [
        "def delta(x):\n",
        "    if x == 0:\n",
        "        y = 1\n",
        "    else:\n",
        "        y = 0\n",
        "    return y\n",
        "\n",
        "delta(1)"
      ],
      "metadata": {
        "colab": {
          "base_uri": "https://localhost:8080/"
        },
        "id": "-qjIfka7V-MP",
        "outputId": "923f9a6c-079f-4b12-abb4-8c6f21ac19b3"
      },
      "execution_count": 46,
      "outputs": [
        {
          "output_type": "execute_result",
          "data": {
            "text/plain": [
              "0"
            ]
          },
          "metadata": {},
          "execution_count": 46
        }
      ]
    }
  ]
}