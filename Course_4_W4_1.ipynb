{
  "cells": [
    {
      "cell_type": "markdown",
      "metadata": {
        "id": "view-in-github",
        "colab_type": "text"
      },
      "source": [
        "<a href=\"https://colab.research.google.com/github/cysorianoc/IBM_Data_Science/blob/main/Course_4_W4_1.ipynb\" target=\"_parent\"><img src=\"https://colab.research.google.com/assets/colab-badge.svg\" alt=\"Open In Colab\"/></a>"
      ]
    },
    {
      "cell_type": "markdown",
      "metadata": {
        "id": "9a7fdf30-209c-4085-99b4-4ebb49e5fdd8"
      },
      "source": [
        "<center>\n",
        "    <img src=\"https://cf-courses-data.s3.us.cloud-object-storage.appdomain.cloud/IBMDeveloperSkillsNetwork-PY0101EN-SkillsNetwork/IDSNlogo.png\" width=\"300\" alt=\"cognitiveclass.ai logo\">\n",
        "</center>\n",
        "\n",
        "# Reading Files Python\n",
        "\n",
        "Estimated time needed: **40** minutes\n",
        "\n",
        "## Objectives\n",
        "\n",
        "After completing this lab you will be able to:\n",
        "\n",
        "*   Read text files using Python libraries\n"
      ]
    },
    {
      "cell_type": "markdown",
      "metadata": {
        "id": "16172a28-833c-410d-8046-3f1516eaefe5"
      },
      "source": [
        "<h2>Table of Contents</h2>\n",
        "<div class=\"alert alert-block alert-info\" style=\"margin-top: 20px\">\n",
        "    <ul>\n",
        "        <li><a href=\"https://download/?utm_medium=Exinfluencer&utm_source=Exinfluencer&utm_content=000026UJ&utm_term=10006555&utm_id=NA-SkillsNetwork-Channel-SkillsNetworkCoursesIBMDeveloperSkillsNetworkPY0101ENSkillsNetwork19487395-2021-01-01\">Download Data</a></li>\n",
        "        <li><a href=\"https://read/?utm_medium=Exinfluencer&utm_source=Exinfluencer&utm_content=000026UJ&utm_term=10006555&utm_id=NA-SkillsNetwork-Channel-SkillsNetworkCoursesIBMDeveloperSkillsNetworkPY0101ENSkillsNetwork19487395-2021-01-01\">Reading Text Files</a></li>\n",
        "        <li><a href=\"https://better/?utm_medium=Exinfluencer&utm_source=Exinfluencer&utm_content=000026UJ&utm_term=10006555&utm_id=NA-SkillsNetwork-Channel-SkillsNetworkCoursesIBMDeveloperSkillsNetworkPY0101ENSkillsNetwork19487395-2021-01-01\">A Better Way to Open a File</a></li>\n",
        "    </ul>\n",
        "\n",
        "</div>\n",
        "\n",
        "<hr>\n"
      ]
    },
    {
      "cell_type": "markdown",
      "metadata": {
        "id": "2e88f041-1d59-4701-8611-69840cc97cc9"
      },
      "source": [
        "<h2 id=\"download\">Download Data</h2>\n"
      ]
    },
    {
      "cell_type": "code",
      "metadata": {
        "colab": {
          "base_uri": "https://localhost:8080/"
        },
        "id": "f1e8acde-1744-497e-a65c-e682c72fdc4a",
        "outputId": "4f584c3b-b247-4f73-8801-710a6f723ea9"
      },
      "outputs": [
        {
          "output_type": "stream",
          "name": "stdout",
          "text": [
            "curl: (6) Could not resolve host: example1.txt\n",
            "This is line 1 \n",
            "This is line 2\n",
            "This is line 3"
          ]
        }
      ],
      "source": [
        "import urllib.request\n",
        "url = 'https://cf-courses-data.s3.us.cloud-object-storage.appdomain.cloud/IBMDeveloperSkillsNetwork-PY0101EN-SkillsNetwork/labs/Module%204/data/example1.txt'\n",
        "filename = 'example1.txt'\n",
        "urllib.request.urlretrieve(url, filename)\n",
        "\n",
        "## Download Example file\n",
        "!curl example1.txt https://cf-courses-data.s3.us.cloud-object-storage.appdomain.cloud/IBMDeveloperSkillsNetwork-PY0101EN-SkillsNetwork/labs/Module%204/data/example1.txt"
      ],
      "execution_count": 1
    },
    {
      "cell_type": "code",
      "metadata": {
        "id": "36c863a3-e2bb-4ef3-9a9b-be9973265b71"
      },
      "outputs": [],
      "source": [
        "# from pyodide.http import pyfetch\n",
        "\n",
        "# import pandas as pd\n",
        "\n",
        "# filename = \"https://cf-courses-data.s3.us.cloud-object-storage.appdomain.cloud/IBMDeveloperSkillsNetwork-PY0101EN-SkillsNetwork/labs/Module%204/data/example1.txt\"\n",
        "\n",
        "# async def download(url, filename):\n",
        "\n",
        "#     response = await pyfetch(url)\n",
        "\n",
        "#     if response.status == 200:\n",
        "\n",
        "#         with open(filename, \"wb\") as f:\n",
        "\n",
        "#             f.write(await response.bytes())\n",
        "\n",
        "# await download(filename, \"example1.txt\")\n",
        "\n",
        "# print(\"done\")\n"
      ],
      "execution_count": 2
    },
    {
      "cell_type": "markdown",
      "metadata": {
        "id": "2ebd7c80-2f6b-45f0-bbd1-1cba69482b9b"
      },
      "source": [
        "<hr>\n"
      ]
    },
    {
      "cell_type": "markdown",
      "metadata": {
        "id": "13bce843-bedf-42e6-b776-44b6d4f3e623"
      },
      "source": [
        "<h2 id=\"read\">Reading Text Files</h2>\n"
      ]
    },
    {
      "cell_type": "markdown",
      "metadata": {
        "id": "6f9f1640-ee7d-4d6f-9d7c-a4a647c08a26"
      },
      "source": [
        "One way to read or write a file in Python is to use the built-in <code>open</code> function. The <code>open</code> function provides a **File object** that contains the methods and attributes you need in order to read, save, and manipulate the file. In this notebook, we will only cover **.txt** files. The first parameter you need is the file path and the file name. An example is shown as follow:\n"
      ]
    },
    {
      "cell_type": "markdown",
      "metadata": {
        "id": "825d1eea-59c2-4bba-abc2-d558932d5fe1"
      },
      "source": [
        "<img src=\"https://cf-courses-data.s3.us.cloud-object-storage.appdomain.cloud/IBMDeveloperSkillsNetwork-PY0101EN-SkillsNetwork/labs/Module%204/images/ReadOpen.png\" width=\"500\">\n"
      ]
    },
    {
      "cell_type": "markdown",
      "metadata": {
        "id": "c03dc59e-256a-4df7-9303-a08d06494d30"
      },
      "source": [
        "The mode argument is optional and the default value is **r**. In this notebook we only cover two modes:\n",
        "\n",
        "<ul>\n",
        "    <li>**r**: Read mode for reading files </li>\n",
        "    <li>**w**: Write mode for writing files</li>\n",
        "</ul>\n"
      ]
    },
    {
      "cell_type": "markdown",
      "metadata": {
        "id": "d331c9c9-eb4e-4f3e-aba8-ed3092c90845"
      },
      "source": [
        "For the next example, we will use the text file **Example1.txt**. The file is shown as follows:\n"
      ]
    },
    {
      "cell_type": "markdown",
      "metadata": {
        "id": "3113ca8d-fcb0-476d-9e1d-a7aa4abc9553"
      },
      "source": [
        "<img src=\"https://cf-courses-data.s3.us.cloud-object-storage.appdomain.cloud/IBMDeveloperSkillsNetwork-PY0101EN-SkillsNetwork/labs/Module%204/images/ReadFile.png\" width=\"100\">\n"
      ]
    },
    {
      "cell_type": "markdown",
      "metadata": {
        "id": "d8a60b17-cf00-4a1e-b6a0-70c838a8e23b"
      },
      "source": [
        "We read the file:\n"
      ]
    },
    {
      "cell_type": "code",
      "metadata": {
        "id": "d37cf566-9844-428b-85ac-ca5b7a832d4c"
      },
      "outputs": [],
      "source": [
        "# Read the Example1.txt\n",
        "example1 = \"example1.txt\"\n",
        "file1 = open(example1, \"r\")\n"
      ],
      "execution_count": 5
    },
    {
      "cell_type": "markdown",
      "metadata": {
        "id": "ba9276ff-bf4a-4f52-a464-502924b714dd"
      },
      "source": [
        "We can view the attributes of the file.\n"
      ]
    },
    {
      "cell_type": "markdown",
      "metadata": {
        "id": "d92dff5c-be02-4afa-a955-954dfec6f6f0"
      },
      "source": [
        "The name of the file:\n"
      ]
    },
    {
      "cell_type": "code",
      "metadata": {
        "colab": {
          "base_uri": "https://localhost:8080/",
          "height": 36
        },
        "id": "fc013d44-71ba-4ec5-a805-c4df97c22a87",
        "outputId": "8b9cf8bc-7a8a-4dbb-c0f9-3a0a74be56dc"
      },
      "outputs": [
        {
          "output_type": "execute_result",
          "data": {
            "text/plain": [
              "'example1.txt'"
            ],
            "application/vnd.google.colaboratory.intrinsic+json": {
              "type": "string"
            }
          },
          "metadata": {},
          "execution_count": 6
        }
      ],
      "source": [
        "# Print the path of file\n",
        "\n",
        "file1.name"
      ],
      "execution_count": 6
    },
    {
      "cell_type": "markdown",
      "metadata": {
        "id": "4fac33a9-a2cf-4497-8103-df9a9659b121"
      },
      "source": [
        "The mode the file object is in:\n"
      ]
    },
    {
      "cell_type": "code",
      "metadata": {
        "colab": {
          "base_uri": "https://localhost:8080/",
          "height": 36
        },
        "id": "89bc5ab5-7279-4133-9207-4a44797003c4",
        "outputId": "117df112-b37f-4cb6-d493-2253e092d136"
      },
      "outputs": [
        {
          "output_type": "execute_result",
          "data": {
            "text/plain": [
              "'r'"
            ],
            "application/vnd.google.colaboratory.intrinsic+json": {
              "type": "string"
            }
          },
          "metadata": {},
          "execution_count": 7
        }
      ],
      "source": [
        "# Print the mode of file, either 'r' or 'w'\n",
        "\n",
        "file1.mode"
      ],
      "execution_count": 7
    },
    {
      "cell_type": "markdown",
      "metadata": {
        "id": "6d8fb99c-b4eb-43a3-a3f7-c289fc8180e7"
      },
      "source": [
        "We can read the file and assign it to a variable :\n"
      ]
    },
    {
      "cell_type": "code",
      "metadata": {
        "colab": {
          "base_uri": "https://localhost:8080/",
          "height": 36
        },
        "id": "3e0deedd-6565-42cb-a86f-134b3a50c1ec",
        "outputId": "dcb91598-0786-4c98-83e4-b1134625e0b1"
      },
      "outputs": [
        {
          "output_type": "execute_result",
          "data": {
            "text/plain": [
              "'This is line 1 \\nThis is line 2\\nThis is line 3'"
            ],
            "application/vnd.google.colaboratory.intrinsic+json": {
              "type": "string"
            }
          },
          "metadata": {},
          "execution_count": 8
        }
      ],
      "source": [
        "# Read the file\n",
        "\n",
        "FileContent = file1.read()\n",
        "FileContent"
      ],
      "execution_count": 8
    },
    {
      "cell_type": "markdown",
      "metadata": {
        "id": "148341be-7c3a-4ade-894d-a0b48df31431"
      },
      "source": [
        "The **/n** means that there is a new line.\n"
      ]
    },
    {
      "cell_type": "markdown",
      "metadata": {
        "id": "a75235fc-8500-444f-b920-ce107285390b"
      },
      "source": [
        "We can print the file:\n"
      ]
    },
    {
      "cell_type": "code",
      "metadata": {
        "colab": {
          "base_uri": "https://localhost:8080/"
        },
        "id": "84518bba-fc40-4783-9640-b9a6c5187b5d",
        "outputId": "e7299fd5-611f-41d2-dd6a-f7fb8725c034"
      },
      "outputs": [
        {
          "output_type": "stream",
          "name": "stdout",
          "text": [
            "This is line 1 \n",
            "This is line 2\n",
            "This is line 3\n"
          ]
        }
      ],
      "source": [
        "# Print the file with '\\n' as a new line\n",
        "\n",
        "print(FileContent)"
      ],
      "execution_count": 9
    },
    {
      "cell_type": "markdown",
      "metadata": {
        "id": "e73f3539-951b-45f9-8297-499f7ba7e2ab"
      },
      "source": [
        "The file is of type string:\n"
      ]
    },
    {
      "cell_type": "code",
      "metadata": {
        "colab": {
          "base_uri": "https://localhost:8080/"
        },
        "id": "3a5a6995-6e99-435d-a78c-a69f2d92359a",
        "outputId": "cac9be8c-d170-4865-8535-9346bb337b5a"
      },
      "outputs": [
        {
          "output_type": "execute_result",
          "data": {
            "text/plain": [
              "str"
            ]
          },
          "metadata": {},
          "execution_count": 10
        }
      ],
      "source": [
        "# Type of file content\n",
        "\n",
        "type(FileContent)"
      ],
      "execution_count": 10
    },
    {
      "cell_type": "markdown",
      "metadata": {
        "id": "f8681712-5e08-49e1-923e-803b7f37a54e"
      },
      "source": [
        "It is very important that the file is closed in the end. This frees up resources and ensures consistency across different python versions.\n"
      ]
    },
    {
      "cell_type": "code",
      "metadata": {
        "id": "62aad9ee-11a6-40f2-9c31-0092791b2a12"
      },
      "outputs": [],
      "source": [
        "# Close file after finish\n",
        "\n",
        "file1.close()"
      ],
      "execution_count": 11
    },
    {
      "cell_type": "markdown",
      "metadata": {
        "id": "39cdb96b-85d8-49d2-a8d9-49927140f700"
      },
      "source": [
        "<hr>\n"
      ]
    },
    {
      "cell_type": "markdown",
      "metadata": {
        "id": "cb02d915-d06d-44cf-a8d2-2998c1b6667d"
      },
      "source": [
        "<h2 id=\"better\">A Better Way to Open a File</h2>\n"
      ]
    },
    {
      "cell_type": "markdown",
      "metadata": {
        "id": "3860e173-7450-4035-88c9-34103d3a5f7c"
      },
      "source": [
        "Using the <code>with</code> statement is better practice, it automatically closes the file even if the code encounters an exception. The code will run everything in the indent block then close the file object.\n"
      ]
    },
    {
      "cell_type": "code",
      "metadata": {
        "colab": {
          "base_uri": "https://localhost:8080/"
        },
        "id": "ec784f32-e78f-46e5-ad26-26d5d492b283",
        "outputId": "9ebca86e-cbaf-488d-f2bd-9d50a9434dd1"
      },
      "outputs": [
        {
          "output_type": "stream",
          "name": "stdout",
          "text": [
            "This is line 1 \n",
            "This is line 2\n",
            "This is line 3\n"
          ]
        }
      ],
      "source": [
        "# Open file using with\n",
        "\n",
        "with open(example1, \"r\") as file1:\n",
        "    FileContent = file1.read()\n",
        "    print(FileContent)"
      ],
      "execution_count": 12
    },
    {
      "cell_type": "markdown",
      "metadata": {
        "id": "4f896dcf-8e87-4eb3-ac5e-07a69057446e"
      },
      "source": [
        "The file object is closed, you can verify it by running the following cell:\n"
      ]
    },
    {
      "cell_type": "code",
      "metadata": {
        "colab": {
          "base_uri": "https://localhost:8080/"
        },
        "id": "6decd3fb-78e8-4b14-a131-b2e23ef9a934",
        "outputId": "088aba2e-de3b-4558-fb1f-f696364b0c8f"
      },
      "outputs": [
        {
          "output_type": "execute_result",
          "data": {
            "text/plain": [
              "True"
            ]
          },
          "metadata": {},
          "execution_count": 13
        }
      ],
      "source": [
        "# Verify if the file is closed\n",
        "\n",
        "file1.closed"
      ],
      "execution_count": 13
    },
    {
      "cell_type": "markdown",
      "metadata": {
        "id": "539c8f4b-1fef-4dce-b721-dcae7136ef9a"
      },
      "source": [
        "We can see the info in the file:\n"
      ]
    },
    {
      "cell_type": "code",
      "metadata": {
        "colab": {
          "base_uri": "https://localhost:8080/"
        },
        "id": "50b933ed-b9d1-4906-9131-08d32cc0a497",
        "outputId": "2f78f787-c5b2-4d69-a1ca-370623f7d34b"
      },
      "outputs": [
        {
          "output_type": "stream",
          "name": "stdout",
          "text": [
            "This is line 1 \n",
            "This is line 2\n",
            "This is line 3\n"
          ]
        }
      ],
      "source": [
        "# See the content of file\n",
        "\n",
        "print(FileContent)"
      ],
      "execution_count": 14
    },
    {
      "cell_type": "markdown",
      "metadata": {
        "id": "79e675d5-7bbe-47f9-94da-77d42294d0c5"
      },
      "source": [
        "The syntax is a little confusing as the file object is after the <code>as</code> statement. We also don’t explicitly close the file. Therefore we summarize the steps in a figure:\n"
      ]
    },
    {
      "cell_type": "markdown",
      "metadata": {
        "id": "d2747a3f-ca20-423b-8eb7-fbf9ce88d6ec"
      },
      "source": [
        "<img src=\"https://cf-courses-data.s3.us.cloud-object-storage.appdomain.cloud/IBMDeveloperSkillsNetwork-PY0101EN-SkillsNetwork/labs/Module%204/images/ReadWith.png\" width=\"500\">\n"
      ]
    },
    {
      "cell_type": "markdown",
      "metadata": {
        "id": "1f40abcb-54d9-4405-8a02-0dd3ef5a97d5"
      },
      "source": [
        "We don’t have to read the entire file, for example, we can read the first 4 characters by entering three as a parameter to the method **.read()**:\n"
      ]
    },
    {
      "cell_type": "code",
      "metadata": {
        "colab": {
          "base_uri": "https://localhost:8080/"
        },
        "id": "c19f5194-84d8-4f85-9979-4209ad27e832",
        "outputId": "10f55ce4-7784-491e-bad4-95228aa4247c"
      },
      "outputs": [
        {
          "output_type": "stream",
          "name": "stdout",
          "text": [
            "This\n"
          ]
        }
      ],
      "source": [
        "# Read first four characters\n",
        "\n",
        "with open(example1, \"r\") as file1:\n",
        "    print(file1.read(4))"
      ],
      "execution_count": 18
    },
    {
      "cell_type": "code",
      "source": [
        "# Read first twenty characters\n",
        "\n",
        "with open(example1, \"r\") as file1:\n",
        "    print(file1.read(20))"
      ],
      "metadata": {
        "colab": {
          "base_uri": "https://localhost:8080/"
        },
        "id": "2UVsPJjt_j3Z",
        "outputId": "13d1efaf-9d8c-4ada-e535-8930169d8dbb"
      },
      "execution_count": 19,
      "outputs": [
        {
          "output_type": "stream",
          "name": "stdout",
          "text": [
            "This is line 1 \n",
            "This\n"
          ]
        }
      ]
    },
    {
      "cell_type": "markdown",
      "metadata": {
        "id": "95f3af25-33ab-4818-8982-5dc35eaade10"
      },
      "source": [
        "Once the method <code>.read(4)</code> is called the first 4 characters are called. If we call the method again, the next 4 characters are called. The output for the following cell will demonstrate the process for different inputs to the method <code>read()</code>:\n"
      ]
    },
    {
      "cell_type": "code",
      "metadata": {
        "colab": {
          "base_uri": "https://localhost:8080/"
        },
        "id": "b2d56c30-ff33-4bfe-b3f7-84323e5070f0",
        "outputId": "6aa480c8-0b28-45c0-9616-51e3406e93e8"
      },
      "outputs": [
        {
          "output_type": "stream",
          "name": "stdout",
          "text": [
            "This\n",
            " is \n",
            "line 1 \n",
            "\n",
            "This is line 2\n"
          ]
        }
      ],
      "source": [
        "# Read certain amount of characters\n",
        "\n",
        "with open(example1, \"r\") as file1:\n",
        "    print(file1.read(4))\n",
        "    print(file1.read(4))\n",
        "    print(file1.read(7))\n",
        "    print(file1.read(15))"
      ],
      "execution_count": 20
    },
    {
      "cell_type": "markdown",
      "metadata": {
        "id": "c67cffe2-d4f5-44d9-a204-88d1918903a1"
      },
      "source": [
        "The process is illustrated in the below figure, and each color represents the part of the file read after the method <code>read()</code> is called:\n"
      ]
    },
    {
      "cell_type": "markdown",
      "metadata": {
        "id": "ce451d1f-356d-4aa0-aa49-8ea2c6213cc5"
      },
      "source": [
        "<img src=\"https://cf-courses-data.s3.us.cloud-object-storage.appdomain.cloud/IBMDeveloperSkillsNetwork-PY0101EN-SkillsNetwork/labs/Module%204/images/read.png\" width=\"500\">\n"
      ]
    },
    {
      "cell_type": "markdown",
      "metadata": {
        "id": "fca24519-b4ac-49bf-addd-2e927c7d97aa"
      },
      "source": [
        "Here is an example using the same file, but instead we read 16, 5, and then 9 characters at a time:\n"
      ]
    },
    {
      "cell_type": "code",
      "metadata": {
        "colab": {
          "base_uri": "https://localhost:8080/"
        },
        "id": "470994bc-be1f-4729-84d3-476bff2c0423",
        "outputId": "db4ca9e4-810b-41c8-c2e5-bf671c079508"
      },
      "outputs": [
        {
          "output_type": "stream",
          "name": "stdout",
          "text": [
            "This is line 1 \n",
            "\n",
            "This \n",
            "is line 2\n"
          ]
        }
      ],
      "source": [
        "# Read certain amount of characters\n",
        "\n",
        "with open(example1, \"r\") as file1:\n",
        "    print(file1.read(16))\n",
        "    print(file1.read(5))\n",
        "    print(file1.read(9))"
      ],
      "execution_count": 21
    },
    {
      "cell_type": "markdown",
      "metadata": {
        "id": "4f835121-8b70-4056-9370-27a3becb5352"
      },
      "source": [
        "We can also read one line of the file at a time using the method <code>readline()</code>:\n"
      ]
    },
    {
      "cell_type": "code",
      "metadata": {
        "colab": {
          "base_uri": "https://localhost:8080/"
        },
        "id": "8c4c2f00-9e64-4829-bdc7-75001cc811a5",
        "outputId": "36d3f7c0-7078-4358-be39-147e33604813"
      },
      "outputs": [
        {
          "output_type": "stream",
          "name": "stdout",
          "text": [
            "first line: This is line 1 \n",
            "\n"
          ]
        }
      ],
      "source": [
        "# Read one line\n",
        "\n",
        "with open(example1, \"r\") as file1:\n",
        "    print(\"first line: \" + file1.readline())"
      ],
      "execution_count": 22
    },
    {
      "cell_type": "markdown",
      "metadata": {
        "id": "2a3d535a-473e-4855-8b0a-78b850f78585"
      },
      "source": [
        "We can also pass an argument to <code> readline() </code> to specify the number of charecters we want to read. However, unlike <code> read()</code>, <code> readline()</code> can only read one line at most.\n"
      ]
    },
    {
      "cell_type": "code",
      "metadata": {
        "colab": {
          "base_uri": "https://localhost:8080/"
        },
        "id": "36b30695-d1fa-4ec9-9e01-4514e67d6467",
        "outputId": "62479369-5185-4915-cc16-438fd98afa4f"
      },
      "outputs": [
        {
          "output_type": "stream",
          "name": "stdout",
          "text": [
            "This is line 1 \n",
            "\n",
            "This is line 2\n",
            "This \n"
          ]
        }
      ],
      "source": [
        "with open(example1, \"r\") as file1:\n",
        "    print(file1.readline(20)) # does not read past the end of line\n",
        "    print(file1.read(20)) # Returns the next 20 chars\n"
      ],
      "execution_count": 25
    },
    {
      "cell_type": "markdown",
      "metadata": {
        "id": "4a3fc44a-acd7-4d8d-9566-c7d819084ff0"
      },
      "source": [
        "We can use a loop to iterate through each line:\n"
      ]
    },
    {
      "cell_type": "code",
      "metadata": {
        "colab": {
          "base_uri": "https://localhost:8080/"
        },
        "id": "b98d81b8-cfe7-48ac-8e09-5c5278fa6f29",
        "outputId": "e2bec048-4571-40fe-8129-3476b6097b7b"
      },
      "outputs": [
        {
          "output_type": "stream",
          "name": "stdout",
          "text": [
            "Iteration 0 :  This is line 1 \n",
            "\n",
            "Iteration 1 :  This is line 2\n",
            "\n",
            "Iteration 2 :  This is line 3\n"
          ]
        }
      ],
      "source": [
        "# Iterate through the lines\n",
        "\n",
        "with open(example1,\"r\") as file1:\n",
        "        i = 0;\n",
        "        for line in file1:\n",
        "            print(\"Iteration\", str(i), \": \", line)\n",
        "            i = i + 1"
      ],
      "execution_count": null
    },
    {
      "cell_type": "markdown",
      "metadata": {
        "id": "cabc4ccf-eb08-4ced-bf0d-efa7c455910a"
      },
      "source": [
        "We can use the method <code>readlines()</code> to save the text file to a list:\n"
      ]
    },
    {
      "cell_type": "code",
      "metadata": {
        "id": "c5660a46-93f0-40b9-b728-f4b4b7e57cc4"
      },
      "outputs": [],
      "source": [
        "# Read all lines and save as a list\n",
        "\n",
        "with open(example1, \"r\") as file1:\n",
        "    FileasList = file1.readlines()"
      ],
      "execution_count": 26
    },
    {
      "cell_type": "markdown",
      "metadata": {
        "id": "0ebb4b8f-cfdb-45b5-a675-7752ad6dbb08"
      },
      "source": [
        "Each element of the list corresponds to a line of text:\n"
      ]
    },
    {
      "cell_type": "code",
      "metadata": {
        "colab": {
          "base_uri": "https://localhost:8080/",
          "height": 36
        },
        "id": "059d10e7-168b-47f0-9552-be4ec982e905",
        "outputId": "5424d614-8c5f-4140-e7d5-8d2ea71003f2"
      },
      "outputs": [
        {
          "output_type": "execute_result",
          "data": {
            "text/plain": [
              "'This is line 1 \\n'"
            ],
            "application/vnd.google.colaboratory.intrinsic+json": {
              "type": "string"
            }
          },
          "metadata": {},
          "execution_count": 27
        }
      ],
      "source": [
        "# Print the first line\n",
        "\n",
        "FileasList[0]"
      ],
      "execution_count": 27
    },
    {
      "cell_type": "code",
      "metadata": {
        "colab": {
          "base_uri": "https://localhost:8080/",
          "height": 36
        },
        "id": "6f1d9424-f546-45f0-86a8-d1ce565e8fff",
        "outputId": "1ad3cc63-3890-4d8e-9fa6-de5c2ec5e045"
      },
      "outputs": [
        {
          "output_type": "execute_result",
          "data": {
            "text/plain": [
              "'This is line 2\\n'"
            ],
            "application/vnd.google.colaboratory.intrinsic+json": {
              "type": "string"
            }
          },
          "metadata": {},
          "execution_count": 28
        }
      ],
      "source": [
        "# Print the second line\n",
        "\n",
        "FileasList[1]\n"
      ],
      "execution_count": 28
    },
    {
      "cell_type": "code",
      "metadata": {
        "colab": {
          "base_uri": "https://localhost:8080/",
          "height": 36
        },
        "id": "d0375989-ae7d-4d17-8bdd-b9af5b467668",
        "outputId": "2f76e8a0-96dd-4d34-99cd-dab066dc729d"
      },
      "outputs": [
        {
          "output_type": "execute_result",
          "data": {
            "text/plain": [
              "'This is line 3'"
            ],
            "application/vnd.google.colaboratory.intrinsic+json": {
              "type": "string"
            }
          },
          "metadata": {},
          "execution_count": 29
        }
      ],
      "source": [
        "# Print the third line\n",
        "\n",
        "FileasList[2]"
      ],
      "execution_count": 29
    },
    {
      "cell_type": "markdown",
      "metadata": {
        "id": "e2d044c5-ba8d-41ea-af4a-4f65dce136cb"
      },
      "source": [
        "<hr>\n",
        "<h2>The last exercise!</h2>\n",
        "<p>Congratulations, you have completed your first lesson and hands-on lab in Python.\n",
        "<hr>\n"
      ]
    },
    {
      "cell_type": "markdown",
      "metadata": {
        "id": "a7a5966e-7bfa-4932-a0ec-07591ab0bb6b"
      },
      "source": [
        "## Author\n",
        "\n",
        "<a href=\"https://www.linkedin.com/in/joseph-s-50398b136/?utm_medium=Exinfluencer&utm_source=Exinfluencer&utm_content=000026UJ&utm_term=10006555&utm_id=NA-SkillsNetwork-Channel-SkillsNetworkCoursesIBMDeveloperSkillsNetworkPY0101ENSkillsNetwork19487395-2021-01-01\" target=\"_blank\">Joseph Santarcangelo</a>\n",
        "\n",
        "## Other contributors\n",
        "\n",
        "<a href=\"https://www.linkedin.com/in/jiahui-mavis-zhou-a4537814a?utm_medium=Exinfluencer&utm_source=Exinfluencer&utm_content=000026UJ&utm_term=10006555&utm_id=NA-SkillsNetwork-Channel-SkillsNetworkCoursesIBMDeveloperSkillsNetworkPY0101ENSkillsNetwork19487395-2021-01-01\">Mavis Zhou</a>\n",
        "\n",
        "## Change Log\n",
        "\n",
        "| Date (YYYY-MM-DD) | Version | Changed By    | Change Description                                        |\n",
        "| ----------------- | ------- | ------------- | --------------------------------------------------------- |\n",
        "| 2023-11-02 | 2.2 | Abhishek Gagneja | Updated instructions |\n",
        "| 2022-01-10        | 2.1     | Malika        | Removed the readme for GitShare                           |\n",
        "| 2020-09-30        | 1.3     | Malika        | Deleted exericse \"Weather Data\"                           |\n",
        "| 2020-09-30        | 1.2     | Malika Singla | Weather Data dataset link added                           |\n",
        "| 2020-09-30        | 1.1     | Arjun Swani   | Added exericse \"Weather Data\"                             |\n",
        "| 2020-09-30        | 1.0     | Arjun Swani   | Added blurbs about closing files and read() vs readline() |\n",
        "| 2020-08-26        | 0.2     | Lavanya       | Moved lab to course repo in GitLab                        |\n",
        "|                   |         |               |                                                           |\n",
        "|                   |         |               |                                                           |\n",
        "\n",
        "<hr/>\n",
        "\n",
        "## <h3 align=\"center\"> © IBM Corporation 2020. All rights reserved. <h3/>\n"
      ]
    },
    {
      "cell_type": "code",
      "metadata": {
        "id": "35c8231e-f436-4db4-a2c5-cd03eb548b00",
        "colab": {
          "base_uri": "https://localhost:8080/"
        },
        "outputId": "08c9cb6f-37f8-4b71-b0f6-e1dd1a814f5d"
      },
      "outputs": [
        {
          "output_type": "stream",
          "name": "stdout",
          "text": [
            "Youhu Zhang, Knut H. Andersen, Philippe Jeanjean,\n",
            "Verification of a framework for cyclic p-y curves in clay by hindcast of Sabine River, SOLCYP and centrifuge laterally loaded pile tests,\n",
            "Applied Ocean Research,\n",
            "Volume 97,\n",
            "2020,\n",
            "102085,\n",
            "ISSN 0141-1187,\n",
            "https://doi.org/10.1016/j.apor.2020.102085.\n",
            "(https://www.sciencedirect.com/science/article/pii/S014111871930793X)\n",
            "Abstract: Pile foundations supporting offshore structures, such as jacket platforms, are subjected to cyclic lateral loading. The capacity and deformation of these pile foundations under cyclic lateral loading are important and challenging design aspects. The purpose of this paper is to present verification of a framework for analysing the lateral pile response under cyclic loading in clay, based on fundamental soil behaviour measured in the laboratory at the element level. This framework can account for site-specific cyclic soil properties, summarized in classic contour diagrams, and the site-specific cyclic loading characteristics in design. This is a step-change improvement from current codes and standards recommendations which are based on a series of tests on a single pile at a single site (i.e. the Sabine River tests, Matlock 1962, 1970). The paper first provides a brief summary of the framework and outlines the important assumptions and calculation procedures. The paper then presents a comprehensive validation exercise of the framework through back-analyses of three sets of 1-g and centrifuge tests, covering different soil conditions (strength profile, OCR and plasticity) and loading sequences. This hindcast demonstrates the model's capabilities to capture the essential behaviours of pile foundations under cyclic lateral loading and its added value as a design tool, when compared with current practice.\n",
            "Keywords: Pile; Clay; Cyclic lateral loading; p-y curves; Pile tests\n",
            "\n"
          ]
        }
      ],
      "source": [
        "# Here I made another example by just uploading direcly the file into COLAB\n",
        "# Is a reference of a research paper saved in a text file\n",
        "# Open file using with\n",
        "\n",
        "with open('readline_example.txt', \"r\") as file1:\n",
        "    FileContent = file1.read()\n",
        "    print(FileContent)"
      ],
      "execution_count": 31
    },
    {
      "cell_type": "code",
      "source": [
        "# Read one line\n",
        "\n",
        "with open('readline_example.txt', \"r\") as file1:\n",
        "    print(\"first line: \" + file1.readline())"
      ],
      "metadata": {
        "colab": {
          "base_uri": "https://localhost:8080/"
        },
        "id": "X24GefwbBtUZ",
        "outputId": "d98370f6-abf8-4242-bacf-573c24d794cc"
      },
      "execution_count": 32,
      "outputs": [
        {
          "output_type": "stream",
          "name": "stdout",
          "text": [
            "first line: Youhu Zhang, Knut H. Andersen, Philippe Jeanjean,\n",
            "\n"
          ]
        }
      ]
    },
    {
      "cell_type": "code",
      "source": [
        "# Iterate through the lines\n",
        "\n",
        "with open('readline_example.txt',\"r\") as file1:\n",
        "        i = 0;\n",
        "        for line in file1:\n",
        "            print(\"Iteration\", str(i), \": \", line)\n",
        "            i = i + 1"
      ],
      "metadata": {
        "colab": {
          "base_uri": "https://localhost:8080/"
        },
        "id": "vsLUUmlHB6C1",
        "outputId": "f072cf81-a836-4596-a33f-42a5d8ee59b7"
      },
      "execution_count": 33,
      "outputs": [
        {
          "output_type": "stream",
          "name": "stdout",
          "text": [
            "Iteration 0 :  Youhu Zhang, Knut H. Andersen, Philippe Jeanjean,\n",
            "\n",
            "Iteration 1 :  Verification of a framework for cyclic p-y curves in clay by hindcast of Sabine River, SOLCYP and centrifuge laterally loaded pile tests,\n",
            "\n",
            "Iteration 2 :  Applied Ocean Research,\n",
            "\n",
            "Iteration 3 :  Volume 97,\n",
            "\n",
            "Iteration 4 :  2020,\n",
            "\n",
            "Iteration 5 :  102085,\n",
            "\n",
            "Iteration 6 :  ISSN 0141-1187,\n",
            "\n",
            "Iteration 7 :  https://doi.org/10.1016/j.apor.2020.102085.\n",
            "\n",
            "Iteration 8 :  (https://www.sciencedirect.com/science/article/pii/S014111871930793X)\n",
            "\n",
            "Iteration 9 :  Abstract: Pile foundations supporting offshore structures, such as jacket platforms, are subjected to cyclic lateral loading. The capacity and deformation of these pile foundations under cyclic lateral loading are important and challenging design aspects. The purpose of this paper is to present verification of a framework for analysing the lateral pile response under cyclic loading in clay, based on fundamental soil behaviour measured in the laboratory at the element level. This framework can account for site-specific cyclic soil properties, summarized in classic contour diagrams, and the site-specific cyclic loading characteristics in design. This is a step-change improvement from current codes and standards recommendations which are based on a series of tests on a single pile at a single site (i.e. the Sabine River tests, Matlock 1962, 1970). The paper first provides a brief summary of the framework and outlines the important assumptions and calculation procedures. The paper then presents a comprehensive validation exercise of the framework through back-analyses of three sets of 1-g and centrifuge tests, covering different soil conditions (strength profile, OCR and plasticity) and loading sequences. This hindcast demonstrates the model's capabilities to capture the essential behaviours of pile foundations under cyclic lateral loading and its added value as a design tool, when compared with current practice.\n",
            "\n",
            "Iteration 10 :  Keywords: Pile; Clay; Cyclic lateral loading; p-y curves; Pile tests\n",
            "\n"
          ]
        }
      ]
    },
    {
      "cell_type": "code",
      "source": [
        "# Read all lines and save as a list\n",
        "\n",
        "with open('readline_example.txt', \"r\") as file1:\n",
        "    FileasList = file1.readlines()"
      ],
      "metadata": {
        "id": "6cBLVsvOCDAG"
      },
      "execution_count": 34,
      "outputs": []
    },
    {
      "cell_type": "code",
      "source": [
        "FileasList[1]"
      ],
      "metadata": {
        "colab": {
          "base_uri": "https://localhost:8080/",
          "height": 36
        },
        "id": "K6dIT28fCIhT",
        "outputId": "f2c8f75a-1eaa-4fc7-c86a-95287aa74c16"
      },
      "execution_count": 35,
      "outputs": [
        {
          "output_type": "execute_result",
          "data": {
            "text/plain": [
              "'Verification of a framework for cyclic p-y curves in clay by hindcast of Sabine River, SOLCYP and centrifuge laterally loaded pile tests,\\n'"
            ],
            "application/vnd.google.colaboratory.intrinsic+json": {
              "type": "string"
            }
          },
          "metadata": {},
          "execution_count": 35
        }
      ]
    },
    {
      "cell_type": "code",
      "source": [
        "with open('readline_example.txt', \"r\") as file1:\n",
        "     print(file1.readlines())"
      ],
      "metadata": {
        "colab": {
          "base_uri": "https://localhost:8080/"
        },
        "id": "8nA0qpCTCplN",
        "outputId": "db86480e-a8f9-4135-ab52-2b358295a6c0"
      },
      "execution_count": 36,
      "outputs": [
        {
          "output_type": "stream",
          "name": "stdout",
          "text": [
            "['Youhu Zhang, Knut H. Andersen, Philippe Jeanjean,\\n', 'Verification of a framework for cyclic p-y curves in clay by hindcast of Sabine River, SOLCYP and centrifuge laterally loaded pile tests,\\n', 'Applied Ocean Research,\\n', 'Volume 97,\\n', '2020,\\n', '102085,\\n', 'ISSN 0141-1187,\\n', 'https://doi.org/10.1016/j.apor.2020.102085.\\n', '(https://www.sciencedirect.com/science/article/pii/S014111871930793X)\\n', \"Abstract: Pile foundations supporting offshore structures, such as jacket platforms, are subjected to cyclic lateral loading. The capacity and deformation of these pile foundations under cyclic lateral loading are important and challenging design aspects. The purpose of this paper is to present verification of a framework for analysing the lateral pile response under cyclic loading in clay, based on fundamental soil behaviour measured in the laboratory at the element level. This framework can account for site-specific cyclic soil properties, summarized in classic contour diagrams, and the site-specific cyclic loading characteristics in design. This is a step-change improvement from current codes and standards recommendations which are based on a series of tests on a single pile at a single site (i.e. the Sabine River tests, Matlock 1962, 1970). The paper first provides a brief summary of the framework and outlines the important assumptions and calculation procedures. The paper then presents a comprehensive validation exercise of the framework through back-analyses of three sets of 1-g and centrifuge tests, covering different soil conditions (strength profile, OCR and plasticity) and loading sequences. This hindcast demonstrates the model's capabilities to capture the essential behaviours of pile foundations under cyclic lateral loading and its added value as a design tool, when compared with current practice.\\n\", 'Keywords: Pile; Clay; Cyclic lateral loading; p-y curves; Pile tests\\n']\n"
          ]
        }
      ]
    }
  ],
  "metadata": {
    "kernelspec": {
      "display_name": "Python",
      "language": "python",
      "name": "conda-env-python-py"
    },
    "language_info": {
      "name": ""
    },
    "colab": {
      "provenance": [],
      "include_colab_link": true
    }
  },
  "nbformat": 4,
  "nbformat_minor": 0
}