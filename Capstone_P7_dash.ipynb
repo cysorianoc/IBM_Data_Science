{
  "nbformat": 4,
  "nbformat_minor": 0,
  "metadata": {
    "colab": {
      "provenance": [],
      "authorship_tag": "ABX9TyMySkC0gEPhAmpWQkyAmxCr",
      "include_colab_link": true
    },
    "kernelspec": {
      "name": "python3",
      "display_name": "Python 3"
    },
    "language_info": {
      "name": "python"
    }
  },
  "cells": [
    {
      "cell_type": "markdown",
      "metadata": {
        "id": "view-in-github",
        "colab_type": "text"
      },
      "source": [
        "<a href=\"https://colab.research.google.com/github/cysorianoc/IBM_Data_Science/blob/main/Capstone_P7_dash.ipynb\" target=\"_parent\"><img src=\"https://colab.research.google.com/assets/colab-badge.svg\" alt=\"Open In Colab\"/></a>"
      ]
    },
    {
      "cell_type": "code",
      "execution_count": null,
      "metadata": {
        "colab": {
          "base_uri": "https://localhost:8080/"
        },
        "id": "Bb8kG2dS1NWx",
        "outputId": "cadebdbc-567e-4684-87c3-15f92ed98d8b"
      },
      "outputs": [
        {
          "output_type": "stream",
          "name": "stdout",
          "text": [
            "\u001b[2K   \u001b[90m━━━━━━━━━━━━━━━━━━━━━━━━━━━━━━━━━━━━━━━━\u001b[0m \u001b[32m7.8/7.8 MB\u001b[0m \u001b[31m38.3 MB/s\u001b[0m eta \u001b[36m0:00:00\u001b[0m\n",
            "\u001b[2K   \u001b[90m━━━━━━━━━━━━━━━━━━━━━━━━━━━━━━━━━━━━━━━━\u001b[0m \u001b[32m101.7/101.7 kB\u001b[0m \u001b[31m6.3 MB/s\u001b[0m eta \u001b[36m0:00:00\u001b[0m\n",
            "\u001b[2K   \u001b[90m━━━━━━━━━━━━━━━━━━━━━━━━━━━━━━━━━━━━━━━━\u001b[0m \u001b[32m1.6/1.6 MB\u001b[0m \u001b[31m27.4 MB/s\u001b[0m eta \u001b[36m0:00:00\u001b[0m\n",
            "\u001b[2K   \u001b[90m━━━━━━━━━━━━━━━━━━━━━━━━━━━━━━━━━━━━━━━━\u001b[0m \u001b[32m228.0/228.0 kB\u001b[0m \u001b[31m8.5 MB/s\u001b[0m eta \u001b[36m0:00:00\u001b[0m\n",
            "\u001b[?25h"
          ]
        }
      ],
      "source": [
        "pip install jupyter-dash -q"
      ]
    },
    {
      "cell_type": "code",
      "source": [
        "!pip3 install wget"
      ],
      "metadata": {
        "colab": {
          "base_uri": "https://localhost:8080/"
        },
        "id": "qKpkgDv21azR",
        "outputId": "6c2b5734-b3e7-4260-bf66-fadc5d94d26c"
      },
      "execution_count": null,
      "outputs": [
        {
          "output_type": "stream",
          "name": "stdout",
          "text": [
            "Collecting wget\n",
            "  Downloading wget-3.2.zip (10 kB)\n",
            "  Preparing metadata (setup.py) ... \u001b[?25l\u001b[?25hdone\n",
            "Building wheels for collected packages: wget\n",
            "  Building wheel for wget (setup.py) ... \u001b[?25l\u001b[?25hdone\n",
            "  Created wheel for wget: filename=wget-3.2-py3-none-any.whl size=9656 sha256=d72d132bda578a2dfaf0d657ceaaf4c3e107ccec694e4a6b98e1c008ea6f3cf2\n",
            "  Stored in directory: /root/.cache/pip/wheels/40/b3/0f/a40dbd1c6861731779f62cc4babcb234387e11d697df70ee97\n",
            "Successfully built wget\n",
            "Installing collected packages: wget\n",
            "Successfully installed wget-3.2\n"
          ]
        }
      ]
    },
    {
      "cell_type": "code",
      "source": [
        "import wget"
      ],
      "metadata": {
        "id": "TXcdipn81kYB"
      },
      "execution_count": null,
      "outputs": []
    },
    {
      "cell_type": "code",
      "source": [
        "data = wget.download( \"https://cf-courses-data.s3.us.cloud-object-storage.appdomain.cloud/IBM-DS0321EN-SkillsNetwork/datasets/spacex_launch_dash.csv\")"
      ],
      "metadata": {
        "id": "_1NLVKQT1mVH"
      },
      "execution_count": null,
      "outputs": []
    },
    {
      "cell_type": "markdown",
      "source": [
        "### Explanation of the Code:\n",
        "\n",
        "This Python script builds an **interactive web dashboard** using **Dash** to visualize SpaceX launch records. Below is a breakdown of the main components:\n",
        "\n",
        "1. **Importing Required Libraries:**\n",
        "   - `dash`: Used for building web applications.\n",
        "   - `plotly.express`: For creating visualizations.\n",
        "   - `pandas`: For handling data.\n",
        "\n",
        "2. **Loading the Data:**\n",
        "   - The script reads a CSV file (`spacex_launch_dash.csv`) containing SpaceX launch data.\n",
        "\n",
        "3. **Creating the Dash Application:**\n",
        "   - A `Dash` object is instantiated.\n",
        "\n",
        "4. **Defining the App Layout:**\n",
        "   - The layout includes:\n",
        "     - A **title** (`html.H1`).\n",
        "     - A **dropdown menu** (`dcc.Dropdown`) for selecting launch sites.\n",
        "     - A **pie chart** (`dcc.Graph`) for displaying launch success statistics.\n",
        "     - A **slider** (`dcc.RangeSlider`) for selecting payload mass range.\n",
        "     - A **scatter plot** (`dcc.Graph`) to visualize the correlation between payload mass and launch success.\n",
        "\n",
        "5. **Callbacks for Interactivity:**\n",
        "   - **Pie Chart Update:**\n",
        "     - If 'ALL' sites are selected, the pie chart displays the total count of successful and failed launches for all sites.\n",
        "     - If a specific site is selected, the pie chart updates to show the success vs. failure count for that site.\n",
        "   - **Scatter Chart Update:**\n",
        "     - The scatter plot filters data based on the selected payload range.\n",
        "     - If a specific site is selected, it filters by that site as well.\n",
        "\n",
        "6. **Running the Application:**\n",
        "   - `app.run_server(debug=True)` starts the web application.\n",
        "\n",
        "### Summary:\n",
        "- This script creates a **dynamic dashboard** where users can interact with the data using dropdowns and sliders.\n",
        "- The **Pie Chart** shows launch success rates per site.\n",
        "- The **Scatter Plot** visualizes the relationship between payload mass and launch success.\n",
        "- The **callbacks ensure that charts update dynamically** based on user input."
      ],
      "metadata": {
        "id": "UQZJbDYT2y7r"
      }
    },
    {
      "cell_type": "code",
      "source": [
        "import dash  # Import the Dash library for building web applications\n",
        "from dash import dcc, html  # Import components for UI elements\n",
        "import plotly.express as px  # Import Plotly for data visualization\n",
        "import pandas as pd  # Import pandas for handling data\n",
        "\n",
        "# Load the dataset containing SpaceX launch records\n",
        "# Ensure the file 'spacex_launch_dash.csv' is in the same directory as this script\n",
        "# The dataset includes information on launch success, payload, and launch site\n",
        "\n",
        "df = pd.read_csv('spacex_launch_dash.csv')\n",
        "\n",
        "# Create a Dash web application instance\n",
        "app = dash.Dash(__name__)\n",
        "\n",
        "# Define the layout of the web application\n",
        "app.layout = html.Div(children=[\n",
        "    # Title of the Dashboard\n",
        "    html.H1('SpaceX Launch Records Dashboard',\n",
        "            style={'textAlign': 'center', 'color': '#503D36', 'font-size': 40}),\n",
        "\n",
        "    # Dropdown menu to select a launch site\n",
        "    dcc.Dropdown(\n",
        "        id='site-dropdown',  # Unique identifier for this dropdown\n",
        "        options=[\n",
        "            {'label': 'All Sites', 'value': 'ALL'},\n",
        "            {'label': 'CCAFS LC-40', 'value': 'CCAFS LC-40'},\n",
        "            {'label': 'CCAFS SLC-40', 'value': 'CCAFS SLC-40'},\n",
        "            {'label': 'KSC LC-39A', 'value': 'KSC LC-39A'},\n",
        "            {'label': 'VAFB SLC-4E', 'value': 'VAFB SLC-4E'}\n",
        "        ],\n",
        "        value='ALL',  # Default selection\n",
        "        placeholder=\"Select a Launch Site\",\n",
        "        style={'width': '50%', 'padding': '3px', 'font-size': '20px', 'text-align': 'center'}\n",
        "    ),\n",
        "    html.Br(),  # Line break for better spacing\n",
        "\n",
        "    # Pie chart to display success rate\n",
        "    html.Div(dcc.Graph(id='success-pie-chart')),\n",
        "    html.Br(),\n",
        "\n",
        "    # Label for the payload slider\n",
        "    html.P(\"Payload range (Kg):\"),\n",
        "\n",
        "    # Slider to filter data based on payload mass\n",
        "    dcc.RangeSlider(\n",
        "        id='payload-slider',  # Unique identifier for this slider\n",
        "        min=df['Payload Mass (kg)'].min(),\n",
        "        max=df['Payload Mass (kg)'].max(),\n",
        "        step=1000,  # Step size of the slider\n",
        "        marks={i: str(i) for i in range(int(df['Payload Mass (kg)'].min()), int(df['Payload Mass (kg)'].max()), 1000)},\n",
        "        value=[df['Payload Mass (kg)'].min(), df['Payload Mass (kg)'].max()]  # Default range\n",
        "    ),\n",
        "\n",
        "    # Scatter plot to show correlation between payload and launch success\n",
        "    html.Div(dcc.Graph(id='success-payload-scatter-chart')),\n",
        "])\n",
        "\n",
        "# Callback function to update the pie chart when a launch site is selected\n",
        "@app.callback(\n",
        "    dash.dependencies.Output('success-pie-chart', 'figure'),  # Output is a figure for the pie chart\n",
        "    dash.dependencies.Input('site-dropdown', 'value')  # Input is the selected launch site\n",
        ")\n",
        "def update_pie_chart(selected_site):\n",
        "    if selected_site == 'ALL':\n",
        "        # Group data by launch site and count success/failure\n",
        "        success_counts = df.groupby(['Launch Site', 'class']).size().reset_index(name='count')\n",
        "        fig = px.pie(\n",
        "            success_counts,\n",
        "            names='Launch Site',\n",
        "            values='count',\n",
        "            title=\"Total Launch Success vs. Failed for All Sites\",\n",
        "            color_discrete_sequence=px.colors.qualitative.Set3\n",
        "        )\n",
        "    else:\n",
        "        # Filter data for the selected launch site\n",
        "        filtered_df = df[df['Launch Site'] == selected_site]\n",
        "        success_counts = filtered_df['class'].value_counts()\n",
        "        fig = px.pie(\n",
        "            names=success_counts.index,\n",
        "            values=success_counts.values,\n",
        "            title=f\"Launch Success vs. Failed for {selected_site}\"\n",
        "        )\n",
        "    return fig\n",
        "\n",
        "# Callback function to update the scatter plot based on site selection and payload range\n",
        "@app.callback(\n",
        "    dash.dependencies.Output('success-payload-scatter-chart', 'figure'),  # Output is a figure for the scatter chart\n",
        "    [\n",
        "        dash.dependencies.Input('site-dropdown', 'value'),  # Input is the selected launch site\n",
        "        dash.dependencies.Input('payload-slider', 'value')  # Input is the selected payload range\n",
        "    ]\n",
        ")\n",
        "def update_scatter_chart(selected_site, payload_range):\n",
        "    min_payload, max_payload = payload_range\n",
        "\n",
        "    # Filter the data based on payload range\n",
        "    filtered_df = df[(df['Payload Mass (kg)'] >= min_payload) & (df['Payload Mass (kg)'] <= max_payload)]\n",
        "\n",
        "    if selected_site != 'ALL':\n",
        "        # Further filter by the selected site if a specific site is chosen\n",
        "        filtered_df = filtered_df[filtered_df['Launch Site'] == selected_site]\n",
        "\n",
        "    # Create scatter plot showing correlation between Payload Mass and Launch Success\n",
        "    fig = px.scatter(\n",
        "        filtered_df,\n",
        "        x='Payload Mass (kg)',\n",
        "        y='class',\n",
        "        color='Launch Site' if selected_site == 'ALL' else None,  # Color points by site if showing all sites\n",
        "        labels={'Payload Mass (kg)': 'Payload Mass (kg)', 'class': 'Launch Success'},\n",
        "        title=f\"Payload vs. Launch Success for {selected_site}\" if selected_site != 'ALL' else \"Payload vs. Launch Success for All Sites\"\n",
        "    )\n",
        "    return fig\n",
        "\n",
        "# Run the Dash web application\n",
        "if __name__ == '__main__':\n",
        "    app.run_server(debug=True)  # Runs the app in debug mode for easier troubleshooting\n"
      ],
      "metadata": {
        "colab": {
          "base_uri": "https://localhost:8080/",
          "height": 671
        },
        "id": "JsQQA11_1qyY",
        "outputId": "ffe63778-f815-4158-f9ae-77c3536d5237"
      },
      "execution_count": null,
      "outputs": [
        {
          "output_type": "display_data",
          "data": {
            "text/plain": [
              "<IPython.core.display.Javascript object>"
            ],
            "application/javascript": [
              "(async (port, path, width, height, cache, element) => {\n",
              "    if (!google.colab.kernel.accessAllowed && !cache) {\n",
              "      return;\n",
              "    }\n",
              "    element.appendChild(document.createTextNode(''));\n",
              "    const url = await google.colab.kernel.proxyPort(port, {cache});\n",
              "    const iframe = document.createElement('iframe');\n",
              "    iframe.src = new URL(path, url).toString();\n",
              "    iframe.height = height;\n",
              "    iframe.width = width;\n",
              "    iframe.style.border = 0;\n",
              "    iframe.allow = [\n",
              "        'accelerometer',\n",
              "        'autoplay',\n",
              "        'camera',\n",
              "        'clipboard-read',\n",
              "        'clipboard-write',\n",
              "        'gyroscope',\n",
              "        'magnetometer',\n",
              "        'microphone',\n",
              "        'serial',\n",
              "        'usb',\n",
              "        'xr-spatial-tracking',\n",
              "    ].join('; ');\n",
              "    element.appendChild(iframe);\n",
              "  })(8050, \"/\", \"100%\", 650, false, window.element)"
            ]
          },
          "metadata": {}
        }
      ]
    }
  ]
}