{
  "cells": [
    {
      "cell_type": "markdown",
      "metadata": {
        "id": "view-in-github",
        "colab_type": "text"
      },
      "source": [
        "<a href=\"https://colab.research.google.com/github/cysorianoc/IBM_Data_Science/blob/main/Course_5_W1.ipynb\" target=\"_parent\"><img src=\"https://colab.research.google.com/assets/colab-badge.svg\" alt=\"Open In Colab\"/></a>"
      ]
    },
    {
      "cell_type": "markdown",
      "metadata": {
        "id": "e36a5819-f62d-4376-a6a3-2ac272565563"
      },
      "source": [
        "<p style=\"text-align:center\">\n",
        "    <a href=\"https://skills.network\" target=\"_blank\">\n",
        "    <img src=\"https://cf-courses-data.s3.us.cloud-object-storage.appdomain.cloud/assets/logos/SN_web_lightmode.png\" width=\"200\" alt=\"Skills Network Logo\">\n",
        "    </a>\n",
        "</p>\n"
      ]
    },
    {
      "cell_type": "markdown",
      "metadata": {
        "id": "e9673f41-b3d6-464a-be53-2541e89de26e"
      },
      "source": [
        "# **Web Scraping Lab**\n"
      ]
    },
    {
      "cell_type": "markdown",
      "metadata": {
        "id": "5bcc1b8a-38cb-4dda-9681-099364cf7482"
      },
      "source": [
        "Estimated time needed: **30** minutes\n"
      ]
    },
    {
      "cell_type": "markdown",
      "metadata": {
        "id": "069458ee-1817-4ce7-958e-0eb8432b7356"
      },
      "source": [
        "## Objectives\n"
      ]
    },
    {
      "cell_type": "markdown",
      "metadata": {
        "id": "67eecfb0-1dcc-45aa-b44f-619b05a92137"
      },
      "source": [
        "After completing this lab you will be able to:\n"
      ]
    },
    {
      "cell_type": "markdown",
      "metadata": {
        "id": "2dfcff99-30e8-473c-9a21-5e8ec398fb9c"
      },
      "source": [
        "<h2>Table of Contents</h2>\n",
        "<div class=\"alert alert-block alert-info\" style=\"margin-top: 20px\">\n",
        "    <ul>\n",
        "        <li>\n",
        "            <a href=\"https://bso/?utm_medium=Exinfluencer&utm_source=Exinfluencer&utm_content=000026UJ&utm_term=10006555&utm_id=NA-SkillsNetwork-Channel-SkillsNetworkCoursesIBMDeveloperSkillsNetworkPY0220ENSkillsNetwork23455606-2021-01-01\">Beautiful Soup Object</a>\n",
        "            <ul>\n",
        "                <li>Tag</li>\n",
        "                <li>Children, Parents, and Siblings</li>\n",
        "                <li>HTML Attributes</li>\n",
        "                <li>Navigable String</li>\n",
        "            </ul>\n",
        "        </li>\n",
        "     </ul>\n",
        "    <ul>\n",
        "        <li>\n",
        "            <a href=\"https://filter/?utm_medium=Exinfluencer&utm_source=Exinfluencer&utm_content=000026UJ&utm_term=10006555&utm_id=NA-SkillsNetwork-Channel-SkillsNetworkCoursesIBMDeveloperSkillsNetworkPY0220ENSkillsNetwork23455606-2021-01-01\">Filter</a>\n",
        "            <ul>\n",
        "                <li>find All</li>\n",
        "                <li>find </li>\n",
        "                <li>HTML Attributes</li>\n",
        "                <li>Navigable String</li>\n",
        "            </ul>\n",
        "        </li>\n",
        "     </ul>\n",
        "     <ul>\n",
        "        <li>\n",
        "            <a href=\"https://dscw/?utm_medium=Exinfluencer&utm_source=Exinfluencer&utm_content=000026UJ&utm_term=10006555&utm_id=NA-SkillsNetwork-Channel-SkillsNetworkCoursesIBMDeveloperSkillsNetworkPY0220ENSkillsNetwork23455606-2021-01-01\">Downloading And Scraping The Contents Of A Web</a>\n",
        "    </li>\n",
        "         </ul>\n",
        "    <p>\n",
        "        Estimated time needed: <strong>25 min</strong>\n",
        "    </p>\n",
        "\n",
        "</div>\n",
        "\n",
        "<hr>\n"
      ]
    },
    {
      "cell_type": "markdown",
      "metadata": {
        "id": "0faa172f-f88e-43be-9866-455d51b60d50"
      },
      "source": [
        "For this lab, we are going to be using Python and several Python libraries. Some of these libraries might be installed in your lab environment or in SN Labs. Others may need to be installed by you. The cells below will install these libraries when executed.\n"
      ]
    },
    {
      "cell_type": "code",
      "metadata": {
        "colab": {
          "base_uri": "https://localhost:8080/"
        },
        "id": "ad32f61b-cc58-433f-b1dd-4833ca40e741",
        "outputId": "291a5ad2-3622-43d1-c4d2-7f205a714f64"
      },
      "outputs": [
        {
          "output_type": "stream",
          "name": "stdout",
          "text": [
            "/bin/bash: line 1: mamba: command not found\n",
            "Requirement already satisfied: lxml==4.6.4 in /usr/local/lib/python3.10/dist-packages (4.6.4)\n",
            "/bin/bash: line 1: mamba: command not found\n"
          ]
        }
      ],
      "source": [
        "!mamba install bs4==4.10.0 -y\n",
        "!pip install lxml==4.6.4\n",
        "!mamba install html5lib==1.1 -y\n",
        "# !pip install requests==2.26.0"
      ],
      "execution_count": 32
    },
    {
      "cell_type": "markdown",
      "metadata": {
        "id": "ce583fb0-f1a5-4ee4-92ee-476e2b09b91d"
      },
      "source": [
        "Import the required modules and functions\n"
      ]
    },
    {
      "cell_type": "code",
      "metadata": {
        "id": "1ff3410c-0ce2-4825-a9e6-5d5597d67c72"
      },
      "outputs": [],
      "source": [
        "from bs4 import BeautifulSoup # this module helps in web scrapping.\n",
        "import requests  # this module helps us to download a web page"
      ],
      "execution_count": 4
    },
    {
      "cell_type": "markdown",
      "metadata": {
        "id": "afcd9300-262f-43f9-8f65-d1276f7e6d5c"
      },
      "source": [
        "<h2 id=\"BSO\">Beautiful Soup Objects</h2>\n"
      ]
    },
    {
      "cell_type": "markdown",
      "metadata": {
        "id": "858a4de4-3b0c-4000-808a-baf8dbe1ae41"
      },
      "source": [
        "Beautiful Soup is a Python library for pulling data out of HTML and XML files, we will focus on HTML files. This is accomplished by representing the HTML as a set of objects with methods used to parse the HTML.  We can navigate the HTML as a tree and/or filter out what we are looking for.\n",
        "\n",
        "Consider the following HTML:\n"
      ]
    },
    {
      "cell_type": "code",
      "metadata": {
        "colab": {
          "base_uri": "https://localhost:8080/",
          "height": 203
        },
        "id": "89ed5f26-736b-4adf-96a0-97ea4b9daff5",
        "outputId": "87e3a282-a726-452b-e5e1-07df342398f0"
      },
      "outputs": [
        {
          "output_type": "display_data",
          "data": {
            "text/plain": [
              "<IPython.core.display.HTML object>"
            ],
            "text/html": [
              "<!DOCTYPE html>\n",
              "<html>\n",
              "<head>\n",
              "<title>Page Title</title>\n",
              "</head>\n",
              "<body>\n",
              "<h3><b id='boldest'>Lebron James</b></h3>\n",
              "<p> Salary: $ 92,000,000 </p>\n",
              "<h3> Stephen Curry</h3>\n",
              "<p> Salary: $85,000, 000 </p>\n",
              "<h3> Kevin Durant </h3>\n",
              "<p> Salary: $73,200, 000</p>\n",
              "</body>\n",
              "</html>\n"
            ]
          },
          "metadata": {}
        }
      ],
      "source": [
        "%%html\n",
        "<!DOCTYPE html>\n",
        "<html>\n",
        "<head>\n",
        "<title>Page Title</title>\n",
        "</head>\n",
        "<body>\n",
        "<h3><b id='boldest'>Lebron James</b></h3>\n",
        "<p> Salary: $ 92,000,000 </p>\n",
        "<h3> Stephen Curry</h3>\n",
        "<p> Salary: $85,000, 000 </p>\n",
        "<h3> Kevin Durant </h3>\n",
        "<p> Salary: $73,200, 000</p>\n",
        "</body>\n",
        "</html>"
      ],
      "execution_count": null
    },
    {
      "cell_type": "markdown",
      "metadata": {
        "id": "7ab868e8-3147-46e1-ac6b-b2d743547685"
      },
      "source": [
        "We can store it as a string in the variable HTML:\n"
      ]
    },
    {
      "cell_type": "code",
      "metadata": {
        "id": "9d27d6ed-6191-4c10-a5de-3892da9a40cc"
      },
      "outputs": [],
      "source": [
        "html=\"<!DOCTYPE html><html><head><title>Page Title</title></head><body><h3><b id='boldest'>Lebron James</b></h3><p> Salary: $ 92,000,000 </p><h3> Stephen Curry</h3><p> Salary: $85,000, 000 </p><h3> Kevin Durant </h3><p> Salary: $73,200, 000</p></body></html>\""
      ],
      "execution_count": null
    },
    {
      "cell_type": "markdown",
      "metadata": {
        "id": "5f70797f-5533-4996-9002-976462ff94e9"
      },
      "source": [
        "To parse a document, pass it into the <code>BeautifulSoup</code> constructor, the <code>BeautifulSoup</code> object, which represents the document as a nested data structure:\n"
      ]
    },
    {
      "cell_type": "code",
      "metadata": {
        "id": "4c82b2d7-b6f8-407c-972e-42baa9f4000c",
        "colab": {
          "base_uri": "https://localhost:8080/"
        },
        "outputId": "52eb04a7-c07e-4775-cf5d-3587042668f9"
      },
      "outputs": [
        {
          "output_type": "execute_result",
          "data": {
            "text/plain": [
              "<!DOCTYPE html>\n",
              "<html><head><title>Page Title</title></head><body><h3><b id=\"boldest\">Lebron James</b></h3><p> Salary: $ 92,000,000 </p><h3> Stephen Curry</h3><p> Salary: $85,000, 000 </p><h3> Kevin Durant </h3><p> Salary: $73,200, 000</p></body></html>"
            ]
          },
          "metadata": {},
          "execution_count": 6
        }
      ],
      "source": [
        "soup = BeautifulSoup(html, \"html.parser\")\n",
        "soup"
      ],
      "execution_count": null
    },
    {
      "cell_type": "markdown",
      "metadata": {
        "id": "2ea175f4-4764-4328-83dd-2d25927f8512"
      },
      "source": [
        "First, the document is converted to Unicode, (similar to ASCII),  and HTML entities are converted to Unicode characters. Beautiful Soup transforms a complex HTML document into a complex tree of Python objects. The <code>BeautifulSoup</code> object can create other types of objects. In this lab, we will cover <code>BeautifulSoup</code> and <code>Tag</code> objects that for the purposes of this lab are identical, and <code>NavigableString</code> objects.\n"
      ]
    },
    {
      "cell_type": "markdown",
      "metadata": {
        "id": "3f984f4f-d903-42b4-a3f4-66bc86ccae00"
      },
      "source": [
        "We can use the method <code>prettify()</code> to display the HTML in the nested structure:\n"
      ]
    },
    {
      "cell_type": "code",
      "metadata": {
        "colab": {
          "base_uri": "https://localhost:8080/"
        },
        "id": "d7d7b2a2-9c02-48e4-8347-1a6ac2aee11e",
        "outputId": "aa74fb5e-f84a-433b-ab4a-1ee7d7abe8c5"
      },
      "outputs": [
        {
          "output_type": "stream",
          "name": "stdout",
          "text": [
            "<!DOCTYPE html>\n",
            "<html>\n",
            " <head>\n",
            "  <title>\n",
            "   Page Title\n",
            "  </title>\n",
            " </head>\n",
            " <body>\n",
            "  <h3>\n",
            "   <b id=\"boldest\">\n",
            "    Lebron James\n",
            "   </b>\n",
            "  </h3>\n",
            "  <p>\n",
            "   Salary: $ 92,000,000\n",
            "  </p>\n",
            "  <h3>\n",
            "   Stephen Curry\n",
            "  </h3>\n",
            "  <p>\n",
            "   Salary: $85,000, 000\n",
            "  </p>\n",
            "  <h3>\n",
            "   Kevin Durant\n",
            "  </h3>\n",
            "  <p>\n",
            "   Salary: $73,200, 000\n",
            "  </p>\n",
            " </body>\n",
            "</html>\n",
            "\n"
          ]
        }
      ],
      "source": [
        "print(soup.prettify())"
      ],
      "execution_count": null
    },
    {
      "cell_type": "markdown",
      "metadata": {
        "id": "97d84dbd-804c-42f8-abd6-e3ce9d7594ce"
      },
      "source": [
        "## Tags\n"
      ]
    },
    {
      "cell_type": "markdown",
      "metadata": {
        "id": "d32114a2-3780-442d-b132-fd7bfee8aea9"
      },
      "source": [
        "Let's say we want the  title of the page and the name of the top paid player we can use the <code>Tag</code>. The <code>Tag</code> object corresponds to an HTML tag in the original document, for example, the tag title.\n"
      ]
    },
    {
      "cell_type": "code",
      "metadata": {
        "colab": {
          "base_uri": "https://localhost:8080/"
        },
        "id": "16a2a0e2-a377-47e6-a971-d2ab3f3d1270",
        "outputId": "c9b2fc43-480a-4c5b-ffe3-1d9f4fac321a"
      },
      "outputs": [
        {
          "output_type": "stream",
          "name": "stdout",
          "text": [
            "tag object: <title>Page Title</title>\n"
          ]
        }
      ],
      "source": [
        "tag_object=soup.title\n",
        "print(\"tag object:\",tag_object)"
      ],
      "execution_count": null
    },
    {
      "cell_type": "markdown",
      "metadata": {
        "id": "0993ea67-ab17-4967-bfac-8418d3c2e7ea"
      },
      "source": [
        "we can see the tag type <code>bs4.element.Tag</code>\n"
      ]
    },
    {
      "cell_type": "code",
      "metadata": {
        "colab": {
          "base_uri": "https://localhost:8080/"
        },
        "id": "545962c2-effd-41a3-a6e2-70bd2c17bed9",
        "outputId": "30ac8399-2179-46b6-84c9-fbda449b0b2a"
      },
      "outputs": [
        {
          "output_type": "stream",
          "name": "stdout",
          "text": [
            "tag object type: <class 'bs4.element.Tag'>\n"
          ]
        }
      ],
      "source": [
        "print(\"tag object type:\",type(tag_object))"
      ],
      "execution_count": null
    },
    {
      "cell_type": "markdown",
      "metadata": {
        "id": "e5d22e5e-eb3d-4804-9b83-75de28768b88"
      },
      "source": [
        "If there is more than one <code>Tag</code>  with the same name, the first element with that <code>Tag</code> name is called, this corresponds to the most paid player:\n"
      ]
    },
    {
      "cell_type": "code",
      "metadata": {
        "colab": {
          "base_uri": "https://localhost:8080/"
        },
        "id": "35139d0c-7072-4e1c-bbcf-1f6c3c4ca0ec",
        "outputId": "66419aa1-c6ab-4104-f21c-02084bf9ffa2"
      },
      "outputs": [
        {
          "output_type": "execute_result",
          "data": {
            "text/plain": [
              "<h3><b id=\"boldest\">Lebron James</b></h3>"
            ]
          },
          "metadata": {},
          "execution_count": 10
        }
      ],
      "source": [
        "tag_object=soup.h3\n",
        "tag_object"
      ],
      "execution_count": null
    },
    {
      "cell_type": "markdown",
      "metadata": {
        "id": "65596f0f-763c-442e-a422-b85763e4ebfc"
      },
      "source": [
        "Enclosed in the bold attribute <code>b</code>, it helps to use the tree representation. We can navigate down the tree using the child attribute to get the name.\n"
      ]
    },
    {
      "cell_type": "markdown",
      "metadata": {
        "id": "fe0a2c7d-024d-4cb4-80ef-1d015989a472"
      },
      "source": [
        "### Children, Parents, and Siblings\n"
      ]
    },
    {
      "cell_type": "markdown",
      "metadata": {
        "id": "63f9928c-1d5d-47e0-9fff-c633bd4810e2"
      },
      "source": [
        "As stated above the <code>Tag</code> object is a tree of objects we can access the child of the tag or navigate down the branch as follows:\n"
      ]
    },
    {
      "cell_type": "code",
      "metadata": {
        "colab": {
          "base_uri": "https://localhost:8080/"
        },
        "id": "11eeb697-7c9b-4d5f-984d-a9676d304942",
        "outputId": "5a65731f-c911-4dcd-fa53-1a6d53458247"
      },
      "outputs": [
        {
          "output_type": "execute_result",
          "data": {
            "text/plain": [
              "<b id=\"boldest\">Lebron James</b>"
            ]
          },
          "metadata": {},
          "execution_count": 11
        }
      ],
      "source": [
        "tag_child =tag_object.b\n",
        "tag_child"
      ],
      "execution_count": null
    },
    {
      "cell_type": "markdown",
      "metadata": {
        "id": "7ff55d1a-f871-4fa6-b12f-e154d5b9aac4"
      },
      "source": [
        "You can access the parent with the <code> parent</code>\n"
      ]
    },
    {
      "cell_type": "code",
      "metadata": {
        "colab": {
          "base_uri": "https://localhost:8080/"
        },
        "id": "d4abef6c-806d-44bf-8073-0dd74dab1850",
        "outputId": "f7a40afa-7a0b-45da-9231-0d6151698add"
      },
      "outputs": [
        {
          "output_type": "execute_result",
          "data": {
            "text/plain": [
              "<h3><b id=\"boldest\">Lebron James</b></h3>"
            ]
          },
          "metadata": {},
          "execution_count": 18
        }
      ],
      "source": [
        "parent_tag=tag_child.parent\n",
        "parent_tag"
      ],
      "execution_count": null
    },
    {
      "cell_type": "markdown",
      "metadata": {
        "id": "12e5c7d2-800e-4e4c-bcd5-6cd0a41883ae"
      },
      "source": [
        "this is identical to\n"
      ]
    },
    {
      "cell_type": "code",
      "metadata": {
        "colab": {
          "base_uri": "https://localhost:8080/"
        },
        "id": "68dbdaa6-bef6-4836-a832-268582eb6376",
        "outputId": "ff63f174-4037-4d30-9bde-921b581adbb3"
      },
      "outputs": [
        {
          "output_type": "execute_result",
          "data": {
            "text/plain": [
              "<h3><b id=\"boldest\">Lebron James</b></h3>"
            ]
          },
          "metadata": {},
          "execution_count": 20
        }
      ],
      "source": [
        "tag_object"
      ],
      "execution_count": null
    },
    {
      "cell_type": "markdown",
      "metadata": {
        "id": "855e1543-b9d6-4701-9251-40252f3f7c1e"
      },
      "source": [
        "<code>tag_object</code> parent is the <code>body</code> element.\n"
      ]
    },
    {
      "cell_type": "code",
      "metadata": {
        "colab": {
          "base_uri": "https://localhost:8080/"
        },
        "id": "4dd66687-e0cc-47fc-b7d8-dfb181f09513",
        "outputId": "0bbe5ec6-226f-478d-889e-13c8ebddc7b7"
      },
      "outputs": [
        {
          "output_type": "execute_result",
          "data": {
            "text/plain": [
              "<body><h3><b id=\"boldest\">Lebron James</b></h3><p> Salary: $ 92,000,000 </p><h3> Stephen Curry</h3><p> Salary: $85,000, 000 </p><h3> Kevin Durant </h3><p> Salary: $73,200, 000</p></body>"
            ]
          },
          "metadata": {},
          "execution_count": 21
        }
      ],
      "source": [
        "tag_object.parent"
      ],
      "execution_count": null
    },
    {
      "cell_type": "markdown",
      "metadata": {
        "id": "f0ba4abc-c889-48cd-bb63-10249eaf1c92"
      },
      "source": [
        "<code>tag_object</code> sibling is the <code>paragraph</code> element\n"
      ]
    },
    {
      "cell_type": "code",
      "metadata": {
        "colab": {
          "base_uri": "https://localhost:8080/"
        },
        "id": "e0fcf2eb-f13a-4714-b492-73a2cccd4ccd",
        "outputId": "e1797db1-e685-4a8c-ce2a-a33100d420c7"
      },
      "outputs": [
        {
          "output_type": "execute_result",
          "data": {
            "text/plain": [
              "<p> Salary: $ 92,000,000 </p>"
            ]
          },
          "metadata": {},
          "execution_count": 22
        }
      ],
      "source": [
        "sibling_1=tag_object.next_sibling\n",
        "sibling_1"
      ],
      "execution_count": null
    },
    {
      "cell_type": "markdown",
      "metadata": {
        "id": "a1ce48f7-6d46-44eb-8de0-990c0da3873f"
      },
      "source": [
        "`sibling_2` is the `header` element which is also a sibling of both `sibling_1` and `tag_object`\n"
      ]
    },
    {
      "cell_type": "code",
      "metadata": {
        "colab": {
          "base_uri": "https://localhost:8080/"
        },
        "id": "5f7df617-2adf-49db-a087-ccc214efc9d5",
        "outputId": "b32922fe-6ec7-430a-f17f-d81214b9ea6b"
      },
      "outputs": [
        {
          "output_type": "execute_result",
          "data": {
            "text/plain": [
              "<h3> Stephen Curry</h3>"
            ]
          },
          "metadata": {},
          "execution_count": 23
        }
      ],
      "source": [
        "sibling_2=sibling_1.next_sibling\n",
        "sibling_2"
      ],
      "execution_count": null
    },
    {
      "cell_type": "markdown",
      "metadata": {
        "id": "7661a079-12d5-4c47-9640-081bf4cbe8a8"
      },
      "source": [
        "<h3 id=\"first_question\">Exercise: <code>next_sibling</code></h3>\n"
      ]
    },
    {
      "cell_type": "markdown",
      "metadata": {
        "id": "9fe587cf-9407-456c-8d22-1ee8d188c33d"
      },
      "source": [
        "Using the object <code>sibling\\_2</code> and the property <code>next_sibling</code> to find the salary of Stephen Curry:\n"
      ]
    },
    {
      "cell_type": "code",
      "metadata": {
        "colab": {
          "base_uri": "https://localhost:8080/"
        },
        "id": "21949e16-8b99-4992-84c0-ba474af5d6e9",
        "outputId": "d062e589-d032-413e-b582-704950334b38"
      },
      "outputs": [
        {
          "output_type": "execute_result",
          "data": {
            "text/plain": [
              "<p> Salary: $85,000, 000 </p>"
            ]
          },
          "metadata": {},
          "execution_count": 24
        }
      ],
      "source": [
        "sibling_3=sibling_2.next_sibling\n",
        "sibling_3"
      ],
      "execution_count": null
    },
    {
      "cell_type": "markdown",
      "metadata": {
        "id": "87fd3e6d-5814-490d-921a-eae0dfd5319a"
      },
      "source": [
        "<details><summary>Click here for the solution</summary>\n",
        "\n",
        "```\n",
        "sibling_2.next_sibling\n",
        "\n",
        "```\n",
        "\n",
        "</details>\n"
      ]
    },
    {
      "cell_type": "markdown",
      "metadata": {
        "id": "5436728f-8795-4644-90c6-7ea46dcdf7a8"
      },
      "source": [
        "### HTML Attributes\n"
      ]
    },
    {
      "cell_type": "markdown",
      "metadata": {
        "id": "b9a831fc-6654-427b-8446-853962bee9d3"
      },
      "source": [
        "If the tag has attributes, the tag <code>id=\"boldest\"</code> has an attribute <code>id</code> whose value is <code>boldest</code>. You can access a tag’s attributes by treating the tag like a dictionary:\n"
      ]
    },
    {
      "cell_type": "code",
      "metadata": {
        "colab": {
          "base_uri": "https://localhost:8080/",
          "height": 36
        },
        "id": "4b3408bc-1128-4de0-963d-ad9f9f5deee5",
        "outputId": "3891e769-3d87-44d1-a594-9838442dba2e"
      },
      "outputs": [
        {
          "output_type": "execute_result",
          "data": {
            "text/plain": [
              "'boldest'"
            ],
            "application/vnd.google.colaboratory.intrinsic+json": {
              "type": "string"
            }
          },
          "metadata": {},
          "execution_count": 25
        }
      ],
      "source": [
        "tag_child['id']"
      ],
      "execution_count": null
    },
    {
      "cell_type": "markdown",
      "metadata": {
        "id": "88d66abf-32ae-4d35-ae41-fc1243068ced"
      },
      "source": [
        "You can access that dictionary directly as <code>attrs</code>:\n"
      ]
    },
    {
      "cell_type": "code",
      "metadata": {
        "colab": {
          "base_uri": "https://localhost:8080/"
        },
        "id": "f963d355-6439-4d61-9398-51a9f1016c7a",
        "outputId": "c8330274-35f4-4d60-d284-57682c1e5950"
      },
      "outputs": [
        {
          "output_type": "execute_result",
          "data": {
            "text/plain": [
              "{'id': 'boldest'}"
            ]
          },
          "metadata": {},
          "execution_count": 26
        }
      ],
      "source": [
        "tag_child.attrs"
      ],
      "execution_count": null
    },
    {
      "cell_type": "markdown",
      "metadata": {
        "id": "bfff232f-9f6f-4548-bd8c-b7e73315cb83"
      },
      "source": [
        "You can also work with Multi-valued attribute check out <a href=\"https://www.crummy.com/software/BeautifulSoup/bs4/doc/?utm_medium=Exinfluencer&utm_source=Exinfluencer&utm_content=000026UJ&utm_term=10006555&utm_id=NA-SkillsNetwork-Channel-SkillsNetworkCoursesIBMDeveloperSkillsNetworkPY0220ENSkillsNetwork23455606-2021-01-01\">\\[1]</a> for more.\n"
      ]
    },
    {
      "cell_type": "markdown",
      "metadata": {
        "id": "8f002028-225b-4e33-ab4a-d2365917d59d"
      },
      "source": [
        "We can also obtain the content if the attribute of the <code>tag</code> using the Python <code>get()</code> method.\n"
      ]
    },
    {
      "cell_type": "code",
      "metadata": {
        "colab": {
          "base_uri": "https://localhost:8080/",
          "height": 36
        },
        "id": "f378b7a2-a003-4331-a5be-630c41af5ec4",
        "outputId": "c0b597a4-bac8-4451-e52e-1713193b06d5"
      },
      "outputs": [
        {
          "output_type": "execute_result",
          "data": {
            "text/plain": [
              "'boldest'"
            ],
            "application/vnd.google.colaboratory.intrinsic+json": {
              "type": "string"
            }
          },
          "metadata": {},
          "execution_count": 27
        }
      ],
      "source": [
        "tag_child.get('id')"
      ],
      "execution_count": null
    },
    {
      "cell_type": "markdown",
      "metadata": {
        "id": "eb0c7d20-1011-4665-a0c5-c8bf5352642c"
      },
      "source": [
        "### Navigable String\n"
      ]
    },
    {
      "cell_type": "markdown",
      "metadata": {
        "id": "2e75912f-f17a-4b30-95d6-b47e5803ef18"
      },
      "source": [
        "A string corresponds to a bit of text or content within a tag. Beautiful Soup uses the <code>NavigableString</code> class to contain this text. In our HTML we can obtain the name of the first player by extracting the sting of the <code>Tag</code> object <code>tag_child</code> as follows:\n"
      ]
    },
    {
      "cell_type": "code",
      "source": [
        "tag_child"
      ],
      "metadata": {
        "colab": {
          "base_uri": "https://localhost:8080/"
        },
        "id": "UMalONjOQPN5",
        "outputId": "ed55a9bd-8fba-4208-f16e-df91bccd9b92"
      },
      "execution_count": null,
      "outputs": [
        {
          "output_type": "execute_result",
          "data": {
            "text/plain": [
              "<b id=\"boldest\">Lebron James</b>"
            ]
          },
          "metadata": {},
          "execution_count": 29
        }
      ]
    },
    {
      "cell_type": "code",
      "metadata": {
        "colab": {
          "base_uri": "https://localhost:8080/",
          "height": 36
        },
        "id": "b5840e4c-8541-471f-9dc5-f9c124571ba9",
        "outputId": "e847d02a-6896-4ce3-fb9d-152a4ed4b9b4"
      },
      "outputs": [
        {
          "output_type": "execute_result",
          "data": {
            "text/plain": [
              "'Lebron James'"
            ],
            "application/vnd.google.colaboratory.intrinsic+json": {
              "type": "string"
            }
          },
          "metadata": {},
          "execution_count": 28
        }
      ],
      "source": [
        "tag_string=tag_child.string\n",
        "tag_string"
      ],
      "execution_count": null
    },
    {
      "cell_type": "code",
      "source": [
        "sibling_3.string"
      ],
      "metadata": {
        "colab": {
          "base_uri": "https://localhost:8080/",
          "height": 36
        },
        "id": "AYiGrtDBQUTL",
        "outputId": "39008895-9f0b-437e-e1d4-318db0709904"
      },
      "execution_count": null,
      "outputs": [
        {
          "output_type": "execute_result",
          "data": {
            "text/plain": [
              "' Salary: $85,000, 000 '"
            ],
            "application/vnd.google.colaboratory.intrinsic+json": {
              "type": "string"
            }
          },
          "metadata": {},
          "execution_count": 30
        }
      ]
    },
    {
      "cell_type": "markdown",
      "metadata": {
        "id": "8d6afdee-0511-447f-b3d9-4e1b25f3720a"
      },
      "source": [
        "we can verify the type is Navigable String\n"
      ]
    },
    {
      "cell_type": "code",
      "metadata": {
        "colab": {
          "base_uri": "https://localhost:8080/"
        },
        "id": "b5afc47f-b262-4999-a9be-ba43cd5bc7d9",
        "outputId": "e1d408c6-f8a4-47b3-fc32-3652c39726fb"
      },
      "outputs": [
        {
          "output_type": "execute_result",
          "data": {
            "text/plain": [
              "bs4.element.NavigableString"
            ]
          },
          "metadata": {},
          "execution_count": 31
        }
      ],
      "source": [
        "type(tag_string)"
      ],
      "execution_count": null
    },
    {
      "cell_type": "markdown",
      "metadata": {
        "id": "3d7c1793-ee4c-49dc-b821-be9ce05ef924"
      },
      "source": [
        "A NavigableString is just like a Python string or Unicode string, to be more precise. The main difference is that it also supports some  <code>BeautifulSoup</code> features. We can covert it to sting object in Python:\n"
      ]
    },
    {
      "cell_type": "code",
      "metadata": {
        "colab": {
          "base_uri": "https://localhost:8080/",
          "height": 36
        },
        "id": "d280089f-2206-4092-befb-bb2124d7e24b",
        "outputId": "322f88b8-b6b4-4349-ac11-b847eb5819f8"
      },
      "outputs": [
        {
          "output_type": "execute_result",
          "data": {
            "text/plain": [
              "'Lebron James'"
            ],
            "application/vnd.google.colaboratory.intrinsic+json": {
              "type": "string"
            }
          },
          "metadata": {},
          "execution_count": 32
        }
      ],
      "source": [
        "unicode_string = str(tag_string)\n",
        "unicode_string"
      ],
      "execution_count": null
    },
    {
      "cell_type": "code",
      "source": [
        "type(unicode_string)"
      ],
      "metadata": {
        "colab": {
          "base_uri": "https://localhost:8080/"
        },
        "id": "mY-JobwZQl14",
        "outputId": "0efce0ef-d677-4891-93ab-43570a05e6ea"
      },
      "execution_count": null,
      "outputs": [
        {
          "output_type": "execute_result",
          "data": {
            "text/plain": [
              "str"
            ]
          },
          "metadata": {},
          "execution_count": 34
        }
      ]
    },
    {
      "cell_type": "code",
      "source": [
        "str(sibling_3.string)"
      ],
      "metadata": {
        "colab": {
          "base_uri": "https://localhost:8080/",
          "height": 36
        },
        "id": "Oj5hDLNlQhNG",
        "outputId": "b0dd28c8-3629-4445-cccc-242e751249ac"
      },
      "execution_count": null,
      "outputs": [
        {
          "output_type": "execute_result",
          "data": {
            "text/plain": [
              "' Salary: $85,000, 000 '"
            ],
            "application/vnd.google.colaboratory.intrinsic+json": {
              "type": "string"
            }
          },
          "metadata": {},
          "execution_count": 33
        }
      ]
    },
    {
      "cell_type": "markdown",
      "metadata": {
        "id": "6ecfbfb7-dd27-4b20-b447-8bccc31946d6"
      },
      "source": [
        "<h2 id=\"filter\">Filter</h2>\n"
      ]
    },
    {
      "cell_type": "markdown",
      "metadata": {
        "id": "84ca3bd8-6d61-46bf-920e-30e4c9771a2c"
      },
      "source": [
        "Filters allow you to find complex patterns, the simplest filter is a string. In this section we will pass a string to a different filter method and Beautiful Soup will perform a match against that exact string.  Consider the following HTML of rocket launchs:\n"
      ]
    },
    {
      "cell_type": "code",
      "metadata": {
        "colab": {
          "base_uri": "https://localhost:8080/",
          "height": 103
        },
        "id": "e0a07960-b9f5-4b08-9a16-9a654202e52d",
        "outputId": "953f52eb-1860-4fef-81a6-4864a42d047d"
      },
      "outputs": [
        {
          "output_type": "display_data",
          "data": {
            "text/plain": [
              "<IPython.core.display.HTML object>"
            ],
            "text/html": [
              "<table>\n",
              "  <tr>\n",
              "    <td id='flight' >Flight No</td>\n",
              "    <td>Launch site</td>\n",
              "    <td>Payload mass</td>\n",
              "   </tr>\n",
              "  <tr>\n",
              "    <td>1</td>\n",
              "    <td><a href='https://en.wikipedia.org/wiki/Florida'>Florida</a></td>\n",
              "    <td>300 kg</td>\n",
              "  </tr>\n",
              "  <tr>\n",
              "    <td>2</td>\n",
              "    <td><a href='https://en.wikipedia.org/wiki/Texas'>Texas</a></td>\n",
              "    <td>94 kg</td>\n",
              "  </tr>\n",
              "  <tr>\n",
              "    <td>3</td>\n",
              "    <td><a href='https://en.wikipedia.org/wiki/Florida'>Florida</a> </td>\n",
              "    <td>80 kg</td>\n",
              "  </tr>\n",
              "</table>\n"
            ]
          },
          "metadata": {}
        }
      ],
      "source": [
        "%%html\n",
        "<table>\n",
        "  <tr>\n",
        "    <td id='flight' >Flight No</td>\n",
        "    <td>Launch site</td>\n",
        "    <td>Payload mass</td>\n",
        "   </tr>\n",
        "  <tr>\n",
        "    <td>1</td>\n",
        "    <td><a href='https://en.wikipedia.org/wiki/Florida'>Florida</a></td>\n",
        "    <td>300 kg</td>\n",
        "  </tr>\n",
        "  <tr>\n",
        "    <td>2</td>\n",
        "    <td><a href='https://en.wikipedia.org/wiki/Texas'>Texas</a></td>\n",
        "    <td>94 kg</td>\n",
        "  </tr>\n",
        "  <tr>\n",
        "    <td>3</td>\n",
        "    <td><a href='https://en.wikipedia.org/wiki/Florida'>Florida</a> </td>\n",
        "    <td>80 kg</td>\n",
        "  </tr>\n",
        "</table>"
      ],
      "execution_count": null
    },
    {
      "cell_type": "code",
      "source": [
        "# another example of a table\n",
        "%%html\n",
        "<table>\n",
        "  <tr>\n",
        "    <th>Company</th>\n",
        "    <th>Contact</th>\n",
        "    <th>Country</th>\n",
        "  </tr>\n",
        "  <tr>\n",
        "    <td>Alfreds Futterkiste</td>\n",
        "    <td>Maria Anders</td>\n",
        "    <td>Germany</td>\n",
        "  </tr>\n",
        "  <tr>\n",
        "    <td>Centro comercial Moctezuma</td>\n",
        "    <td>Francisco Chang</td>\n",
        "    <td>Mexico</td>\n",
        "  </tr>\n",
        "</table>"
      ],
      "metadata": {
        "colab": {
          "base_uri": "https://localhost:8080/",
          "height": 82
        },
        "id": "GT-10nkqSZ8z",
        "outputId": "c3670f54-912a-4762-c2a0-09cc94a54804"
      },
      "execution_count": null,
      "outputs": [
        {
          "output_type": "display_data",
          "data": {
            "text/plain": [
              "<IPython.core.display.HTML object>"
            ],
            "text/html": [
              "<table>\n",
              "  <tr>\n",
              "    <th>Company</th>\n",
              "    <th>Contact</th>\n",
              "    <th>Country</th>\n",
              "  </tr>\n",
              "  <tr>\n",
              "    <td>Alfreds Futterkiste</td>\n",
              "    <td>Maria Anders</td>\n",
              "    <td>Germany</td>\n",
              "  </tr>\n",
              "  <tr>\n",
              "    <td>Centro comercial Moctezuma</td>\n",
              "    <td>Francisco Chang</td>\n",
              "    <td>Mexico</td>\n",
              "  </tr>\n",
              "</table>\n"
            ]
          },
          "metadata": {}
        }
      ]
    },
    {
      "cell_type": "markdown",
      "metadata": {
        "id": "c7bfefdc-73f0-47f2-a10a-76c6c67e2aae"
      },
      "source": [
        "We can store it as a string in the variable <code>table</code>:\n"
      ]
    },
    {
      "cell_type": "code",
      "metadata": {
        "id": "7a8cccb5-7811-410a-9afd-f9bda9c6819f"
      },
      "outputs": [],
      "source": [
        "table=\"<table><tr><td id='flight' >Flight No</td><td>Launch site</td><td>Payload mass</td></tr><tr><td>1</td><td><a href='https://en.wikipedia.org/wiki/Florida'>Florida</a></td><td>300 kg</td></tr><tr><td>2</td><td><a href='https://en.wikipedia.org/wiki/Texas'>Texas</a></td><td>94 kg</td></tr><tr><td>3</td><td><a href='https://en.wikipedia.org/wiki/Florida'>Florida</a> </td><td>80 kg</td></tr></table>\""
      ],
      "execution_count": null
    },
    {
      "cell_type": "code",
      "metadata": {
        "id": "6ce71c14-5991-4f60-9d36-783588ea0756"
      },
      "outputs": [],
      "source": [
        "table_bs = BeautifulSoup(table, \"html.parser\")"
      ],
      "execution_count": null
    },
    {
      "cell_type": "markdown",
      "metadata": {
        "id": "2fa4ea8f-0119-410f-b337-f2ba274e31bd"
      },
      "source": [
        "## find All\n"
      ]
    },
    {
      "cell_type": "markdown",
      "metadata": {
        "id": "9eb31e32-2cf9-4d3c-a0ee-c8f7e2e6c2e7"
      },
      "source": [
        "The <code>find_all()</code> method looks through a tag’s descendants and retrieves all descendants that match your filters.\n",
        "\n",
        "<p>\n",
        "The Method signature for <code>find_all(name, attrs, recursive, string, limit, **kwargs)<c/ode>\n",
        "</p>\n"
      ]
    },
    {
      "cell_type": "markdown",
      "metadata": {
        "id": "d433da37-bce3-49bc-8920-be90500c4e21"
      },
      "source": [
        "### Name\n"
      ]
    },
    {
      "cell_type": "markdown",
      "metadata": {
        "id": "eb020e7a-6173-4a87-b21f-439bb6134e4a"
      },
      "source": [
        "When we set the <code>name</code> parameter to a tag name, the method will extract all the tags with that name and its children.\n"
      ]
    },
    {
      "cell_type": "code",
      "metadata": {
        "colab": {
          "base_uri": "https://localhost:8080/"
        },
        "id": "7d73cb7f-9108-40b4-acd6-458af3b0edb3",
        "outputId": "cddba905-d7ca-4764-99bd-44cc4e51d406"
      },
      "outputs": [
        {
          "output_type": "execute_result",
          "data": {
            "text/plain": [
              "[<tr><td id=\"flight\">Flight No</td><td>Launch site</td><td>Payload mass</td></tr>,\n",
              " <tr><td>1</td><td><a href=\"https://en.wikipedia.org/wiki/Florida\">Florida</a></td><td>300 kg</td></tr>,\n",
              " <tr><td>2</td><td><a href=\"https://en.wikipedia.org/wiki/Texas\">Texas</a></td><td>94 kg</td></tr>,\n",
              " <tr><td>3</td><td><a href=\"https://en.wikipedia.org/wiki/Florida\">Florida</a> </td><td>80 kg</td></tr>]"
            ]
          },
          "metadata": {},
          "execution_count": 39
        }
      ],
      "source": [
        "table_rows=table_bs.find_all('tr')\n",
        "table_rows"
      ],
      "execution_count": null
    },
    {
      "cell_type": "markdown",
      "metadata": {
        "id": "1069b9d9-85d0-44e4-9da2-89f3499bc9fd"
      },
      "source": [
        "The result is a Python Iterable just like a list, each element is a <code>tag</code> object:\n"
      ]
    },
    {
      "cell_type": "code",
      "metadata": {
        "colab": {
          "base_uri": "https://localhost:8080/"
        },
        "id": "6e56c487-7d3e-412e-9c4e-ea1b5cb2a238",
        "outputId": "c61a53b9-d693-4c74-a1cf-055ce5147aa2"
      },
      "outputs": [
        {
          "output_type": "execute_result",
          "data": {
            "text/plain": [
              "<tr><td id=\"flight\">Flight No</td><td>Launch site</td><td>Payload mass</td></tr>"
            ]
          },
          "metadata": {},
          "execution_count": 42
        }
      ],
      "source": [
        "# this one shows the headers of the table\n",
        "first_row =table_rows[0]\n",
        "first_row"
      ],
      "execution_count": null
    },
    {
      "cell_type": "code",
      "source": [
        "# so here we have the values of the first row\n",
        "table_rows[1]"
      ],
      "metadata": {
        "colab": {
          "base_uri": "https://localhost:8080/"
        },
        "id": "GvH0-djBS4bY",
        "outputId": "c238ffd2-5835-4c3c-9a40-ab3b6f50f294"
      },
      "execution_count": null,
      "outputs": [
        {
          "output_type": "execute_result",
          "data": {
            "text/plain": [
              "<tr><td>1</td><td><a href=\"https://en.wikipedia.org/wiki/Florida\">Florida</a></td><td>300 kg</td></tr>"
            ]
          },
          "metadata": {},
          "execution_count": 43
        }
      ]
    },
    {
      "cell_type": "markdown",
      "metadata": {
        "id": "f304cf5a-8634-45e3-aef4-17e0c688c44b"
      },
      "source": [
        "The type is <code>tag</code>\n"
      ]
    },
    {
      "cell_type": "code",
      "metadata": {
        "colab": {
          "base_uri": "https://localhost:8080/"
        },
        "id": "8857a2bb-12d5-4ce7-b866-837e48aacf35",
        "outputId": "7711eeb0-0e30-4ccd-aa73-8d339accd77b"
      },
      "outputs": [
        {
          "output_type": "stream",
          "name": "stdout",
          "text": [
            "<class 'bs4.element.Tag'>\n"
          ]
        }
      ],
      "source": [
        "print(type(first_row))"
      ],
      "execution_count": null
    },
    {
      "cell_type": "markdown",
      "metadata": {
        "id": "c5b88530-9755-4864-912d-48df4c77fa9f"
      },
      "source": [
        "we can obtain the child\n"
      ]
    },
    {
      "cell_type": "code",
      "metadata": {
        "colab": {
          "base_uri": "https://localhost:8080/"
        },
        "id": "76da3377-b566-4aec-9279-98ff7f82defc",
        "outputId": "360dc863-f6a9-4949-a7ce-3438735e19f9"
      },
      "outputs": [
        {
          "output_type": "execute_result",
          "data": {
            "text/plain": [
              "<td id=\"flight\">Flight No</td>"
            ]
          },
          "metadata": {},
          "execution_count": 48
        }
      ],
      "source": [
        "first_row.td"
      ],
      "execution_count": null
    },
    {
      "cell_type": "markdown",
      "metadata": {
        "id": "6ef7a6b1-d74e-4554-8e58-55fcf9a45e23"
      },
      "source": [
        "If we iterate through the list, each element corresponds to a row in the table:\n"
      ]
    },
    {
      "cell_type": "markdown",
      "source": [
        "Reminder of enumerate: https://www.docstring.fr/glossaire/enumerate/"
      ],
      "metadata": {
        "id": "bZGAhurzVXT0"
      }
    },
    {
      "cell_type": "code",
      "source": [
        "table_rows"
      ],
      "metadata": {
        "colab": {
          "base_uri": "https://localhost:8080/"
        },
        "id": "IvBh9skXVdcy",
        "outputId": "bcbb4aef-d734-4825-a8f4-67ca5ba7060b"
      },
      "execution_count": null,
      "outputs": [
        {
          "output_type": "execute_result",
          "data": {
            "text/plain": [
              "[<tr><td id=\"flight\">Flight No</td><td>Launch site</td><td>Payload mass</td></tr>,\n",
              " <tr><td>1</td><td><a href=\"https://en.wikipedia.org/wiki/Florida\">Florida</a></td><td>300 kg</td></tr>,\n",
              " <tr><td>2</td><td><a href=\"https://en.wikipedia.org/wiki/Texas\">Texas</a></td><td>94 kg</td></tr>,\n",
              " <tr><td>3</td><td><a href=\"https://en.wikipedia.org/wiki/Florida\">Florida</a> </td><td>80 kg</td></tr>]"
            ]
          },
          "metadata": {},
          "execution_count": 52
        }
      ]
    },
    {
      "cell_type": "code",
      "metadata": {
        "colab": {
          "base_uri": "https://localhost:8080/"
        },
        "id": "b4328adf-55e1-413c-95d0-1d5b198f3ae6",
        "outputId": "c81c7253-cffe-48ac-cc82-ba4b5497d5cc"
      },
      "outputs": [
        {
          "output_type": "stream",
          "name": "stdout",
          "text": [
            "row 0 is <tr><td id=\"flight\">Flight No</td><td>Launch site</td><td>Payload mass</td></tr>\n",
            "row 1 is <tr><td>1</td><td><a href=\"https://en.wikipedia.org/wiki/Florida\">Florida</a></td><td>300 kg</td></tr>\n",
            "row 2 is <tr><td>2</td><td><a href=\"https://en.wikipedia.org/wiki/Texas\">Texas</a></td><td>94 kg</td></tr>\n",
            "row 3 is <tr><td>3</td><td><a href=\"https://en.wikipedia.org/wiki/Florida\">Florida</a> </td><td>80 kg</td></tr>\n"
          ]
        }
      ],
      "source": [
        "for i,row in enumerate(table_rows):\n",
        "    print(\"row\",i,\"is\",row)\n"
      ],
      "execution_count": null
    },
    {
      "cell_type": "markdown",
      "metadata": {
        "id": "94c31ca1-fcb3-4f12-80af-c46fb242fb12"
      },
      "source": [
        "As <code>row</code> is a <code>cell</code> object, we can apply the method <code>find_all</code> to it and extract table cells in the object <code>cells</code> using the tag <code>td</code>, this is all the children with the name <code>td</code>. The result is a list, each element corresponds to a cell and is a <code>Tag</code> object, we can iterate through this list as well. We can extract the content using the <code>string</code>  attribute.\n"
      ]
    },
    {
      "cell_type": "code",
      "metadata": {
        "colab": {
          "base_uri": "https://localhost:8080/"
        },
        "id": "61010f46-6aa4-4512-a223-d62f7019f193",
        "outputId": "51dd8556-0138-4349-d6c0-642f7ed397fb"
      },
      "outputs": [
        {
          "output_type": "stream",
          "name": "stdout",
          "text": [
            "row 0\n",
            "colunm 0 cell <td id=\"flight\">Flight No</td>\n",
            "colunm 1 cell <td>Launch site</td>\n",
            "colunm 2 cell <td>Payload mass</td>\n",
            "row 1\n",
            "colunm 0 cell <td>1</td>\n",
            "colunm 1 cell <td><a href=\"https://en.wikipedia.org/wiki/Florida\">Florida</a></td>\n",
            "colunm 2 cell <td>300 kg</td>\n",
            "row 2\n",
            "colunm 0 cell <td>2</td>\n",
            "colunm 1 cell <td><a href=\"https://en.wikipedia.org/wiki/Texas\">Texas</a></td>\n",
            "colunm 2 cell <td>94 kg</td>\n",
            "row 3\n",
            "colunm 0 cell <td>3</td>\n",
            "colunm 1 cell <td><a href=\"https://en.wikipedia.org/wiki/Florida\">Florida</a> </td>\n",
            "colunm 2 cell <td>80 kg</td>\n"
          ]
        }
      ],
      "source": [
        "for i,row in enumerate(table_rows):\n",
        "    print(\"row\",i)\n",
        "    cells=row.find_all('td')\n",
        "    for j,cell in enumerate(cells):\n",
        "        print('colunm',j,\"cell\",cell)"
      ],
      "execution_count": null
    },
    {
      "cell_type": "markdown",
      "metadata": {
        "id": "958141c6-0584-43ee-8ab7-5555d0738e56"
      },
      "source": [
        "If we use a list we can match against any item in that list.\n"
      ]
    },
    {
      "cell_type": "code",
      "metadata": {
        "colab": {
          "base_uri": "https://localhost:8080/"
        },
        "id": "0c8711d0-f7ad-4eb8-935f-2e0a323e5a57",
        "outputId": "5a8e00d3-a69f-4fd7-e947-52796f1d7768"
      },
      "outputs": [
        {
          "output_type": "execute_result",
          "data": {
            "text/plain": [
              "[<tr><td id=\"flight\">Flight No</td><td>Launch site</td><td>Payload mass</td></tr>,\n",
              " <td id=\"flight\">Flight No</td>,\n",
              " <td>Launch site</td>,\n",
              " <td>Payload mass</td>,\n",
              " <tr><td>1</td><td><a href=\"https://en.wikipedia.org/wiki/Florida\">Florida</a></td><td>300 kg</td></tr>,\n",
              " <td>1</td>,\n",
              " <td><a href=\"https://en.wikipedia.org/wiki/Florida\">Florida</a></td>,\n",
              " <td>300 kg</td>,\n",
              " <tr><td>2</td><td><a href=\"https://en.wikipedia.org/wiki/Texas\">Texas</a></td><td>94 kg</td></tr>,\n",
              " <td>2</td>,\n",
              " <td><a href=\"https://en.wikipedia.org/wiki/Texas\">Texas</a></td>,\n",
              " <td>94 kg</td>,\n",
              " <tr><td>3</td><td><a href=\"https://en.wikipedia.org/wiki/Florida\">Florida</a> </td><td>80 kg</td></tr>,\n",
              " <td>3</td>,\n",
              " <td><a href=\"https://en.wikipedia.org/wiki/Florida\">Florida</a> </td>,\n",
              " <td>80 kg</td>]"
            ]
          },
          "metadata": {},
          "execution_count": 54
        }
      ],
      "source": [
        "list_input=table_bs .find_all(name=[\"tr\", \"td\"])\n",
        "list_input"
      ],
      "execution_count": null
    },
    {
      "cell_type": "markdown",
      "metadata": {
        "id": "3b3c3d86-598a-4ca6-a989-26008ca9a9b9"
      },
      "source": [
        "## Attributes\n"
      ]
    },
    {
      "cell_type": "markdown",
      "metadata": {
        "id": "adf37238-f265-4a10-8c59-2bb24f75aa46"
      },
      "source": [
        "If the argument is not recognized it will be turned into a filter on the tag’s attributes. For example the <code>id</code>  argument, Beautiful Soup will filter against each tag’s <code>id</code> attribute. For example, the first <code>td</code> elements have a value of <code>id</code> of <code>flight</code>, therefore we can filter based on that <code>id</code> value.\n"
      ]
    },
    {
      "cell_type": "code",
      "metadata": {
        "colab": {
          "base_uri": "https://localhost:8080/"
        },
        "id": "aed112be-b25e-4694-8680-26c2b4bcb6e6",
        "outputId": "eee29ddf-51d3-4c82-c286-e9db992cdbfc"
      },
      "outputs": [
        {
          "output_type": "execute_result",
          "data": {
            "text/plain": [
              "[<td id=\"flight\">Flight No</td>]"
            ]
          },
          "metadata": {},
          "execution_count": 55
        }
      ],
      "source": [
        "table_bs.find_all(id=\"flight\")"
      ],
      "execution_count": null
    },
    {
      "cell_type": "markdown",
      "metadata": {
        "id": "c17f773e-262e-41cb-9b09-962a892ae54d"
      },
      "source": [
        "We can find all the elements that have links to the Florida Wikipedia page:\n"
      ]
    },
    {
      "cell_type": "code",
      "metadata": {
        "colab": {
          "base_uri": "https://localhost:8080/"
        },
        "id": "28fa96e6-8670-4b4b-af9b-a0a4a825d10a",
        "outputId": "ab7dee34-e75f-41ad-ee66-75613e22f843"
      },
      "outputs": [
        {
          "output_type": "execute_result",
          "data": {
            "text/plain": [
              "[<a href=\"https://en.wikipedia.org/wiki/Florida\">Florida</a>,\n",
              " <a href=\"https://en.wikipedia.org/wiki/Florida\">Florida</a>]"
            ]
          },
          "metadata": {},
          "execution_count": 56
        }
      ],
      "source": [
        "list_input=table_bs.find_all(href=\"https://en.wikipedia.org/wiki/Florida\")\n",
        "list_input"
      ],
      "execution_count": null
    },
    {
      "cell_type": "markdown",
      "metadata": {
        "id": "c55477b1-f942-435b-bd8e-d6e0f479d089"
      },
      "source": [
        "If we set the  <code>href</code> attribute to True, regardless of what the value is, the code finds all tags with <code>href</code> value:\n"
      ]
    },
    {
      "cell_type": "code",
      "metadata": {
        "colab": {
          "base_uri": "https://localhost:8080/"
        },
        "id": "64fd3f96-aa22-47ef-8f30-1bd228659dea",
        "outputId": "949516aa-6207-47f4-fa1d-df44bafb360f"
      },
      "outputs": [
        {
          "output_type": "execute_result",
          "data": {
            "text/plain": [
              "[<a href=\"https://en.wikipedia.org/wiki/Florida\">Florida</a>,\n",
              " <a href=\"https://en.wikipedia.org/wiki/Texas\">Texas</a>,\n",
              " <a href=\"https://en.wikipedia.org/wiki/Florida\">Florida</a>]"
            ]
          },
          "metadata": {},
          "execution_count": 57
        }
      ],
      "source": [
        "table_bs.find_all(href=True)"
      ],
      "execution_count": null
    },
    {
      "cell_type": "markdown",
      "metadata": {
        "id": "585af70c-1530-408a-a69b-6ae6795987a6"
      },
      "source": [
        "There are other methods for dealing with attributes and other related methods; Check out the following <a href='https://www.crummy.com/software/BeautifulSoup/bs4/doc/?utm_medium=Exinfluencer&utm_source=Exinfluencer&utm_content=000026UJ&utm_term=10006555&utm_id=NA-SkillsNetwork-Channel-SkillsNetworkCoursesIBMDeveloperSkillsNetworkPY0220ENSkillsNetwork23455606-2021-01-01#css-selectors'>link</a>\n"
      ]
    },
    {
      "cell_type": "markdown",
      "metadata": {
        "id": "2d966224-0a52-48aa-813f-1ca0d43f7cac"
      },
      "source": [
        "<h3 id=\"exer_type\">Exercise: <code>find_all</code></h3>\n"
      ]
    },
    {
      "cell_type": "markdown",
      "metadata": {
        "id": "367ddc61-0aa9-4a2a-aa2a-1ece6acea5e4"
      },
      "source": [
        "Using the logic above, find all the elements without <code>href</code> value\n"
      ]
    },
    {
      "cell_type": "code",
      "metadata": {
        "colab": {
          "base_uri": "https://localhost:8080/"
        },
        "id": "fcf8bd19-81e7-4c3d-9fcb-3bbb8a829d31",
        "outputId": "8a7cac03-88f0-45b6-ea2f-00ea5a1774aa"
      },
      "outputs": [
        {
          "output_type": "execute_result",
          "data": {
            "text/plain": [
              "[]"
            ]
          },
          "metadata": {},
          "execution_count": 58
        }
      ],
      "source": [
        "table_bs.find_all('a',href=False)"
      ],
      "execution_count": null
    },
    {
      "cell_type": "markdown",
      "metadata": {
        "id": "a7b57674-fc50-4b9b-8dea-f0b7a0dbf171"
      },
      "source": [
        "<details><summary>Click here for the solution</summary>\n",
        "\n",
        "```\n",
        "table_bs.find_all('a', href=False)\n",
        "\n",
        "```\n",
        "\n",
        "</details>\n"
      ]
    },
    {
      "cell_type": "markdown",
      "metadata": {
        "id": "f2d20d69-500c-471a-b762-5b0c46dc8bda"
      },
      "source": [
        "Using the soup object <code>soup</code>, find the element with the <code>id</code> attribute content set to <code>\"boldest\"</code>.\n"
      ]
    },
    {
      "cell_type": "code",
      "metadata": {
        "colab": {
          "base_uri": "https://localhost:8080/"
        },
        "id": "effc1474-f17a-4cd8-a56d-eb7db9481675",
        "outputId": "c0ef30ff-5cea-4188-88fa-c6028f0ece15"
      },
      "outputs": [
        {
          "output_type": "execute_result",
          "data": {
            "text/plain": [
              "[<b id=\"boldest\">Lebron James</b>]"
            ]
          },
          "metadata": {},
          "execution_count": 59
        }
      ],
      "source": [
        "soup.find_all(id='boldest')"
      ],
      "execution_count": null
    },
    {
      "cell_type": "markdown",
      "metadata": {
        "id": "c6cf8e80-44cf-4839-a661-d9601acf215d"
      },
      "source": [
        "<details><summary>Click here for the solution</summary>\n",
        "\n",
        "```\n",
        "soup.find_all(id=\"boldest\")\n",
        "\n",
        "```\n",
        "\n",
        "</details>\n"
      ]
    },
    {
      "cell_type": "code",
      "source": [
        "table_bs.find_all(id='flight')"
      ],
      "metadata": {
        "colab": {
          "base_uri": "https://localhost:8080/"
        },
        "id": "9SZ3OtsNPqDl",
        "outputId": "1e87151a-7575-4f26-ccf2-f8e27378b5c7"
      },
      "execution_count": null,
      "outputs": [
        {
          "output_type": "execute_result",
          "data": {
            "text/plain": [
              "[<td id=\"flight\">Flight No</td>]"
            ]
          },
          "metadata": {},
          "execution_count": 60
        }
      ]
    },
    {
      "cell_type": "markdown",
      "metadata": {
        "id": "654095d3-f0cb-4b82-9a9d-de5ae32a9a82"
      },
      "source": [
        "### string\n"
      ]
    },
    {
      "cell_type": "markdown",
      "metadata": {
        "id": "5b5bc0d9-a38f-46cb-a0b1-36b839871395"
      },
      "source": [
        "With string you can search for strings instead of tags, where we find all the elments with Florida:\n"
      ]
    },
    {
      "cell_type": "code",
      "metadata": {
        "colab": {
          "base_uri": "https://localhost:8080/"
        },
        "id": "5c3cf85e-7328-471e-858c-d2fda6f64242",
        "outputId": "baa6b49b-15da-4506-c398-8208e8ce9a84"
      },
      "outputs": [
        {
          "output_type": "execute_result",
          "data": {
            "text/plain": [
              "['Florida', 'Florida']"
            ]
          },
          "metadata": {},
          "execution_count": 61
        }
      ],
      "source": [
        "table_bs.find_all(string=\"Florida\")"
      ],
      "execution_count": null
    },
    {
      "cell_type": "code",
      "source": [
        "table_bs.find_all(string=\"Texas\")"
      ],
      "metadata": {
        "colab": {
          "base_uri": "https://localhost:8080/"
        },
        "id": "iih826SlQDvz",
        "outputId": "87d6d6a9-d873-4c1b-fb6a-4c284e5a6f9e"
      },
      "execution_count": null,
      "outputs": [
        {
          "output_type": "execute_result",
          "data": {
            "text/plain": [
              "['Texas']"
            ]
          },
          "metadata": {},
          "execution_count": 62
        }
      ]
    },
    {
      "cell_type": "markdown",
      "metadata": {
        "id": "58fac7e3-ad0f-45a2-b43e-b53089168f2c"
      },
      "source": [
        "## find\n"
      ]
    },
    {
      "cell_type": "markdown",
      "metadata": {
        "id": "edf587e2-71ac-41a3-8878-7687937c5768"
      },
      "source": [
        "The <code>find_all()</code> method scans the entire document looking for results, it’s if you are looking for one element you can use the <code>find()</code> method to find the first element in the document. Consider the following two table:\n"
      ]
    },
    {
      "cell_type": "code",
      "metadata": {
        "id": "595dd37b-4e65-492a-90fa-6e37bc5333f9",
        "colab": {
          "base_uri": "https://localhost:8080/",
          "height": 273
        },
        "outputId": "66669075-6ae0-489a-bb79-315e133cb764"
      },
      "outputs": [
        {
          "output_type": "display_data",
          "data": {
            "text/plain": [
              "<IPython.core.display.HTML object>"
            ],
            "text/html": [
              "<h3>Rocket Launch </h3>\n",
              "\n",
              "<p>\n",
              "<table class='rocket'>\n",
              "  <tr>\n",
              "    <td>Flight No</td>\n",
              "    <td>Launch site</td>\n",
              "    <td>Payload mass</td>\n",
              "  </tr>\n",
              "  <tr>\n",
              "    <td>1</td>\n",
              "    <td>Florida</td>\n",
              "    <td>300 kg</td>\n",
              "  </tr>\n",
              "  <tr>\n",
              "    <td>2</td>\n",
              "    <td>Texas</td>\n",
              "    <td>94 kg</td>\n",
              "  </tr>\n",
              "  <tr>\n",
              "    <td>3</td>\n",
              "    <td>Florida </td>\n",
              "    <td>80 kg</td>\n",
              "  </tr>\n",
              "</table>\n",
              "</p>\n",
              "<p>\n",
              "\n",
              "<h3>Pizza Party  </h3>\n",
              "\n",
              "\n",
              "<table class='pizza'>\n",
              "  <tr>\n",
              "    <td>Pizza Place</td>\n",
              "    <td>Orders</td>\n",
              "    <td>Slices </td>\n",
              "   </tr>\n",
              "  <tr>\n",
              "    <td>Domino's Pizza</td>\n",
              "    <td>10</td>\n",
              "    <td>100</td>\n",
              "  </tr>\n",
              "  <tr>\n",
              "    <td>Little Caesars</td>\n",
              "    <td>12</td>\n",
              "    <td >144 </td>\n",
              "  </tr>\n",
              "  <tr>\n",
              "    <td>Papa John's </td>\n",
              "    <td>15 </td>\n",
              "    <td>165</td>\n",
              "  </tr>\n"
            ]
          },
          "metadata": {}
        }
      ],
      "source": [
        "%%html\n",
        "<h3>Rocket Launch </h3>\n",
        "\n",
        "<p>\n",
        "<table class='rocket'>\n",
        "  <tr>\n",
        "    <td>Flight No</td>\n",
        "    <td>Launch site</td>\n",
        "    <td>Payload mass</td>\n",
        "  </tr>\n",
        "  <tr>\n",
        "    <td>1</td>\n",
        "    <td>Florida</td>\n",
        "    <td>300 kg</td>\n",
        "  </tr>\n",
        "  <tr>\n",
        "    <td>2</td>\n",
        "    <td>Texas</td>\n",
        "    <td>94 kg</td>\n",
        "  </tr>\n",
        "  <tr>\n",
        "    <td>3</td>\n",
        "    <td>Florida </td>\n",
        "    <td>80 kg</td>\n",
        "  </tr>\n",
        "</table>\n",
        "</p>\n",
        "<p>\n",
        "\n",
        "<h3>Pizza Party  </h3>\n",
        "\n",
        "\n",
        "<table class='pizza'>\n",
        "  <tr>\n",
        "    <td>Pizza Place</td>\n",
        "    <td>Orders</td>\n",
        "    <td>Slices </td>\n",
        "   </tr>\n",
        "  <tr>\n",
        "    <td>Domino's Pizza</td>\n",
        "    <td>10</td>\n",
        "    <td>100</td>\n",
        "  </tr>\n",
        "  <tr>\n",
        "    <td>Little Caesars</td>\n",
        "    <td>12</td>\n",
        "    <td >144 </td>\n",
        "  </tr>\n",
        "  <tr>\n",
        "    <td>Papa John's </td>\n",
        "    <td>15 </td>\n",
        "    <td>165</td>\n",
        "  </tr>\n"
      ],
      "execution_count": null
    },
    {
      "cell_type": "markdown",
      "metadata": {
        "id": "6ebfea7e-fd37-407d-b4a8-42ae2f01eac0"
      },
      "source": [
        "We store the HTML as a Python string and assign <code>two_tables</code>:\n"
      ]
    },
    {
      "cell_type": "code",
      "metadata": {
        "id": "cdbc56a1-2a96-4a36-a1d4-8aaba28dcbad"
      },
      "outputs": [],
      "source": [
        "two_tables=\"<h3>Rocket Launch </h3><p><table class='rocket'><tr><td>Flight No</td><td>Launch site</td> <td>Payload mass</td></tr><tr><td>1</td><td>Florida</td><td>300 kg</td></tr><tr><td>2</td><td>Texas</td><td>94 kg</td></tr><tr><td>3</td><td>Florida </td><td>80 kg</td></tr></table></p><p><h3>Pizza Party  </h3><table class='pizza'><tr><td>Pizza Place</td><td>Orders</td> <td>Slices </td></tr><tr><td>Domino's Pizza</td><td>10</td><td>100</td></tr><tr><td>Little Caesars</td><td>12</td><td >144 </td></tr><tr><td>Papa John's </td><td>15 </td><td>165</td></tr>\""
      ],
      "execution_count": null
    },
    {
      "cell_type": "markdown",
      "metadata": {
        "id": "ca2dd7ce-36bb-4490-b103-c85a34d20a9a"
      },
      "source": [
        "We create a <code>BeautifulSoup</code> object  <code>two_tables_bs</code>\n"
      ]
    },
    {
      "cell_type": "code",
      "metadata": {
        "id": "b25abe60-8fc1-4b0c-bedd-05f9524f3081"
      },
      "outputs": [],
      "source": [
        "two_tables_bs= BeautifulSoup(two_tables, 'html.parser')"
      ],
      "execution_count": null
    },
    {
      "cell_type": "markdown",
      "metadata": {
        "id": "f86ecd7a-c916-4e3b-bd90-06a0fcb7ffc3"
      },
      "source": [
        "We can find the first table using the tag name table\n"
      ]
    },
    {
      "cell_type": "code",
      "metadata": {
        "id": "c9b2f9d8-5e33-4bf4-9145-aa49f6e66e52",
        "colab": {
          "base_uri": "https://localhost:8080/"
        },
        "outputId": "2e596c51-465e-415a-c583-09c439ab04d5"
      },
      "outputs": [
        {
          "output_type": "execute_result",
          "data": {
            "text/plain": [
              "<table class=\"rocket\"><tr><td>Flight No</td><td>Launch site</td> <td>Payload mass</td></tr><tr><td>1</td><td>Florida</td><td>300 kg</td></tr><tr><td>2</td><td>Texas</td><td>94 kg</td></tr><tr><td>3</td><td>Florida </td><td>80 kg</td></tr></table>"
            ]
          },
          "metadata": {},
          "execution_count": 66
        }
      ],
      "source": [
        "two_tables_bs.find(\"table\")"
      ],
      "execution_count": null
    },
    {
      "cell_type": "markdown",
      "metadata": {
        "id": "d9c588a0-ada3-42f4-b911-7e9e3c7af24b"
      },
      "source": [
        "We can filter on the class attribute to find the second table, but because class is a keyword in Python, we add an underscore.\n"
      ]
    },
    {
      "cell_type": "code",
      "metadata": {
        "id": "4e2786dd-6c23-46f7-855d-f132abe83392",
        "colab": {
          "base_uri": "https://localhost:8080/"
        },
        "outputId": "bc725335-6046-4147-922f-286355349e7d"
      },
      "outputs": [
        {
          "output_type": "execute_result",
          "data": {
            "text/plain": [
              "<table class=\"pizza\"><tr><td>Pizza Place</td><td>Orders</td> <td>Slices </td></tr><tr><td>Domino's Pizza</td><td>10</td><td>100</td></tr><tr><td>Little Caesars</td><td>12</td><td>144 </td></tr><tr><td>Papa John's </td><td>15 </td><td>165</td></tr></table>"
            ]
          },
          "metadata": {},
          "execution_count": 67
        }
      ],
      "source": [
        "two_tables_bs.find(\"table\",class_='pizza')"
      ],
      "execution_count": null
    },
    {
      "cell_type": "markdown",
      "metadata": {
        "id": "61fc80b4-883e-41b2-8b60-8f6119ccc149"
      },
      "source": [
        "<h2 id=\"DSCW\">Downloading And Scraping The Contents Of A Web Page</h2>\n"
      ]
    },
    {
      "cell_type": "markdown",
      "metadata": {
        "id": "8ecdd967-233d-47e5-bc46-f9f24752b750"
      },
      "source": [
        "We Download the contents of the web page:\n"
      ]
    },
    {
      "cell_type": "code",
      "metadata": {
        "id": "dbd721ba-6f64-4bf1-bd46-34b0d3e9fe68"
      },
      "outputs": [],
      "source": [
        "#url = \"http://www.ibm.com\"\n",
        "url='https://web.archive.org/web/19970222174751/https://www1.geocities.com/'"
      ],
      "execution_count": 2
    },
    {
      "cell_type": "markdown",
      "metadata": {
        "id": "783660b1-fedd-4b05-9833-8189838530f3"
      },
      "source": [
        "We use <code>get</code> to download the contents of the webpage in text format and store in a variable called <code>data</code>:\n"
      ]
    },
    {
      "cell_type": "code",
      "metadata": {
        "id": "34ca6564-c7e6-4907-8259-560ce85ce3b6"
      },
      "outputs": [],
      "source": [
        "data  = requests.get(url).text"
      ],
      "execution_count": 5
    },
    {
      "cell_type": "code",
      "source": [
        "data"
      ],
      "metadata": {
        "colab": {
          "base_uri": "https://localhost:8080/",
          "height": 109
        },
        "id": "WgLaoF5gYH06",
        "outputId": "b3102682-9e03-448f-b2f9-929be9acaed7"
      },
      "execution_count": 6,
      "outputs": [
        {
          "output_type": "execute_result",
          "data": {
            "text/plain": [
              "'<!-- NoBG NoHeader NoFooter -->\\n<html>\\n<head><script type=\"text/javascript\" src=\"https://web-static.archive.org/_static/js/bundle-playback.js?v=qM_6omlu\" charset=\"utf-8\"></script>\\n<script type=\"text/javascript\" src=\"https://web-static.archive.org/_static/js/wombat.js?v=txqj7nKC\" charset=\"utf-8\"></script>\\n<script>window.RufflePlayer=window.RufflePlayer||{};window.RufflePlayer.config={\"autoplay\":\"on\",\"unmuteOverlay\":\"hidden\"};</script>\\n<script type=\"text/javascript\" src=\"https://web-static.archive.org/_static/js/ruffle/ruffle.js\"></script>\\n<script type=\"text/javascript\">\\n    __wm.pc(0.001);\\n    __wm.init(\"https://web.archive.org/web\");\\n  __wm.wombat(\"http://www1.geocities.com:80/\",\"19970222174751\",\"https://web.archive.org/\",\"web\",\"https://web-static.archive.org/_static/\",\\n\\t      \"856633671\");\\n</script>\\n<link rel=\"stylesheet\" type=\"text/css\" href=\"https://web-static.archive.org/_static/css/banner-styles.css?v=S1zqJCYt\" />\\n<link rel=\"stylesheet\" type=\"text/css\" href=\"https://web-static.archive.org/_static/css/iconochive.css?v=qtvMKcIJ\" />\\n<!-- End Wayback Rewrite JS Include -->\\n<title>Welcome to GeoCities Home Page</title>\\n<meta name=\"keywords\" content=\"free home pages free email accounts free homepages themed communities\"> \\n</head>\\n<body background=\"/web/19970222174751im_/https://www1.geocities.com/pictures/new/background.gif\" bgcolor=\"#FFFFFF\" link=\"0000d0\">\\n</center>\\n\\n<table width=\"630\" cellspacing=\"7\" border=\"0\">\\n<tr>\\n<td valign=\"top\" width=\"110\" align=\"right\">\\n<img src=\"/web/19970222174751im_/https://www1.geocities.com/pictures/new/home_sidebar1.gif\" alt=\"Free Home Pages\" border=\"0\" width=\"113\" height=\"250\" usemap=\"#sidemap\">\\n<map name=\"sidemap\">\\n<area shape=\"rect\" coords=\"0, 0, 113, 255\" href=\"/web/19970222174751/https://www1.geocities.com/homestead/\" target=\"_parent\">\\n</map>\\n\\n</td>\\n\\n<td width=\"490\" align=\"left\" valign=\"top\">\\n<!-- --><a href=\"/web/19970222174751/https://www1.geocities.com/cgi-bin/click_through/http://www.backweb.com/chan/GeoCities.html;backweb_fly.gif\" target=\"_top\"> \\n <img src=\"/web/19970222174751im_/https://www1.geocities.com/pictures/sponsor/backweb_fly.gif\" alt=\"Click Me!\"><br>All the cool stuff in GeoCities is caught in BackWeb</a>\\n<p>\\n<a href=\"/web/19970222174751/https://www1.geocities.com/\">\\n<img src=\"/web/19970222174751im_/https://www1.geocities.com/pictures/new/home_bar_new.gif\" alt=\"Red Bar\" width=\"468\" height=\"23\" border=\"0\"></a><br>\\n<a href=\"/web/19970222174751/https://www1.geocities.com/\"><img src=\"/web/19970222174751im_/https://www1.geocities.com/pictures/new/home_mast_new_2.gif\" usemap=\"#mastmap\" alt=\"Home Mast Image - See footer for links\" border=\"0\" width=\"468\" height=\"123\"></a>\\n<map name=\"mastmap\">\\n<area shape=\"rect\" coords=\"368,4,464,16\" href=\"/web/19970222174751/https://www1.geocities.com/homestead/\" target=\"_parent\">\\n<area shape=\"rect\" coords=\"368,22,464,37\" href=\"/web/19970222174751/https://www1.geocities.com/BHI/inform.html\" target=\"_parent\">\\n<area shape=\"rect\" coords=\"368,40,464,54\" href=\"/web/19970222174751/https://www1.geocities.com/homestead/homedir.html\" target=\"_parent\">\\n<area shape=\"rect\" coords=\"368,60,464,73\" href=\"/web/19970222174751/https://www1.geocities.com/BHI/new.html\" target=\"_parent\">\\n<area shape=\"rect\" coords=\"368,80,465,92\" href=\"/web/19970222174751/https://www1.geocities.com/homestead/homeday.html\" target=\"_parent\">\\n<area shape=\"rect\" coords=\"368,99,465,113\" href=\"/web/19970222174751/https://www1.geocities.com/BHI/about.html\" target=\"_parent\">\\n</map>\\n<br>\\n<img src=\"/web/19970222174751im_/https://www1.geocities.com/pictures/new/hbar_blk.gif\" width=\"460\" height=\"8\" alt=\"Black Bar\">\\n<br>\\n</td></tr></table>\\n\\t<table border=\"0\" width=\"630\">\\n\\t<tr><td width=\"130\"><img src=\"/web/19970222174751im_/https://www1.geocities.com/pictures/pixel.gif\" width=\"120\" height=\"1\">\\n\\t<td><font color=\"#0000ff\"><b><center>February 22 - 23 1997</b></font></td>\\n\\t<td align=\"center\" width=\"55%\"><font color=\"#0000ff\"><b>380,000 members and growing...</b></font></td>\\n\\t</tr></table>\\n\\n\\n<table width=\"630\" cellspacing=\"4\" border=\"0\">\\n<tr valign=\"top\">\\n<td width=\"130\" align=\"left\" valign=\"top\">\\n<font size=\"-1\">\\n<a href=\"/web/19970222174751/https://www1.geocities.com/homestead/homedir.html\">Browse great pages</a>\\n<p>\\n<a href=\"/web/19970222174751/https://www1.geocities.com/BHI/freehp.html\">Sign up for your free home page</a>\\n<p>\\n<a href=\"/web/19970222174751/https://www1.geocities.com/cgi-bin/click_through/http://www.tc.net/talk/5906/1.ram;dialweb_homelink.gif\">Listen to our daily audio update</a>\\n<p>\\n<a href=\"/web/19970222174751/https://www1.geocities.com/BHI/ad_info.html\">Advertiser information</a>\\n<p>\\n<a href=\"/web/19970222174751/https://www1.geocities.com/events/\">See our list of events</a>\\n<p>\\n<a href=\"https://web.archive.org/web/19970222174751/http://store.geocities.com/cgi-bin/geostore/vsc/geostore/product_main.html?E+mystore\">Shop in the GeoStore</a>\\n<p>\\n<img src=\"/web/19970222174751im_/https://www1.geocities.com/pictures/pixel.gif\" width=\"120\" height=\"1\">\\n</font>\\n</td>\\n<td valign=\"top\">\\n        <!-- Use these colors only:  blue - - #0000d0 ;  red - - #ff0000 ; -->\\n\\n<dl>\\n<dt><img hspace=\"2\" src=\"/web/19970222174751im_/https://www1.geocities.com/pictures/new/home_bullet.gif\"><b>TODAY\\'S COOL HOMESTEAD </b>\\n<dt>&nbsp;&nbsp;<a href=\"/web/19970222174751/https://www1.geocities.com/Yosemite/8866/\">Yosemite8866</a> -- Garner some fishing tips and personal fishing \\n<br>&nbsp;&nbspadventure; \\nstories at Tripod\\'s South Australian Fishing Scene.\\n<p>\\n<dt><img hspace=\"2\" src=\"/web/19970222174751im_/https://www1.geocities.com/pictures/new/home_bullet.gif\"><b>WHAT\\'S NEW </b> \\n<br>\\n&nbsp;&nbsp;<a href=\"/web/19970222174751/https://www1.geocities.com/BHI/new.html#grammys\">Enter our Grammys<font size=\"-1\">&#174;</font> contest</a><br>\\n&nbsp;&nbsp;<a href=\"/web/19970222174751/https://www1.geocities.com/BHI/new.html#netguide\">Help us win a NetGuide Award</a><br>\\n&nbsp;&nbsp;<a href=\"/web/19970222174751/https://www1.geocities.com/BHI/new.html#dating\">Find love at the Dating Game, sponsored by Match.com</a><br>\\n&nbsp;&nbsp;<a href=\"/web/19970222174751/https://www1.geocities.com/BHI/new.html#computer\">Bargain-hunt in the computer classified ads</a><br>\\n&nbsp;&nbsp;<a href=\"/web/19970222174751/https://www1.geocities.com/BHI/new.html#world\">Bring the world to your site</a><br>\\n&nbsp;&nbsp;<a href=\"/web/19970222174751/https://www1.geocities.com/SiliconValley/Heights/8363/geotoon.html\">Laugh at this week\\'s GeoToon</a><br>\\n&nbsp;&nbsp;<a href=\"/web/19970222174751/https://www1.geocities.com/BHI/new.html#news\">Publish your own newspaper with GeoPlus</a><br>\\n<p>\\n\\n<dt>\\n<table border=\"1\" cellpadding=\"3\" align=\"center\">\\n<tr>\\n<td align=\"left\">\\n<b><font size=\"+1\"><a href=\"/web/19970222174751/https://www1.geocities.com/contest/hoty/\">GeoCities Homesteader of the Year</a></font></b> -- \\n<font size=\"-1\"><b>Sponsored by:</b></font><p>\\n<!-- --><a href=\"/web/19970222174751/https://www1.geocities.com/cgi-bin/click_through/http://www.surplusdirect.com/freegeo.sd;surplusdirect_hummer_b.gif\" target=\"_top\"> \\n <img src=\"/web/19970222174751im_/https://www1.geocities.com/pictures/sponsor/surplusdirect_hummer_b.gif\" border=\"0\" alt=\"Click Me!\"><br> </a>\\n<p>\\nExcitement is building as we get closer to selecting the winners.  We received over 13,000 votes in round one!  \\nCheck out the semi-finalists and <a href=\"/web/19970222174751/https://www1.geocities.com/contest/hoty/\">vote</a> for a finalist in any of the 18 award categories.\\n<p>\\nRemember, one lucky homesteader will win a trip to a <b><i>real</i></b> GeoCities neighborhood. \\n<b><a href=\"/web/19970222174751/https://www1.geocities.com/contest/hoty/\">So Cast Your Vote Now</a>!</b>\\n</td>\\n</table>\\n</dl>\\n<hr>\\n<center>\\n<font size=\"-1\">\\n<a href=\"/web/19970222174751/https://www1.geocities.com/homestead/homedir.html\" target=\"_parent\">[Neighborhoods]</a> \\n<a href=\"/web/19970222174751/https://www1.geocities.com/BHI/inform.html\" target=\"_parent\">[Information]</a> \\n<a href=\"/web/19970222174751/https://www1.geocities.com/BHI/new.html\" target=\"_parent\">[What\\'s New?]</a> \\n<a href=\"/web/19970222174751/https://www1.geocities.com/homestead/homeday.html\" target=\"_parent\">[What\\'s Cool?]</a>\\n<a href=\"/web/19970222174751/https://www1.geocities.com/Utilities/utilities.html\" target=\"_parent\">[Utilities]</a> \\n<a href=\"/web/19970222174751/https://www1.geocities.com/help/\" target=\"_parent\">[Help]</a>\\n<br>\\n&#169; 1995,1996 <a href=\"/web/19970222174751/https://www1.geocities.com/BHI/about.html\" target=\"_parent\"> GeoCities.</a>\\n<a href=\"/web/19970222174751/https://www1.geocities.com/BHI/rights.html\">All rights reserved</a>\\n</font></center>\\n</td></tr>\\n</table>\\n\\n</html>\\n<!--\\n     FILE ARCHIVED ON 17:47:51 Feb 22, 1997 AND RETRIEVED FROM THE\\n     INTERNET ARCHIVE ON 14:58:04 Aug 01, 2024.\\n     JAVASCRIPT APPENDED BY WAYBACK MACHINE, COPYRIGHT INTERNET ARCHIVE.\\n\\n     ALL OTHER CONTENT MAY ALSO BE PROTECTED BY COPYRIGHT (17 U.S.C.\\n     SECTION 108(a)(3)).\\n-->\\n<!--\\nplayback timings (ms):\\n  captures_list: 0.617\\n  exclusion.robots: 0.043\\n  exclusion.robots.policy: 0.031\\n  esindex: 0.011\\n  cdx.remote: 6.596\\n  LoadShardBlock: 910.603 (6)\\n  PetaboxLoader3.datanode: 214.069 (7)\\n  PetaboxLoader3.resolve: 1160.55 (2)\\n  load_resource: 481.947\\n-->'"
            ],
            "application/vnd.google.colaboratory.intrinsic+json": {
              "type": "string"
            }
          },
          "metadata": {},
          "execution_count": 6
        }
      ]
    },
    {
      "cell_type": "markdown",
      "metadata": {
        "id": "f95c33ee-a584-4876-a4f6-3e21f74ea1a7"
      },
      "source": [
        "We create a <code>BeautifulSoup</code> object using the <code>BeautifulSoup</code> constructor\n"
      ]
    },
    {
      "cell_type": "code",
      "metadata": {
        "id": "ff7ecd49-a1b7-42ab-9738-ca0b48867157"
      },
      "outputs": [],
      "source": [
        "soup = BeautifulSoup(data,\"html.parser\")  # create a soup object using the variable 'data'"
      ],
      "execution_count": 7
    },
    {
      "cell_type": "markdown",
      "metadata": {
        "id": "0a892d12-965d-4125-a804-4b4824b14d27"
      },
      "source": [
        "Scrape all links\n"
      ]
    },
    {
      "cell_type": "code",
      "metadata": {
        "id": "c164a708-abcb-4506-99ec-a27334b2d73b",
        "colab": {
          "base_uri": "https://localhost:8080/"
        },
        "outputId": "98352214-f8d8-43d9-922f-f1e3e0f01c4a"
      },
      "outputs": [
        {
          "output_type": "stream",
          "name": "stdout",
          "text": [
            "/web/19970222174751/https://www1.geocities.com/cgi-bin/click_through/http://www.backweb.com/chan/GeoCities.html;backweb_fly.gif\n",
            "/web/19970222174751/https://www1.geocities.com/\n",
            "/web/19970222174751/https://www1.geocities.com/\n",
            "/web/19970222174751/https://www1.geocities.com/homestead/homedir.html\n",
            "/web/19970222174751/https://www1.geocities.com/BHI/freehp.html\n",
            "/web/19970222174751/https://www1.geocities.com/cgi-bin/click_through/http://www.tc.net/talk/5906/1.ram;dialweb_homelink.gif\n",
            "/web/19970222174751/https://www1.geocities.com/BHI/ad_info.html\n",
            "/web/19970222174751/https://www1.geocities.com/events/\n",
            "https://web.archive.org/web/19970222174751/http://store.geocities.com/cgi-bin/geostore/vsc/geostore/product_main.html?E+mystore\n",
            "/web/19970222174751/https://www1.geocities.com/Yosemite/8866/\n",
            "/web/19970222174751/https://www1.geocities.com/BHI/new.html#grammys\n",
            "/web/19970222174751/https://www1.geocities.com/BHI/new.html#netguide\n",
            "/web/19970222174751/https://www1.geocities.com/BHI/new.html#dating\n",
            "/web/19970222174751/https://www1.geocities.com/BHI/new.html#computer\n",
            "/web/19970222174751/https://www1.geocities.com/BHI/new.html#world\n",
            "/web/19970222174751/https://www1.geocities.com/SiliconValley/Heights/8363/geotoon.html\n",
            "/web/19970222174751/https://www1.geocities.com/BHI/new.html#news\n",
            "/web/19970222174751/https://www1.geocities.com/contest/hoty/\n",
            "/web/19970222174751/https://www1.geocities.com/cgi-bin/click_through/http://www.surplusdirect.com/freegeo.sd;surplusdirect_hummer_b.gif\n",
            "/web/19970222174751/https://www1.geocities.com/contest/hoty/\n",
            "/web/19970222174751/https://www1.geocities.com/contest/hoty/\n",
            "/web/19970222174751/https://www1.geocities.com/homestead/homedir.html\n",
            "/web/19970222174751/https://www1.geocities.com/BHI/inform.html\n",
            "/web/19970222174751/https://www1.geocities.com/BHI/new.html\n",
            "/web/19970222174751/https://www1.geocities.com/homestead/homeday.html\n",
            "/web/19970222174751/https://www1.geocities.com/Utilities/utilities.html\n",
            "/web/19970222174751/https://www1.geocities.com/help/\n",
            "/web/19970222174751/https://www1.geocities.com/BHI/about.html\n",
            "/web/19970222174751/https://www1.geocities.com/BHI/rights.html\n"
          ]
        }
      ],
      "source": [
        "for link in soup.find_all('a',href=True):  # in html anchor/link is represented by the tag <a>\n",
        "\n",
        "    print(link.get('href'))\n"
      ],
      "execution_count": 8
    },
    {
      "cell_type": "markdown",
      "metadata": {
        "id": "d568addd-91b6-4322-bcff-21f3283566cd"
      },
      "source": [
        "## Scrape  all images  Tags\n"
      ]
    },
    {
      "cell_type": "code",
      "source": [
        "# Use Pillow to convert the Python object to an RGB image\n",
        "from PIL import Image\n",
        "import requests\n",
        "from bs4 import BeautifulSoup\n",
        "from IPython.display import Image, display"
      ],
      "metadata": {
        "id": "29A3If5HZJdX"
      },
      "execution_count": 9,
      "outputs": []
    },
    {
      "cell_type": "code",
      "metadata": {
        "id": "53cfb9f1-ace1-4c48-9e9e-a7d9bf5448fe",
        "colab": {
          "base_uri": "https://localhost:8080/"
        },
        "outputId": "8f2d7198-d998-4fb6-ead8-8498695d0c25"
      },
      "outputs": [
        {
          "output_type": "stream",
          "name": "stdout",
          "text": [
            "<img alt=\"Free Home Pages\" border=\"0\" height=\"250\" src=\"/web/19970222174751im_/https://www1.geocities.com/pictures/new/home_sidebar1.gif\" usemap=\"#sidemap\" width=\"113\"/>\n",
            "/web/19970222174751im_/https://www1.geocities.com/pictures/new/home_sidebar1.gif\n",
            "<img alt=\"Click Me!\" src=\"/web/19970222174751im_/https://www1.geocities.com/pictures/sponsor/backweb_fly.gif\"/>\n",
            "/web/19970222174751im_/https://www1.geocities.com/pictures/sponsor/backweb_fly.gif\n",
            "<img alt=\"Red Bar\" border=\"0\" height=\"23\" src=\"/web/19970222174751im_/https://www1.geocities.com/pictures/new/home_bar_new.gif\" width=\"468\"/>\n",
            "/web/19970222174751im_/https://www1.geocities.com/pictures/new/home_bar_new.gif\n",
            "<img alt=\"Home Mast Image - See footer for links\" border=\"0\" height=\"123\" src=\"/web/19970222174751im_/https://www1.geocities.com/pictures/new/home_mast_new_2.gif\" usemap=\"#mastmap\" width=\"468\"/>\n",
            "/web/19970222174751im_/https://www1.geocities.com/pictures/new/home_mast_new_2.gif\n",
            "<img alt=\"Black Bar\" height=\"8\" src=\"/web/19970222174751im_/https://www1.geocities.com/pictures/new/hbar_blk.gif\" width=\"460\"/>\n",
            "/web/19970222174751im_/https://www1.geocities.com/pictures/new/hbar_blk.gif\n",
            "<img height=\"1\" src=\"/web/19970222174751im_/https://www1.geocities.com/pictures/pixel.gif\" width=\"120\"/>\n",
            "/web/19970222174751im_/https://www1.geocities.com/pictures/pixel.gif\n",
            "<img height=\"1\" src=\"/web/19970222174751im_/https://www1.geocities.com/pictures/pixel.gif\" width=\"120\"/>\n",
            "/web/19970222174751im_/https://www1.geocities.com/pictures/pixel.gif\n",
            "<img hspace=\"2\" src=\"/web/19970222174751im_/https://www1.geocities.com/pictures/new/home_bullet.gif\"/>\n",
            "/web/19970222174751im_/https://www1.geocities.com/pictures/new/home_bullet.gif\n",
            "<img hspace=\"2\" src=\"/web/19970222174751im_/https://www1.geocities.com/pictures/new/home_bullet.gif\"/>\n",
            "/web/19970222174751im_/https://www1.geocities.com/pictures/new/home_bullet.gif\n",
            "<img alt=\"Click Me!\" border=\"0\" src=\"/web/19970222174751im_/https://www1.geocities.com/pictures/sponsor/surplusdirect_hummer_b.gif\"/>\n",
            "/web/19970222174751im_/https://www1.geocities.com/pictures/sponsor/surplusdirect_hummer_b.gif\n"
          ]
        }
      ],
      "source": [
        "for link in soup.find_all('img'):# in html image is represented by the tag <img>\n",
        "     print(link)\n",
        "     print(link.get('src'))"
      ],
      "execution_count": 10
    },
    {
      "cell_type": "code",
      "source": [
        "# Find all image tags\n",
        "image_tags = soup.find_all('img')\n",
        "\n",
        "# Display images\n",
        "for link in image_tags:\n",
        "    src = link.get('src')\n",
        "    print(link)\n",
        "    print(src)\n",
        "\n",
        "    # If the src is a relative URL, construct the full URL\n",
        "    if src and not src.startswith(('http://', 'https://')):\n",
        "        src = requests.compat.urljoin(url, src)\n",
        "\n",
        "    # Display the image\n",
        "    if src:\n",
        "        display(Image(url=src))"
      ],
      "metadata": {
        "colab": {
          "base_uri": "https://localhost:8080/",
          "height": 1000
        },
        "id": "SKC4Yv2-ZNeq",
        "outputId": "2ddb2163-cac4-440e-99f8-042b01826b68"
      },
      "execution_count": null,
      "outputs": [
        {
          "output_type": "stream",
          "name": "stdout",
          "text": [
            "<img alt=\"Free Home Pages\" border=\"0\" height=\"250\" src=\"/web/19970222174751im_/https://www1.geocities.com/pictures/new/home_sidebar1.gif\" usemap=\"#sidemap\" width=\"113\"/>\n",
            "/web/19970222174751im_/https://www1.geocities.com/pictures/new/home_sidebar1.gif\n"
          ]
        },
        {
          "output_type": "display_data",
          "data": {
            "text/html": [
              "<img src=\"https://web.archive.org/web/19970222174751im_/https://www1.geocities.com/pictures/new/home_sidebar1.gif\"/>"
            ],
            "text/plain": [
              "<IPython.core.display.Image object>"
            ]
          },
          "metadata": {}
        },
        {
          "output_type": "stream",
          "name": "stdout",
          "text": [
            "<img alt=\"Click Me!\" src=\"/web/19970222174751im_/https://www1.geocities.com/pictures/sponsor/backweb_fly.gif\"/>\n",
            "/web/19970222174751im_/https://www1.geocities.com/pictures/sponsor/backweb_fly.gif\n"
          ]
        },
        {
          "output_type": "display_data",
          "data": {
            "text/html": [
              "<img src=\"https://web.archive.org/web/19970222174751im_/https://www1.geocities.com/pictures/sponsor/backweb_fly.gif\"/>"
            ],
            "text/plain": [
              "<IPython.core.display.Image object>"
            ]
          },
          "metadata": {}
        },
        {
          "output_type": "stream",
          "name": "stdout",
          "text": [
            "<img alt=\"Red Bar\" border=\"0\" height=\"23\" src=\"/web/19970222174751im_/https://www1.geocities.com/pictures/new/home_bar_new.gif\" width=\"468\"/>\n",
            "/web/19970222174751im_/https://www1.geocities.com/pictures/new/home_bar_new.gif\n"
          ]
        },
        {
          "output_type": "display_data",
          "data": {
            "text/html": [
              "<img src=\"https://web.archive.org/web/19970222174751im_/https://www1.geocities.com/pictures/new/home_bar_new.gif\"/>"
            ],
            "text/plain": [
              "<IPython.core.display.Image object>"
            ]
          },
          "metadata": {}
        },
        {
          "output_type": "stream",
          "name": "stdout",
          "text": [
            "<img alt=\"Home Mast Image - See footer for links\" border=\"0\" height=\"123\" src=\"/web/19970222174751im_/https://www1.geocities.com/pictures/new/home_mast_new_2.gif\" usemap=\"#mastmap\" width=\"468\"/>\n",
            "/web/19970222174751im_/https://www1.geocities.com/pictures/new/home_mast_new_2.gif\n"
          ]
        },
        {
          "output_type": "display_data",
          "data": {
            "text/html": [
              "<img src=\"https://web.archive.org/web/19970222174751im_/https://www1.geocities.com/pictures/new/home_mast_new_2.gif\"/>"
            ],
            "text/plain": [
              "<IPython.core.display.Image object>"
            ]
          },
          "metadata": {}
        },
        {
          "output_type": "stream",
          "name": "stdout",
          "text": [
            "<img alt=\"Black Bar\" height=\"8\" src=\"/web/19970222174751im_/https://www1.geocities.com/pictures/new/hbar_blk.gif\" width=\"460\"/>\n",
            "/web/19970222174751im_/https://www1.geocities.com/pictures/new/hbar_blk.gif\n"
          ]
        },
        {
          "output_type": "display_data",
          "data": {
            "text/html": [
              "<img src=\"https://web.archive.org/web/19970222174751im_/https://www1.geocities.com/pictures/new/hbar_blk.gif\"/>"
            ],
            "text/plain": [
              "<IPython.core.display.Image object>"
            ]
          },
          "metadata": {}
        },
        {
          "output_type": "stream",
          "name": "stdout",
          "text": [
            "<img height=\"1\" src=\"/web/19970222174751im_/https://www1.geocities.com/pictures/pixel.gif\" width=\"120\"/>\n",
            "/web/19970222174751im_/https://www1.geocities.com/pictures/pixel.gif\n"
          ]
        },
        {
          "output_type": "display_data",
          "data": {
            "text/html": [
              "<img src=\"https://web.archive.org/web/19970222174751im_/https://www1.geocities.com/pictures/pixel.gif\"/>"
            ],
            "text/plain": [
              "<IPython.core.display.Image object>"
            ]
          },
          "metadata": {}
        },
        {
          "output_type": "stream",
          "name": "stdout",
          "text": [
            "<img height=\"1\" src=\"/web/19970222174751im_/https://www1.geocities.com/pictures/pixel.gif\" width=\"120\"/>\n",
            "/web/19970222174751im_/https://www1.geocities.com/pictures/pixel.gif\n"
          ]
        },
        {
          "output_type": "display_data",
          "data": {
            "text/html": [
              "<img src=\"https://web.archive.org/web/19970222174751im_/https://www1.geocities.com/pictures/pixel.gif\"/>"
            ],
            "text/plain": [
              "<IPython.core.display.Image object>"
            ]
          },
          "metadata": {}
        },
        {
          "output_type": "stream",
          "name": "stdout",
          "text": [
            "<img hspace=\"2\" src=\"/web/19970222174751im_/https://www1.geocities.com/pictures/new/home_bullet.gif\"/>\n",
            "/web/19970222174751im_/https://www1.geocities.com/pictures/new/home_bullet.gif\n"
          ]
        },
        {
          "output_type": "display_data",
          "data": {
            "text/html": [
              "<img src=\"https://web.archive.org/web/19970222174751im_/https://www1.geocities.com/pictures/new/home_bullet.gif\"/>"
            ],
            "text/plain": [
              "<IPython.core.display.Image object>"
            ]
          },
          "metadata": {}
        },
        {
          "output_type": "stream",
          "name": "stdout",
          "text": [
            "<img hspace=\"2\" src=\"/web/19970222174751im_/https://www1.geocities.com/pictures/new/home_bullet.gif\"/>\n",
            "/web/19970222174751im_/https://www1.geocities.com/pictures/new/home_bullet.gif\n"
          ]
        },
        {
          "output_type": "display_data",
          "data": {
            "text/html": [
              "<img src=\"https://web.archive.org/web/19970222174751im_/https://www1.geocities.com/pictures/new/home_bullet.gif\"/>"
            ],
            "text/plain": [
              "<IPython.core.display.Image object>"
            ]
          },
          "metadata": {}
        },
        {
          "output_type": "stream",
          "name": "stdout",
          "text": [
            "<img alt=\"Click Me!\" border=\"0\" src=\"/web/19970222174751im_/https://www1.geocities.com/pictures/sponsor/surplusdirect_hummer_b.gif\"/>\n",
            "/web/19970222174751im_/https://www1.geocities.com/pictures/sponsor/surplusdirect_hummer_b.gif\n"
          ]
        },
        {
          "output_type": "display_data",
          "data": {
            "text/html": [
              "<img src=\"https://web.archive.org/web/19970222174751im_/https://www1.geocities.com/pictures/sponsor/surplusdirect_hummer_b.gif\"/>"
            ],
            "text/plain": [
              "<IPython.core.display.Image object>"
            ]
          },
          "metadata": {}
        }
      ]
    },
    {
      "cell_type": "markdown",
      "metadata": {
        "id": "8a9279be-a72b-4669-8b90-cf11a040d292"
      },
      "source": [
        "## Scrape data from HTML tables\n"
      ]
    },
    {
      "cell_type": "code",
      "metadata": {
        "id": "9b9e1b20-c656-41ce-b91d-5f653a965138"
      },
      "outputs": [],
      "source": [
        "#The below url contains an html table with data about colors and color codes.\n",
        "url = \"https://cf-courses-data.s3.us.cloud-object-storage.appdomain.cloud/IBM-DA0321EN-SkillsNetwork/labs/datasets/HTMLColorCodes.html\""
      ],
      "execution_count": 11
    },
    {
      "cell_type": "markdown",
      "metadata": {
        "id": "4f2f5986-9d4d-4390-9e43-4e3805a1706c"
      },
      "source": [
        "Before proceeding to scrape a web site, you need to examine the contents, and the way data is organized on the website. Open the above url in your browser and check how many rows and columns are there in the color table.\n"
      ]
    },
    {
      "cell_type": "code",
      "metadata": {
        "id": "8a0b3aa6-9de9-49a1-a4c1-20a3ddf22de9"
      },
      "outputs": [],
      "source": [
        "# get the contents of the webpage in text format and store in a variable called data\n",
        "data  = requests.get(url).text"
      ],
      "execution_count": 12
    },
    {
      "cell_type": "code",
      "metadata": {
        "id": "c7d6692d-7130-49b6-bd40-4823eb339fde"
      },
      "outputs": [],
      "source": [
        "soup = BeautifulSoup(data,\"html.parser\")"
      ],
      "execution_count": 13
    },
    {
      "cell_type": "code",
      "metadata": {
        "id": "b961a693-3187-4bf6-a19c-0d73e8749b5e"
      },
      "outputs": [],
      "source": [
        "#find a html table in the web page\n",
        "table = soup.find('table') # in html table is represented by the tag <table>"
      ],
      "execution_count": 14
    },
    {
      "cell_type": "code",
      "metadata": {
        "id": "b0ec9df5-ffa2-40ec-8c67-54b638424dbb",
        "colab": {
          "base_uri": "https://localhost:8080/"
        },
        "outputId": "7e335af5-18ee-4903-917c-5bde36fd9726"
      },
      "outputs": [
        {
          "output_type": "stream",
          "name": "stdout",
          "text": [
            "Color Name--->None\n",
            "lightsalmon--->#FFA07A\n",
            "salmon--->#FA8072\n",
            "darksalmon--->#E9967A\n",
            "lightcoral--->#F08080\n",
            "coral--->#FF7F50\n",
            "tomato--->#FF6347\n",
            "orangered--->#FF4500\n",
            "gold--->#FFD700\n",
            "orange--->#FFA500\n",
            "darkorange--->#FF8C00\n",
            "lightyellow--->#FFFFE0\n",
            "lemonchiffon--->#FFFACD\n",
            "papayawhip--->#FFEFD5\n",
            "moccasin--->#FFE4B5\n",
            "peachpuff--->#FFDAB9\n",
            "palegoldenrod--->#EEE8AA\n",
            "khaki--->#F0E68C\n",
            "darkkhaki--->#BDB76B\n",
            "yellow--->#FFFF00\n",
            "lawngreen--->#7CFC00\n",
            "chartreuse--->#7FFF00\n",
            "limegreen--->#32CD32\n",
            "lime--->#00FF00\n",
            "forestgreen--->#228B22\n",
            "green--->#008000\n",
            "powderblue--->#B0E0E6\n",
            "lightblue--->#ADD8E6\n",
            "lightskyblue--->#87CEFA\n",
            "skyblue--->#87CEEB\n",
            "deepskyblue--->#00BFFF\n",
            "lightsteelblue--->#B0C4DE\n",
            "dodgerblue--->#1E90FF\n"
          ]
        }
      ],
      "source": [
        "#Get all rows from the table\n",
        "for row in table.find_all('tr'): # in html table row is represented by the tag <tr>\n",
        "    # Get all columns in each row.\n",
        "    cols = row.find_all('td') # in html a column is represented by the tag <td>\n",
        "    color_name = cols[2].string # store the value in column 3 as color_name\n",
        "    color_code = cols[3].string # store the value in column 4 as color_code\n",
        "    print(\"{}--->{}\".format(color_name,color_code))"
      ],
      "execution_count": 15
    },
    {
      "cell_type": "markdown",
      "metadata": {
        "id": "89b0f935-086d-4d15-8257-86f6784c6bd4"
      },
      "source": [
        "## Scrape data from HTML tables into a DataFrame using BeautifulSoup and Pandas\n"
      ]
    },
    {
      "cell_type": "code",
      "metadata": {
        "id": "116631f4-2b2e-4f11-8949-00ec833b2849"
      },
      "outputs": [],
      "source": [
        "import pandas as pd"
      ],
      "execution_count": 27
    },
    {
      "cell_type": "code",
      "metadata": {
        "id": "5f63134f-d8af-4888-b494-c5ec78aa6a4a"
      },
      "outputs": [],
      "source": [
        "#The below url contains html tables with data about world population.\n",
        "url = \"https://en.wikipedia.org/wiki/World_population\""
      ],
      "execution_count": 17
    },
    {
      "cell_type": "markdown",
      "metadata": {
        "id": "b90976e0-9df2-4ff6-bbab-48d9d3504cb4"
      },
      "source": [
        "Before proceeding to scrape a web site, you need to examine the contents, and the way data is organized on the website. Open the above url in your browser and check the tables on the webpage.\n"
      ]
    },
    {
      "cell_type": "code",
      "metadata": {
        "id": "a960d2d9-6058-4f95-b216-5243fb5175f7"
      },
      "outputs": [],
      "source": [
        "# get the contents of the webpage in text format and store in a variable called data\n",
        "data  = requests.get(url).text"
      ],
      "execution_count": 18
    },
    {
      "cell_type": "code",
      "metadata": {
        "id": "c59ddb88-6818-490f-87ac-f193f4819a75"
      },
      "outputs": [],
      "source": [
        "soup = BeautifulSoup(data,\"html.parser\")"
      ],
      "execution_count": 19
    },
    {
      "cell_type": "code",
      "metadata": {
        "id": "617faa2f-577d-4856-a687-7ca73d2314fa"
      },
      "outputs": [],
      "source": [
        "#find all html tables in the web page\n",
        "tables = soup.find_all('table') # in html table is represented by the tag <table>"
      ],
      "execution_count": 20
    },
    {
      "cell_type": "code",
      "metadata": {
        "id": "8642857c-a1a4-4461-afd6-fdf91635b750",
        "colab": {
          "base_uri": "https://localhost:8080/"
        },
        "outputId": "2fc6ff73-75e7-4c7e-ceb4-0029cc569df9"
      },
      "outputs": [
        {
          "output_type": "execute_result",
          "data": {
            "text/plain": [
              "30"
            ]
          },
          "metadata": {},
          "execution_count": 21
        }
      ],
      "source": [
        "# we can see how many tables were found by checking the length of the tables list\n",
        "len(tables)"
      ],
      "execution_count": 21
    },
    {
      "cell_type": "markdown",
      "metadata": {
        "id": "61c8da7a-a462-4f02-947e-16b1c8e34ca0"
      },
      "source": [
        "Assume that we are looking for the `10 most densly populated countries` table, we can look through the tables list and find the right one we are look for based on the data in each table or we can search for the table name if it is in the table but this option might not always work.\n"
      ]
    },
    {
      "cell_type": "code",
      "metadata": {
        "id": "cd28fc92-fb07-48b5-ac49-42bc4e07e1b6",
        "colab": {
          "base_uri": "https://localhost:8080/"
        },
        "outputId": "88a4850e-ea1b-4a8d-b937-8bf4d8490ba2"
      },
      "outputs": [
        {
          "output_type": "stream",
          "name": "stdout",
          "text": [
            "7\n"
          ]
        }
      ],
      "source": [
        "for index,table in enumerate(tables):\n",
        "    if (\"10 most densely populated countries\" in str(table)):\n",
        "        table_index = index\n",
        "print(table_index)"
      ],
      "execution_count": 23
    },
    {
      "cell_type": "markdown",
      "metadata": {
        "id": "727a5aca-e819-4cb7-89d6-46410fa72855"
      },
      "source": [
        "See if you can locate the table name of the table, `10 most densly populated countries`, below.\n"
      ]
    },
    {
      "cell_type": "code",
      "metadata": {
        "id": "6af0dd13-2439-4c41-87da-413efb2b4d9c",
        "colab": {
          "base_uri": "https://localhost:8080/"
        },
        "outputId": "06b874e3-f8cd-40be-bf13-110a9279042c"
      },
      "outputs": [
        {
          "output_type": "stream",
          "name": "stdout",
          "text": [
            "<table class=\"wikitable sortable\" style=\"text-align:right\">\n",
            " <caption>\n",
            "  10 most densely populated countries\n",
            "  <small>\n",
            "   (with population above 5 million)\n",
            "  </small>\n",
            "  <sup class=\"reference\" id=\"cite_ref-:10_105-0\">\n",
            "   <a href=\"#cite_note-:10-105\">\n",
            "    [100]\n",
            "   </a>\n",
            "  </sup>\n",
            " </caption>\n",
            " <tbody>\n",
            "  <tr>\n",
            "   <th scope=\"col\">\n",
            "    Rank\n",
            "   </th>\n",
            "   <th scope=\"col\">\n",
            "    Country\n",
            "   </th>\n",
            "   <th scope=\"col\">\n",
            "    Population\n",
            "   </th>\n",
            "   <th scope=\"col\">\n",
            "    Area\n",
            "    <br/>\n",
            "    <small>\n",
            "     (km\n",
            "     <sup>\n",
            "      2\n",
            "     </sup>\n",
            "     )\n",
            "    </small>\n",
            "   </th>\n",
            "   <th scope=\"col\">\n",
            "    Density\n",
            "    <br/>\n",
            "    <small>\n",
            "     (pop/km\n",
            "     <sup>\n",
            "      2\n",
            "     </sup>\n",
            "     )\n",
            "    </small>\n",
            "   </th>\n",
            "  </tr>\n",
            "  <tr>\n",
            "   <td>\n",
            "    1\n",
            "   </td>\n",
            "   <td align=\"left\">\n",
            "    <span class=\"flagicon\">\n",
            "     <span class=\"mw-image-border\" typeof=\"mw:File\">\n",
            "      <span>\n",
            "       <img alt=\"\" class=\"mw-file-element\" data-file-height=\"600\" data-file-width=\"900\" decoding=\"async\" height=\"15\" src=\"//upload.wikimedia.org/wikipedia/commons/thumb/4/48/Flag_of_Singapore.svg/23px-Flag_of_Singapore.svg.png\" srcset=\"//upload.wikimedia.org/wikipedia/commons/thumb/4/48/Flag_of_Singapore.svg/35px-Flag_of_Singapore.svg.png 1.5x, //upload.wikimedia.org/wikipedia/commons/thumb/4/48/Flag_of_Singapore.svg/45px-Flag_of_Singapore.svg.png 2x\" width=\"23\"/>\n",
            "      </span>\n",
            "     </span>\n",
            "    </span>\n",
            "    <a href=\"/wiki/Singapore\" title=\"Singapore\">\n",
            "     Singapore\n",
            "    </a>\n",
            "   </td>\n",
            "   <td>\n",
            "    5,921,231\n",
            "   </td>\n",
            "   <td>\n",
            "    719\n",
            "   </td>\n",
            "   <td>\n",
            "    8,235\n",
            "   </td>\n",
            "  </tr>\n",
            "  <tr>\n",
            "   <td>\n",
            "    2\n",
            "   </td>\n",
            "   <td align=\"left\">\n",
            "    <span class=\"flagicon\">\n",
            "     <span class=\"mw-image-border\" typeof=\"mw:File\">\n",
            "      <span>\n",
            "       <img alt=\"\" class=\"mw-file-element\" data-file-height=\"600\" data-file-width=\"1000\" decoding=\"async\" height=\"14\" src=\"//upload.wikimedia.org/wikipedia/commons/thumb/f/f9/Flag_of_Bangladesh.svg/23px-Flag_of_Bangladesh.svg.png\" srcset=\"//upload.wikimedia.org/wikipedia/commons/thumb/f/f9/Flag_of_Bangladesh.svg/35px-Flag_of_Bangladesh.svg.png 1.5x, //upload.wikimedia.org/wikipedia/commons/thumb/f/f9/Flag_of_Bangladesh.svg/46px-Flag_of_Bangladesh.svg.png 2x\" width=\"23\"/>\n",
            "      </span>\n",
            "     </span>\n",
            "    </span>\n",
            "    <a href=\"/wiki/Bangladesh\" title=\"Bangladesh\">\n",
            "     Bangladesh\n",
            "    </a>\n",
            "   </td>\n",
            "   <td>\n",
            "    165,650,475\n",
            "   </td>\n",
            "   <td>\n",
            "    148,460\n",
            "   </td>\n",
            "   <td>\n",
            "    1,116\n",
            "   </td>\n",
            "  </tr>\n",
            "  <tr>\n",
            "   <td>\n",
            "    3\n",
            "   </td>\n",
            "   <td align=\"left\">\n",
            "    <p>\n",
            "     <span class=\"flagicon\">\n",
            "      <span class=\"mw-image-border\" typeof=\"mw:File\">\n",
            "       <span>\n",
            "        <img alt=\"\" class=\"mw-file-element\" data-file-height=\"600\" data-file-width=\"1200\" decoding=\"async\" height=\"12\" src=\"//upload.wikimedia.org/wikipedia/commons/thumb/0/00/Flag_of_Palestine.svg/23px-Flag_of_Palestine.svg.png\" srcset=\"//upload.wikimedia.org/wikipedia/commons/thumb/0/00/Flag_of_Palestine.svg/35px-Flag_of_Palestine.svg.png 1.5x, //upload.wikimedia.org/wikipedia/commons/thumb/0/00/Flag_of_Palestine.svg/46px-Flag_of_Palestine.svg.png 2x\" width=\"23\"/>\n",
            "       </span>\n",
            "      </span>\n",
            "     </span>\n",
            "     <a href=\"/wiki/State_of_Palestine\" title=\"State of Palestine\">\n",
            "      Palestine\n",
            "     </a>\n",
            "     <sup class=\"reference\" id=\"cite_ref-106\">\n",
            "      <a href=\"#cite_note-106\">\n",
            "       [note 3]\n",
            "      </a>\n",
            "     </sup>\n",
            "     <sup class=\"reference\" id=\"cite_ref-107\">\n",
            "      <a href=\"#cite_note-107\">\n",
            "       [101]\n",
            "      </a>\n",
            "     </sup>\n",
            "    </p>\n",
            "   </td>\n",
            "   <td>\n",
            "    5,223,000\n",
            "   </td>\n",
            "   <td>\n",
            "    6,025\n",
            "   </td>\n",
            "   <td>\n",
            "    867\n",
            "   </td>\n",
            "  </tr>\n",
            "  <tr>\n",
            "   <td>\n",
            "    4\n",
            "   </td>\n",
            "   <td align=\"left\">\n",
            "    <span class=\"flagicon\">\n",
            "     <span class=\"mw-image-border\" typeof=\"mw:File\">\n",
            "      <span>\n",
            "       <img alt=\"\" class=\"mw-file-element\" data-file-height=\"600\" data-file-width=\"900\" decoding=\"async\" height=\"15\" src=\"//upload.wikimedia.org/wikipedia/commons/thumb/7/72/Flag_of_the_Republic_of_China.svg/23px-Flag_of_the_Republic_of_China.svg.png\" srcset=\"//upload.wikimedia.org/wikipedia/commons/thumb/7/72/Flag_of_the_Republic_of_China.svg/35px-Flag_of_the_Republic_of_China.svg.png 1.5x, //upload.wikimedia.org/wikipedia/commons/thumb/7/72/Flag_of_the_Republic_of_China.svg/45px-Flag_of_the_Republic_of_China.svg.png 2x\" width=\"23\"/>\n",
            "      </span>\n",
            "     </span>\n",
            "    </span>\n",
            "    <a href=\"/wiki/Taiwan\" title=\"Taiwan\">\n",
            "     Taiwan\n",
            "    </a>\n",
            "    <sup class=\"reference\" id=\"cite_ref-108\">\n",
            "     <a href=\"#cite_note-108\">\n",
            "      [note 4]\n",
            "     </a>\n",
            "    </sup>\n",
            "   </td>\n",
            "   <td>\n",
            "    23,580,712\n",
            "   </td>\n",
            "   <td>\n",
            "    35,980\n",
            "   </td>\n",
            "   <td>\n",
            "    655\n",
            "   </td>\n",
            "  </tr>\n",
            "  <tr>\n",
            "   <td>\n",
            "    5\n",
            "   </td>\n",
            "   <td align=\"left\">\n",
            "    <span class=\"flagicon\">\n",
            "     <span class=\"mw-image-border\" typeof=\"mw:File\">\n",
            "      <span>\n",
            "       <img alt=\"\" class=\"mw-file-element\" data-file-height=\"600\" data-file-width=\"900\" decoding=\"async\" height=\"15\" src=\"//upload.wikimedia.org/wikipedia/commons/thumb/0/09/Flag_of_South_Korea.svg/23px-Flag_of_South_Korea.svg.png\" srcset=\"//upload.wikimedia.org/wikipedia/commons/thumb/0/09/Flag_of_South_Korea.svg/35px-Flag_of_South_Korea.svg.png 1.5x, //upload.wikimedia.org/wikipedia/commons/thumb/0/09/Flag_of_South_Korea.svg/45px-Flag_of_South_Korea.svg.png 2x\" width=\"23\"/>\n",
            "      </span>\n",
            "     </span>\n",
            "    </span>\n",
            "    <a href=\"/wiki/South_Korea\" title=\"South Korea\">\n",
            "     South Korea\n",
            "    </a>\n",
            "   </td>\n",
            "   <td>\n",
            "    51,844,834\n",
            "   </td>\n",
            "   <td>\n",
            "    99,720\n",
            "   </td>\n",
            "   <td>\n",
            "    520\n",
            "   </td>\n",
            "  </tr>\n",
            "  <tr>\n",
            "   <td>\n",
            "    6\n",
            "   </td>\n",
            "   <td align=\"left\">\n",
            "    <span class=\"flagicon\">\n",
            "     <span class=\"mw-image-border\" typeof=\"mw:File\">\n",
            "      <span>\n",
            "       <img alt=\"\" class=\"mw-file-element\" data-file-height=\"600\" data-file-width=\"900\" decoding=\"async\" height=\"15\" src=\"//upload.wikimedia.org/wikipedia/commons/thumb/5/59/Flag_of_Lebanon.svg/23px-Flag_of_Lebanon.svg.png\" srcset=\"//upload.wikimedia.org/wikipedia/commons/thumb/5/59/Flag_of_Lebanon.svg/35px-Flag_of_Lebanon.svg.png 1.5x, //upload.wikimedia.org/wikipedia/commons/thumb/5/59/Flag_of_Lebanon.svg/45px-Flag_of_Lebanon.svg.png 2x\" width=\"23\"/>\n",
            "      </span>\n",
            "     </span>\n",
            "    </span>\n",
            "    <a href=\"/wiki/Lebanon\" title=\"Lebanon\">\n",
            "     Lebanon\n",
            "    </a>\n",
            "   </td>\n",
            "   <td>\n",
            "    5,296,814\n",
            "   </td>\n",
            "   <td>\n",
            "    10,400\n",
            "   </td>\n",
            "   <td>\n",
            "    509\n",
            "   </td>\n",
            "  </tr>\n",
            "  <tr>\n",
            "   <td>\n",
            "    7\n",
            "   </td>\n",
            "   <td align=\"left\">\n",
            "    <span class=\"flagicon\">\n",
            "     <span class=\"mw-image-border\" typeof=\"mw:File\">\n",
            "      <span>\n",
            "       <img alt=\"\" class=\"mw-file-element\" data-file-height=\"600\" data-file-width=\"900\" decoding=\"async\" height=\"15\" src=\"//upload.wikimedia.org/wikipedia/commons/thumb/1/17/Flag_of_Rwanda.svg/23px-Flag_of_Rwanda.svg.png\" srcset=\"//upload.wikimedia.org/wikipedia/commons/thumb/1/17/Flag_of_Rwanda.svg/35px-Flag_of_Rwanda.svg.png 1.5x, //upload.wikimedia.org/wikipedia/commons/thumb/1/17/Flag_of_Rwanda.svg/45px-Flag_of_Rwanda.svg.png 2x\" width=\"23\"/>\n",
            "      </span>\n",
            "     </span>\n",
            "    </span>\n",
            "    <a href=\"/wiki/Rwanda\" title=\"Rwanda\">\n",
            "     Rwanda\n",
            "    </a>\n",
            "   </td>\n",
            "   <td>\n",
            "    13,173,730\n",
            "   </td>\n",
            "   <td>\n",
            "    26,338\n",
            "   </td>\n",
            "   <td>\n",
            "    500\n",
            "   </td>\n",
            "  </tr>\n",
            "  <tr>\n",
            "   <td>\n",
            "    8\n",
            "   </td>\n",
            "   <td align=\"left\">\n",
            "    <span class=\"flagicon\">\n",
            "     <span class=\"mw-image-border\" typeof=\"mw:File\">\n",
            "      <span>\n",
            "       <img alt=\"\" class=\"mw-file-element\" data-file-height=\"600\" data-file-width=\"1000\" decoding=\"async\" height=\"14\" src=\"//upload.wikimedia.org/wikipedia/commons/thumb/5/50/Flag_of_Burundi.svg/23px-Flag_of_Burundi.svg.png\" srcset=\"//upload.wikimedia.org/wikipedia/commons/thumb/5/50/Flag_of_Burundi.svg/35px-Flag_of_Burundi.svg.png 1.5x, //upload.wikimedia.org/wikipedia/commons/thumb/5/50/Flag_of_Burundi.svg/46px-Flag_of_Burundi.svg.png 2x\" width=\"23\"/>\n",
            "      </span>\n",
            "     </span>\n",
            "    </span>\n",
            "    <a href=\"/wiki/Burundi\" title=\"Burundi\">\n",
            "     Burundi\n",
            "    </a>\n",
            "   </td>\n",
            "   <td>\n",
            "    12,696,478\n",
            "   </td>\n",
            "   <td>\n",
            "    27,830\n",
            "   </td>\n",
            "   <td>\n",
            "    456\n",
            "   </td>\n",
            "  </tr>\n",
            "  <tr>\n",
            "   <td>\n",
            "    9\n",
            "   </td>\n",
            "   <td align=\"left\">\n",
            "    <span class=\"flagicon\">\n",
            "     <span class=\"mw-image-border\" typeof=\"mw:File\">\n",
            "      <span>\n",
            "       <img alt=\"\" class=\"mw-file-element\" data-file-height=\"800\" data-file-width=\"1100\" decoding=\"async\" height=\"15\" src=\"//upload.wikimedia.org/wikipedia/commons/thumb/d/d4/Flag_of_Israel.svg/21px-Flag_of_Israel.svg.png\" srcset=\"//upload.wikimedia.org/wikipedia/commons/thumb/d/d4/Flag_of_Israel.svg/32px-Flag_of_Israel.svg.png 1.5x, //upload.wikimedia.org/wikipedia/commons/thumb/d/d4/Flag_of_Israel.svg/41px-Flag_of_Israel.svg.png 2x\" width=\"21\"/>\n",
            "      </span>\n",
            "     </span>\n",
            "    </span>\n",
            "    <a href=\"/wiki/Israel\" title=\"Israel\">\n",
            "     Israel\n",
            "    </a>\n",
            "   </td>\n",
            "   <td>\n",
            "    9,402,617\n",
            "   </td>\n",
            "   <td>\n",
            "    21,937\n",
            "   </td>\n",
            "   <td>\n",
            "    429\n",
            "   </td>\n",
            "  </tr>\n",
            "  <tr>\n",
            "   <td>\n",
            "    10\n",
            "   </td>\n",
            "   <td align=\"left\">\n",
            "    <span class=\"flagicon\">\n",
            "     <span class=\"mw-image-border\" typeof=\"mw:File\">\n",
            "      <span>\n",
            "       <img alt=\"\" class=\"mw-file-element\" data-file-height=\"600\" data-file-width=\"900\" decoding=\"async\" height=\"15\" src=\"//upload.wikimedia.org/wikipedia/en/thumb/4/41/Flag_of_India.svg/23px-Flag_of_India.svg.png\" srcset=\"//upload.wikimedia.org/wikipedia/en/thumb/4/41/Flag_of_India.svg/35px-Flag_of_India.svg.png 1.5x, //upload.wikimedia.org/wikipedia/en/thumb/4/41/Flag_of_India.svg/45px-Flag_of_India.svg.png 2x\" width=\"23\"/>\n",
            "      </span>\n",
            "     </span>\n",
            "    </span>\n",
            "    <a href=\"/wiki/India\" title=\"India\">\n",
            "     India\n",
            "    </a>\n",
            "   </td>\n",
            "   <td>\n",
            "    1,389,637,446\n",
            "   </td>\n",
            "   <td>\n",
            "    3,287,263\n",
            "   </td>\n",
            "   <td>\n",
            "    423\n",
            "   </td>\n",
            "  </tr>\n",
            " </tbody>\n",
            "</table>\n",
            "\n"
          ]
        }
      ],
      "source": [
        "print(tables[table_index].prettify())"
      ],
      "execution_count": 24
    },
    {
      "cell_type": "code",
      "metadata": {
        "id": "9ae4eb78-9358-4813-b28c-f02504a4b0a4",
        "colab": {
          "base_uri": "https://localhost:8080/",
          "height": 363
        },
        "outputId": "b6d5cac7-0733-494d-a57b-079c2248d6a2"
      },
      "outputs": [
        {
          "output_type": "execute_result",
          "data": {
            "text/plain": [
              "  Rank                 Country     Population       Area Density\n",
              "0    1               Singapore      5,921,231        719   8,235\n",
              "1    2              Bangladesh    165,650,475    148,460   1,116\n",
              "2    3  Palestine[note 3][101]      5,223,000      6,025     867\n",
              "3    4          Taiwan[note 4]     23,580,712     35,980     655\n",
              "4    5             South Korea     51,844,834     99,720     520\n",
              "5    6                 Lebanon      5,296,814     10,400     509\n",
              "6    7                  Rwanda     13,173,730     26,338     500\n",
              "7    8                 Burundi     12,696,478     27,830     456\n",
              "8    9                  Israel      9,402,617     21,937     429\n",
              "9   10                   India  1,389,637,446  3,287,263     423"
            ],
            "text/html": [
              "\n",
              "  <div id=\"df-543f75f0-18ba-4c94-b3f3-75fabc99a200\" class=\"colab-df-container\">\n",
              "    <div>\n",
              "<style scoped>\n",
              "    .dataframe tbody tr th:only-of-type {\n",
              "        vertical-align: middle;\n",
              "    }\n",
              "\n",
              "    .dataframe tbody tr th {\n",
              "        vertical-align: top;\n",
              "    }\n",
              "\n",
              "    .dataframe thead th {\n",
              "        text-align: right;\n",
              "    }\n",
              "</style>\n",
              "<table border=\"1\" class=\"dataframe\">\n",
              "  <thead>\n",
              "    <tr style=\"text-align: right;\">\n",
              "      <th></th>\n",
              "      <th>Rank</th>\n",
              "      <th>Country</th>\n",
              "      <th>Population</th>\n",
              "      <th>Area</th>\n",
              "      <th>Density</th>\n",
              "    </tr>\n",
              "  </thead>\n",
              "  <tbody>\n",
              "    <tr>\n",
              "      <th>0</th>\n",
              "      <td>1</td>\n",
              "      <td>Singapore</td>\n",
              "      <td>5,921,231</td>\n",
              "      <td>719</td>\n",
              "      <td>8,235</td>\n",
              "    </tr>\n",
              "    <tr>\n",
              "      <th>1</th>\n",
              "      <td>2</td>\n",
              "      <td>Bangladesh</td>\n",
              "      <td>165,650,475</td>\n",
              "      <td>148,460</td>\n",
              "      <td>1,116</td>\n",
              "    </tr>\n",
              "    <tr>\n",
              "      <th>2</th>\n",
              "      <td>3</td>\n",
              "      <td>Palestine[note 3][101]</td>\n",
              "      <td>5,223,000</td>\n",
              "      <td>6,025</td>\n",
              "      <td>867</td>\n",
              "    </tr>\n",
              "    <tr>\n",
              "      <th>3</th>\n",
              "      <td>4</td>\n",
              "      <td>Taiwan[note 4]</td>\n",
              "      <td>23,580,712</td>\n",
              "      <td>35,980</td>\n",
              "      <td>655</td>\n",
              "    </tr>\n",
              "    <tr>\n",
              "      <th>4</th>\n",
              "      <td>5</td>\n",
              "      <td>South Korea</td>\n",
              "      <td>51,844,834</td>\n",
              "      <td>99,720</td>\n",
              "      <td>520</td>\n",
              "    </tr>\n",
              "    <tr>\n",
              "      <th>5</th>\n",
              "      <td>6</td>\n",
              "      <td>Lebanon</td>\n",
              "      <td>5,296,814</td>\n",
              "      <td>10,400</td>\n",
              "      <td>509</td>\n",
              "    </tr>\n",
              "    <tr>\n",
              "      <th>6</th>\n",
              "      <td>7</td>\n",
              "      <td>Rwanda</td>\n",
              "      <td>13,173,730</td>\n",
              "      <td>26,338</td>\n",
              "      <td>500</td>\n",
              "    </tr>\n",
              "    <tr>\n",
              "      <th>7</th>\n",
              "      <td>8</td>\n",
              "      <td>Burundi</td>\n",
              "      <td>12,696,478</td>\n",
              "      <td>27,830</td>\n",
              "      <td>456</td>\n",
              "    </tr>\n",
              "    <tr>\n",
              "      <th>8</th>\n",
              "      <td>9</td>\n",
              "      <td>Israel</td>\n",
              "      <td>9,402,617</td>\n",
              "      <td>21,937</td>\n",
              "      <td>429</td>\n",
              "    </tr>\n",
              "    <tr>\n",
              "      <th>9</th>\n",
              "      <td>10</td>\n",
              "      <td>India</td>\n",
              "      <td>1,389,637,446</td>\n",
              "      <td>3,287,263</td>\n",
              "      <td>423</td>\n",
              "    </tr>\n",
              "  </tbody>\n",
              "</table>\n",
              "</div>\n",
              "    <div class=\"colab-df-buttons\">\n",
              "\n",
              "  <div class=\"colab-df-container\">\n",
              "    <button class=\"colab-df-convert\" onclick=\"convertToInteractive('df-543f75f0-18ba-4c94-b3f3-75fabc99a200')\"\n",
              "            title=\"Convert this dataframe to an interactive table.\"\n",
              "            style=\"display:none;\">\n",
              "\n",
              "  <svg xmlns=\"http://www.w3.org/2000/svg\" height=\"24px\" viewBox=\"0 -960 960 960\">\n",
              "    <path d=\"M120-120v-720h720v720H120Zm60-500h600v-160H180v160Zm220 220h160v-160H400v160Zm0 220h160v-160H400v160ZM180-400h160v-160H180v160Zm440 0h160v-160H620v160ZM180-180h160v-160H180v160Zm440 0h160v-160H620v160Z\"/>\n",
              "  </svg>\n",
              "    </button>\n",
              "\n",
              "  <style>\n",
              "    .colab-df-container {\n",
              "      display:flex;\n",
              "      gap: 12px;\n",
              "    }\n",
              "\n",
              "    .colab-df-convert {\n",
              "      background-color: #E8F0FE;\n",
              "      border: none;\n",
              "      border-radius: 50%;\n",
              "      cursor: pointer;\n",
              "      display: none;\n",
              "      fill: #1967D2;\n",
              "      height: 32px;\n",
              "      padding: 0 0 0 0;\n",
              "      width: 32px;\n",
              "    }\n",
              "\n",
              "    .colab-df-convert:hover {\n",
              "      background-color: #E2EBFA;\n",
              "      box-shadow: 0px 1px 2px rgba(60, 64, 67, 0.3), 0px 1px 3px 1px rgba(60, 64, 67, 0.15);\n",
              "      fill: #174EA6;\n",
              "    }\n",
              "\n",
              "    .colab-df-buttons div {\n",
              "      margin-bottom: 4px;\n",
              "    }\n",
              "\n",
              "    [theme=dark] .colab-df-convert {\n",
              "      background-color: #3B4455;\n",
              "      fill: #D2E3FC;\n",
              "    }\n",
              "\n",
              "    [theme=dark] .colab-df-convert:hover {\n",
              "      background-color: #434B5C;\n",
              "      box-shadow: 0px 1px 3px 1px rgba(0, 0, 0, 0.15);\n",
              "      filter: drop-shadow(0px 1px 2px rgba(0, 0, 0, 0.3));\n",
              "      fill: #FFFFFF;\n",
              "    }\n",
              "  </style>\n",
              "\n",
              "    <script>\n",
              "      const buttonEl =\n",
              "        document.querySelector('#df-543f75f0-18ba-4c94-b3f3-75fabc99a200 button.colab-df-convert');\n",
              "      buttonEl.style.display =\n",
              "        google.colab.kernel.accessAllowed ? 'block' : 'none';\n",
              "\n",
              "      async function convertToInteractive(key) {\n",
              "        const element = document.querySelector('#df-543f75f0-18ba-4c94-b3f3-75fabc99a200');\n",
              "        const dataTable =\n",
              "          await google.colab.kernel.invokeFunction('convertToInteractive',\n",
              "                                                    [key], {});\n",
              "        if (!dataTable) return;\n",
              "\n",
              "        const docLinkHtml = 'Like what you see? Visit the ' +\n",
              "          '<a target=\"_blank\" href=https://colab.research.google.com/notebooks/data_table.ipynb>data table notebook</a>'\n",
              "          + ' to learn more about interactive tables.';\n",
              "        element.innerHTML = '';\n",
              "        dataTable['output_type'] = 'display_data';\n",
              "        await google.colab.output.renderOutput(dataTable, element);\n",
              "        const docLink = document.createElement('div');\n",
              "        docLink.innerHTML = docLinkHtml;\n",
              "        element.appendChild(docLink);\n",
              "      }\n",
              "    </script>\n",
              "  </div>\n",
              "\n",
              "\n",
              "<div id=\"df-5c1536b3-e77c-41da-9215-51bfbe48d4a4\">\n",
              "  <button class=\"colab-df-quickchart\" onclick=\"quickchart('df-5c1536b3-e77c-41da-9215-51bfbe48d4a4')\"\n",
              "            title=\"Suggest charts\"\n",
              "            style=\"display:none;\">\n",
              "\n",
              "<svg xmlns=\"http://www.w3.org/2000/svg\" height=\"24px\"viewBox=\"0 0 24 24\"\n",
              "     width=\"24px\">\n",
              "    <g>\n",
              "        <path d=\"M19 3H5c-1.1 0-2 .9-2 2v14c0 1.1.9 2 2 2h14c1.1 0 2-.9 2-2V5c0-1.1-.9-2-2-2zM9 17H7v-7h2v7zm4 0h-2V7h2v10zm4 0h-2v-4h2v4z\"/>\n",
              "    </g>\n",
              "</svg>\n",
              "  </button>\n",
              "\n",
              "<style>\n",
              "  .colab-df-quickchart {\n",
              "      --bg-color: #E8F0FE;\n",
              "      --fill-color: #1967D2;\n",
              "      --hover-bg-color: #E2EBFA;\n",
              "      --hover-fill-color: #174EA6;\n",
              "      --disabled-fill-color: #AAA;\n",
              "      --disabled-bg-color: #DDD;\n",
              "  }\n",
              "\n",
              "  [theme=dark] .colab-df-quickchart {\n",
              "      --bg-color: #3B4455;\n",
              "      --fill-color: #D2E3FC;\n",
              "      --hover-bg-color: #434B5C;\n",
              "      --hover-fill-color: #FFFFFF;\n",
              "      --disabled-bg-color: #3B4455;\n",
              "      --disabled-fill-color: #666;\n",
              "  }\n",
              "\n",
              "  .colab-df-quickchart {\n",
              "    background-color: var(--bg-color);\n",
              "    border: none;\n",
              "    border-radius: 50%;\n",
              "    cursor: pointer;\n",
              "    display: none;\n",
              "    fill: var(--fill-color);\n",
              "    height: 32px;\n",
              "    padding: 0;\n",
              "    width: 32px;\n",
              "  }\n",
              "\n",
              "  .colab-df-quickchart:hover {\n",
              "    background-color: var(--hover-bg-color);\n",
              "    box-shadow: 0 1px 2px rgba(60, 64, 67, 0.3), 0 1px 3px 1px rgba(60, 64, 67, 0.15);\n",
              "    fill: var(--button-hover-fill-color);\n",
              "  }\n",
              "\n",
              "  .colab-df-quickchart-complete:disabled,\n",
              "  .colab-df-quickchart-complete:disabled:hover {\n",
              "    background-color: var(--disabled-bg-color);\n",
              "    fill: var(--disabled-fill-color);\n",
              "    box-shadow: none;\n",
              "  }\n",
              "\n",
              "  .colab-df-spinner {\n",
              "    border: 2px solid var(--fill-color);\n",
              "    border-color: transparent;\n",
              "    border-bottom-color: var(--fill-color);\n",
              "    animation:\n",
              "      spin 1s steps(1) infinite;\n",
              "  }\n",
              "\n",
              "  @keyframes spin {\n",
              "    0% {\n",
              "      border-color: transparent;\n",
              "      border-bottom-color: var(--fill-color);\n",
              "      border-left-color: var(--fill-color);\n",
              "    }\n",
              "    20% {\n",
              "      border-color: transparent;\n",
              "      border-left-color: var(--fill-color);\n",
              "      border-top-color: var(--fill-color);\n",
              "    }\n",
              "    30% {\n",
              "      border-color: transparent;\n",
              "      border-left-color: var(--fill-color);\n",
              "      border-top-color: var(--fill-color);\n",
              "      border-right-color: var(--fill-color);\n",
              "    }\n",
              "    40% {\n",
              "      border-color: transparent;\n",
              "      border-right-color: var(--fill-color);\n",
              "      border-top-color: var(--fill-color);\n",
              "    }\n",
              "    60% {\n",
              "      border-color: transparent;\n",
              "      border-right-color: var(--fill-color);\n",
              "    }\n",
              "    80% {\n",
              "      border-color: transparent;\n",
              "      border-right-color: var(--fill-color);\n",
              "      border-bottom-color: var(--fill-color);\n",
              "    }\n",
              "    90% {\n",
              "      border-color: transparent;\n",
              "      border-bottom-color: var(--fill-color);\n",
              "    }\n",
              "  }\n",
              "</style>\n",
              "\n",
              "  <script>\n",
              "    async function quickchart(key) {\n",
              "      const quickchartButtonEl =\n",
              "        document.querySelector('#' + key + ' button');\n",
              "      quickchartButtonEl.disabled = true;  // To prevent multiple clicks.\n",
              "      quickchartButtonEl.classList.add('colab-df-spinner');\n",
              "      try {\n",
              "        const charts = await google.colab.kernel.invokeFunction(\n",
              "            'suggestCharts', [key], {});\n",
              "      } catch (error) {\n",
              "        console.error('Error during call to suggestCharts:', error);\n",
              "      }\n",
              "      quickchartButtonEl.classList.remove('colab-df-spinner');\n",
              "      quickchartButtonEl.classList.add('colab-df-quickchart-complete');\n",
              "    }\n",
              "    (() => {\n",
              "      let quickchartButtonEl =\n",
              "        document.querySelector('#df-5c1536b3-e77c-41da-9215-51bfbe48d4a4 button');\n",
              "      quickchartButtonEl.style.display =\n",
              "        google.colab.kernel.accessAllowed ? 'block' : 'none';\n",
              "    })();\n",
              "  </script>\n",
              "</div>\n",
              "\n",
              "  <div id=\"id_2fdfbbc5-129e-430c-88ae-19b9e260e6b7\">\n",
              "    <style>\n",
              "      .colab-df-generate {\n",
              "        background-color: #E8F0FE;\n",
              "        border: none;\n",
              "        border-radius: 50%;\n",
              "        cursor: pointer;\n",
              "        display: none;\n",
              "        fill: #1967D2;\n",
              "        height: 32px;\n",
              "        padding: 0 0 0 0;\n",
              "        width: 32px;\n",
              "      }\n",
              "\n",
              "      .colab-df-generate:hover {\n",
              "        background-color: #E2EBFA;\n",
              "        box-shadow: 0px 1px 2px rgba(60, 64, 67, 0.3), 0px 1px 3px 1px rgba(60, 64, 67, 0.15);\n",
              "        fill: #174EA6;\n",
              "      }\n",
              "\n",
              "      [theme=dark] .colab-df-generate {\n",
              "        background-color: #3B4455;\n",
              "        fill: #D2E3FC;\n",
              "      }\n",
              "\n",
              "      [theme=dark] .colab-df-generate:hover {\n",
              "        background-color: #434B5C;\n",
              "        box-shadow: 0px 1px 3px 1px rgba(0, 0, 0, 0.15);\n",
              "        filter: drop-shadow(0px 1px 2px rgba(0, 0, 0, 0.3));\n",
              "        fill: #FFFFFF;\n",
              "      }\n",
              "    </style>\n",
              "    <button class=\"colab-df-generate\" onclick=\"generateWithVariable('population_data')\"\n",
              "            title=\"Generate code using this dataframe.\"\n",
              "            style=\"display:none;\">\n",
              "\n",
              "  <svg xmlns=\"http://www.w3.org/2000/svg\" height=\"24px\"viewBox=\"0 0 24 24\"\n",
              "       width=\"24px\">\n",
              "    <path d=\"M7,19H8.4L18.45,9,17,7.55,7,17.6ZM5,21V16.75L18.45,3.32a2,2,0,0,1,2.83,0l1.4,1.43a1.91,1.91,0,0,1,.58,1.4,1.91,1.91,0,0,1-.58,1.4L9.25,21ZM18.45,9,17,7.55Zm-12,3A5.31,5.31,0,0,0,4.9,8.1,5.31,5.31,0,0,0,1,6.5,5.31,5.31,0,0,0,4.9,4.9,5.31,5.31,0,0,0,6.5,1,5.31,5.31,0,0,0,8.1,4.9,5.31,5.31,0,0,0,12,6.5,5.46,5.46,0,0,0,6.5,12Z\"/>\n",
              "  </svg>\n",
              "    </button>\n",
              "    <script>\n",
              "      (() => {\n",
              "      const buttonEl =\n",
              "        document.querySelector('#id_2fdfbbc5-129e-430c-88ae-19b9e260e6b7 button.colab-df-generate');\n",
              "      buttonEl.style.display =\n",
              "        google.colab.kernel.accessAllowed ? 'block' : 'none';\n",
              "\n",
              "      buttonEl.onclick = () => {\n",
              "        google.colab.notebook.generateWithVariable('population_data');\n",
              "      }\n",
              "      })();\n",
              "    </script>\n",
              "  </div>\n",
              "\n",
              "    </div>\n",
              "  </div>\n"
            ],
            "application/vnd.google.colaboratory.intrinsic+json": {
              "type": "dataframe",
              "variable_name": "population_data",
              "summary": "{\n  \"name\": \"population_data\",\n  \"rows\": 10,\n  \"fields\": [\n    {\n      \"column\": \"Rank\",\n      \"properties\": {\n        \"dtype\": \"string\",\n        \"num_unique_values\": 10,\n        \"samples\": [\n          \"9\",\n          \"2\",\n          \"6\"\n        ],\n        \"semantic_type\": \"\",\n        \"description\": \"\"\n      }\n    },\n    {\n      \"column\": \"Country\",\n      \"properties\": {\n        \"dtype\": \"string\",\n        \"num_unique_values\": 10,\n        \"samples\": [\n          \"Israel\",\n          \"Bangladesh\",\n          \"Lebanon\"\n        ],\n        \"semantic_type\": \"\",\n        \"description\": \"\"\n      }\n    },\n    {\n      \"column\": \"Population\",\n      \"properties\": {\n        \"dtype\": \"string\",\n        \"num_unique_values\": 10,\n        \"samples\": [\n          \"9,402,617\",\n          \"165,650,475\",\n          \"5,296,814\"\n        ],\n        \"semantic_type\": \"\",\n        \"description\": \"\"\n      }\n    },\n    {\n      \"column\": \"Area\",\n      \"properties\": {\n        \"dtype\": \"string\",\n        \"num_unique_values\": 10,\n        \"samples\": [\n          \"21,937\",\n          \"148,460\",\n          \"10,400\"\n        ],\n        \"semantic_type\": \"\",\n        \"description\": \"\"\n      }\n    },\n    {\n      \"column\": \"Density\",\n      \"properties\": {\n        \"dtype\": \"string\",\n        \"num_unique_values\": 10,\n        \"samples\": [\n          \"429\",\n          \"1,116\",\n          \"509\"\n        ],\n        \"semantic_type\": \"\",\n        \"description\": \"\"\n      }\n    }\n  ]\n}"
            }
          },
          "metadata": {},
          "execution_count": 30
        }
      ],
      "source": [
        "import pandas as pd\n",
        "\n",
        "# Initialize the DataFrame\n",
        "population_data = pd.DataFrame(columns=[\"Rank\", \"Country\", \"Population\", \"Area\", \"Density\"])\n",
        "\n",
        "# Assuming `tables` and `table_index` are already defined\n",
        "table = tables[table_index]\n",
        "\n",
        "# Extract table rows\n",
        "rows = table.tbody.find_all(\"tr\")\n",
        "\n",
        "# Extract data from rows and append to the DataFrame\n",
        "data = []\n",
        "for row in rows:\n",
        "    cols = row.find_all(\"td\")\n",
        "    if cols:\n",
        "        rank = cols[0].text.strip()\n",
        "        country = cols[1].text.strip()\n",
        "        population = cols[2].text.strip()\n",
        "        area = cols[3].text.strip()\n",
        "        density = cols[4].text.strip()\n",
        "        data.append({\"Rank\": rank, \"Country\": country, \"Population\": population, \"Area\": area, \"Density\": density})\n",
        "\n",
        "# Convert the list of dictionaries to a DataFrame and concatenate with the existing DataFrame\n",
        "population_data = pd.concat([population_data, pd.DataFrame(data)], ignore_index=True)\n",
        "\n",
        "population_data\n"
      ],
      "execution_count": 30
    },
    {
      "cell_type": "markdown",
      "metadata": {
        "id": "81b875e1-247b-401a-b42c-b8e1ed582d32"
      },
      "source": [
        "## Scrape data from HTML tables into a DataFrame using BeautifulSoup and read_html\n"
      ]
    },
    {
      "cell_type": "markdown",
      "metadata": {
        "id": "ee124475-229c-44d9-99ca-12cb5227c164"
      },
      "source": [
        "Using the same `url`, `data`, `soup`, and `tables` object as in the last section we can use the `read_html` function to create a DataFrame.\n",
        "\n",
        "Remember the table we need is located in `tables[table_index]`\n",
        "\n",
        "We can now use the `pandas` function `read_html` and give it the string version of the table as well as the `flavor` which is the parsing engine `bs4`.\n"
      ]
    },
    {
      "cell_type": "code",
      "metadata": {
        "id": "959c7c48-72e7-48a6-8bdc-1f681c05414c",
        "colab": {
          "base_uri": "https://localhost:8080/"
        },
        "outputId": "def56b2f-d2e0-4bf6-cf14-2f9c37c1454e"
      },
      "outputs": [
        {
          "output_type": "stream",
          "name": "stderr",
          "text": [
            "<ipython-input-31-2faec2a9de15>:1: FutureWarning: Passing literal html to 'read_html' is deprecated and will be removed in a future version. To read from a literal string, wrap it in a 'StringIO' object.\n",
            "  pd.read_html(str(tables[5]), flavor='bs4')\n"
          ]
        },
        {
          "output_type": "execute_result",
          "data": {
            "text/plain": [
              "[                                                                                                         #  \\\n",
              "    Graphs are unavailable due to technical issues. There is more info on Phabricator and on MediaWiki.org.   \n",
              "    Graphs are unavailable due to technical issues. There is more info on Phabricator and on MediaWiki.org.   \n",
              "    Graphs are unavailable due to technical issues. There is more info on Phabricator and on MediaWiki.org.   \n",
              "    Graphs are unavailable due to technical issues. There is more info on Phabricator and on MediaWiki.org.   \n",
              "    Graphs are unavailable due to technical issues. There is more info on Phabricator and on MediaWiki.org.   \n",
              "    Graphs are unavailable due to technical issues. There is more info on Phabricator and on MediaWiki.org.   \n",
              "    Graphs are unavailable due to technical issues. There is more info on Phabricator and on MediaWiki.org.   \n",
              "    Graphs are unavailable due to technical issues. There is more info on Phabricator and on MediaWiki.org.   \n",
              "    Graphs are unavailable due to technical issues. There is more info on Phabricator and on MediaWiki.org.   \n",
              "    Graphs are unavailable due to technical issues. There is more info on Phabricator and on MediaWiki.org.   \n",
              "    Graphs are unavailable due to technical issues. There is more info on Phabricator and on MediaWiki.org.   \n",
              " 0                                                 NaN                                                        \n",
              " 1                                                   1                                                        \n",
              " 2                                                   2                                                        \n",
              " 3                                                   3                                                        \n",
              " 4                                                   4                                                        \n",
              " 5                                                   5                                                        \n",
              " 6                                                   6                                                        \n",
              " 7                                                   7                                                        \n",
              " 8                                                   8                                                        \n",
              " 9                                                   9                                                        \n",
              " 10                                                 10                                                        \n",
              " 11                                                NaN                                                        \n",
              " 12  Notes: ^ 2030 = Medium variant. ^ China exclud...                                                        \n",
              " \n",
              "                               Most populous countries  \\\n",
              "                                    Unnamed: 1_level_1   \n",
              "                                    Unnamed: 1_level_2   \n",
              "                                    Unnamed: 1_level_3   \n",
              "                                    Unnamed: 1_level_4   \n",
              "                                    Unnamed: 1_level_5   \n",
              "                                    Unnamed: 1_level_6   \n",
              "                                    Unnamed: 1_level_7   \n",
              "                                    Unnamed: 1_level_8   \n",
              "                                    Unnamed: 1_level_9   \n",
              "                                   Unnamed: 1_level_10   \n",
              "                                   Unnamed: 1_level_11   \n",
              " 0   Graphs are unavailable due to technical issues...   \n",
              " 1                                            China[B]   \n",
              " 2                                               India   \n",
              " 3                                       United States   \n",
              " 4                                           Indonesia   \n",
              " 5                                            Pakistan   \n",
              " 6                                              Brazil   \n",
              " 7                                             Nigeria   \n",
              " 8                                          Bangladesh   \n",
              " 9                                              Russia   \n",
              " 10                                             Mexico   \n",
              " 11                                        World total   \n",
              " 12  Notes: ^ 2030 = Medium variant. ^ China exclud...   \n",
              " \n",
              "                                                  2000  \\\n",
              "                                    Unnamed: 2_level_1   \n",
              "                                    Unnamed: 2_level_2   \n",
              "                                    Unnamed: 2_level_3   \n",
              "                                    Unnamed: 2_level_4   \n",
              "                                    Unnamed: 2_level_5   \n",
              "                                    Unnamed: 2_level_6   \n",
              "                                    Unnamed: 2_level_7   \n",
              "                                    Unnamed: 2_level_8   \n",
              "                                    Unnamed: 2_level_9   \n",
              "                                   Unnamed: 2_level_10   \n",
              "                                   Unnamed: 2_level_11   \n",
              " 0                                                 NaN   \n",
              " 1                                                1270   \n",
              " 2                                                1053   \n",
              " 3                                                 283   \n",
              " 4                                                 212   \n",
              " 5                                                 136   \n",
              " 6                                                 176   \n",
              " 7                                                 123   \n",
              " 8                                                 131   \n",
              " 9                                                 146   \n",
              " 10                                                103   \n",
              " 11                                               6127   \n",
              " 12  Notes: ^ 2030 = Medium variant. ^ China exclud...   \n",
              " \n",
              "                                                  2015  \\\n",
              "                                    Unnamed: 3_level_1   \n",
              "                                    Unnamed: 3_level_2   \n",
              "                                    Unnamed: 3_level_3   \n",
              "                                    Unnamed: 3_level_4   \n",
              "                                    Unnamed: 3_level_5   \n",
              "                                    Unnamed: 3_level_6   \n",
              "                                    Unnamed: 3_level_7   \n",
              "                                    Unnamed: 3_level_8   \n",
              "                                    Unnamed: 3_level_9   \n",
              "                                   Unnamed: 3_level_10   \n",
              "                                   Unnamed: 3_level_11   \n",
              " 0                                                 NaN   \n",
              " 1                                                1376   \n",
              " 2                                                1311   \n",
              " 3                                                 322   \n",
              " 4                                                 258   \n",
              " 5                                                 208   \n",
              " 6                                                 206   \n",
              " 7                                                 182   \n",
              " 8                                                 161   \n",
              " 9                                                 146   \n",
              " 10                                                127   \n",
              " 11                                               7349   \n",
              " 12  Notes: ^ 2030 = Medium variant. ^ China exclud...   \n",
              " \n",
              "                                               2030[A]  \\\n",
              "                                    Unnamed: 4_level_1   \n",
              "                                    Unnamed: 4_level_2   \n",
              "                                    Unnamed: 4_level_3   \n",
              "                                    Unnamed: 4_level_4   \n",
              "                                    Unnamed: 4_level_5   \n",
              "                                    Unnamed: 4_level_6   \n",
              "                                    Unnamed: 4_level_7   \n",
              "                                    Unnamed: 4_level_8   \n",
              "                                    Unnamed: 4_level_9   \n",
              "                                   Unnamed: 4_level_10   \n",
              "                                   Unnamed: 4_level_11   \n",
              " 0                                                 NaN   \n",
              " 1                                                1416   \n",
              " 2                                                1528   \n",
              " 3                                                 356   \n",
              " 4                                                 295   \n",
              " 5                                                 245   \n",
              " 6                                                 228   \n",
              " 7                                                 263   \n",
              " 8                                                 186   \n",
              " 9                                                 149   \n",
              " 10                                                148   \n",
              " 11                                               8501   \n",
              " 12  Notes: ^ 2030 = Medium variant. ^ China exclud...   \n",
              " \n",
              "    Graphs are unavailable due to technical issues. There is more info on Phabricator and on MediaWiki.org.  \n",
              "                                                                                         Unnamed: 5_level_1  \n",
              "                                                                                         Unnamed: 5_level_2  \n",
              "                                                                                         Unnamed: 5_level_3  \n",
              "                                                                                         Unnamed: 5_level_4  \n",
              "                                                                                         Unnamed: 5_level_5  \n",
              "                                                                                         Unnamed: 5_level_6  \n",
              "                                                                                         Unnamed: 5_level_7  \n",
              "                                                                                         Unnamed: 5_level_8  \n",
              "                                                                                         Unnamed: 5_level_9  \n",
              "                                                                                        Unnamed: 5_level_10  \n",
              "                                                                                        Unnamed: 5_level_11  \n",
              " 0                                                 NaN                                                       \n",
              " 1                                                 NaN                                                       \n",
              " 2                                                 NaN                                                       \n",
              " 3                                                 NaN                                                       \n",
              " 4                                                 NaN                                                       \n",
              " 5                                                 NaN                                                       \n",
              " 6                                                 NaN                                                       \n",
              " 7                                                 NaN                                                       \n",
              " 8                                                 NaN                                                       \n",
              " 9                                                 NaN                                                       \n",
              " 10                                                NaN                                                       \n",
              " 11                                                NaN                                                       \n",
              " 12  Notes: ^ 2030 = Medium variant. ^ China exclud...                                                       ,\n",
              "     0                                                  1\n",
              " 0 NaN  Graphs are unavailable due to technical issues...]"
            ]
          },
          "metadata": {},
          "execution_count": 31
        }
      ],
      "source": [
        "pd.read_html(str(tables[5]), flavor='bs4')"
      ],
      "execution_count": 31
    },
    {
      "cell_type": "markdown",
      "metadata": {
        "id": "495dd6a5-470b-4390-a516-d55ec08a4f98"
      },
      "source": [
        "The function `read_html` always returns a list of DataFrames so we must pick the one we want out of the list.\n"
      ]
    },
    {
      "cell_type": "code",
      "metadata": {
        "id": "4758f9b3-fb0a-42a6-bee4-c30f5273f91b",
        "colab": {
          "base_uri": "https://localhost:8080/",
          "height": 1000
        },
        "outputId": "b5ede61e-4bd5-4913-9a75-293547682fc6"
      },
      "outputs": [
        {
          "output_type": "stream",
          "name": "stderr",
          "text": [
            "<ipython-input-33-f3ca1f0ca0b3>:1: FutureWarning: Passing literal html to 'read_html' is deprecated and will be removed in a future version. To read from a literal string, wrap it in a 'StringIO' object.\n",
            "  population_data_read_html = pd.read_html(str(tables[5]), flavor='bs4')[0]\n"
          ]
        },
        {
          "output_type": "execute_result",
          "data": {
            "text/plain": [
              "                                                                                                         #  \\\n",
              "   Graphs are unavailable due to technical issues. There is more info on Phabricator and on MediaWiki.org.   \n",
              "   Graphs are unavailable due to technical issues. There is more info on Phabricator and on MediaWiki.org.   \n",
              "   Graphs are unavailable due to technical issues. There is more info on Phabricator and on MediaWiki.org.   \n",
              "   Graphs are unavailable due to technical issues. There is more info on Phabricator and on MediaWiki.org.   \n",
              "   Graphs are unavailable due to technical issues. There is more info on Phabricator and on MediaWiki.org.   \n",
              "   Graphs are unavailable due to technical issues. There is more info on Phabricator and on MediaWiki.org.   \n",
              "   Graphs are unavailable due to technical issues. There is more info on Phabricator and on MediaWiki.org.   \n",
              "   Graphs are unavailable due to technical issues. There is more info on Phabricator and on MediaWiki.org.   \n",
              "   Graphs are unavailable due to technical issues. There is more info on Phabricator and on MediaWiki.org.   \n",
              "   Graphs are unavailable due to technical issues. There is more info on Phabricator and on MediaWiki.org.   \n",
              "   Graphs are unavailable due to technical issues. There is more info on Phabricator and on MediaWiki.org.   \n",
              "0                                                 NaN                                                        \n",
              "1                                                   1                                                        \n",
              "2                                                   2                                                        \n",
              "3                                                   3                                                        \n",
              "4                                                   4                                                        \n",
              "5                                                   5                                                        \n",
              "6                                                   6                                                        \n",
              "7                                                   7                                                        \n",
              "8                                                   8                                                        \n",
              "9                                                   9                                                        \n",
              "10                                                 10                                                        \n",
              "11                                                NaN                                                        \n",
              "12  Notes: ^ 2030 = Medium variant. ^ China exclud...                                                        \n",
              "\n",
              "                              Most populous countries  \\\n",
              "                                   Unnamed: 1_level_1   \n",
              "                                   Unnamed: 1_level_2   \n",
              "                                   Unnamed: 1_level_3   \n",
              "                                   Unnamed: 1_level_4   \n",
              "                                   Unnamed: 1_level_5   \n",
              "                                   Unnamed: 1_level_6   \n",
              "                                   Unnamed: 1_level_7   \n",
              "                                   Unnamed: 1_level_8   \n",
              "                                   Unnamed: 1_level_9   \n",
              "                                  Unnamed: 1_level_10   \n",
              "                                  Unnamed: 1_level_11   \n",
              "0   Graphs are unavailable due to technical issues...   \n",
              "1                                            China[B]   \n",
              "2                                               India   \n",
              "3                                       United States   \n",
              "4                                           Indonesia   \n",
              "5                                            Pakistan   \n",
              "6                                              Brazil   \n",
              "7                                             Nigeria   \n",
              "8                                          Bangladesh   \n",
              "9                                              Russia   \n",
              "10                                             Mexico   \n",
              "11                                        World total   \n",
              "12  Notes: ^ 2030 = Medium variant. ^ China exclud...   \n",
              "\n",
              "                                                 2000  \\\n",
              "                                   Unnamed: 2_level_1   \n",
              "                                   Unnamed: 2_level_2   \n",
              "                                   Unnamed: 2_level_3   \n",
              "                                   Unnamed: 2_level_4   \n",
              "                                   Unnamed: 2_level_5   \n",
              "                                   Unnamed: 2_level_6   \n",
              "                                   Unnamed: 2_level_7   \n",
              "                                   Unnamed: 2_level_8   \n",
              "                                   Unnamed: 2_level_9   \n",
              "                                  Unnamed: 2_level_10   \n",
              "                                  Unnamed: 2_level_11   \n",
              "0                                                 NaN   \n",
              "1                                                1270   \n",
              "2                                                1053   \n",
              "3                                                 283   \n",
              "4                                                 212   \n",
              "5                                                 136   \n",
              "6                                                 176   \n",
              "7                                                 123   \n",
              "8                                                 131   \n",
              "9                                                 146   \n",
              "10                                                103   \n",
              "11                                               6127   \n",
              "12  Notes: ^ 2030 = Medium variant. ^ China exclud...   \n",
              "\n",
              "                                                 2015  \\\n",
              "                                   Unnamed: 3_level_1   \n",
              "                                   Unnamed: 3_level_2   \n",
              "                                   Unnamed: 3_level_3   \n",
              "                                   Unnamed: 3_level_4   \n",
              "                                   Unnamed: 3_level_5   \n",
              "                                   Unnamed: 3_level_6   \n",
              "                                   Unnamed: 3_level_7   \n",
              "                                   Unnamed: 3_level_8   \n",
              "                                   Unnamed: 3_level_9   \n",
              "                                  Unnamed: 3_level_10   \n",
              "                                  Unnamed: 3_level_11   \n",
              "0                                                 NaN   \n",
              "1                                                1376   \n",
              "2                                                1311   \n",
              "3                                                 322   \n",
              "4                                                 258   \n",
              "5                                                 208   \n",
              "6                                                 206   \n",
              "7                                                 182   \n",
              "8                                                 161   \n",
              "9                                                 146   \n",
              "10                                                127   \n",
              "11                                               7349   \n",
              "12  Notes: ^ 2030 = Medium variant. ^ China exclud...   \n",
              "\n",
              "                                              2030[A]  \\\n",
              "                                   Unnamed: 4_level_1   \n",
              "                                   Unnamed: 4_level_2   \n",
              "                                   Unnamed: 4_level_3   \n",
              "                                   Unnamed: 4_level_4   \n",
              "                                   Unnamed: 4_level_5   \n",
              "                                   Unnamed: 4_level_6   \n",
              "                                   Unnamed: 4_level_7   \n",
              "                                   Unnamed: 4_level_8   \n",
              "                                   Unnamed: 4_level_9   \n",
              "                                  Unnamed: 4_level_10   \n",
              "                                  Unnamed: 4_level_11   \n",
              "0                                                 NaN   \n",
              "1                                                1416   \n",
              "2                                                1528   \n",
              "3                                                 356   \n",
              "4                                                 295   \n",
              "5                                                 245   \n",
              "6                                                 228   \n",
              "7                                                 263   \n",
              "8                                                 186   \n",
              "9                                                 149   \n",
              "10                                                148   \n",
              "11                                               8501   \n",
              "12  Notes: ^ 2030 = Medium variant. ^ China exclud...   \n",
              "\n",
              "   Graphs are unavailable due to technical issues. There is more info on Phabricator and on MediaWiki.org.  \n",
              "                                                                                        Unnamed: 5_level_1  \n",
              "                                                                                        Unnamed: 5_level_2  \n",
              "                                                                                        Unnamed: 5_level_3  \n",
              "                                                                                        Unnamed: 5_level_4  \n",
              "                                                                                        Unnamed: 5_level_5  \n",
              "                                                                                        Unnamed: 5_level_6  \n",
              "                                                                                        Unnamed: 5_level_7  \n",
              "                                                                                        Unnamed: 5_level_8  \n",
              "                                                                                        Unnamed: 5_level_9  \n",
              "                                                                                       Unnamed: 5_level_10  \n",
              "                                                                                       Unnamed: 5_level_11  \n",
              "0                                                 NaN                                                       \n",
              "1                                                 NaN                                                       \n",
              "2                                                 NaN                                                       \n",
              "3                                                 NaN                                                       \n",
              "4                                                 NaN                                                       \n",
              "5                                                 NaN                                                       \n",
              "6                                                 NaN                                                       \n",
              "7                                                 NaN                                                       \n",
              "8                                                 NaN                                                       \n",
              "9                                                 NaN                                                       \n",
              "10                                                NaN                                                       \n",
              "11                                                NaN                                                       \n",
              "12  Notes: ^ 2030 = Medium variant. ^ China exclud...                                                       "
            ],
            "text/html": [
              "\n",
              "  <div id=\"df-b0bcc315-22c0-40bd-aa51-4fd977e6e787\" class=\"colab-df-container\">\n",
              "    <div>\n",
              "<style scoped>\n",
              "    .dataframe tbody tr th:only-of-type {\n",
              "        vertical-align: middle;\n",
              "    }\n",
              "\n",
              "    .dataframe tbody tr th {\n",
              "        vertical-align: top;\n",
              "    }\n",
              "\n",
              "    .dataframe thead tr th {\n",
              "        text-align: left;\n",
              "    }\n",
              "</style>\n",
              "<table border=\"1\" class=\"dataframe\">\n",
              "  <thead>\n",
              "    <tr>\n",
              "      <th></th>\n",
              "      <th>#</th>\n",
              "      <th>Most populous countries</th>\n",
              "      <th>2000</th>\n",
              "      <th>2015</th>\n",
              "      <th>2030[A]</th>\n",
              "      <th>Graphs are unavailable due to technical issues. There is more info on Phabricator and on MediaWiki.org.</th>\n",
              "    </tr>\n",
              "    <tr>\n",
              "      <th></th>\n",
              "      <th>Graphs are unavailable due to technical issues. There is more info on Phabricator and on MediaWiki.org.</th>\n",
              "      <th>Unnamed: 1_level_1</th>\n",
              "      <th>Unnamed: 2_level_1</th>\n",
              "      <th>Unnamed: 3_level_1</th>\n",
              "      <th>Unnamed: 4_level_1</th>\n",
              "      <th>Unnamed: 5_level_1</th>\n",
              "    </tr>\n",
              "    <tr>\n",
              "      <th></th>\n",
              "      <th>Graphs are unavailable due to technical issues. There is more info on Phabricator and on MediaWiki.org.</th>\n",
              "      <th>Unnamed: 1_level_2</th>\n",
              "      <th>Unnamed: 2_level_2</th>\n",
              "      <th>Unnamed: 3_level_2</th>\n",
              "      <th>Unnamed: 4_level_2</th>\n",
              "      <th>Unnamed: 5_level_2</th>\n",
              "    </tr>\n",
              "    <tr>\n",
              "      <th></th>\n",
              "      <th>Graphs are unavailable due to technical issues. There is more info on Phabricator and on MediaWiki.org.</th>\n",
              "      <th>Unnamed: 1_level_3</th>\n",
              "      <th>Unnamed: 2_level_3</th>\n",
              "      <th>Unnamed: 3_level_3</th>\n",
              "      <th>Unnamed: 4_level_3</th>\n",
              "      <th>Unnamed: 5_level_3</th>\n",
              "    </tr>\n",
              "    <tr>\n",
              "      <th></th>\n",
              "      <th>Graphs are unavailable due to technical issues. There is more info on Phabricator and on MediaWiki.org.</th>\n",
              "      <th>Unnamed: 1_level_4</th>\n",
              "      <th>Unnamed: 2_level_4</th>\n",
              "      <th>Unnamed: 3_level_4</th>\n",
              "      <th>Unnamed: 4_level_4</th>\n",
              "      <th>Unnamed: 5_level_4</th>\n",
              "    </tr>\n",
              "    <tr>\n",
              "      <th></th>\n",
              "      <th>Graphs are unavailable due to technical issues. There is more info on Phabricator and on MediaWiki.org.</th>\n",
              "      <th>Unnamed: 1_level_5</th>\n",
              "      <th>Unnamed: 2_level_5</th>\n",
              "      <th>Unnamed: 3_level_5</th>\n",
              "      <th>Unnamed: 4_level_5</th>\n",
              "      <th>Unnamed: 5_level_5</th>\n",
              "    </tr>\n",
              "    <tr>\n",
              "      <th></th>\n",
              "      <th>Graphs are unavailable due to technical issues. There is more info on Phabricator and on MediaWiki.org.</th>\n",
              "      <th>Unnamed: 1_level_6</th>\n",
              "      <th>Unnamed: 2_level_6</th>\n",
              "      <th>Unnamed: 3_level_6</th>\n",
              "      <th>Unnamed: 4_level_6</th>\n",
              "      <th>Unnamed: 5_level_6</th>\n",
              "    </tr>\n",
              "    <tr>\n",
              "      <th></th>\n",
              "      <th>Graphs are unavailable due to technical issues. There is more info on Phabricator and on MediaWiki.org.</th>\n",
              "      <th>Unnamed: 1_level_7</th>\n",
              "      <th>Unnamed: 2_level_7</th>\n",
              "      <th>Unnamed: 3_level_7</th>\n",
              "      <th>Unnamed: 4_level_7</th>\n",
              "      <th>Unnamed: 5_level_7</th>\n",
              "    </tr>\n",
              "    <tr>\n",
              "      <th></th>\n",
              "      <th>Graphs are unavailable due to technical issues. There is more info on Phabricator and on MediaWiki.org.</th>\n",
              "      <th>Unnamed: 1_level_8</th>\n",
              "      <th>Unnamed: 2_level_8</th>\n",
              "      <th>Unnamed: 3_level_8</th>\n",
              "      <th>Unnamed: 4_level_8</th>\n",
              "      <th>Unnamed: 5_level_8</th>\n",
              "    </tr>\n",
              "    <tr>\n",
              "      <th></th>\n",
              "      <th>Graphs are unavailable due to technical issues. There is more info on Phabricator and on MediaWiki.org.</th>\n",
              "      <th>Unnamed: 1_level_9</th>\n",
              "      <th>Unnamed: 2_level_9</th>\n",
              "      <th>Unnamed: 3_level_9</th>\n",
              "      <th>Unnamed: 4_level_9</th>\n",
              "      <th>Unnamed: 5_level_9</th>\n",
              "    </tr>\n",
              "    <tr>\n",
              "      <th></th>\n",
              "      <th>Graphs are unavailable due to technical issues. There is more info on Phabricator and on MediaWiki.org.</th>\n",
              "      <th>Unnamed: 1_level_10</th>\n",
              "      <th>Unnamed: 2_level_10</th>\n",
              "      <th>Unnamed: 3_level_10</th>\n",
              "      <th>Unnamed: 4_level_10</th>\n",
              "      <th>Unnamed: 5_level_10</th>\n",
              "    </tr>\n",
              "    <tr>\n",
              "      <th></th>\n",
              "      <th>Graphs are unavailable due to technical issues. There is more info on Phabricator and on MediaWiki.org.</th>\n",
              "      <th>Unnamed: 1_level_11</th>\n",
              "      <th>Unnamed: 2_level_11</th>\n",
              "      <th>Unnamed: 3_level_11</th>\n",
              "      <th>Unnamed: 4_level_11</th>\n",
              "      <th>Unnamed: 5_level_11</th>\n",
              "    </tr>\n",
              "  </thead>\n",
              "  <tbody>\n",
              "    <tr>\n",
              "      <th>0</th>\n",
              "      <td>NaN</td>\n",
              "      <td>Graphs are unavailable due to technical issues...</td>\n",
              "      <td>NaN</td>\n",
              "      <td>NaN</td>\n",
              "      <td>NaN</td>\n",
              "      <td>NaN</td>\n",
              "    </tr>\n",
              "    <tr>\n",
              "      <th>1</th>\n",
              "      <td>1</td>\n",
              "      <td>China[B]</td>\n",
              "      <td>1270</td>\n",
              "      <td>1376</td>\n",
              "      <td>1416</td>\n",
              "      <td>NaN</td>\n",
              "    </tr>\n",
              "    <tr>\n",
              "      <th>2</th>\n",
              "      <td>2</td>\n",
              "      <td>India</td>\n",
              "      <td>1053</td>\n",
              "      <td>1311</td>\n",
              "      <td>1528</td>\n",
              "      <td>NaN</td>\n",
              "    </tr>\n",
              "    <tr>\n",
              "      <th>3</th>\n",
              "      <td>3</td>\n",
              "      <td>United States</td>\n",
              "      <td>283</td>\n",
              "      <td>322</td>\n",
              "      <td>356</td>\n",
              "      <td>NaN</td>\n",
              "    </tr>\n",
              "    <tr>\n",
              "      <th>4</th>\n",
              "      <td>4</td>\n",
              "      <td>Indonesia</td>\n",
              "      <td>212</td>\n",
              "      <td>258</td>\n",
              "      <td>295</td>\n",
              "      <td>NaN</td>\n",
              "    </tr>\n",
              "    <tr>\n",
              "      <th>5</th>\n",
              "      <td>5</td>\n",
              "      <td>Pakistan</td>\n",
              "      <td>136</td>\n",
              "      <td>208</td>\n",
              "      <td>245</td>\n",
              "      <td>NaN</td>\n",
              "    </tr>\n",
              "    <tr>\n",
              "      <th>6</th>\n",
              "      <td>6</td>\n",
              "      <td>Brazil</td>\n",
              "      <td>176</td>\n",
              "      <td>206</td>\n",
              "      <td>228</td>\n",
              "      <td>NaN</td>\n",
              "    </tr>\n",
              "    <tr>\n",
              "      <th>7</th>\n",
              "      <td>7</td>\n",
              "      <td>Nigeria</td>\n",
              "      <td>123</td>\n",
              "      <td>182</td>\n",
              "      <td>263</td>\n",
              "      <td>NaN</td>\n",
              "    </tr>\n",
              "    <tr>\n",
              "      <th>8</th>\n",
              "      <td>8</td>\n",
              "      <td>Bangladesh</td>\n",
              "      <td>131</td>\n",
              "      <td>161</td>\n",
              "      <td>186</td>\n",
              "      <td>NaN</td>\n",
              "    </tr>\n",
              "    <tr>\n",
              "      <th>9</th>\n",
              "      <td>9</td>\n",
              "      <td>Russia</td>\n",
              "      <td>146</td>\n",
              "      <td>146</td>\n",
              "      <td>149</td>\n",
              "      <td>NaN</td>\n",
              "    </tr>\n",
              "    <tr>\n",
              "      <th>10</th>\n",
              "      <td>10</td>\n",
              "      <td>Mexico</td>\n",
              "      <td>103</td>\n",
              "      <td>127</td>\n",
              "      <td>148</td>\n",
              "      <td>NaN</td>\n",
              "    </tr>\n",
              "    <tr>\n",
              "      <th>11</th>\n",
              "      <td>NaN</td>\n",
              "      <td>World total</td>\n",
              "      <td>6127</td>\n",
              "      <td>7349</td>\n",
              "      <td>8501</td>\n",
              "      <td>NaN</td>\n",
              "    </tr>\n",
              "    <tr>\n",
              "      <th>12</th>\n",
              "      <td>Notes: ^ 2030 = Medium variant. ^ China exclud...</td>\n",
              "      <td>Notes: ^ 2030 = Medium variant. ^ China exclud...</td>\n",
              "      <td>Notes: ^ 2030 = Medium variant. ^ China exclud...</td>\n",
              "      <td>Notes: ^ 2030 = Medium variant. ^ China exclud...</td>\n",
              "      <td>Notes: ^ 2030 = Medium variant. ^ China exclud...</td>\n",
              "      <td>Notes: ^ 2030 = Medium variant. ^ China exclud...</td>\n",
              "    </tr>\n",
              "  </tbody>\n",
              "</table>\n",
              "</div>\n",
              "    <div class=\"colab-df-buttons\">\n",
              "\n",
              "  <div class=\"colab-df-container\">\n",
              "    <button class=\"colab-df-convert\" onclick=\"convertToInteractive('df-b0bcc315-22c0-40bd-aa51-4fd977e6e787')\"\n",
              "            title=\"Convert this dataframe to an interactive table.\"\n",
              "            style=\"display:none;\">\n",
              "\n",
              "  <svg xmlns=\"http://www.w3.org/2000/svg\" height=\"24px\" viewBox=\"0 -960 960 960\">\n",
              "    <path d=\"M120-120v-720h720v720H120Zm60-500h600v-160H180v160Zm220 220h160v-160H400v160Zm0 220h160v-160H400v160ZM180-400h160v-160H180v160Zm440 0h160v-160H620v160ZM180-180h160v-160H180v160Zm440 0h160v-160H620v160Z\"/>\n",
              "  </svg>\n",
              "    </button>\n",
              "\n",
              "  <style>\n",
              "    .colab-df-container {\n",
              "      display:flex;\n",
              "      gap: 12px;\n",
              "    }\n",
              "\n",
              "    .colab-df-convert {\n",
              "      background-color: #E8F0FE;\n",
              "      border: none;\n",
              "      border-radius: 50%;\n",
              "      cursor: pointer;\n",
              "      display: none;\n",
              "      fill: #1967D2;\n",
              "      height: 32px;\n",
              "      padding: 0 0 0 0;\n",
              "      width: 32px;\n",
              "    }\n",
              "\n",
              "    .colab-df-convert:hover {\n",
              "      background-color: #E2EBFA;\n",
              "      box-shadow: 0px 1px 2px rgba(60, 64, 67, 0.3), 0px 1px 3px 1px rgba(60, 64, 67, 0.15);\n",
              "      fill: #174EA6;\n",
              "    }\n",
              "\n",
              "    .colab-df-buttons div {\n",
              "      margin-bottom: 4px;\n",
              "    }\n",
              "\n",
              "    [theme=dark] .colab-df-convert {\n",
              "      background-color: #3B4455;\n",
              "      fill: #D2E3FC;\n",
              "    }\n",
              "\n",
              "    [theme=dark] .colab-df-convert:hover {\n",
              "      background-color: #434B5C;\n",
              "      box-shadow: 0px 1px 3px 1px rgba(0, 0, 0, 0.15);\n",
              "      filter: drop-shadow(0px 1px 2px rgba(0, 0, 0, 0.3));\n",
              "      fill: #FFFFFF;\n",
              "    }\n",
              "  </style>\n",
              "\n",
              "    <script>\n",
              "      const buttonEl =\n",
              "        document.querySelector('#df-b0bcc315-22c0-40bd-aa51-4fd977e6e787 button.colab-df-convert');\n",
              "      buttonEl.style.display =\n",
              "        google.colab.kernel.accessAllowed ? 'block' : 'none';\n",
              "\n",
              "      async function convertToInteractive(key) {\n",
              "        const element = document.querySelector('#df-b0bcc315-22c0-40bd-aa51-4fd977e6e787');\n",
              "        const dataTable =\n",
              "          await google.colab.kernel.invokeFunction('convertToInteractive',\n",
              "                                                    [key], {});\n",
              "        if (!dataTable) return;\n",
              "\n",
              "        const docLinkHtml = 'Like what you see? Visit the ' +\n",
              "          '<a target=\"_blank\" href=https://colab.research.google.com/notebooks/data_table.ipynb>data table notebook</a>'\n",
              "          + ' to learn more about interactive tables.';\n",
              "        element.innerHTML = '';\n",
              "        dataTable['output_type'] = 'display_data';\n",
              "        await google.colab.output.renderOutput(dataTable, element);\n",
              "        const docLink = document.createElement('div');\n",
              "        docLink.innerHTML = docLinkHtml;\n",
              "        element.appendChild(docLink);\n",
              "      }\n",
              "    </script>\n",
              "  </div>\n",
              "\n",
              "\n",
              "<div id=\"df-8852929a-03f2-4bd7-b57f-2db69ee01765\">\n",
              "  <button class=\"colab-df-quickchart\" onclick=\"quickchart('df-8852929a-03f2-4bd7-b57f-2db69ee01765')\"\n",
              "            title=\"Suggest charts\"\n",
              "            style=\"display:none;\">\n",
              "\n",
              "<svg xmlns=\"http://www.w3.org/2000/svg\" height=\"24px\"viewBox=\"0 0 24 24\"\n",
              "     width=\"24px\">\n",
              "    <g>\n",
              "        <path d=\"M19 3H5c-1.1 0-2 .9-2 2v14c0 1.1.9 2 2 2h14c1.1 0 2-.9 2-2V5c0-1.1-.9-2-2-2zM9 17H7v-7h2v7zm4 0h-2V7h2v10zm4 0h-2v-4h2v4z\"/>\n",
              "    </g>\n",
              "</svg>\n",
              "  </button>\n",
              "\n",
              "<style>\n",
              "  .colab-df-quickchart {\n",
              "      --bg-color: #E8F0FE;\n",
              "      --fill-color: #1967D2;\n",
              "      --hover-bg-color: #E2EBFA;\n",
              "      --hover-fill-color: #174EA6;\n",
              "      --disabled-fill-color: #AAA;\n",
              "      --disabled-bg-color: #DDD;\n",
              "  }\n",
              "\n",
              "  [theme=dark] .colab-df-quickchart {\n",
              "      --bg-color: #3B4455;\n",
              "      --fill-color: #D2E3FC;\n",
              "      --hover-bg-color: #434B5C;\n",
              "      --hover-fill-color: #FFFFFF;\n",
              "      --disabled-bg-color: #3B4455;\n",
              "      --disabled-fill-color: #666;\n",
              "  }\n",
              "\n",
              "  .colab-df-quickchart {\n",
              "    background-color: var(--bg-color);\n",
              "    border: none;\n",
              "    border-radius: 50%;\n",
              "    cursor: pointer;\n",
              "    display: none;\n",
              "    fill: var(--fill-color);\n",
              "    height: 32px;\n",
              "    padding: 0;\n",
              "    width: 32px;\n",
              "  }\n",
              "\n",
              "  .colab-df-quickchart:hover {\n",
              "    background-color: var(--hover-bg-color);\n",
              "    box-shadow: 0 1px 2px rgba(60, 64, 67, 0.3), 0 1px 3px 1px rgba(60, 64, 67, 0.15);\n",
              "    fill: var(--button-hover-fill-color);\n",
              "  }\n",
              "\n",
              "  .colab-df-quickchart-complete:disabled,\n",
              "  .colab-df-quickchart-complete:disabled:hover {\n",
              "    background-color: var(--disabled-bg-color);\n",
              "    fill: var(--disabled-fill-color);\n",
              "    box-shadow: none;\n",
              "  }\n",
              "\n",
              "  .colab-df-spinner {\n",
              "    border: 2px solid var(--fill-color);\n",
              "    border-color: transparent;\n",
              "    border-bottom-color: var(--fill-color);\n",
              "    animation:\n",
              "      spin 1s steps(1) infinite;\n",
              "  }\n",
              "\n",
              "  @keyframes spin {\n",
              "    0% {\n",
              "      border-color: transparent;\n",
              "      border-bottom-color: var(--fill-color);\n",
              "      border-left-color: var(--fill-color);\n",
              "    }\n",
              "    20% {\n",
              "      border-color: transparent;\n",
              "      border-left-color: var(--fill-color);\n",
              "      border-top-color: var(--fill-color);\n",
              "    }\n",
              "    30% {\n",
              "      border-color: transparent;\n",
              "      border-left-color: var(--fill-color);\n",
              "      border-top-color: var(--fill-color);\n",
              "      border-right-color: var(--fill-color);\n",
              "    }\n",
              "    40% {\n",
              "      border-color: transparent;\n",
              "      border-right-color: var(--fill-color);\n",
              "      border-top-color: var(--fill-color);\n",
              "    }\n",
              "    60% {\n",
              "      border-color: transparent;\n",
              "      border-right-color: var(--fill-color);\n",
              "    }\n",
              "    80% {\n",
              "      border-color: transparent;\n",
              "      border-right-color: var(--fill-color);\n",
              "      border-bottom-color: var(--fill-color);\n",
              "    }\n",
              "    90% {\n",
              "      border-color: transparent;\n",
              "      border-bottom-color: var(--fill-color);\n",
              "    }\n",
              "  }\n",
              "</style>\n",
              "\n",
              "  <script>\n",
              "    async function quickchart(key) {\n",
              "      const quickchartButtonEl =\n",
              "        document.querySelector('#' + key + ' button');\n",
              "      quickchartButtonEl.disabled = true;  // To prevent multiple clicks.\n",
              "      quickchartButtonEl.classList.add('colab-df-spinner');\n",
              "      try {\n",
              "        const charts = await google.colab.kernel.invokeFunction(\n",
              "            'suggestCharts', [key], {});\n",
              "      } catch (error) {\n",
              "        console.error('Error during call to suggestCharts:', error);\n",
              "      }\n",
              "      quickchartButtonEl.classList.remove('colab-df-spinner');\n",
              "      quickchartButtonEl.classList.add('colab-df-quickchart-complete');\n",
              "    }\n",
              "    (() => {\n",
              "      let quickchartButtonEl =\n",
              "        document.querySelector('#df-8852929a-03f2-4bd7-b57f-2db69ee01765 button');\n",
              "      quickchartButtonEl.style.display =\n",
              "        google.colab.kernel.accessAllowed ? 'block' : 'none';\n",
              "    })();\n",
              "  </script>\n",
              "</div>\n",
              "\n",
              "  <div id=\"id_bffc063e-7677-4d00-a29b-48c53bb006ea\">\n",
              "    <style>\n",
              "      .colab-df-generate {\n",
              "        background-color: #E8F0FE;\n",
              "        border: none;\n",
              "        border-radius: 50%;\n",
              "        cursor: pointer;\n",
              "        display: none;\n",
              "        fill: #1967D2;\n",
              "        height: 32px;\n",
              "        padding: 0 0 0 0;\n",
              "        width: 32px;\n",
              "      }\n",
              "\n",
              "      .colab-df-generate:hover {\n",
              "        background-color: #E2EBFA;\n",
              "        box-shadow: 0px 1px 2px rgba(60, 64, 67, 0.3), 0px 1px 3px 1px rgba(60, 64, 67, 0.15);\n",
              "        fill: #174EA6;\n",
              "      }\n",
              "\n",
              "      [theme=dark] .colab-df-generate {\n",
              "        background-color: #3B4455;\n",
              "        fill: #D2E3FC;\n",
              "      }\n",
              "\n",
              "      [theme=dark] .colab-df-generate:hover {\n",
              "        background-color: #434B5C;\n",
              "        box-shadow: 0px 1px 3px 1px rgba(0, 0, 0, 0.15);\n",
              "        filter: drop-shadow(0px 1px 2px rgba(0, 0, 0, 0.3));\n",
              "        fill: #FFFFFF;\n",
              "      }\n",
              "    </style>\n",
              "    <button class=\"colab-df-generate\" onclick=\"generateWithVariable('population_data_read_html')\"\n",
              "            title=\"Generate code using this dataframe.\"\n",
              "            style=\"display:none;\">\n",
              "\n",
              "  <svg xmlns=\"http://www.w3.org/2000/svg\" height=\"24px\"viewBox=\"0 0 24 24\"\n",
              "       width=\"24px\">\n",
              "    <path d=\"M7,19H8.4L18.45,9,17,7.55,7,17.6ZM5,21V16.75L18.45,3.32a2,2,0,0,1,2.83,0l1.4,1.43a1.91,1.91,0,0,1,.58,1.4,1.91,1.91,0,0,1-.58,1.4L9.25,21ZM18.45,9,17,7.55Zm-12,3A5.31,5.31,0,0,0,4.9,8.1,5.31,5.31,0,0,0,1,6.5,5.31,5.31,0,0,0,4.9,4.9,5.31,5.31,0,0,0,6.5,1,5.31,5.31,0,0,0,8.1,4.9,5.31,5.31,0,0,0,12,6.5,5.46,5.46,0,0,0,6.5,12Z\"/>\n",
              "  </svg>\n",
              "    </button>\n",
              "    <script>\n",
              "      (() => {\n",
              "      const buttonEl =\n",
              "        document.querySelector('#id_bffc063e-7677-4d00-a29b-48c53bb006ea button.colab-df-generate');\n",
              "      buttonEl.style.display =\n",
              "        google.colab.kernel.accessAllowed ? 'block' : 'none';\n",
              "\n",
              "      buttonEl.onclick = () => {\n",
              "        google.colab.notebook.generateWithVariable('population_data_read_html');\n",
              "      }\n",
              "      })();\n",
              "    </script>\n",
              "  </div>\n",
              "\n",
              "    </div>\n",
              "  </div>\n"
            ],
            "application/vnd.google.colaboratory.intrinsic+json": {
              "type": "dataframe",
              "variable_name": "population_data_read_html",
              "summary": "{\n  \"name\": \"population_data_read_html\",\n  \"rows\": 13,\n  \"fields\": [\n    {\n      \"column\": [\n        \"#\",\n        \"Graphs are unavailable due to technical issues. There is more info on Phabricator and on MediaWiki.org.\",\n        \"Graphs are unavailable due to technical issues. There is more info on Phabricator and on MediaWiki.org.\",\n        \"Graphs are unavailable due to technical issues. There is more info on Phabricator and on MediaWiki.org.\",\n        \"Graphs are unavailable due to technical issues. There is more info on Phabricator and on MediaWiki.org.\",\n        \"Graphs are unavailable due to technical issues. There is more info on Phabricator and on MediaWiki.org.\",\n        \"Graphs are unavailable due to technical issues. There is more info on Phabricator and on MediaWiki.org.\",\n        \"Graphs are unavailable due to technical issues. There is more info on Phabricator and on MediaWiki.org.\",\n        \"Graphs are unavailable due to technical issues. There is more info on Phabricator and on MediaWiki.org.\",\n        \"Graphs are unavailable due to technical issues. There is more info on Phabricator and on MediaWiki.org.\",\n        \"Graphs are unavailable due to technical issues. There is more info on Phabricator and on MediaWiki.org.\",\n        \"Graphs are unavailable due to technical issues. There is more info on Phabricator and on MediaWiki.org.\"\n      ],\n      \"properties\": {\n        \"dtype\": \"string\",\n        \"num_unique_values\": 11,\n        \"samples\": [\n          \"6\",\n          \"1\",\n          \"10\"\n        ],\n        \"semantic_type\": \"\",\n        \"description\": \"\"\n      }\n    },\n    {\n      \"column\": [\n        \"Most populous countries\",\n        \"Unnamed: 1_level_1\",\n        \"Unnamed: 1_level_2\",\n        \"Unnamed: 1_level_3\",\n        \"Unnamed: 1_level_4\",\n        \"Unnamed: 1_level_5\",\n        \"Unnamed: 1_level_6\",\n        \"Unnamed: 1_level_7\",\n        \"Unnamed: 1_level_8\",\n        \"Unnamed: 1_level_9\",\n        \"Unnamed: 1_level_10\",\n        \"Unnamed: 1_level_11\"\n      ],\n      \"properties\": {\n        \"dtype\": \"string\",\n        \"num_unique_values\": 13,\n        \"samples\": [\n          \"World total\",\n          \"Russia\",\n          \"Graphs are unavailable due to technical issues. There is more info on Phabricator and on MediaWiki.org.\"\n        ],\n        \"semantic_type\": \"\",\n        \"description\": \"\"\n      }\n    },\n    {\n      \"column\": [\n        \"2000\",\n        \"Unnamed: 2_level_1\",\n        \"Unnamed: 2_level_2\",\n        \"Unnamed: 2_level_3\",\n        \"Unnamed: 2_level_4\",\n        \"Unnamed: 2_level_5\",\n        \"Unnamed: 2_level_6\",\n        \"Unnamed: 2_level_7\",\n        \"Unnamed: 2_level_8\",\n        \"Unnamed: 2_level_9\",\n        \"Unnamed: 2_level_10\",\n        \"Unnamed: 2_level_11\"\n      ],\n      \"properties\": {\n        \"dtype\": \"string\",\n        \"num_unique_values\": 12,\n        \"samples\": [\n          \"6127\",\n          \"103\",\n          \"1270\"\n        ],\n        \"semantic_type\": \"\",\n        \"description\": \"\"\n      }\n    },\n    {\n      \"column\": [\n        \"2015\",\n        \"Unnamed: 3_level_1\",\n        \"Unnamed: 3_level_2\",\n        \"Unnamed: 3_level_3\",\n        \"Unnamed: 3_level_4\",\n        \"Unnamed: 3_level_5\",\n        \"Unnamed: 3_level_6\",\n        \"Unnamed: 3_level_7\",\n        \"Unnamed: 3_level_8\",\n        \"Unnamed: 3_level_9\",\n        \"Unnamed: 3_level_10\",\n        \"Unnamed: 3_level_11\"\n      ],\n      \"properties\": {\n        \"dtype\": \"string\",\n        \"num_unique_values\": 12,\n        \"samples\": [\n          \"7349\",\n          \"127\",\n          \"1376\"\n        ],\n        \"semantic_type\": \"\",\n        \"description\": \"\"\n      }\n    },\n    {\n      \"column\": [\n        \"2030[A]\",\n        \"Unnamed: 4_level_1\",\n        \"Unnamed: 4_level_2\",\n        \"Unnamed: 4_level_3\",\n        \"Unnamed: 4_level_4\",\n        \"Unnamed: 4_level_5\",\n        \"Unnamed: 4_level_6\",\n        \"Unnamed: 4_level_7\",\n        \"Unnamed: 4_level_8\",\n        \"Unnamed: 4_level_9\",\n        \"Unnamed: 4_level_10\",\n        \"Unnamed: 4_level_11\"\n      ],\n      \"properties\": {\n        \"dtype\": \"string\",\n        \"num_unique_values\": 12,\n        \"samples\": [\n          \"8501\",\n          \"148\",\n          \"1416\"\n        ],\n        \"semantic_type\": \"\",\n        \"description\": \"\"\n      }\n    },\n    {\n      \"column\": [\n        \"Graphs are unavailable due to technical issues. There is more info on Phabricator and on MediaWiki.org.\",\n        \"Unnamed: 5_level_1\",\n        \"Unnamed: 5_level_2\",\n        \"Unnamed: 5_level_3\",\n        \"Unnamed: 5_level_4\",\n        \"Unnamed: 5_level_5\",\n        \"Unnamed: 5_level_6\",\n        \"Unnamed: 5_level_7\",\n        \"Unnamed: 5_level_8\",\n        \"Unnamed: 5_level_9\",\n        \"Unnamed: 5_level_10\",\n        \"Unnamed: 5_level_11\"\n      ],\n      \"properties\": {\n        \"dtype\": \"category\",\n        \"num_unique_values\": 1,\n        \"samples\": [\n          \"Notes: ^ 2030 = Medium variant. ^ China excludes Hong Kong and Macau.\"\n        ],\n        \"semantic_type\": \"\",\n        \"description\": \"\"\n      }\n    }\n  ]\n}"
            }
          },
          "metadata": {},
          "execution_count": 33
        }
      ],
      "source": [
        "population_data_read_html = pd.read_html(str(tables[5]), flavor='bs4')[0]\n",
        "\n",
        "population_data_read_html"
      ],
      "execution_count": 33
    },
    {
      "cell_type": "markdown",
      "metadata": {
        "id": "86e8e9a6-9b2b-4a3c-a557-6895dc58f7c0"
      },
      "source": [
        "## Scrape data from HTML tables into a DataFrame using read_html\n"
      ]
    },
    {
      "cell_type": "markdown",
      "metadata": {
        "id": "9fcc4f79-a7e1-41ba-a227-5b4442638053"
      },
      "source": [
        "We can also use the `read_html` function to directly get DataFrames from a `url`.\n"
      ]
    },
    {
      "cell_type": "code",
      "metadata": {
        "id": "ff663b06-2ca8-4a3f-a0c9-01a3ed90f410"
      },
      "outputs": [],
      "source": [
        "dataframe_list = pd.read_html(url, flavor='bs4')"
      ],
      "execution_count": 34
    },
    {
      "cell_type": "markdown",
      "metadata": {
        "id": "6e3ed976-8739-4a45-a5a7-0f44bbda9821"
      },
      "source": [
        "We can see there are 25 DataFrames just like when we used `find_all` on the `soup` object.\n"
      ]
    },
    {
      "cell_type": "code",
      "metadata": {
        "id": "28995ab3-c267-44bd-a141-f5eb4b94331e",
        "colab": {
          "base_uri": "https://localhost:8080/"
        },
        "outputId": "80361a42-7696-4242-e27b-3d9ed932fb2f"
      },
      "outputs": [
        {
          "output_type": "execute_result",
          "data": {
            "text/plain": [
              "27"
            ]
          },
          "metadata": {},
          "execution_count": 35
        }
      ],
      "source": [
        "len(dataframe_list)"
      ],
      "execution_count": 35
    },
    {
      "cell_type": "markdown",
      "metadata": {
        "id": "24a6d80e-8454-4055-8bbd-9127a3848af4"
      },
      "source": [
        "Finally we can pick the DataFrame we need out of the list.\n"
      ]
    },
    {
      "cell_type": "code",
      "metadata": {
        "id": "9ae728e2-f7fc-4bbf-bd99-3d8619c08d8b",
        "colab": {
          "base_uri": "https://localhost:8080/",
          "height": 1000
        },
        "outputId": "032e92b2-5687-407c-f44b-2682e66322ce"
      },
      "outputs": [
        {
          "output_type": "execute_result",
          "data": {
            "text/plain": [
              "                                                                                                         #  \\\n",
              "   Graphs are unavailable due to technical issues. There is more info on Phabricator and on MediaWiki.org.   \n",
              "   Graphs are unavailable due to technical issues. There is more info on Phabricator and on MediaWiki.org.   \n",
              "   Graphs are unavailable due to technical issues. There is more info on Phabricator and on MediaWiki.org.   \n",
              "   Graphs are unavailable due to technical issues. There is more info on Phabricator and on MediaWiki.org.   \n",
              "   Graphs are unavailable due to technical issues. There is more info on Phabricator and on MediaWiki.org.   \n",
              "   Graphs are unavailable due to technical issues. There is more info on Phabricator and on MediaWiki.org.   \n",
              "   Graphs are unavailable due to technical issues. There is more info on Phabricator and on MediaWiki.org.   \n",
              "   Graphs are unavailable due to technical issues. There is more info on Phabricator and on MediaWiki.org.   \n",
              "   Graphs are unavailable due to technical issues. There is more info on Phabricator and on MediaWiki.org.   \n",
              "   Graphs are unavailable due to technical issues. There is more info on Phabricator and on MediaWiki.org.   \n",
              "   Graphs are unavailable due to technical issues. There is more info on Phabricator and on MediaWiki.org.   \n",
              "0                                                 NaN                                                        \n",
              "1                                                   1                                                        \n",
              "2                                                   2                                                        \n",
              "3                                                   3                                                        \n",
              "4                                                   4                                                        \n",
              "5                                                   5                                                        \n",
              "6                                                   6                                                        \n",
              "7                                                   7                                                        \n",
              "8                                                   8                                                        \n",
              "9                                                   9                                                        \n",
              "10                                                 10                                                        \n",
              "11                                                NaN                                                        \n",
              "12  Notes: ^ 2030 = Medium variant. ^ China exclud...                                                        \n",
              "\n",
              "                              Most populous countries  \\\n",
              "                                   Unnamed: 1_level_1   \n",
              "                                   Unnamed: 1_level_2   \n",
              "                                   Unnamed: 1_level_3   \n",
              "                                   Unnamed: 1_level_4   \n",
              "                                   Unnamed: 1_level_5   \n",
              "                                   Unnamed: 1_level_6   \n",
              "                                   Unnamed: 1_level_7   \n",
              "                                   Unnamed: 1_level_8   \n",
              "                                   Unnamed: 1_level_9   \n",
              "                                  Unnamed: 1_level_10   \n",
              "                                  Unnamed: 1_level_11   \n",
              "0   Graphs are unavailable due to technical issues...   \n",
              "1                                            China[B]   \n",
              "2                                               India   \n",
              "3                                       United States   \n",
              "4                                           Indonesia   \n",
              "5                                            Pakistan   \n",
              "6                                              Brazil   \n",
              "7                                             Nigeria   \n",
              "8                                          Bangladesh   \n",
              "9                                              Russia   \n",
              "10                                             Mexico   \n",
              "11                                        World total   \n",
              "12  Notes: ^ 2030 = Medium variant. ^ China exclud...   \n",
              "\n",
              "                                                 2000  \\\n",
              "                                   Unnamed: 2_level_1   \n",
              "                                   Unnamed: 2_level_2   \n",
              "                                   Unnamed: 2_level_3   \n",
              "                                   Unnamed: 2_level_4   \n",
              "                                   Unnamed: 2_level_5   \n",
              "                                   Unnamed: 2_level_6   \n",
              "                                   Unnamed: 2_level_7   \n",
              "                                   Unnamed: 2_level_8   \n",
              "                                   Unnamed: 2_level_9   \n",
              "                                  Unnamed: 2_level_10   \n",
              "                                  Unnamed: 2_level_11   \n",
              "0                                                 NaN   \n",
              "1                                                1270   \n",
              "2                                                1053   \n",
              "3                                                 283   \n",
              "4                                                 212   \n",
              "5                                                 136   \n",
              "6                                                 176   \n",
              "7                                                 123   \n",
              "8                                                 131   \n",
              "9                                                 146   \n",
              "10                                                103   \n",
              "11                                               6127   \n",
              "12  Notes: ^ 2030 = Medium variant. ^ China exclud...   \n",
              "\n",
              "                                                 2015  \\\n",
              "                                   Unnamed: 3_level_1   \n",
              "                                   Unnamed: 3_level_2   \n",
              "                                   Unnamed: 3_level_3   \n",
              "                                   Unnamed: 3_level_4   \n",
              "                                   Unnamed: 3_level_5   \n",
              "                                   Unnamed: 3_level_6   \n",
              "                                   Unnamed: 3_level_7   \n",
              "                                   Unnamed: 3_level_8   \n",
              "                                   Unnamed: 3_level_9   \n",
              "                                  Unnamed: 3_level_10   \n",
              "                                  Unnamed: 3_level_11   \n",
              "0                                                 NaN   \n",
              "1                                                1376   \n",
              "2                                                1311   \n",
              "3                                                 322   \n",
              "4                                                 258   \n",
              "5                                                 208   \n",
              "6                                                 206   \n",
              "7                                                 182   \n",
              "8                                                 161   \n",
              "9                                                 146   \n",
              "10                                                127   \n",
              "11                                               7349   \n",
              "12  Notes: ^ 2030 = Medium variant. ^ China exclud...   \n",
              "\n",
              "                                              2030[A]  \\\n",
              "                                   Unnamed: 4_level_1   \n",
              "                                   Unnamed: 4_level_2   \n",
              "                                   Unnamed: 4_level_3   \n",
              "                                   Unnamed: 4_level_4   \n",
              "                                   Unnamed: 4_level_5   \n",
              "                                   Unnamed: 4_level_6   \n",
              "                                   Unnamed: 4_level_7   \n",
              "                                   Unnamed: 4_level_8   \n",
              "                                   Unnamed: 4_level_9   \n",
              "                                  Unnamed: 4_level_10   \n",
              "                                  Unnamed: 4_level_11   \n",
              "0                                                 NaN   \n",
              "1                                                1416   \n",
              "2                                                1528   \n",
              "3                                                 356   \n",
              "4                                                 295   \n",
              "5                                                 245   \n",
              "6                                                 228   \n",
              "7                                                 263   \n",
              "8                                                 186   \n",
              "9                                                 149   \n",
              "10                                                148   \n",
              "11                                               8501   \n",
              "12  Notes: ^ 2030 = Medium variant. ^ China exclud...   \n",
              "\n",
              "   Graphs are unavailable due to technical issues. There is more info on Phabricator and on MediaWiki.org.  \n",
              "                                                                                        Unnamed: 5_level_1  \n",
              "                                                                                        Unnamed: 5_level_2  \n",
              "                                                                                        Unnamed: 5_level_3  \n",
              "                                                                                        Unnamed: 5_level_4  \n",
              "                                                                                        Unnamed: 5_level_5  \n",
              "                                                                                        Unnamed: 5_level_6  \n",
              "                                                                                        Unnamed: 5_level_7  \n",
              "                                                                                        Unnamed: 5_level_8  \n",
              "                                                                                        Unnamed: 5_level_9  \n",
              "                                                                                       Unnamed: 5_level_10  \n",
              "                                                                                       Unnamed: 5_level_11  \n",
              "0                                                 NaN                                                       \n",
              "1                                                 NaN                                                       \n",
              "2                                                 NaN                                                       \n",
              "3                                                 NaN                                                       \n",
              "4                                                 NaN                                                       \n",
              "5                                                 NaN                                                       \n",
              "6                                                 NaN                                                       \n",
              "7                                                 NaN                                                       \n",
              "8                                                 NaN                                                       \n",
              "9                                                 NaN                                                       \n",
              "10                                                NaN                                                       \n",
              "11                                                NaN                                                       \n",
              "12  Notes: ^ 2030 = Medium variant. ^ China exclud...                                                       "
            ],
            "text/html": [
              "\n",
              "  <div id=\"df-ac278ffe-07b8-4804-9de2-cfc963229092\" class=\"colab-df-container\">\n",
              "    <div>\n",
              "<style scoped>\n",
              "    .dataframe tbody tr th:only-of-type {\n",
              "        vertical-align: middle;\n",
              "    }\n",
              "\n",
              "    .dataframe tbody tr th {\n",
              "        vertical-align: top;\n",
              "    }\n",
              "\n",
              "    .dataframe thead tr th {\n",
              "        text-align: left;\n",
              "    }\n",
              "</style>\n",
              "<table border=\"1\" class=\"dataframe\">\n",
              "  <thead>\n",
              "    <tr>\n",
              "      <th></th>\n",
              "      <th>#</th>\n",
              "      <th>Most populous countries</th>\n",
              "      <th>2000</th>\n",
              "      <th>2015</th>\n",
              "      <th>2030[A]</th>\n",
              "      <th>Graphs are unavailable due to technical issues. There is more info on Phabricator and on MediaWiki.org.</th>\n",
              "    </tr>\n",
              "    <tr>\n",
              "      <th></th>\n",
              "      <th>Graphs are unavailable due to technical issues. There is more info on Phabricator and on MediaWiki.org.</th>\n",
              "      <th>Unnamed: 1_level_1</th>\n",
              "      <th>Unnamed: 2_level_1</th>\n",
              "      <th>Unnamed: 3_level_1</th>\n",
              "      <th>Unnamed: 4_level_1</th>\n",
              "      <th>Unnamed: 5_level_1</th>\n",
              "    </tr>\n",
              "    <tr>\n",
              "      <th></th>\n",
              "      <th>Graphs are unavailable due to technical issues. There is more info on Phabricator and on MediaWiki.org.</th>\n",
              "      <th>Unnamed: 1_level_2</th>\n",
              "      <th>Unnamed: 2_level_2</th>\n",
              "      <th>Unnamed: 3_level_2</th>\n",
              "      <th>Unnamed: 4_level_2</th>\n",
              "      <th>Unnamed: 5_level_2</th>\n",
              "    </tr>\n",
              "    <tr>\n",
              "      <th></th>\n",
              "      <th>Graphs are unavailable due to technical issues. There is more info on Phabricator and on MediaWiki.org.</th>\n",
              "      <th>Unnamed: 1_level_3</th>\n",
              "      <th>Unnamed: 2_level_3</th>\n",
              "      <th>Unnamed: 3_level_3</th>\n",
              "      <th>Unnamed: 4_level_3</th>\n",
              "      <th>Unnamed: 5_level_3</th>\n",
              "    </tr>\n",
              "    <tr>\n",
              "      <th></th>\n",
              "      <th>Graphs are unavailable due to technical issues. There is more info on Phabricator and on MediaWiki.org.</th>\n",
              "      <th>Unnamed: 1_level_4</th>\n",
              "      <th>Unnamed: 2_level_4</th>\n",
              "      <th>Unnamed: 3_level_4</th>\n",
              "      <th>Unnamed: 4_level_4</th>\n",
              "      <th>Unnamed: 5_level_4</th>\n",
              "    </tr>\n",
              "    <tr>\n",
              "      <th></th>\n",
              "      <th>Graphs are unavailable due to technical issues. There is more info on Phabricator and on MediaWiki.org.</th>\n",
              "      <th>Unnamed: 1_level_5</th>\n",
              "      <th>Unnamed: 2_level_5</th>\n",
              "      <th>Unnamed: 3_level_5</th>\n",
              "      <th>Unnamed: 4_level_5</th>\n",
              "      <th>Unnamed: 5_level_5</th>\n",
              "    </tr>\n",
              "    <tr>\n",
              "      <th></th>\n",
              "      <th>Graphs are unavailable due to technical issues. There is more info on Phabricator and on MediaWiki.org.</th>\n",
              "      <th>Unnamed: 1_level_6</th>\n",
              "      <th>Unnamed: 2_level_6</th>\n",
              "      <th>Unnamed: 3_level_6</th>\n",
              "      <th>Unnamed: 4_level_6</th>\n",
              "      <th>Unnamed: 5_level_6</th>\n",
              "    </tr>\n",
              "    <tr>\n",
              "      <th></th>\n",
              "      <th>Graphs are unavailable due to technical issues. There is more info on Phabricator and on MediaWiki.org.</th>\n",
              "      <th>Unnamed: 1_level_7</th>\n",
              "      <th>Unnamed: 2_level_7</th>\n",
              "      <th>Unnamed: 3_level_7</th>\n",
              "      <th>Unnamed: 4_level_7</th>\n",
              "      <th>Unnamed: 5_level_7</th>\n",
              "    </tr>\n",
              "    <tr>\n",
              "      <th></th>\n",
              "      <th>Graphs are unavailable due to technical issues. There is more info on Phabricator and on MediaWiki.org.</th>\n",
              "      <th>Unnamed: 1_level_8</th>\n",
              "      <th>Unnamed: 2_level_8</th>\n",
              "      <th>Unnamed: 3_level_8</th>\n",
              "      <th>Unnamed: 4_level_8</th>\n",
              "      <th>Unnamed: 5_level_8</th>\n",
              "    </tr>\n",
              "    <tr>\n",
              "      <th></th>\n",
              "      <th>Graphs are unavailable due to technical issues. There is more info on Phabricator and on MediaWiki.org.</th>\n",
              "      <th>Unnamed: 1_level_9</th>\n",
              "      <th>Unnamed: 2_level_9</th>\n",
              "      <th>Unnamed: 3_level_9</th>\n",
              "      <th>Unnamed: 4_level_9</th>\n",
              "      <th>Unnamed: 5_level_9</th>\n",
              "    </tr>\n",
              "    <tr>\n",
              "      <th></th>\n",
              "      <th>Graphs are unavailable due to technical issues. There is more info on Phabricator and on MediaWiki.org.</th>\n",
              "      <th>Unnamed: 1_level_10</th>\n",
              "      <th>Unnamed: 2_level_10</th>\n",
              "      <th>Unnamed: 3_level_10</th>\n",
              "      <th>Unnamed: 4_level_10</th>\n",
              "      <th>Unnamed: 5_level_10</th>\n",
              "    </tr>\n",
              "    <tr>\n",
              "      <th></th>\n",
              "      <th>Graphs are unavailable due to technical issues. There is more info on Phabricator and on MediaWiki.org.</th>\n",
              "      <th>Unnamed: 1_level_11</th>\n",
              "      <th>Unnamed: 2_level_11</th>\n",
              "      <th>Unnamed: 3_level_11</th>\n",
              "      <th>Unnamed: 4_level_11</th>\n",
              "      <th>Unnamed: 5_level_11</th>\n",
              "    </tr>\n",
              "  </thead>\n",
              "  <tbody>\n",
              "    <tr>\n",
              "      <th>0</th>\n",
              "      <td>NaN</td>\n",
              "      <td>Graphs are unavailable due to technical issues...</td>\n",
              "      <td>NaN</td>\n",
              "      <td>NaN</td>\n",
              "      <td>NaN</td>\n",
              "      <td>NaN</td>\n",
              "    </tr>\n",
              "    <tr>\n",
              "      <th>1</th>\n",
              "      <td>1</td>\n",
              "      <td>China[B]</td>\n",
              "      <td>1270</td>\n",
              "      <td>1376</td>\n",
              "      <td>1416</td>\n",
              "      <td>NaN</td>\n",
              "    </tr>\n",
              "    <tr>\n",
              "      <th>2</th>\n",
              "      <td>2</td>\n",
              "      <td>India</td>\n",
              "      <td>1053</td>\n",
              "      <td>1311</td>\n",
              "      <td>1528</td>\n",
              "      <td>NaN</td>\n",
              "    </tr>\n",
              "    <tr>\n",
              "      <th>3</th>\n",
              "      <td>3</td>\n",
              "      <td>United States</td>\n",
              "      <td>283</td>\n",
              "      <td>322</td>\n",
              "      <td>356</td>\n",
              "      <td>NaN</td>\n",
              "    </tr>\n",
              "    <tr>\n",
              "      <th>4</th>\n",
              "      <td>4</td>\n",
              "      <td>Indonesia</td>\n",
              "      <td>212</td>\n",
              "      <td>258</td>\n",
              "      <td>295</td>\n",
              "      <td>NaN</td>\n",
              "    </tr>\n",
              "    <tr>\n",
              "      <th>5</th>\n",
              "      <td>5</td>\n",
              "      <td>Pakistan</td>\n",
              "      <td>136</td>\n",
              "      <td>208</td>\n",
              "      <td>245</td>\n",
              "      <td>NaN</td>\n",
              "    </tr>\n",
              "    <tr>\n",
              "      <th>6</th>\n",
              "      <td>6</td>\n",
              "      <td>Brazil</td>\n",
              "      <td>176</td>\n",
              "      <td>206</td>\n",
              "      <td>228</td>\n",
              "      <td>NaN</td>\n",
              "    </tr>\n",
              "    <tr>\n",
              "      <th>7</th>\n",
              "      <td>7</td>\n",
              "      <td>Nigeria</td>\n",
              "      <td>123</td>\n",
              "      <td>182</td>\n",
              "      <td>263</td>\n",
              "      <td>NaN</td>\n",
              "    </tr>\n",
              "    <tr>\n",
              "      <th>8</th>\n",
              "      <td>8</td>\n",
              "      <td>Bangladesh</td>\n",
              "      <td>131</td>\n",
              "      <td>161</td>\n",
              "      <td>186</td>\n",
              "      <td>NaN</td>\n",
              "    </tr>\n",
              "    <tr>\n",
              "      <th>9</th>\n",
              "      <td>9</td>\n",
              "      <td>Russia</td>\n",
              "      <td>146</td>\n",
              "      <td>146</td>\n",
              "      <td>149</td>\n",
              "      <td>NaN</td>\n",
              "    </tr>\n",
              "    <tr>\n",
              "      <th>10</th>\n",
              "      <td>10</td>\n",
              "      <td>Mexico</td>\n",
              "      <td>103</td>\n",
              "      <td>127</td>\n",
              "      <td>148</td>\n",
              "      <td>NaN</td>\n",
              "    </tr>\n",
              "    <tr>\n",
              "      <th>11</th>\n",
              "      <td>NaN</td>\n",
              "      <td>World total</td>\n",
              "      <td>6127</td>\n",
              "      <td>7349</td>\n",
              "      <td>8501</td>\n",
              "      <td>NaN</td>\n",
              "    </tr>\n",
              "    <tr>\n",
              "      <th>12</th>\n",
              "      <td>Notes: ^ 2030 = Medium variant. ^ China exclud...</td>\n",
              "      <td>Notes: ^ 2030 = Medium variant. ^ China exclud...</td>\n",
              "      <td>Notes: ^ 2030 = Medium variant. ^ China exclud...</td>\n",
              "      <td>Notes: ^ 2030 = Medium variant. ^ China exclud...</td>\n",
              "      <td>Notes: ^ 2030 = Medium variant. ^ China exclud...</td>\n",
              "      <td>Notes: ^ 2030 = Medium variant. ^ China exclud...</td>\n",
              "    </tr>\n",
              "  </tbody>\n",
              "</table>\n",
              "</div>\n",
              "    <div class=\"colab-df-buttons\">\n",
              "\n",
              "  <div class=\"colab-df-container\">\n",
              "    <button class=\"colab-df-convert\" onclick=\"convertToInteractive('df-ac278ffe-07b8-4804-9de2-cfc963229092')\"\n",
              "            title=\"Convert this dataframe to an interactive table.\"\n",
              "            style=\"display:none;\">\n",
              "\n",
              "  <svg xmlns=\"http://www.w3.org/2000/svg\" height=\"24px\" viewBox=\"0 -960 960 960\">\n",
              "    <path d=\"M120-120v-720h720v720H120Zm60-500h600v-160H180v160Zm220 220h160v-160H400v160Zm0 220h160v-160H400v160ZM180-400h160v-160H180v160Zm440 0h160v-160H620v160ZM180-180h160v-160H180v160Zm440 0h160v-160H620v160Z\"/>\n",
              "  </svg>\n",
              "    </button>\n",
              "\n",
              "  <style>\n",
              "    .colab-df-container {\n",
              "      display:flex;\n",
              "      gap: 12px;\n",
              "    }\n",
              "\n",
              "    .colab-df-convert {\n",
              "      background-color: #E8F0FE;\n",
              "      border: none;\n",
              "      border-radius: 50%;\n",
              "      cursor: pointer;\n",
              "      display: none;\n",
              "      fill: #1967D2;\n",
              "      height: 32px;\n",
              "      padding: 0 0 0 0;\n",
              "      width: 32px;\n",
              "    }\n",
              "\n",
              "    .colab-df-convert:hover {\n",
              "      background-color: #E2EBFA;\n",
              "      box-shadow: 0px 1px 2px rgba(60, 64, 67, 0.3), 0px 1px 3px 1px rgba(60, 64, 67, 0.15);\n",
              "      fill: #174EA6;\n",
              "    }\n",
              "\n",
              "    .colab-df-buttons div {\n",
              "      margin-bottom: 4px;\n",
              "    }\n",
              "\n",
              "    [theme=dark] .colab-df-convert {\n",
              "      background-color: #3B4455;\n",
              "      fill: #D2E3FC;\n",
              "    }\n",
              "\n",
              "    [theme=dark] .colab-df-convert:hover {\n",
              "      background-color: #434B5C;\n",
              "      box-shadow: 0px 1px 3px 1px rgba(0, 0, 0, 0.15);\n",
              "      filter: drop-shadow(0px 1px 2px rgba(0, 0, 0, 0.3));\n",
              "      fill: #FFFFFF;\n",
              "    }\n",
              "  </style>\n",
              "\n",
              "    <script>\n",
              "      const buttonEl =\n",
              "        document.querySelector('#df-ac278ffe-07b8-4804-9de2-cfc963229092 button.colab-df-convert');\n",
              "      buttonEl.style.display =\n",
              "        google.colab.kernel.accessAllowed ? 'block' : 'none';\n",
              "\n",
              "      async function convertToInteractive(key) {\n",
              "        const element = document.querySelector('#df-ac278ffe-07b8-4804-9de2-cfc963229092');\n",
              "        const dataTable =\n",
              "          await google.colab.kernel.invokeFunction('convertToInteractive',\n",
              "                                                    [key], {});\n",
              "        if (!dataTable) return;\n",
              "\n",
              "        const docLinkHtml = 'Like what you see? Visit the ' +\n",
              "          '<a target=\"_blank\" href=https://colab.research.google.com/notebooks/data_table.ipynb>data table notebook</a>'\n",
              "          + ' to learn more about interactive tables.';\n",
              "        element.innerHTML = '';\n",
              "        dataTable['output_type'] = 'display_data';\n",
              "        await google.colab.output.renderOutput(dataTable, element);\n",
              "        const docLink = document.createElement('div');\n",
              "        docLink.innerHTML = docLinkHtml;\n",
              "        element.appendChild(docLink);\n",
              "      }\n",
              "    </script>\n",
              "  </div>\n",
              "\n",
              "\n",
              "<div id=\"df-ba0e6762-f399-460e-b475-dae7229a8078\">\n",
              "  <button class=\"colab-df-quickchart\" onclick=\"quickchart('df-ba0e6762-f399-460e-b475-dae7229a8078')\"\n",
              "            title=\"Suggest charts\"\n",
              "            style=\"display:none;\">\n",
              "\n",
              "<svg xmlns=\"http://www.w3.org/2000/svg\" height=\"24px\"viewBox=\"0 0 24 24\"\n",
              "     width=\"24px\">\n",
              "    <g>\n",
              "        <path d=\"M19 3H5c-1.1 0-2 .9-2 2v14c0 1.1.9 2 2 2h14c1.1 0 2-.9 2-2V5c0-1.1-.9-2-2-2zM9 17H7v-7h2v7zm4 0h-2V7h2v10zm4 0h-2v-4h2v4z\"/>\n",
              "    </g>\n",
              "</svg>\n",
              "  </button>\n",
              "\n",
              "<style>\n",
              "  .colab-df-quickchart {\n",
              "      --bg-color: #E8F0FE;\n",
              "      --fill-color: #1967D2;\n",
              "      --hover-bg-color: #E2EBFA;\n",
              "      --hover-fill-color: #174EA6;\n",
              "      --disabled-fill-color: #AAA;\n",
              "      --disabled-bg-color: #DDD;\n",
              "  }\n",
              "\n",
              "  [theme=dark] .colab-df-quickchart {\n",
              "      --bg-color: #3B4455;\n",
              "      --fill-color: #D2E3FC;\n",
              "      --hover-bg-color: #434B5C;\n",
              "      --hover-fill-color: #FFFFFF;\n",
              "      --disabled-bg-color: #3B4455;\n",
              "      --disabled-fill-color: #666;\n",
              "  }\n",
              "\n",
              "  .colab-df-quickchart {\n",
              "    background-color: var(--bg-color);\n",
              "    border: none;\n",
              "    border-radius: 50%;\n",
              "    cursor: pointer;\n",
              "    display: none;\n",
              "    fill: var(--fill-color);\n",
              "    height: 32px;\n",
              "    padding: 0;\n",
              "    width: 32px;\n",
              "  }\n",
              "\n",
              "  .colab-df-quickchart:hover {\n",
              "    background-color: var(--hover-bg-color);\n",
              "    box-shadow: 0 1px 2px rgba(60, 64, 67, 0.3), 0 1px 3px 1px rgba(60, 64, 67, 0.15);\n",
              "    fill: var(--button-hover-fill-color);\n",
              "  }\n",
              "\n",
              "  .colab-df-quickchart-complete:disabled,\n",
              "  .colab-df-quickchart-complete:disabled:hover {\n",
              "    background-color: var(--disabled-bg-color);\n",
              "    fill: var(--disabled-fill-color);\n",
              "    box-shadow: none;\n",
              "  }\n",
              "\n",
              "  .colab-df-spinner {\n",
              "    border: 2px solid var(--fill-color);\n",
              "    border-color: transparent;\n",
              "    border-bottom-color: var(--fill-color);\n",
              "    animation:\n",
              "      spin 1s steps(1) infinite;\n",
              "  }\n",
              "\n",
              "  @keyframes spin {\n",
              "    0% {\n",
              "      border-color: transparent;\n",
              "      border-bottom-color: var(--fill-color);\n",
              "      border-left-color: var(--fill-color);\n",
              "    }\n",
              "    20% {\n",
              "      border-color: transparent;\n",
              "      border-left-color: var(--fill-color);\n",
              "      border-top-color: var(--fill-color);\n",
              "    }\n",
              "    30% {\n",
              "      border-color: transparent;\n",
              "      border-left-color: var(--fill-color);\n",
              "      border-top-color: var(--fill-color);\n",
              "      border-right-color: var(--fill-color);\n",
              "    }\n",
              "    40% {\n",
              "      border-color: transparent;\n",
              "      border-right-color: var(--fill-color);\n",
              "      border-top-color: var(--fill-color);\n",
              "    }\n",
              "    60% {\n",
              "      border-color: transparent;\n",
              "      border-right-color: var(--fill-color);\n",
              "    }\n",
              "    80% {\n",
              "      border-color: transparent;\n",
              "      border-right-color: var(--fill-color);\n",
              "      border-bottom-color: var(--fill-color);\n",
              "    }\n",
              "    90% {\n",
              "      border-color: transparent;\n",
              "      border-bottom-color: var(--fill-color);\n",
              "    }\n",
              "  }\n",
              "</style>\n",
              "\n",
              "  <script>\n",
              "    async function quickchart(key) {\n",
              "      const quickchartButtonEl =\n",
              "        document.querySelector('#' + key + ' button');\n",
              "      quickchartButtonEl.disabled = true;  // To prevent multiple clicks.\n",
              "      quickchartButtonEl.classList.add('colab-df-spinner');\n",
              "      try {\n",
              "        const charts = await google.colab.kernel.invokeFunction(\n",
              "            'suggestCharts', [key], {});\n",
              "      } catch (error) {\n",
              "        console.error('Error during call to suggestCharts:', error);\n",
              "      }\n",
              "      quickchartButtonEl.classList.remove('colab-df-spinner');\n",
              "      quickchartButtonEl.classList.add('colab-df-quickchart-complete');\n",
              "    }\n",
              "    (() => {\n",
              "      let quickchartButtonEl =\n",
              "        document.querySelector('#df-ba0e6762-f399-460e-b475-dae7229a8078 button');\n",
              "      quickchartButtonEl.style.display =\n",
              "        google.colab.kernel.accessAllowed ? 'block' : 'none';\n",
              "    })();\n",
              "  </script>\n",
              "</div>\n",
              "\n",
              "    </div>\n",
              "  </div>\n"
            ],
            "application/vnd.google.colaboratory.intrinsic+json": {
              "type": "dataframe",
              "summary": "{\n  \"name\": \"dataframe_list[5]\",\n  \"rows\": 13,\n  \"fields\": [\n    {\n      \"column\": [\n        \"#\",\n        \"Graphs are unavailable due to technical issues. There is more info on Phabricator and on MediaWiki.org.\",\n        \"Graphs are unavailable due to technical issues. There is more info on Phabricator and on MediaWiki.org.\",\n        \"Graphs are unavailable due to technical issues. There is more info on Phabricator and on MediaWiki.org.\",\n        \"Graphs are unavailable due to technical issues. There is more info on Phabricator and on MediaWiki.org.\",\n        \"Graphs are unavailable due to technical issues. There is more info on Phabricator and on MediaWiki.org.\",\n        \"Graphs are unavailable due to technical issues. There is more info on Phabricator and on MediaWiki.org.\",\n        \"Graphs are unavailable due to technical issues. There is more info on Phabricator and on MediaWiki.org.\",\n        \"Graphs are unavailable due to technical issues. There is more info on Phabricator and on MediaWiki.org.\",\n        \"Graphs are unavailable due to technical issues. There is more info on Phabricator and on MediaWiki.org.\",\n        \"Graphs are unavailable due to technical issues. There is more info on Phabricator and on MediaWiki.org.\",\n        \"Graphs are unavailable due to technical issues. There is more info on Phabricator and on MediaWiki.org.\"\n      ],\n      \"properties\": {\n        \"dtype\": \"string\",\n        \"num_unique_values\": 11,\n        \"samples\": [\n          \"6\",\n          \"1\",\n          \"10\"\n        ],\n        \"semantic_type\": \"\",\n        \"description\": \"\"\n      }\n    },\n    {\n      \"column\": [\n        \"Most populous countries\",\n        \"Unnamed: 1_level_1\",\n        \"Unnamed: 1_level_2\",\n        \"Unnamed: 1_level_3\",\n        \"Unnamed: 1_level_4\",\n        \"Unnamed: 1_level_5\",\n        \"Unnamed: 1_level_6\",\n        \"Unnamed: 1_level_7\",\n        \"Unnamed: 1_level_8\",\n        \"Unnamed: 1_level_9\",\n        \"Unnamed: 1_level_10\",\n        \"Unnamed: 1_level_11\"\n      ],\n      \"properties\": {\n        \"dtype\": \"string\",\n        \"num_unique_values\": 13,\n        \"samples\": [\n          \"World total\",\n          \"Russia\",\n          \"Graphs are unavailable due to technical issues. There is more info on Phabricator and on MediaWiki.org.\"\n        ],\n        \"semantic_type\": \"\",\n        \"description\": \"\"\n      }\n    },\n    {\n      \"column\": [\n        \"2000\",\n        \"Unnamed: 2_level_1\",\n        \"Unnamed: 2_level_2\",\n        \"Unnamed: 2_level_3\",\n        \"Unnamed: 2_level_4\",\n        \"Unnamed: 2_level_5\",\n        \"Unnamed: 2_level_6\",\n        \"Unnamed: 2_level_7\",\n        \"Unnamed: 2_level_8\",\n        \"Unnamed: 2_level_9\",\n        \"Unnamed: 2_level_10\",\n        \"Unnamed: 2_level_11\"\n      ],\n      \"properties\": {\n        \"dtype\": \"string\",\n        \"num_unique_values\": 12,\n        \"samples\": [\n          \"6127\",\n          \"103\",\n          \"1270\"\n        ],\n        \"semantic_type\": \"\",\n        \"description\": \"\"\n      }\n    },\n    {\n      \"column\": [\n        \"2015\",\n        \"Unnamed: 3_level_1\",\n        \"Unnamed: 3_level_2\",\n        \"Unnamed: 3_level_3\",\n        \"Unnamed: 3_level_4\",\n        \"Unnamed: 3_level_5\",\n        \"Unnamed: 3_level_6\",\n        \"Unnamed: 3_level_7\",\n        \"Unnamed: 3_level_8\",\n        \"Unnamed: 3_level_9\",\n        \"Unnamed: 3_level_10\",\n        \"Unnamed: 3_level_11\"\n      ],\n      \"properties\": {\n        \"dtype\": \"string\",\n        \"num_unique_values\": 12,\n        \"samples\": [\n          \"7349\",\n          \"127\",\n          \"1376\"\n        ],\n        \"semantic_type\": \"\",\n        \"description\": \"\"\n      }\n    },\n    {\n      \"column\": [\n        \"2030[A]\",\n        \"Unnamed: 4_level_1\",\n        \"Unnamed: 4_level_2\",\n        \"Unnamed: 4_level_3\",\n        \"Unnamed: 4_level_4\",\n        \"Unnamed: 4_level_5\",\n        \"Unnamed: 4_level_6\",\n        \"Unnamed: 4_level_7\",\n        \"Unnamed: 4_level_8\",\n        \"Unnamed: 4_level_9\",\n        \"Unnamed: 4_level_10\",\n        \"Unnamed: 4_level_11\"\n      ],\n      \"properties\": {\n        \"dtype\": \"string\",\n        \"num_unique_values\": 12,\n        \"samples\": [\n          \"8501\",\n          \"148\",\n          \"1416\"\n        ],\n        \"semantic_type\": \"\",\n        \"description\": \"\"\n      }\n    },\n    {\n      \"column\": [\n        \"Graphs are unavailable due to technical issues. There is more info on Phabricator and on MediaWiki.org.\",\n        \"Unnamed: 5_level_1\",\n        \"Unnamed: 5_level_2\",\n        \"Unnamed: 5_level_3\",\n        \"Unnamed: 5_level_4\",\n        \"Unnamed: 5_level_5\",\n        \"Unnamed: 5_level_6\",\n        \"Unnamed: 5_level_7\",\n        \"Unnamed: 5_level_8\",\n        \"Unnamed: 5_level_9\",\n        \"Unnamed: 5_level_10\",\n        \"Unnamed: 5_level_11\"\n      ],\n      \"properties\": {\n        \"dtype\": \"category\",\n        \"num_unique_values\": 1,\n        \"samples\": [\n          \"Notes: ^ 2030 = Medium variant. ^ China excludes Hong Kong and Macau.\"\n        ],\n        \"semantic_type\": \"\",\n        \"description\": \"\"\n      }\n    }\n  ]\n}"
            }
          },
          "metadata": {},
          "execution_count": 36
        }
      ],
      "source": [
        "dataframe_list[5]"
      ],
      "execution_count": 36
    },
    {
      "cell_type": "markdown",
      "metadata": {
        "id": "d78f5a21-aad9-4160-a04b-ed611eea0936"
      },
      "source": [
        "We can also use the `match` parameter to select the specific table we want. If the table contains a string matching the text it will be read.\n"
      ]
    },
    {
      "cell_type": "code",
      "metadata": {
        "id": "837e8b96-d96b-40cf-bf22-3f59bbfd59e1",
        "colab": {
          "base_uri": "https://localhost:8080/",
          "height": 363
        },
        "outputId": "3f0a4403-8b0d-464c-874f-e530969c86c5"
      },
      "outputs": [
        {
          "output_type": "execute_result",
          "data": {
            "text/plain": [
              "   Rank                 Country  Population  Area (km2)  Density (pop/km2)\n",
              "0     1               Singapore     5921231         719               8235\n",
              "1     2              Bangladesh   165650475      148460               1116\n",
              "2     3  Palestine[note 3][101]     5223000        6025                867\n",
              "3     4          Taiwan[note 4]    23580712       35980                655\n",
              "4     5             South Korea    51844834       99720                520\n",
              "5     6                 Lebanon     5296814       10400                509\n",
              "6     7                  Rwanda    13173730       26338                500\n",
              "7     8                 Burundi    12696478       27830                456\n",
              "8     9                  Israel     9402617       21937                429\n",
              "9    10                   India  1389637446     3287263                423"
            ],
            "text/html": [
              "\n",
              "  <div id=\"df-e3dc326a-26a3-495a-900f-a673007f796c\" class=\"colab-df-container\">\n",
              "    <div>\n",
              "<style scoped>\n",
              "    .dataframe tbody tr th:only-of-type {\n",
              "        vertical-align: middle;\n",
              "    }\n",
              "\n",
              "    .dataframe tbody tr th {\n",
              "        vertical-align: top;\n",
              "    }\n",
              "\n",
              "    .dataframe thead th {\n",
              "        text-align: right;\n",
              "    }\n",
              "</style>\n",
              "<table border=\"1\" class=\"dataframe\">\n",
              "  <thead>\n",
              "    <tr style=\"text-align: right;\">\n",
              "      <th></th>\n",
              "      <th>Rank</th>\n",
              "      <th>Country</th>\n",
              "      <th>Population</th>\n",
              "      <th>Area (km2)</th>\n",
              "      <th>Density (pop/km2)</th>\n",
              "    </tr>\n",
              "  </thead>\n",
              "  <tbody>\n",
              "    <tr>\n",
              "      <th>0</th>\n",
              "      <td>1</td>\n",
              "      <td>Singapore</td>\n",
              "      <td>5921231</td>\n",
              "      <td>719</td>\n",
              "      <td>8235</td>\n",
              "    </tr>\n",
              "    <tr>\n",
              "      <th>1</th>\n",
              "      <td>2</td>\n",
              "      <td>Bangladesh</td>\n",
              "      <td>165650475</td>\n",
              "      <td>148460</td>\n",
              "      <td>1116</td>\n",
              "    </tr>\n",
              "    <tr>\n",
              "      <th>2</th>\n",
              "      <td>3</td>\n",
              "      <td>Palestine[note 3][101]</td>\n",
              "      <td>5223000</td>\n",
              "      <td>6025</td>\n",
              "      <td>867</td>\n",
              "    </tr>\n",
              "    <tr>\n",
              "      <th>3</th>\n",
              "      <td>4</td>\n",
              "      <td>Taiwan[note 4]</td>\n",
              "      <td>23580712</td>\n",
              "      <td>35980</td>\n",
              "      <td>655</td>\n",
              "    </tr>\n",
              "    <tr>\n",
              "      <th>4</th>\n",
              "      <td>5</td>\n",
              "      <td>South Korea</td>\n",
              "      <td>51844834</td>\n",
              "      <td>99720</td>\n",
              "      <td>520</td>\n",
              "    </tr>\n",
              "    <tr>\n",
              "      <th>5</th>\n",
              "      <td>6</td>\n",
              "      <td>Lebanon</td>\n",
              "      <td>5296814</td>\n",
              "      <td>10400</td>\n",
              "      <td>509</td>\n",
              "    </tr>\n",
              "    <tr>\n",
              "      <th>6</th>\n",
              "      <td>7</td>\n",
              "      <td>Rwanda</td>\n",
              "      <td>13173730</td>\n",
              "      <td>26338</td>\n",
              "      <td>500</td>\n",
              "    </tr>\n",
              "    <tr>\n",
              "      <th>7</th>\n",
              "      <td>8</td>\n",
              "      <td>Burundi</td>\n",
              "      <td>12696478</td>\n",
              "      <td>27830</td>\n",
              "      <td>456</td>\n",
              "    </tr>\n",
              "    <tr>\n",
              "      <th>8</th>\n",
              "      <td>9</td>\n",
              "      <td>Israel</td>\n",
              "      <td>9402617</td>\n",
              "      <td>21937</td>\n",
              "      <td>429</td>\n",
              "    </tr>\n",
              "    <tr>\n",
              "      <th>9</th>\n",
              "      <td>10</td>\n",
              "      <td>India</td>\n",
              "      <td>1389637446</td>\n",
              "      <td>3287263</td>\n",
              "      <td>423</td>\n",
              "    </tr>\n",
              "  </tbody>\n",
              "</table>\n",
              "</div>\n",
              "    <div class=\"colab-df-buttons\">\n",
              "\n",
              "  <div class=\"colab-df-container\">\n",
              "    <button class=\"colab-df-convert\" onclick=\"convertToInteractive('df-e3dc326a-26a3-495a-900f-a673007f796c')\"\n",
              "            title=\"Convert this dataframe to an interactive table.\"\n",
              "            style=\"display:none;\">\n",
              "\n",
              "  <svg xmlns=\"http://www.w3.org/2000/svg\" height=\"24px\" viewBox=\"0 -960 960 960\">\n",
              "    <path d=\"M120-120v-720h720v720H120Zm60-500h600v-160H180v160Zm220 220h160v-160H400v160Zm0 220h160v-160H400v160ZM180-400h160v-160H180v160Zm440 0h160v-160H620v160ZM180-180h160v-160H180v160Zm440 0h160v-160H620v160Z\"/>\n",
              "  </svg>\n",
              "    </button>\n",
              "\n",
              "  <style>\n",
              "    .colab-df-container {\n",
              "      display:flex;\n",
              "      gap: 12px;\n",
              "    }\n",
              "\n",
              "    .colab-df-convert {\n",
              "      background-color: #E8F0FE;\n",
              "      border: none;\n",
              "      border-radius: 50%;\n",
              "      cursor: pointer;\n",
              "      display: none;\n",
              "      fill: #1967D2;\n",
              "      height: 32px;\n",
              "      padding: 0 0 0 0;\n",
              "      width: 32px;\n",
              "    }\n",
              "\n",
              "    .colab-df-convert:hover {\n",
              "      background-color: #E2EBFA;\n",
              "      box-shadow: 0px 1px 2px rgba(60, 64, 67, 0.3), 0px 1px 3px 1px rgba(60, 64, 67, 0.15);\n",
              "      fill: #174EA6;\n",
              "    }\n",
              "\n",
              "    .colab-df-buttons div {\n",
              "      margin-bottom: 4px;\n",
              "    }\n",
              "\n",
              "    [theme=dark] .colab-df-convert {\n",
              "      background-color: #3B4455;\n",
              "      fill: #D2E3FC;\n",
              "    }\n",
              "\n",
              "    [theme=dark] .colab-df-convert:hover {\n",
              "      background-color: #434B5C;\n",
              "      box-shadow: 0px 1px 3px 1px rgba(0, 0, 0, 0.15);\n",
              "      filter: drop-shadow(0px 1px 2px rgba(0, 0, 0, 0.3));\n",
              "      fill: #FFFFFF;\n",
              "    }\n",
              "  </style>\n",
              "\n",
              "    <script>\n",
              "      const buttonEl =\n",
              "        document.querySelector('#df-e3dc326a-26a3-495a-900f-a673007f796c button.colab-df-convert');\n",
              "      buttonEl.style.display =\n",
              "        google.colab.kernel.accessAllowed ? 'block' : 'none';\n",
              "\n",
              "      async function convertToInteractive(key) {\n",
              "        const element = document.querySelector('#df-e3dc326a-26a3-495a-900f-a673007f796c');\n",
              "        const dataTable =\n",
              "          await google.colab.kernel.invokeFunction('convertToInteractive',\n",
              "                                                    [key], {});\n",
              "        if (!dataTable) return;\n",
              "\n",
              "        const docLinkHtml = 'Like what you see? Visit the ' +\n",
              "          '<a target=\"_blank\" href=https://colab.research.google.com/notebooks/data_table.ipynb>data table notebook</a>'\n",
              "          + ' to learn more about interactive tables.';\n",
              "        element.innerHTML = '';\n",
              "        dataTable['output_type'] = 'display_data';\n",
              "        await google.colab.output.renderOutput(dataTable, element);\n",
              "        const docLink = document.createElement('div');\n",
              "        docLink.innerHTML = docLinkHtml;\n",
              "        element.appendChild(docLink);\n",
              "      }\n",
              "    </script>\n",
              "  </div>\n",
              "\n",
              "\n",
              "<div id=\"df-ef7781aa-4cf0-4829-972c-5172b3ed3155\">\n",
              "  <button class=\"colab-df-quickchart\" onclick=\"quickchart('df-ef7781aa-4cf0-4829-972c-5172b3ed3155')\"\n",
              "            title=\"Suggest charts\"\n",
              "            style=\"display:none;\">\n",
              "\n",
              "<svg xmlns=\"http://www.w3.org/2000/svg\" height=\"24px\"viewBox=\"0 0 24 24\"\n",
              "     width=\"24px\">\n",
              "    <g>\n",
              "        <path d=\"M19 3H5c-1.1 0-2 .9-2 2v14c0 1.1.9 2 2 2h14c1.1 0 2-.9 2-2V5c0-1.1-.9-2-2-2zM9 17H7v-7h2v7zm4 0h-2V7h2v10zm4 0h-2v-4h2v4z\"/>\n",
              "    </g>\n",
              "</svg>\n",
              "  </button>\n",
              "\n",
              "<style>\n",
              "  .colab-df-quickchart {\n",
              "      --bg-color: #E8F0FE;\n",
              "      --fill-color: #1967D2;\n",
              "      --hover-bg-color: #E2EBFA;\n",
              "      --hover-fill-color: #174EA6;\n",
              "      --disabled-fill-color: #AAA;\n",
              "      --disabled-bg-color: #DDD;\n",
              "  }\n",
              "\n",
              "  [theme=dark] .colab-df-quickchart {\n",
              "      --bg-color: #3B4455;\n",
              "      --fill-color: #D2E3FC;\n",
              "      --hover-bg-color: #434B5C;\n",
              "      --hover-fill-color: #FFFFFF;\n",
              "      --disabled-bg-color: #3B4455;\n",
              "      --disabled-fill-color: #666;\n",
              "  }\n",
              "\n",
              "  .colab-df-quickchart {\n",
              "    background-color: var(--bg-color);\n",
              "    border: none;\n",
              "    border-radius: 50%;\n",
              "    cursor: pointer;\n",
              "    display: none;\n",
              "    fill: var(--fill-color);\n",
              "    height: 32px;\n",
              "    padding: 0;\n",
              "    width: 32px;\n",
              "  }\n",
              "\n",
              "  .colab-df-quickchart:hover {\n",
              "    background-color: var(--hover-bg-color);\n",
              "    box-shadow: 0 1px 2px rgba(60, 64, 67, 0.3), 0 1px 3px 1px rgba(60, 64, 67, 0.15);\n",
              "    fill: var(--button-hover-fill-color);\n",
              "  }\n",
              "\n",
              "  .colab-df-quickchart-complete:disabled,\n",
              "  .colab-df-quickchart-complete:disabled:hover {\n",
              "    background-color: var(--disabled-bg-color);\n",
              "    fill: var(--disabled-fill-color);\n",
              "    box-shadow: none;\n",
              "  }\n",
              "\n",
              "  .colab-df-spinner {\n",
              "    border: 2px solid var(--fill-color);\n",
              "    border-color: transparent;\n",
              "    border-bottom-color: var(--fill-color);\n",
              "    animation:\n",
              "      spin 1s steps(1) infinite;\n",
              "  }\n",
              "\n",
              "  @keyframes spin {\n",
              "    0% {\n",
              "      border-color: transparent;\n",
              "      border-bottom-color: var(--fill-color);\n",
              "      border-left-color: var(--fill-color);\n",
              "    }\n",
              "    20% {\n",
              "      border-color: transparent;\n",
              "      border-left-color: var(--fill-color);\n",
              "      border-top-color: var(--fill-color);\n",
              "    }\n",
              "    30% {\n",
              "      border-color: transparent;\n",
              "      border-left-color: var(--fill-color);\n",
              "      border-top-color: var(--fill-color);\n",
              "      border-right-color: var(--fill-color);\n",
              "    }\n",
              "    40% {\n",
              "      border-color: transparent;\n",
              "      border-right-color: var(--fill-color);\n",
              "      border-top-color: var(--fill-color);\n",
              "    }\n",
              "    60% {\n",
              "      border-color: transparent;\n",
              "      border-right-color: var(--fill-color);\n",
              "    }\n",
              "    80% {\n",
              "      border-color: transparent;\n",
              "      border-right-color: var(--fill-color);\n",
              "      border-bottom-color: var(--fill-color);\n",
              "    }\n",
              "    90% {\n",
              "      border-color: transparent;\n",
              "      border-bottom-color: var(--fill-color);\n",
              "    }\n",
              "  }\n",
              "</style>\n",
              "\n",
              "  <script>\n",
              "    async function quickchart(key) {\n",
              "      const quickchartButtonEl =\n",
              "        document.querySelector('#' + key + ' button');\n",
              "      quickchartButtonEl.disabled = true;  // To prevent multiple clicks.\n",
              "      quickchartButtonEl.classList.add('colab-df-spinner');\n",
              "      try {\n",
              "        const charts = await google.colab.kernel.invokeFunction(\n",
              "            'suggestCharts', [key], {});\n",
              "      } catch (error) {\n",
              "        console.error('Error during call to suggestCharts:', error);\n",
              "      }\n",
              "      quickchartButtonEl.classList.remove('colab-df-spinner');\n",
              "      quickchartButtonEl.classList.add('colab-df-quickchart-complete');\n",
              "    }\n",
              "    (() => {\n",
              "      let quickchartButtonEl =\n",
              "        document.querySelector('#df-ef7781aa-4cf0-4829-972c-5172b3ed3155 button');\n",
              "      quickchartButtonEl.style.display =\n",
              "        google.colab.kernel.accessAllowed ? 'block' : 'none';\n",
              "    })();\n",
              "  </script>\n",
              "</div>\n",
              "\n",
              "    </div>\n",
              "  </div>\n"
            ],
            "application/vnd.google.colaboratory.intrinsic+json": {
              "type": "dataframe",
              "summary": "{\n  \"name\": \"pd\",\n  \"rows\": 10,\n  \"fields\": [\n    {\n      \"column\": \"Rank\",\n      \"properties\": {\n        \"dtype\": \"number\",\n        \"std\": 3,\n        \"min\": 1,\n        \"max\": 10,\n        \"num_unique_values\": 10,\n        \"samples\": [\n          9,\n          2,\n          6\n        ],\n        \"semantic_type\": \"\",\n        \"description\": \"\"\n      }\n    },\n    {\n      \"column\": \"Country\",\n      \"properties\": {\n        \"dtype\": \"string\",\n        \"num_unique_values\": 10,\n        \"samples\": [\n          \"Israel\",\n          \"Bangladesh\",\n          \"Lebanon\"\n        ],\n        \"semantic_type\": \"\",\n        \"description\": \"\"\n      }\n    },\n    {\n      \"column\": \"Population\",\n      \"properties\": {\n        \"dtype\": \"number\",\n        \"std\": 431950823,\n        \"min\": 5223000,\n        \"max\": 1389637446,\n        \"num_unique_values\": 10,\n        \"samples\": [\n          9402617,\n          165650475,\n          5296814\n        ],\n        \"semantic_type\": \"\",\n        \"description\": \"\"\n      }\n    },\n    {\n      \"column\": \"Area (km2)\",\n      \"properties\": {\n        \"dtype\": \"number\",\n        \"std\": 1027320,\n        \"min\": 719,\n        \"max\": 3287263,\n        \"num_unique_values\": 10,\n        \"samples\": [\n          21937,\n          148460,\n          10400\n        ],\n        \"semantic_type\": \"\",\n        \"description\": \"\"\n      }\n    },\n    {\n      \"column\": \"Density (pop/km2)\",\n      \"properties\": {\n        \"dtype\": \"number\",\n        \"std\": 2422,\n        \"min\": 423,\n        \"max\": 8235,\n        \"num_unique_values\": 10,\n        \"samples\": [\n          429,\n          1116,\n          509\n        ],\n        \"semantic_type\": \"\",\n        \"description\": \"\"\n      }\n    }\n  ]\n}"
            }
          },
          "metadata": {},
          "execution_count": 37
        }
      ],
      "source": [
        "pd.read_html(url, match=\"10 most densely populated countries\", flavor='bs4')[0]"
      ],
      "execution_count": 37
    },
    {
      "cell_type": "code",
      "source": [
        "# Let's try with another table from the same website\n",
        "pd.read_html(url, match=\"Population by region\", flavor='bs4')[0]"
      ],
      "metadata": {
        "colab": {
          "base_uri": "https://localhost:8080/",
          "height": 269
        },
        "id": "mAAxju89gy8Z",
        "outputId": "20322e42-0e60-44e1-c06e-22fb4c982075"
      },
      "execution_count": 45,
      "outputs": [
        {
          "output_type": "execute_result",
          "data": {
            "text/plain": [
              "                     Region Density (inhabitants/km2) Population (millions)  \\\n",
              "0                      Asia                     104.1                  4641   \n",
              "1                    Africa                      44.4                  1340   \n",
              "2                    Europe                      73.4                   747   \n",
              "3             Latin America                      24.1                   653   \n",
              "4  Northern America[note 1]                      14.9                   368   \n",
              "5                   Oceania                         5                    42   \n",
              "6                Antarctica                        ~0             0.004[87]   \n",
              "\n",
              "                               Most populous country  \\\n",
              "0                              1,439,090,595 – India   \n",
              "1                            0,211,401,000 – Nigeria   \n",
              "2  0,146,171,000 – Russia, approx. 110 million in...   \n",
              "3                             0,214,103,000 – Brazil   \n",
              "4                      0,332,909,000 – United States   \n",
              "5                          0,025,917,000 – Australia   \n",
              "6                                        N/A[note 2]   \n",
              "\n",
              "              Most populous city (metropolitan area)  \n",
              "0  13,515,000 – Tokyo Metropolis (37,400,000 – Gr...  \n",
              "1    09,500,000 – Cairo (20,076,000 – Greater Cairo)  \n",
              "2  13,200,000 – Moscow (20,004,000 – Moscow metro...  \n",
              "3  12,252,000 – São Paulo City (21,650,000 – São ...  \n",
              "4  08,804,000 – New York City (23,582,649 – New Y...  \n",
              "5                                05,367,000 – Sydney  \n",
              "6                       00,001,258 – McMurdo Station  "
            ],
            "text/html": [
              "\n",
              "  <div id=\"df-c84e9bf8-dcf4-4ddc-8465-883bc28ab15b\" class=\"colab-df-container\">\n",
              "    <div>\n",
              "<style scoped>\n",
              "    .dataframe tbody tr th:only-of-type {\n",
              "        vertical-align: middle;\n",
              "    }\n",
              "\n",
              "    .dataframe tbody tr th {\n",
              "        vertical-align: top;\n",
              "    }\n",
              "\n",
              "    .dataframe thead th {\n",
              "        text-align: right;\n",
              "    }\n",
              "</style>\n",
              "<table border=\"1\" class=\"dataframe\">\n",
              "  <thead>\n",
              "    <tr style=\"text-align: right;\">\n",
              "      <th></th>\n",
              "      <th>Region</th>\n",
              "      <th>Density (inhabitants/km2)</th>\n",
              "      <th>Population (millions)</th>\n",
              "      <th>Most populous country</th>\n",
              "      <th>Most populous city (metropolitan area)</th>\n",
              "    </tr>\n",
              "  </thead>\n",
              "  <tbody>\n",
              "    <tr>\n",
              "      <th>0</th>\n",
              "      <td>Asia</td>\n",
              "      <td>104.1</td>\n",
              "      <td>4641</td>\n",
              "      <td>1,439,090,595 – India</td>\n",
              "      <td>13,515,000 – Tokyo Metropolis (37,400,000 – Gr...</td>\n",
              "    </tr>\n",
              "    <tr>\n",
              "      <th>1</th>\n",
              "      <td>Africa</td>\n",
              "      <td>44.4</td>\n",
              "      <td>1340</td>\n",
              "      <td>0,211,401,000 – Nigeria</td>\n",
              "      <td>09,500,000 – Cairo (20,076,000 – Greater Cairo)</td>\n",
              "    </tr>\n",
              "    <tr>\n",
              "      <th>2</th>\n",
              "      <td>Europe</td>\n",
              "      <td>73.4</td>\n",
              "      <td>747</td>\n",
              "      <td>0,146,171,000 – Russia, approx. 110 million in...</td>\n",
              "      <td>13,200,000 – Moscow (20,004,000 – Moscow metro...</td>\n",
              "    </tr>\n",
              "    <tr>\n",
              "      <th>3</th>\n",
              "      <td>Latin America</td>\n",
              "      <td>24.1</td>\n",
              "      <td>653</td>\n",
              "      <td>0,214,103,000 – Brazil</td>\n",
              "      <td>12,252,000 – São Paulo City (21,650,000 – São ...</td>\n",
              "    </tr>\n",
              "    <tr>\n",
              "      <th>4</th>\n",
              "      <td>Northern America[note 1]</td>\n",
              "      <td>14.9</td>\n",
              "      <td>368</td>\n",
              "      <td>0,332,909,000 – United States</td>\n",
              "      <td>08,804,000 – New York City (23,582,649 – New Y...</td>\n",
              "    </tr>\n",
              "    <tr>\n",
              "      <th>5</th>\n",
              "      <td>Oceania</td>\n",
              "      <td>5</td>\n",
              "      <td>42</td>\n",
              "      <td>0,025,917,000 – Australia</td>\n",
              "      <td>05,367,000 – Sydney</td>\n",
              "    </tr>\n",
              "    <tr>\n",
              "      <th>6</th>\n",
              "      <td>Antarctica</td>\n",
              "      <td>~0</td>\n",
              "      <td>0.004[87]</td>\n",
              "      <td>N/A[note 2]</td>\n",
              "      <td>00,001,258 – McMurdo Station</td>\n",
              "    </tr>\n",
              "  </tbody>\n",
              "</table>\n",
              "</div>\n",
              "    <div class=\"colab-df-buttons\">\n",
              "\n",
              "  <div class=\"colab-df-container\">\n",
              "    <button class=\"colab-df-convert\" onclick=\"convertToInteractive('df-c84e9bf8-dcf4-4ddc-8465-883bc28ab15b')\"\n",
              "            title=\"Convert this dataframe to an interactive table.\"\n",
              "            style=\"display:none;\">\n",
              "\n",
              "  <svg xmlns=\"http://www.w3.org/2000/svg\" height=\"24px\" viewBox=\"0 -960 960 960\">\n",
              "    <path d=\"M120-120v-720h720v720H120Zm60-500h600v-160H180v160Zm220 220h160v-160H400v160Zm0 220h160v-160H400v160ZM180-400h160v-160H180v160Zm440 0h160v-160H620v160ZM180-180h160v-160H180v160Zm440 0h160v-160H620v160Z\"/>\n",
              "  </svg>\n",
              "    </button>\n",
              "\n",
              "  <style>\n",
              "    .colab-df-container {\n",
              "      display:flex;\n",
              "      gap: 12px;\n",
              "    }\n",
              "\n",
              "    .colab-df-convert {\n",
              "      background-color: #E8F0FE;\n",
              "      border: none;\n",
              "      border-radius: 50%;\n",
              "      cursor: pointer;\n",
              "      display: none;\n",
              "      fill: #1967D2;\n",
              "      height: 32px;\n",
              "      padding: 0 0 0 0;\n",
              "      width: 32px;\n",
              "    }\n",
              "\n",
              "    .colab-df-convert:hover {\n",
              "      background-color: #E2EBFA;\n",
              "      box-shadow: 0px 1px 2px rgba(60, 64, 67, 0.3), 0px 1px 3px 1px rgba(60, 64, 67, 0.15);\n",
              "      fill: #174EA6;\n",
              "    }\n",
              "\n",
              "    .colab-df-buttons div {\n",
              "      margin-bottom: 4px;\n",
              "    }\n",
              "\n",
              "    [theme=dark] .colab-df-convert {\n",
              "      background-color: #3B4455;\n",
              "      fill: #D2E3FC;\n",
              "    }\n",
              "\n",
              "    [theme=dark] .colab-df-convert:hover {\n",
              "      background-color: #434B5C;\n",
              "      box-shadow: 0px 1px 3px 1px rgba(0, 0, 0, 0.15);\n",
              "      filter: drop-shadow(0px 1px 2px rgba(0, 0, 0, 0.3));\n",
              "      fill: #FFFFFF;\n",
              "    }\n",
              "  </style>\n",
              "\n",
              "    <script>\n",
              "      const buttonEl =\n",
              "        document.querySelector('#df-c84e9bf8-dcf4-4ddc-8465-883bc28ab15b button.colab-df-convert');\n",
              "      buttonEl.style.display =\n",
              "        google.colab.kernel.accessAllowed ? 'block' : 'none';\n",
              "\n",
              "      async function convertToInteractive(key) {\n",
              "        const element = document.querySelector('#df-c84e9bf8-dcf4-4ddc-8465-883bc28ab15b');\n",
              "        const dataTable =\n",
              "          await google.colab.kernel.invokeFunction('convertToInteractive',\n",
              "                                                    [key], {});\n",
              "        if (!dataTable) return;\n",
              "\n",
              "        const docLinkHtml = 'Like what you see? Visit the ' +\n",
              "          '<a target=\"_blank\" href=https://colab.research.google.com/notebooks/data_table.ipynb>data table notebook</a>'\n",
              "          + ' to learn more about interactive tables.';\n",
              "        element.innerHTML = '';\n",
              "        dataTable['output_type'] = 'display_data';\n",
              "        await google.colab.output.renderOutput(dataTable, element);\n",
              "        const docLink = document.createElement('div');\n",
              "        docLink.innerHTML = docLinkHtml;\n",
              "        element.appendChild(docLink);\n",
              "      }\n",
              "    </script>\n",
              "  </div>\n",
              "\n",
              "\n",
              "<div id=\"df-bd90e05a-5f06-4d11-91b8-feb904a20dc9\">\n",
              "  <button class=\"colab-df-quickchart\" onclick=\"quickchart('df-bd90e05a-5f06-4d11-91b8-feb904a20dc9')\"\n",
              "            title=\"Suggest charts\"\n",
              "            style=\"display:none;\">\n",
              "\n",
              "<svg xmlns=\"http://www.w3.org/2000/svg\" height=\"24px\"viewBox=\"0 0 24 24\"\n",
              "     width=\"24px\">\n",
              "    <g>\n",
              "        <path d=\"M19 3H5c-1.1 0-2 .9-2 2v14c0 1.1.9 2 2 2h14c1.1 0 2-.9 2-2V5c0-1.1-.9-2-2-2zM9 17H7v-7h2v7zm4 0h-2V7h2v10zm4 0h-2v-4h2v4z\"/>\n",
              "    </g>\n",
              "</svg>\n",
              "  </button>\n",
              "\n",
              "<style>\n",
              "  .colab-df-quickchart {\n",
              "      --bg-color: #E8F0FE;\n",
              "      --fill-color: #1967D2;\n",
              "      --hover-bg-color: #E2EBFA;\n",
              "      --hover-fill-color: #174EA6;\n",
              "      --disabled-fill-color: #AAA;\n",
              "      --disabled-bg-color: #DDD;\n",
              "  }\n",
              "\n",
              "  [theme=dark] .colab-df-quickchart {\n",
              "      --bg-color: #3B4455;\n",
              "      --fill-color: #D2E3FC;\n",
              "      --hover-bg-color: #434B5C;\n",
              "      --hover-fill-color: #FFFFFF;\n",
              "      --disabled-bg-color: #3B4455;\n",
              "      --disabled-fill-color: #666;\n",
              "  }\n",
              "\n",
              "  .colab-df-quickchart {\n",
              "    background-color: var(--bg-color);\n",
              "    border: none;\n",
              "    border-radius: 50%;\n",
              "    cursor: pointer;\n",
              "    display: none;\n",
              "    fill: var(--fill-color);\n",
              "    height: 32px;\n",
              "    padding: 0;\n",
              "    width: 32px;\n",
              "  }\n",
              "\n",
              "  .colab-df-quickchart:hover {\n",
              "    background-color: var(--hover-bg-color);\n",
              "    box-shadow: 0 1px 2px rgba(60, 64, 67, 0.3), 0 1px 3px 1px rgba(60, 64, 67, 0.15);\n",
              "    fill: var(--button-hover-fill-color);\n",
              "  }\n",
              "\n",
              "  .colab-df-quickchart-complete:disabled,\n",
              "  .colab-df-quickchart-complete:disabled:hover {\n",
              "    background-color: var(--disabled-bg-color);\n",
              "    fill: var(--disabled-fill-color);\n",
              "    box-shadow: none;\n",
              "  }\n",
              "\n",
              "  .colab-df-spinner {\n",
              "    border: 2px solid var(--fill-color);\n",
              "    border-color: transparent;\n",
              "    border-bottom-color: var(--fill-color);\n",
              "    animation:\n",
              "      spin 1s steps(1) infinite;\n",
              "  }\n",
              "\n",
              "  @keyframes spin {\n",
              "    0% {\n",
              "      border-color: transparent;\n",
              "      border-bottom-color: var(--fill-color);\n",
              "      border-left-color: var(--fill-color);\n",
              "    }\n",
              "    20% {\n",
              "      border-color: transparent;\n",
              "      border-left-color: var(--fill-color);\n",
              "      border-top-color: var(--fill-color);\n",
              "    }\n",
              "    30% {\n",
              "      border-color: transparent;\n",
              "      border-left-color: var(--fill-color);\n",
              "      border-top-color: var(--fill-color);\n",
              "      border-right-color: var(--fill-color);\n",
              "    }\n",
              "    40% {\n",
              "      border-color: transparent;\n",
              "      border-right-color: var(--fill-color);\n",
              "      border-top-color: var(--fill-color);\n",
              "    }\n",
              "    60% {\n",
              "      border-color: transparent;\n",
              "      border-right-color: var(--fill-color);\n",
              "    }\n",
              "    80% {\n",
              "      border-color: transparent;\n",
              "      border-right-color: var(--fill-color);\n",
              "      border-bottom-color: var(--fill-color);\n",
              "    }\n",
              "    90% {\n",
              "      border-color: transparent;\n",
              "      border-bottom-color: var(--fill-color);\n",
              "    }\n",
              "  }\n",
              "</style>\n",
              "\n",
              "  <script>\n",
              "    async function quickchart(key) {\n",
              "      const quickchartButtonEl =\n",
              "        document.querySelector('#' + key + ' button');\n",
              "      quickchartButtonEl.disabled = true;  // To prevent multiple clicks.\n",
              "      quickchartButtonEl.classList.add('colab-df-spinner');\n",
              "      try {\n",
              "        const charts = await google.colab.kernel.invokeFunction(\n",
              "            'suggestCharts', [key], {});\n",
              "      } catch (error) {\n",
              "        console.error('Error during call to suggestCharts:', error);\n",
              "      }\n",
              "      quickchartButtonEl.classList.remove('colab-df-spinner');\n",
              "      quickchartButtonEl.classList.add('colab-df-quickchart-complete');\n",
              "    }\n",
              "    (() => {\n",
              "      let quickchartButtonEl =\n",
              "        document.querySelector('#df-bd90e05a-5f06-4d11-91b8-feb904a20dc9 button');\n",
              "      quickchartButtonEl.style.display =\n",
              "        google.colab.kernel.accessAllowed ? 'block' : 'none';\n",
              "    })();\n",
              "  </script>\n",
              "</div>\n",
              "\n",
              "    </div>\n",
              "  </div>\n"
            ],
            "application/vnd.google.colaboratory.intrinsic+json": {
              "type": "dataframe",
              "summary": "{\n  \"name\": \"pd\",\n  \"rows\": 7,\n  \"fields\": [\n    {\n      \"column\": \"Region\",\n      \"properties\": {\n        \"dtype\": \"string\",\n        \"num_unique_values\": 7,\n        \"samples\": [\n          \"Asia\",\n          \"Africa\",\n          \"Oceania\"\n        ],\n        \"semantic_type\": \"\",\n        \"description\": \"\"\n      }\n    },\n    {\n      \"column\": \"Density (inhabitants/km2)\",\n      \"properties\": {\n        \"dtype\": \"string\",\n        \"num_unique_values\": 7,\n        \"samples\": [\n          \"104.1\",\n          \"44.4\",\n          \"5\"\n        ],\n        \"semantic_type\": \"\",\n        \"description\": \"\"\n      }\n    },\n    {\n      \"column\": \"Population (millions)\",\n      \"properties\": {\n        \"dtype\": \"string\",\n        \"num_unique_values\": 7,\n        \"samples\": [\n          \"4641\",\n          \"1340\",\n          \"42\"\n        ],\n        \"semantic_type\": \"\",\n        \"description\": \"\"\n      }\n    },\n    {\n      \"column\": \"Most populous country\",\n      \"properties\": {\n        \"dtype\": \"string\",\n        \"num_unique_values\": 7,\n        \"samples\": [\n          \"1,439,090,595 \\u2013 India\",\n          \"0,211,401,000 \\u2013 Nigeria\",\n          \"0,025,917,000 \\u2013 Australia\"\n        ],\n        \"semantic_type\": \"\",\n        \"description\": \"\"\n      }\n    },\n    {\n      \"column\": \"Most populous city (metropolitan area)\",\n      \"properties\": {\n        \"dtype\": \"string\",\n        \"num_unique_values\": 7,\n        \"samples\": [\n          \"13,515,000 \\u2013 Tokyo Metropolis (37,400,000 \\u2013 Greater Tokyo Area)\",\n          \"09,500,000 \\u2013 Cairo (20,076,000 \\u2013 Greater Cairo)\",\n          \"05,367,000 \\u2013 Sydney\"\n        ],\n        \"semantic_type\": \"\",\n        \"description\": \"\"\n      }\n    }\n  ]\n}"
            }
          },
          "metadata": {},
          "execution_count": 45
        }
      ]
    },
    {
      "cell_type": "code",
      "source": [
        "import pandas as pd\n",
        "\n",
        "# URL of the Wikipedia page\n",
        "url = 'https://en.wikipedia.org/wiki/World_population'\n",
        "\n",
        "# Read all tables from the webpage\n",
        "tables = pd.read_html(url, flavor='bs4')\n",
        "\n",
        "# Print the number of tables and inspect the first few to identify the one you need\n",
        "print(f\"Number of tables extracted: {len(tables)}\")\n",
        "for i, table in enumerate(tables):\n",
        "    print(f\"\\nTable {i}\")\n",
        "    print(table.head())\n",
        "\n",
        "# Select the specific table by index\n",
        "# For example, if the table you want is the third one (index 2)\n",
        "population_table = tables[1]\n",
        "\n",
        "# Display the table\n",
        "target_table=pd.DataFrame(population_table)\n",
        "target_table"
      ],
      "metadata": {
        "colab": {
          "base_uri": "https://localhost:8080/",
          "height": 1000
        },
        "id": "H3zJgtzDidNV",
        "outputId": "50939432-b70a-4dbc-da73-1f250cc2a129"
      },
      "execution_count": 50,
      "outputs": [
        {
          "output_type": "stream",
          "name": "stdout",
          "text": [
            "Number of tables extracted: 27\n",
            "\n",
            "Table 0\n",
            "      Population         1     2     3     4     5     6     7     8     9  \\\n",
            "0           Year      1804  1927  1960  1974  1987  1999  2011  2022  2037   \n",
            "1  Years elapsed  200,000+   123    33    14    13    12    12    11    15   \n",
            "\n",
            "     10  \n",
            "0  2057  \n",
            "1    20  \n",
            "\n",
            "Table 1\n",
            "                               Region  2022 (percent)  2030 (percent)  \\\n",
            "0                  Sub-Saharan Africa  1,152 (14.51%)  1,401 (16.46%)   \n",
            "1    Northern Africa and Western Asia     549 (6.91%)     617 (7.25%)   \n",
            "2      Central Asia and Southern Asia  2,075 (26.13%)  2,248 (26.41%)   \n",
            "3  Eastern Asia and Southeastern Asia  2,342 (29.49%)  2,372 (27.87%)   \n",
            "4         Europe and Northern America  1,120 (14.10%)  1,129 (13.26%)   \n",
            "\n",
            "   2050 (percent)  \n",
            "0  2,094 (21.62%)  \n",
            "1     771 (7.96%)  \n",
            "2  2,575 (26.58%)  \n",
            "3  2,317 (23.92%)  \n",
            "4  1,125 (11.61%)  \n",
            "\n",
            "Table 2\n",
            "    0                                                  1\n",
            "0 NaN  Graphs are unavailable due to technical issues...\n",
            "\n",
            "Table 3\n",
            "                     Region Density (inhabitants/km2) Population (millions)  \\\n",
            "0                      Asia                     104.1                  4641   \n",
            "1                    Africa                      44.4                  1340   \n",
            "2                    Europe                      73.4                   747   \n",
            "3             Latin America                      24.1                   653   \n",
            "4  Northern America[note 1]                      14.9                   368   \n",
            "\n",
            "                               Most populous country  \\\n",
            "0                              1,439,090,595 – India   \n",
            "1                            0,211,401,000 – Nigeria   \n",
            "2  0,146,171,000 – Russia, approx. 110 million in...   \n",
            "3                             0,214,103,000 – Brazil   \n",
            "4                      0,332,909,000 – United States   \n",
            "\n",
            "              Most populous city (metropolitan area)  \n",
            "0  13,515,000 – Tokyo Metropolis (37,400,000 – Gr...  \n",
            "1    09,500,000 – Cairo (20,076,000 – Greater Cairo)  \n",
            "2  13,200,000 – Moscow (20,004,000 – Moscow metro...  \n",
            "3  12,252,000 – São Paulo City (21,650,000 – São ...  \n",
            "4  08,804,000 – New York City (23,582,649 – New Y...  \n",
            "\n",
            "Table 4\n",
            "  Country / Dependency  Population % of world         Date  \\\n",
            "0                India  1425775850      17.6%  14 Apr 2023   \n",
            "1                China  1409670000      17.4%  17 Jan 2024   \n",
            "2        United States   336746083      4.15%   1 Aug 2024   \n",
            "3            Indonesia   278696200      3.43%   1 Jul 2023   \n",
            "4             Pakistan   229488994      2.83%   1 Jul 2022   \n",
            "\n",
            "  Source (official or from the United Nations)  \n",
            "0                            UN projection[90]  \n",
            "1                 National annual estimate[91]  \n",
            "2                National population clock[92]  \n",
            "3                 National annual estimate[93]  \n",
            "4                            UN projection[94]  \n",
            "\n",
            "Table 5\n",
            "                                                                                                        #  \\\n",
            "  Graphs are unavailable due to technical issues. There is more info on Phabricator and on MediaWiki.org.   \n",
            "  Graphs are unavailable due to technical issues. There is more info on Phabricator and on MediaWiki.org.   \n",
            "  Graphs are unavailable due to technical issues. There is more info on Phabricator and on MediaWiki.org.   \n",
            "  Graphs are unavailable due to technical issues. There is more info on Phabricator and on MediaWiki.org.   \n",
            "  Graphs are unavailable due to technical issues. There is more info on Phabricator and on MediaWiki.org.   \n",
            "  Graphs are unavailable due to technical issues. There is more info on Phabricator and on MediaWiki.org.   \n",
            "  Graphs are unavailable due to technical issues. There is more info on Phabricator and on MediaWiki.org.   \n",
            "  Graphs are unavailable due to technical issues. There is more info on Phabricator and on MediaWiki.org.   \n",
            "  Graphs are unavailable due to technical issues. There is more info on Phabricator and on MediaWiki.org.   \n",
            "  Graphs are unavailable due to technical issues. There is more info on Phabricator and on MediaWiki.org.   \n",
            "  Graphs are unavailable due to technical issues. There is more info on Phabricator and on MediaWiki.org.   \n",
            "0                                                NaN                                                        \n",
            "1                                                  1                                                        \n",
            "2                                                  2                                                        \n",
            "3                                                  3                                                        \n",
            "4                                                  4                                                        \n",
            "\n",
            "                             Most populous countries                2000  \\\n",
            "                                  Unnamed: 1_level_1  Unnamed: 2_level_1   \n",
            "                                  Unnamed: 1_level_2  Unnamed: 2_level_2   \n",
            "                                  Unnamed: 1_level_3  Unnamed: 2_level_3   \n",
            "                                  Unnamed: 1_level_4  Unnamed: 2_level_4   \n",
            "                                  Unnamed: 1_level_5  Unnamed: 2_level_5   \n",
            "                                  Unnamed: 1_level_6  Unnamed: 2_level_6   \n",
            "                                  Unnamed: 1_level_7  Unnamed: 2_level_7   \n",
            "                                  Unnamed: 1_level_8  Unnamed: 2_level_8   \n",
            "                                  Unnamed: 1_level_9  Unnamed: 2_level_9   \n",
            "                                 Unnamed: 1_level_10 Unnamed: 2_level_10   \n",
            "                                 Unnamed: 1_level_11 Unnamed: 2_level_11   \n",
            "0  Graphs are unavailable due to technical issues...                 NaN   \n",
            "1                                           China[B]                1270   \n",
            "2                                              India                1053   \n",
            "3                                      United States                 283   \n",
            "4                                          Indonesia                 212   \n",
            "\n",
            "                 2015             2030[A]  \\\n",
            "   Unnamed: 3_level_1  Unnamed: 4_level_1   \n",
            "   Unnamed: 3_level_2  Unnamed: 4_level_2   \n",
            "   Unnamed: 3_level_3  Unnamed: 4_level_3   \n",
            "   Unnamed: 3_level_4  Unnamed: 4_level_4   \n",
            "   Unnamed: 3_level_5  Unnamed: 4_level_5   \n",
            "   Unnamed: 3_level_6  Unnamed: 4_level_6   \n",
            "   Unnamed: 3_level_7  Unnamed: 4_level_7   \n",
            "   Unnamed: 3_level_8  Unnamed: 4_level_8   \n",
            "   Unnamed: 3_level_9  Unnamed: 4_level_9   \n",
            "  Unnamed: 3_level_10 Unnamed: 4_level_10   \n",
            "  Unnamed: 3_level_11 Unnamed: 4_level_11   \n",
            "0                 NaN                 NaN   \n",
            "1                1376                1416   \n",
            "2                1311                1528   \n",
            "3                 322                 356   \n",
            "4                 258                 295   \n",
            "\n",
            "  Graphs are unavailable due to technical issues. There is more info on Phabricator and on MediaWiki.org.  \n",
            "                                                                                       Unnamed: 5_level_1  \n",
            "                                                                                       Unnamed: 5_level_2  \n",
            "                                                                                       Unnamed: 5_level_3  \n",
            "                                                                                       Unnamed: 5_level_4  \n",
            "                                                                                       Unnamed: 5_level_5  \n",
            "                                                                                       Unnamed: 5_level_6  \n",
            "                                                                                       Unnamed: 5_level_7  \n",
            "                                                                                       Unnamed: 5_level_8  \n",
            "                                                                                       Unnamed: 5_level_9  \n",
            "                                                                                      Unnamed: 5_level_10  \n",
            "                                                                                      Unnamed: 5_level_11  \n",
            "0                                                NaN                                                       \n",
            "1                                                NaN                                                       \n",
            "2                                                NaN                                                       \n",
            "3                                                NaN                                                       \n",
            "4                                                NaN                                                       \n",
            "\n",
            "Table 6\n",
            "   Rank                 Country  Population  Area (km2)  Density (pop/km2)\n",
            "0     1               Singapore     5921231         719               8235\n",
            "1     2              Bangladesh   165650475      148460               1116\n",
            "2     3  Palestine[note 3][101]     5223000        6025                867\n",
            "3     4          Taiwan[note 4]    23580712       35980                655\n",
            "4     5             South Korea    51844834       99720                520\n",
            "\n",
            "Table 7\n",
            "   Rank      Country  Population  Area (km2)  Density (pop/km2)  \\\n",
            "0     1        India  1389637446     3287263                423   \n",
            "1     2     Pakistan   242923845      796095                305   \n",
            "2     3   Bangladesh   165650475      148460               1116   \n",
            "3     4        Japan   124214766      377915                329   \n",
            "4     5  Philippines   114597229      300000                382   \n",
            "\n",
            "  Population trend[citation needed]  \n",
            "0                           Growing  \n",
            "1                   Rapidly growing  \n",
            "2                           Growing  \n",
            "3                    Declining[102]  \n",
            "4                           Growing  \n",
            "\n",
            "Table 8\n",
            "   Year  Population Yearly growth           Density (pop/km2)\n",
            "   Year  Population             %    Number Density (pop/km2)\n",
            "0  1951  2543130380         1.75%  43808223                17\n",
            "1  1952  2590270899         1.85%  47140519                17\n",
            "2  1953  2640278797         1.93%  50007898                18\n",
            "3  1954  2691979339         1.96%  51700542                18\n",
            "4  1955  2746072141         2.01%  54092802                18\n",
            "\n",
            "Table 9\n",
            "                  Region  1500  1600  1700  1750  1800  1850  1900  1950  \\\n",
            "0                  World   585   660   710   791   978  1262  1650  2521   \n",
            "1                 Africa    86   114   106   106   107   111   133   221   \n",
            "2                   Asia   282   350   411   502   635   809   947  1402   \n",
            "3                 Europe   168   170   178   190   203   276   408   547   \n",
            "4  Latin America[Note 1]    40    20    10    16    24    38    74   167   \n",
            "\n",
            "   1999  2008  2010  2012  2050  2150  \n",
            "0  6008  6707  6896  7052  9725  9746  \n",
            "1   783   973  1022  1052  2478  2308  \n",
            "2  3700  4054  4164  4250  5267  5561  \n",
            "3   675   732   738   740   734   517  \n",
            "4   508   577   590   603   784   912  \n",
            "\n",
            "Table 10\n",
            "                     Region  1500  1600  1700  1750  1800  1850  1900  1950  \\\n",
            "0                    Africa  14.7  17.3  14.9  13.4  10.9   8.8   8.1   8.8   \n",
            "1                      Asia  48.2  53.0  57.9  63.5  64.9  64.1  57.4  55.6   \n",
            "2                    Europe  28.7  25.8  25.1  20.6  20.8  21.9  24.7  21.7   \n",
            "3     Latin America[Note 1]   6.8   3.0   1.4   2.0   2.5   3.0   4.5   6.6   \n",
            "4  Northern America[Note 1]   1.0   0.5   0.3   0.3   0.7   2.1   5.0   6.8   \n",
            "\n",
            "   1999  2008  2010  2012  2050  2150  \n",
            "0  13.0  14.5  14.8  15.2  25.5  23.7  \n",
            "1  61.6  60.4  60.4  60.3  54.2  57.1  \n",
            "2  11.2  10.9  10.7  10.5   7.6   5.3  \n",
            "3   8.5   8.6   8.6   8.6   8.1   9.4  \n",
            "4   5.2   5.0   5.0   5.0   4.5   4.1  \n",
            "\n",
            "Table 11\n",
            "        Year    World  Africa  Asia  Europe  Latin America & Carib.[Note 1]  \\\n",
            "0  70,000 BC  < 0.015     NaN   NaN     NaN                             NaN   \n",
            "1  10,000 BC        4     NaN   NaN     NaN                             NaN   \n",
            "2    8000 BC        5     NaN   NaN     NaN                             NaN   \n",
            "3    6500 BC        5     NaN   NaN     NaN                             NaN   \n",
            "4    5000 BC        5     NaN   NaN     NaN                             NaN   \n",
            "\n",
            "   North America [Note 1]  Oceania  Notes  \n",
            "0                     NaN      NaN  [119]  \n",
            "1                     NaN      NaN  [120]  \n",
            "2                     NaN      NaN    NaN  \n",
            "3                     NaN      NaN    NaN  \n",
            "4                     NaN      NaN    NaN  \n",
            "\n",
            "Table 12\n",
            "    0                                                  1\n",
            "0 NaN  This section needs additional citations for ve...\n",
            "\n",
            "Table 13\n",
            "   Year  UN est. (millions) Difference  USCB est. (millions) Difference.1\n",
            "0  2005                6542          –                  6473            –\n",
            "1  2010                6957        415                  6866          393\n",
            "2  2015                7380        423                  7256          390\n",
            "3  2020                7795        415                  7643          380\n",
            "4  2025                8184        390                  8007          363\n",
            "\n",
            "Table 14\n",
            "   Year  World           Asia         Africa       Europe  \\\n",
            "0  2000   6144  3,741 (60.9%)    811 (13.2%)  726 (11.8%)   \n",
            "1  2024   8160  4,810 (58.9%)  1,520 (18.6%)   745 (9.1%)   \n",
            "2  2050   9660  5,280 (54.7%)  2,470 (25.6%)   703 (7.3%)   \n",
            "3  2075  10250  5,100 (49.8%)  3,290 (32.1%)   636 (6.2%)   \n",
            "4  2100  10180  4,610 (45.3%)  3,810 (37.4%)   592 (5.8%)   \n",
            "\n",
            "  Latin America/Caribbean Northern America    Oceania  \n",
            "0              522 (8.5%)       312 (5.1%)  31 (0.5%)  \n",
            "1              663 (8.1%)       385 (4.7%)  46 (0.6%)  \n",
            "2              730 (7.6%)       426 (4.4%)  57 (0.6%)  \n",
            "3              698 (6.8%)       452 (4.4%)  66 (0.6%)  \n",
            "4              613 (6.0%)       475 (4.7%)  73 (0.7%)  \n",
            "\n",
            "Table 15\n",
            "  Population (in billions)   0.5  0.5.1     1   1.1     2   2.1     4   4.1  \\\n",
            "0                     Year  1500   1500  1804  1804  1927  1927  1974  1974   \n",
            "1            Years elapsed     —    304   304   123   123    47    47    48   \n",
            "\n",
            "      8   8.1   16  16.1  \n",
            "0  2022  2022  NaN   NaN  \n",
            "1    48    48    —   NaN  \n",
            "\n",
            "Table 16\n",
            "  Population (in billions) 0.375  0.375.1  0.75  0.75.1   1.5  1.5.1     3  \\\n",
            "0                     Year  1171     1171  1715    1715  1881   1881  1960   \n",
            "1            Years elapsed     —      544   544     166   166     79    79   \n",
            "\n",
            "    3.1     6   6.1            12          12.1  \n",
            "0  1960  1999  1999  c. 2100[146]  c. 2100[146]  \n",
            "1    39    39    39       c. 100+       c. 100+  \n",
            "\n",
            "Table 17\n",
            "                                     External videos  \\\n",
            "0  Why Most Humans Live Inside This Small Circle ...   \n",
            "\n",
            "                                   External videos.1  \n",
            "0  Why Most Humans Live Inside This Small Circle ...  \n",
            "\n",
            "Table 18\n",
            "             vtePopulation                                    vtePopulation.1\n",
            "0             Major topics  Demographics of the world Demographic transiti...\n",
            "1       Population biology  Population decline Population density Physiolo...\n",
            "2       Population ecology  Biocapacity Carrying capacity I = P × A × T Ka...\n",
            "3  Society and  population  Eugenics Dysgenics Human overpopulation Malthu...\n",
            "4             Publications  Population and Environment Population and Deve...\n",
            "\n",
            "Table 19\n",
            "          Articles related to the world's population  \\\n",
            "0  vteHuman impact on the environmentGeneral Anth...   \n",
            "1                 vteHuman impact on the environment   \n",
            "2                                            General   \n",
            "3                                             Causes   \n",
            "4                                            Effects   \n",
            "\n",
            "        Articles related to the world's population.1  \n",
            "0  vteHuman impact on the environmentGeneral Anth...  \n",
            "1                 vteHuman impact on the environment  \n",
            "2  Anthropocene Ecological footprint Environmenta...  \n",
            "3  Agriculture animal agriculture cannabis cultiv...  \n",
            "4  Biodiversity threats biodiversity loss decline...  \n",
            "\n",
            "Table 20\n",
            "                  vteHuman impact on the environment  \\\n",
            "0                                            General   \n",
            "1                                             Causes   \n",
            "2                                            Effects   \n",
            "3                                         Mitigation   \n",
            "4  Commons  Category by country assessment mitiga...   \n",
            "\n",
            "                vteHuman impact on the environment.1  \n",
            "0  Anthropocene Ecological footprint Environmenta...  \n",
            "1  Agriculture animal agriculture cannabis cultiv...  \n",
            "2  Biodiversity threats biodiversity loss decline...  \n",
            "3  Alternative fuel vehicle propulsion Birth cont...  \n",
            "4  Commons  Category by country assessment mitiga...  \n",
            "\n",
            "Table 21\n",
            "  vteLists of countries by population statistics  \\\n",
            "0                                         Global   \n",
            "1                          Continents/subregions   \n",
            "2                               Intercontinental   \n",
            "3                             Cities/urban areas   \n",
            "4                                Past and future   \n",
            "\n",
            "    vteLists of countries by population statistics.1  \n",
            "0  Current population United Nations Demographics...  \n",
            "1  Africa Antarctica Asia Europe North America Ca...  \n",
            "2  Americas Arab world Commonwealth of Nations Eu...  \n",
            "3  World cities National capitals Megacities Mega...  \n",
            "4  Past and future population World population es...  \n",
            "\n",
            "Table 22\n",
            "                                vteHierarchy of life  \\\n",
            "0  Biosphere > Biome > Ecosystem > Biocoenosis > ...   \n",
            "\n",
            "                              vteHierarchy of life.1  \n",
            "0  Biosphere > Biome > Ecosystem > Biocoenosis > ...  \n",
            "\n",
            "Table 23\n",
            "            vteGlobalization  \\\n",
            "0  Journals  Outline Studies   \n",
            "1                    Aspects   \n",
            "2                     Issues   \n",
            "3                     Global   \n",
            "4                      Other   \n",
            "\n",
            "                                  vteGlobalization.1  \n",
            "0                          Journals  Outline Studies  \n",
            "1  Alter-globalization Anti-globalization movemen...  \n",
            "2  Global Climate change Climate justice Disease ...  \n",
            "3  Climate change Climate justice Disease COVID-1...  \n",
            "4  Brain drain reverse Care drain Development aid...  \n",
            "\n",
            "Table 24\n",
            "        0                                                  1\n",
            "0  Global  Climate change Climate justice Disease COVID-1...\n",
            "1   Other  Brain drain reverse Care drain Development aid...\n",
            "\n",
            "Table 25\n",
            "                      0                                                  1\n",
            "0             Economics  David Autor Richard Baldwin Ravi Batra Jagdish...\n",
            "1     Political economy  Samir Amin Giovanni Arrighi Robert W. Cox Andr...\n",
            "2  Politics / sociology  Arjun Appadurai Daniele Archibugi K. Anthony A...\n",
            "3          Non–academic  Noam Chomsky Thomas Friedman Naomi Klein John ...\n",
            "\n",
            "Table 26\n",
            "                                       0        1\n",
            "0  Authority control databases: National  Germany\n"
          ]
        },
        {
          "output_type": "execute_result",
          "data": {
            "text/plain": [
              "                               Region  2022 (percent)  2030 (percent)  \\\n",
              "0                  Sub-Saharan Africa  1,152 (14.51%)  1,401 (16.46%)   \n",
              "1    Northern Africa and Western Asia     549 (6.91%)     617 (7.25%)   \n",
              "2      Central Asia and Southern Asia  2,075 (26.13%)  2,248 (26.41%)   \n",
              "3  Eastern Asia and Southeastern Asia  2,342 (29.49%)  2,372 (27.87%)   \n",
              "4         Europe and Northern America  1,120 (14.10%)  1,129 (13.26%)   \n",
              "5     Latin America and the Caribbean     658 (8.29%)     695 (8.17%)   \n",
              "6           Australia and New Zealand      31 (0.39%)      34 (0.40%)   \n",
              "7                             Oceania      14 (0.18%)      15 (0.18%)   \n",
              "8                               World            7942            8512   \n",
              "\n",
              "   2050 (percent)  \n",
              "0  2,094 (21.62%)  \n",
              "1     771 (7.96%)  \n",
              "2  2,575 (26.58%)  \n",
              "3  2,317 (23.92%)  \n",
              "4  1,125 (11.61%)  \n",
              "5     749 (7.73%)  \n",
              "6      38 (0.39%)  \n",
              "7      20 (0.21%)  \n",
              "8            9687  "
            ],
            "text/html": [
              "\n",
              "  <div id=\"df-76a7770b-a185-42c3-b29b-c52d37f16b4c\" class=\"colab-df-container\">\n",
              "    <div>\n",
              "<style scoped>\n",
              "    .dataframe tbody tr th:only-of-type {\n",
              "        vertical-align: middle;\n",
              "    }\n",
              "\n",
              "    .dataframe tbody tr th {\n",
              "        vertical-align: top;\n",
              "    }\n",
              "\n",
              "    .dataframe thead th {\n",
              "        text-align: right;\n",
              "    }\n",
              "</style>\n",
              "<table border=\"1\" class=\"dataframe\">\n",
              "  <thead>\n",
              "    <tr style=\"text-align: right;\">\n",
              "      <th></th>\n",
              "      <th>Region</th>\n",
              "      <th>2022 (percent)</th>\n",
              "      <th>2030 (percent)</th>\n",
              "      <th>2050 (percent)</th>\n",
              "    </tr>\n",
              "  </thead>\n",
              "  <tbody>\n",
              "    <tr>\n",
              "      <th>0</th>\n",
              "      <td>Sub-Saharan Africa</td>\n",
              "      <td>1,152 (14.51%)</td>\n",
              "      <td>1,401 (16.46%)</td>\n",
              "      <td>2,094 (21.62%)</td>\n",
              "    </tr>\n",
              "    <tr>\n",
              "      <th>1</th>\n",
              "      <td>Northern Africa and Western Asia</td>\n",
              "      <td>549 (6.91%)</td>\n",
              "      <td>617 (7.25%)</td>\n",
              "      <td>771 (7.96%)</td>\n",
              "    </tr>\n",
              "    <tr>\n",
              "      <th>2</th>\n",
              "      <td>Central Asia and Southern Asia</td>\n",
              "      <td>2,075 (26.13%)</td>\n",
              "      <td>2,248 (26.41%)</td>\n",
              "      <td>2,575 (26.58%)</td>\n",
              "    </tr>\n",
              "    <tr>\n",
              "      <th>3</th>\n",
              "      <td>Eastern Asia and Southeastern Asia</td>\n",
              "      <td>2,342 (29.49%)</td>\n",
              "      <td>2,372 (27.87%)</td>\n",
              "      <td>2,317 (23.92%)</td>\n",
              "    </tr>\n",
              "    <tr>\n",
              "      <th>4</th>\n",
              "      <td>Europe and Northern America</td>\n",
              "      <td>1,120 (14.10%)</td>\n",
              "      <td>1,129 (13.26%)</td>\n",
              "      <td>1,125 (11.61%)</td>\n",
              "    </tr>\n",
              "    <tr>\n",
              "      <th>5</th>\n",
              "      <td>Latin America and the Caribbean</td>\n",
              "      <td>658 (8.29%)</td>\n",
              "      <td>695 (8.17%)</td>\n",
              "      <td>749 (7.73%)</td>\n",
              "    </tr>\n",
              "    <tr>\n",
              "      <th>6</th>\n",
              "      <td>Australia and New Zealand</td>\n",
              "      <td>31 (0.39%)</td>\n",
              "      <td>34 (0.40%)</td>\n",
              "      <td>38 (0.39%)</td>\n",
              "    </tr>\n",
              "    <tr>\n",
              "      <th>7</th>\n",
              "      <td>Oceania</td>\n",
              "      <td>14 (0.18%)</td>\n",
              "      <td>15 (0.18%)</td>\n",
              "      <td>20 (0.21%)</td>\n",
              "    </tr>\n",
              "    <tr>\n",
              "      <th>8</th>\n",
              "      <td>World</td>\n",
              "      <td>7942</td>\n",
              "      <td>8512</td>\n",
              "      <td>9687</td>\n",
              "    </tr>\n",
              "  </tbody>\n",
              "</table>\n",
              "</div>\n",
              "    <div class=\"colab-df-buttons\">\n",
              "\n",
              "  <div class=\"colab-df-container\">\n",
              "    <button class=\"colab-df-convert\" onclick=\"convertToInteractive('df-76a7770b-a185-42c3-b29b-c52d37f16b4c')\"\n",
              "            title=\"Convert this dataframe to an interactive table.\"\n",
              "            style=\"display:none;\">\n",
              "\n",
              "  <svg xmlns=\"http://www.w3.org/2000/svg\" height=\"24px\" viewBox=\"0 -960 960 960\">\n",
              "    <path d=\"M120-120v-720h720v720H120Zm60-500h600v-160H180v160Zm220 220h160v-160H400v160Zm0 220h160v-160H400v160ZM180-400h160v-160H180v160Zm440 0h160v-160H620v160ZM180-180h160v-160H180v160Zm440 0h160v-160H620v160Z\"/>\n",
              "  </svg>\n",
              "    </button>\n",
              "\n",
              "  <style>\n",
              "    .colab-df-container {\n",
              "      display:flex;\n",
              "      gap: 12px;\n",
              "    }\n",
              "\n",
              "    .colab-df-convert {\n",
              "      background-color: #E8F0FE;\n",
              "      border: none;\n",
              "      border-radius: 50%;\n",
              "      cursor: pointer;\n",
              "      display: none;\n",
              "      fill: #1967D2;\n",
              "      height: 32px;\n",
              "      padding: 0 0 0 0;\n",
              "      width: 32px;\n",
              "    }\n",
              "\n",
              "    .colab-df-convert:hover {\n",
              "      background-color: #E2EBFA;\n",
              "      box-shadow: 0px 1px 2px rgba(60, 64, 67, 0.3), 0px 1px 3px 1px rgba(60, 64, 67, 0.15);\n",
              "      fill: #174EA6;\n",
              "    }\n",
              "\n",
              "    .colab-df-buttons div {\n",
              "      margin-bottom: 4px;\n",
              "    }\n",
              "\n",
              "    [theme=dark] .colab-df-convert {\n",
              "      background-color: #3B4455;\n",
              "      fill: #D2E3FC;\n",
              "    }\n",
              "\n",
              "    [theme=dark] .colab-df-convert:hover {\n",
              "      background-color: #434B5C;\n",
              "      box-shadow: 0px 1px 3px 1px rgba(0, 0, 0, 0.15);\n",
              "      filter: drop-shadow(0px 1px 2px rgba(0, 0, 0, 0.3));\n",
              "      fill: #FFFFFF;\n",
              "    }\n",
              "  </style>\n",
              "\n",
              "    <script>\n",
              "      const buttonEl =\n",
              "        document.querySelector('#df-76a7770b-a185-42c3-b29b-c52d37f16b4c button.colab-df-convert');\n",
              "      buttonEl.style.display =\n",
              "        google.colab.kernel.accessAllowed ? 'block' : 'none';\n",
              "\n",
              "      async function convertToInteractive(key) {\n",
              "        const element = document.querySelector('#df-76a7770b-a185-42c3-b29b-c52d37f16b4c');\n",
              "        const dataTable =\n",
              "          await google.colab.kernel.invokeFunction('convertToInteractive',\n",
              "                                                    [key], {});\n",
              "        if (!dataTable) return;\n",
              "\n",
              "        const docLinkHtml = 'Like what you see? Visit the ' +\n",
              "          '<a target=\"_blank\" href=https://colab.research.google.com/notebooks/data_table.ipynb>data table notebook</a>'\n",
              "          + ' to learn more about interactive tables.';\n",
              "        element.innerHTML = '';\n",
              "        dataTable['output_type'] = 'display_data';\n",
              "        await google.colab.output.renderOutput(dataTable, element);\n",
              "        const docLink = document.createElement('div');\n",
              "        docLink.innerHTML = docLinkHtml;\n",
              "        element.appendChild(docLink);\n",
              "      }\n",
              "    </script>\n",
              "  </div>\n",
              "\n",
              "\n",
              "<div id=\"df-530a0abe-be90-4af1-bc5e-93b983595c9e\">\n",
              "  <button class=\"colab-df-quickchart\" onclick=\"quickchart('df-530a0abe-be90-4af1-bc5e-93b983595c9e')\"\n",
              "            title=\"Suggest charts\"\n",
              "            style=\"display:none;\">\n",
              "\n",
              "<svg xmlns=\"http://www.w3.org/2000/svg\" height=\"24px\"viewBox=\"0 0 24 24\"\n",
              "     width=\"24px\">\n",
              "    <g>\n",
              "        <path d=\"M19 3H5c-1.1 0-2 .9-2 2v14c0 1.1.9 2 2 2h14c1.1 0 2-.9 2-2V5c0-1.1-.9-2-2-2zM9 17H7v-7h2v7zm4 0h-2V7h2v10zm4 0h-2v-4h2v4z\"/>\n",
              "    </g>\n",
              "</svg>\n",
              "  </button>\n",
              "\n",
              "<style>\n",
              "  .colab-df-quickchart {\n",
              "      --bg-color: #E8F0FE;\n",
              "      --fill-color: #1967D2;\n",
              "      --hover-bg-color: #E2EBFA;\n",
              "      --hover-fill-color: #174EA6;\n",
              "      --disabled-fill-color: #AAA;\n",
              "      --disabled-bg-color: #DDD;\n",
              "  }\n",
              "\n",
              "  [theme=dark] .colab-df-quickchart {\n",
              "      --bg-color: #3B4455;\n",
              "      --fill-color: #D2E3FC;\n",
              "      --hover-bg-color: #434B5C;\n",
              "      --hover-fill-color: #FFFFFF;\n",
              "      --disabled-bg-color: #3B4455;\n",
              "      --disabled-fill-color: #666;\n",
              "  }\n",
              "\n",
              "  .colab-df-quickchart {\n",
              "    background-color: var(--bg-color);\n",
              "    border: none;\n",
              "    border-radius: 50%;\n",
              "    cursor: pointer;\n",
              "    display: none;\n",
              "    fill: var(--fill-color);\n",
              "    height: 32px;\n",
              "    padding: 0;\n",
              "    width: 32px;\n",
              "  }\n",
              "\n",
              "  .colab-df-quickchart:hover {\n",
              "    background-color: var(--hover-bg-color);\n",
              "    box-shadow: 0 1px 2px rgba(60, 64, 67, 0.3), 0 1px 3px 1px rgba(60, 64, 67, 0.15);\n",
              "    fill: var(--button-hover-fill-color);\n",
              "  }\n",
              "\n",
              "  .colab-df-quickchart-complete:disabled,\n",
              "  .colab-df-quickchart-complete:disabled:hover {\n",
              "    background-color: var(--disabled-bg-color);\n",
              "    fill: var(--disabled-fill-color);\n",
              "    box-shadow: none;\n",
              "  }\n",
              "\n",
              "  .colab-df-spinner {\n",
              "    border: 2px solid var(--fill-color);\n",
              "    border-color: transparent;\n",
              "    border-bottom-color: var(--fill-color);\n",
              "    animation:\n",
              "      spin 1s steps(1) infinite;\n",
              "  }\n",
              "\n",
              "  @keyframes spin {\n",
              "    0% {\n",
              "      border-color: transparent;\n",
              "      border-bottom-color: var(--fill-color);\n",
              "      border-left-color: var(--fill-color);\n",
              "    }\n",
              "    20% {\n",
              "      border-color: transparent;\n",
              "      border-left-color: var(--fill-color);\n",
              "      border-top-color: var(--fill-color);\n",
              "    }\n",
              "    30% {\n",
              "      border-color: transparent;\n",
              "      border-left-color: var(--fill-color);\n",
              "      border-top-color: var(--fill-color);\n",
              "      border-right-color: var(--fill-color);\n",
              "    }\n",
              "    40% {\n",
              "      border-color: transparent;\n",
              "      border-right-color: var(--fill-color);\n",
              "      border-top-color: var(--fill-color);\n",
              "    }\n",
              "    60% {\n",
              "      border-color: transparent;\n",
              "      border-right-color: var(--fill-color);\n",
              "    }\n",
              "    80% {\n",
              "      border-color: transparent;\n",
              "      border-right-color: var(--fill-color);\n",
              "      border-bottom-color: var(--fill-color);\n",
              "    }\n",
              "    90% {\n",
              "      border-color: transparent;\n",
              "      border-bottom-color: var(--fill-color);\n",
              "    }\n",
              "  }\n",
              "</style>\n",
              "\n",
              "  <script>\n",
              "    async function quickchart(key) {\n",
              "      const quickchartButtonEl =\n",
              "        document.querySelector('#' + key + ' button');\n",
              "      quickchartButtonEl.disabled = true;  // To prevent multiple clicks.\n",
              "      quickchartButtonEl.classList.add('colab-df-spinner');\n",
              "      try {\n",
              "        const charts = await google.colab.kernel.invokeFunction(\n",
              "            'suggestCharts', [key], {});\n",
              "      } catch (error) {\n",
              "        console.error('Error during call to suggestCharts:', error);\n",
              "      }\n",
              "      quickchartButtonEl.classList.remove('colab-df-spinner');\n",
              "      quickchartButtonEl.classList.add('colab-df-quickchart-complete');\n",
              "    }\n",
              "    (() => {\n",
              "      let quickchartButtonEl =\n",
              "        document.querySelector('#df-530a0abe-be90-4af1-bc5e-93b983595c9e button');\n",
              "      quickchartButtonEl.style.display =\n",
              "        google.colab.kernel.accessAllowed ? 'block' : 'none';\n",
              "    })();\n",
              "  </script>\n",
              "</div>\n",
              "\n",
              "  <div id=\"id_13cdc056-c7ba-4a46-a96b-7dd713a88552\">\n",
              "    <style>\n",
              "      .colab-df-generate {\n",
              "        background-color: #E8F0FE;\n",
              "        border: none;\n",
              "        border-radius: 50%;\n",
              "        cursor: pointer;\n",
              "        display: none;\n",
              "        fill: #1967D2;\n",
              "        height: 32px;\n",
              "        padding: 0 0 0 0;\n",
              "        width: 32px;\n",
              "      }\n",
              "\n",
              "      .colab-df-generate:hover {\n",
              "        background-color: #E2EBFA;\n",
              "        box-shadow: 0px 1px 2px rgba(60, 64, 67, 0.3), 0px 1px 3px 1px rgba(60, 64, 67, 0.15);\n",
              "        fill: #174EA6;\n",
              "      }\n",
              "\n",
              "      [theme=dark] .colab-df-generate {\n",
              "        background-color: #3B4455;\n",
              "        fill: #D2E3FC;\n",
              "      }\n",
              "\n",
              "      [theme=dark] .colab-df-generate:hover {\n",
              "        background-color: #434B5C;\n",
              "        box-shadow: 0px 1px 3px 1px rgba(0, 0, 0, 0.15);\n",
              "        filter: drop-shadow(0px 1px 2px rgba(0, 0, 0, 0.3));\n",
              "        fill: #FFFFFF;\n",
              "      }\n",
              "    </style>\n",
              "    <button class=\"colab-df-generate\" onclick=\"generateWithVariable('target_table')\"\n",
              "            title=\"Generate code using this dataframe.\"\n",
              "            style=\"display:none;\">\n",
              "\n",
              "  <svg xmlns=\"http://www.w3.org/2000/svg\" height=\"24px\"viewBox=\"0 0 24 24\"\n",
              "       width=\"24px\">\n",
              "    <path d=\"M7,19H8.4L18.45,9,17,7.55,7,17.6ZM5,21V16.75L18.45,3.32a2,2,0,0,1,2.83,0l1.4,1.43a1.91,1.91,0,0,1,.58,1.4,1.91,1.91,0,0,1-.58,1.4L9.25,21ZM18.45,9,17,7.55Zm-12,3A5.31,5.31,0,0,0,4.9,8.1,5.31,5.31,0,0,0,1,6.5,5.31,5.31,0,0,0,4.9,4.9,5.31,5.31,0,0,0,6.5,1,5.31,5.31,0,0,0,8.1,4.9,5.31,5.31,0,0,0,12,6.5,5.46,5.46,0,0,0,6.5,12Z\"/>\n",
              "  </svg>\n",
              "    </button>\n",
              "    <script>\n",
              "      (() => {\n",
              "      const buttonEl =\n",
              "        document.querySelector('#id_13cdc056-c7ba-4a46-a96b-7dd713a88552 button.colab-df-generate');\n",
              "      buttonEl.style.display =\n",
              "        google.colab.kernel.accessAllowed ? 'block' : 'none';\n",
              "\n",
              "      buttonEl.onclick = () => {\n",
              "        google.colab.notebook.generateWithVariable('target_table');\n",
              "      }\n",
              "      })();\n",
              "    </script>\n",
              "  </div>\n",
              "\n",
              "    </div>\n",
              "  </div>\n"
            ],
            "application/vnd.google.colaboratory.intrinsic+json": {
              "type": "dataframe",
              "variable_name": "target_table",
              "summary": "{\n  \"name\": \"target_table\",\n  \"rows\": 9,\n  \"fields\": [\n    {\n      \"column\": \"Region\",\n      \"properties\": {\n        \"dtype\": \"string\",\n        \"num_unique_values\": 9,\n        \"samples\": [\n          \"Oceania\",\n          \"Northern Africa and Western Asia\",\n          \"Latin America and the Caribbean\"\n        ],\n        \"semantic_type\": \"\",\n        \"description\": \"\"\n      }\n    },\n    {\n      \"column\": \"2022 (percent)\",\n      \"properties\": {\n        \"dtype\": \"string\",\n        \"num_unique_values\": 9,\n        \"samples\": [\n          \"14 (0.18%)\",\n          \"549 (6.91%)\",\n          \"658 (8.29%)\"\n        ],\n        \"semantic_type\": \"\",\n        \"description\": \"\"\n      }\n    },\n    {\n      \"column\": \"2030 (percent)\",\n      \"properties\": {\n        \"dtype\": \"string\",\n        \"num_unique_values\": 9,\n        \"samples\": [\n          \"15 (0.18%)\",\n          \"617 (7.25%)\",\n          \"695 (8.17%)\"\n        ],\n        \"semantic_type\": \"\",\n        \"description\": \"\"\n      }\n    },\n    {\n      \"column\": \"2050 (percent)\",\n      \"properties\": {\n        \"dtype\": \"string\",\n        \"num_unique_values\": 9,\n        \"samples\": [\n          \"20 (0.21%)\",\n          \"771 (7.96%)\",\n          \"749 (7.73%)\"\n        ],\n        \"semantic_type\": \"\",\n        \"description\": \"\"\n      }\n    }\n  ]\n}"
            }
          },
          "metadata": {},
          "execution_count": 50
        }
      ]
    },
    {
      "cell_type": "markdown",
      "metadata": {
        "id": "5e77b0c0-d9f7-4ac5-9342-f243239db2cb"
      },
      "source": [
        "## Authors\n"
      ]
    },
    {
      "cell_type": "markdown",
      "metadata": {
        "id": "1e246b7b-1560-4a24-bfa8-68ea224073ad"
      },
      "source": [
        "Ramesh Sannareddy\n"
      ]
    },
    {
      "cell_type": "markdown",
      "metadata": {
        "id": "d459231a-6c57-406e-a249-591ebb2cc169"
      },
      "source": [
        "### Other Contributors\n"
      ]
    },
    {
      "cell_type": "markdown",
      "metadata": {
        "id": "36df9466-0ce4-40e3-b962-d6b73618206c"
      },
      "source": [
        "Rav Ahuja\n"
      ]
    },
    {
      "cell_type": "markdown",
      "metadata": {
        "id": "e7e1dc80-7ae4-4b9e-b234-302c6b6ac30c"
      },
      "source": [
        "<!-- ## Change Log\n",
        "| Date (YYYY-MM-DD) | Version | Changed By                                               | Change Description |\n",
        "| ----------------- | ------- | -------------------------------------------------------- | ------------------ |\n",
        "| 2021-08-04        | 0.2     | Made changes to markdown of nextsibling                  |                    |\n",
        "| 2020-10-17        | 0.1     | Joseph Santarcangelo  Created initial version of the lab |                    |\n",
        "--!>\n"
      ]
    },
    {
      "cell_type": "markdown",
      "metadata": {
        "id": "56b31cb2-3a91-47d5-b13a-b3763adf9299"
      },
      "source": [
        "####  Copyright © 2020 IBM Corporation. This notebook and its source code are released under the terms of the [MIT License](https://cognitiveclass.ai/mit-license?utm_medium=Exinfluencer&utm_source=Exinfluencer&utm_content=000026UJ&utm_term=10006555&utm_id=NA-SkillsNetwork-Channel-SkillsNetworkCoursesIBMDeveloperSkillsNetworkPY0220ENSkillsNetwork23455606-2021-01-01&cm_mmc=Email_Newsletter-\\_-Developer_Ed%2BTech-\\_-WW_WW-\\_-SkillsNetwork-Courses-IBMDeveloperSkillsNetwork-PY0101EN-SkillsNetwork-19487395&cm_mmca1=000026UJ&cm_mmca2=10006555&cm_mmca3=M12345678&cvosrc=email.Newsletter.M12345678&cvo_campaign=000026UJ).\n"
      ]
    },
    {
      "cell_type": "code",
      "metadata": {
        "id": "4867b10c-ef6d-4eb8-a19e-b5cc39a4a5ae"
      },
      "outputs": [],
      "source": [],
      "execution_count": null
    },
    {
      "cell_type": "code",
      "metadata": {
        "id": "ef44c993-167a-4929-80a1-64b4879476e0"
      },
      "outputs": [],
      "source": [],
      "execution_count": null
    }
  ],
  "metadata": {
    "kernelspec": {
      "display_name": "Python",
      "language": "python",
      "name": "conda-env-python-py"
    },
    "language_info": {
      "name": "python",
      "version": "3.7.12",
      "mimetype": "text/x-python",
      "codemirror_mode": {
        "name": "ipython",
        "version": 3
      },
      "pygments_lexer": "ipython3",
      "nbconvert_exporter": "python",
      "file_extension": ".py"
    },
    "prev_pub_hash": "762c28a79922084af0ca880b8ab1ff6ebc66070b779045fe41f0cfe40501c510",
    "colab": {
      "provenance": [],
      "include_colab_link": true
    }
  },
  "nbformat": 4,
  "nbformat_minor": 0
}