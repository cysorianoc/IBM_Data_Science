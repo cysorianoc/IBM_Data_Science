{
  "cells": [
    {
      "cell_type": "markdown",
      "metadata": {
        "id": "view-in-github",
        "colab_type": "text"
      },
      "source": [
        "<a href=\"https://colab.research.google.com/github/cysorianoc/IBM_Data_Science/blob/main/Course_4_W5_2.ipynb\" target=\"_parent\"><img src=\"https://colab.research.google.com/assets/colab-badge.svg\" alt=\"Open In Colab\"/></a>"
      ]
    },
    {
      "cell_type": "markdown",
      "metadata": {
        "id": "42b141bc-69b5-4410-ab3e-0923417a5e2b"
      },
      "source": [
        "<p style=\"text-align:center\">\n",
        "    <a href=\"https://skills.network\" target=\"_blank\">\n",
        "    <img src=\"https://cf-courses-data.s3.us.cloud-object-storage.appdomain.cloud/assets/logos/SN_web_lightmode.png\" width=\"300\" alt=\"Skills Network Logo\">\n",
        "    </a>\n",
        "</p>\n"
      ]
    },
    {
      "cell_type": "markdown",
      "metadata": {
        "id": "dd8d8a05-aaa0-49e1-8ac0-a65a8e22bc74"
      },
      "source": [
        "# Practice Project: GDP Data extraction and processing\n",
        "\n",
        "Estimated time needed: **30** minutes\n",
        "\n",
        "## Introduction\n",
        "\n",
        "In this practice project, you will put the skills acquired through the course to use. You will extract data from a website using webscraping and reqeust APIs process it using Pandas and Numpy libraries.\n"
      ]
    },
    {
      "cell_type": "markdown",
      "metadata": {
        "id": "53d6cf92-ae14-4c1c-9c35-ca75d9efce92"
      },
      "source": [
        "## Project Scenario:\n",
        "\n",
        "An international firm that is looking to expand its business in different countries across the world has recruited you. You have been hired as a junior Data Engineer and are tasked with creating a script that can extract the list of the top 10 largest economies of the world in descending order of their GDPs in Billion USD (rounded to 2 decimal places), as logged by the International Monetary Fund (IMF).\n",
        "\n",
        "The required data seems to be available on the URL mentioned below:\n"
      ]
    },
    {
      "cell_type": "markdown",
      "metadata": {
        "id": "55aff53a-38dd-4ba5-918c-5de4784476c4"
      },
      "source": [
        "URL: https://web.archive.org/web/20230902185326/https://en.wikipedia.org/wiki/List_of_countries_by_GDP_%28nominal%29\n"
      ]
    },
    {
      "cell_type": "markdown",
      "metadata": {
        "id": "a096e98e-bea7-46cb-8de8-a0eed74c9d45"
      },
      "source": [
        "## Objectives\n",
        "\n",
        "After completing this lab you will be able to:\n",
        "\n",
        " - Use Webscraping to extract required information from a website.\n",
        " - Use Pandas to load and process the tabular data as a dataframe.\n",
        " - Use Numpy to manipulate the information contatined in the dataframe.\n",
        " - Load the updated dataframe to CSV file.\n"
      ]
    },
    {
      "cell_type": "markdown",
      "metadata": {
        "id": "9472b4c2-ae07-4fbe-82e9-148055a80a9d"
      },
      "source": [
        "---\n"
      ]
    },
    {
      "cell_type": "markdown",
      "metadata": {
        "id": "5ff405e9-850c-4016-a32a-9ce83db04de6"
      },
      "source": [
        "## Dislcaimer\n",
        "\n",
        "If you are using a downloaded version of this notebook on your local machine, you may encounter a warning message as shown in the screenshot below.\n",
        "\n",
        "<p style=\"text-align:center\">\n",
        "    <img src=\"https://cf-courses-data.s3.us.cloud-object-storage.appdomain.cloud/IBMDeveloperSkillsNetwork-PY0101EN-SkillsNetwork/labs/mod_5/practice_project_disclaimer.png\" width=\"700\" alt=\"warning message\">\n",
        "</p>\n",
        "\n",
        "\n",
        "This does not affect the execution of your codes in any way and can be simply ignored.\n"
      ]
    },
    {
      "cell_type": "markdown",
      "metadata": {
        "id": "893eb552-b5ff-42ff-a5a9-8370d262fd8d"
      },
      "source": [
        "# Setup\n"
      ]
    },
    {
      "cell_type": "markdown",
      "metadata": {
        "id": "3e303068-9353-4758-8f56-09c627f2db73"
      },
      "source": [
        "For this lab, we will be using the following libraries:\n",
        "\n",
        "*   [`pandas`](https://pandas.pydata.org/?utm_medium=Exinfluencer&utm_source=Exinfluencer&utm_content=000026UJ&utm_term=10006555&utm_id=NA-SkillsNetwork-Channel-SkillsNetworkCoursesIBMML0187ENSkillsNetwork31430127-2021-01-01) for managing the data.\n",
        "*   [`numpy`](https://numpy.org/?utm_medium=Exinfluencer&utm_source=Exinfluencer&utm_content=000026UJ&utm_term=10006555&utm_id=NA-SkillsNetwork-Channel-SkillsNetworkCoursesIBMML0187ENSkillsNetwork31430127-2021-01-01) for mathematical operations.\n"
      ]
    },
    {
      "cell_type": "markdown",
      "metadata": {
        "id": "0da87a35-fc35-4f05-89a1-8c487e3200ac"
      },
      "source": [
        "### Importing Required Libraries\n",
        "\n",
        "_We recommend you import all required libraries in one place (here):_\n"
      ]
    },
    {
      "cell_type": "code",
      "metadata": {
        "id": "f2c6202e-2fe6-4720-b756-af0474fac837"
      },
      "outputs": [],
      "source": [
        "import numpy as np\n",
        "import pandas as pd\n",
        "\n",
        "# You can also use this section to suppress warnings generated by your code:\n",
        "def warn(*args, **kwargs):\n",
        "    pass\n",
        "import warnings\n",
        "warnings.warn = warn\n",
        "warnings.filterwarnings('ignore')"
      ],
      "execution_count": 82
    },
    {
      "cell_type": "markdown",
      "metadata": {
        "id": "a3c0e6e7-740b-4320-810a-cd851e5fd417"
      },
      "source": [
        "---\n"
      ]
    },
    {
      "cell_type": "markdown",
      "metadata": {
        "id": "ffcac372-135f-4761-8fd5-d13a51e1ad82"
      },
      "source": [
        "# Exercises\n",
        "\n",
        "### Exercise 1\n",
        "Extract the required GDP data from the given URL using Web Scraping.\n"
      ]
    },
    {
      "cell_type": "code",
      "metadata": {
        "id": "381fb2f4-5f13-4dde-b426-133193e7a4d1"
      },
      "outputs": [],
      "source": [
        "URL=\"https://web.archive.org/web/20230902185326/https://en.wikipedia.org/wiki/List_of_countries_by_GDP_%28nominal%29\""
      ],
      "execution_count": null
    },
    {
      "cell_type": "markdown",
      "metadata": {
        "id": "528f3819-8406-4ac7-808f-f78c2801cd0a"
      },
      "source": [
        "You can use Pandas library to extract the required table directly as a DataFrame. Note that the required table is the third one on the website, as shown in the image below.\n",
        "\n",
        "<img src=\"https://cf-courses-data.s3.us.cloud-object-storage.appdomain.cloud/IBMDeveloperSkillsNetwork-PY0101EN-SkillsNetwork/images/pandas_wbs_3.png\">\n"
      ]
    },
    {
      "cell_type": "code",
      "metadata": {
        "id": "24356891-864e-4a6e-873d-fae5ec84161d"
      },
      "outputs": [],
      "source": [
        "# Extract tables from webpage using Pandas. Retain table number 3 as the required dataframe.\n",
        "tables=pd.read_html(URL)\n",
        "# Note: tables is a list of all the tables on the page.\n",
        "df=tables[3]\n",
        "\n",
        "# Replace the column headers with column numbers\n",
        "df.columns = range(df.shape[1])\n",
        "# Note: df.shape[0] refers to the number of rows and df.shape[1] refers to the number of columns\n",
        "\n",
        "\n",
        "# Retain columns with index 0 and 2 (name of country and value of GDP quoted by IMF)\n",
        "df=df[[0,2]]\n",
        "\n",
        "# Retain the Rows with index 1 to 10, indicating the top 10 economies of the world.\n",
        "df=df.iloc[1:11,:]\n",
        "\n",
        "\n",
        "\n",
        "# Assign column names as \"Country\" and \"GDP (Million USD)\"\n",
        "df.columns = ['Country','GDP (Million USD)']"
      ],
      "execution_count": null
    },
    {
      "cell_type": "code",
      "source": [
        "df"
      ],
      "metadata": {
        "colab": {
          "base_uri": "https://localhost:8080/",
          "height": 363
        },
        "id": "jQgqNNThVVky",
        "outputId": "58e1a699-1b42-46d0-8090-1189467bfca9"
      },
      "execution_count": null,
      "outputs": [
        {
          "output_type": "execute_result",
          "data": {
            "text/plain": [
              "           Country GDP (Million USD)\n",
              "1    United States          26854599\n",
              "2            China          19373586\n",
              "3            Japan           4409738\n",
              "4          Germany           4308854\n",
              "5            India           3736882\n",
              "6   United Kingdom           3158938\n",
              "7           France           2923489\n",
              "8            Italy           2169745\n",
              "9           Canada           2089672\n",
              "10          Brazil           2081235"
            ],
            "text/html": [
              "\n",
              "  <div id=\"df-2b8a0b92-9975-4e78-adfa-6f3bbb03faad\" class=\"colab-df-container\">\n",
              "    <div>\n",
              "<style scoped>\n",
              "    .dataframe tbody tr th:only-of-type {\n",
              "        vertical-align: middle;\n",
              "    }\n",
              "\n",
              "    .dataframe tbody tr th {\n",
              "        vertical-align: top;\n",
              "    }\n",
              "\n",
              "    .dataframe thead th {\n",
              "        text-align: right;\n",
              "    }\n",
              "</style>\n",
              "<table border=\"1\" class=\"dataframe\">\n",
              "  <thead>\n",
              "    <tr style=\"text-align: right;\">\n",
              "      <th></th>\n",
              "      <th>Country</th>\n",
              "      <th>GDP (Million USD)</th>\n",
              "    </tr>\n",
              "  </thead>\n",
              "  <tbody>\n",
              "    <tr>\n",
              "      <th>1</th>\n",
              "      <td>United States</td>\n",
              "      <td>26854599</td>\n",
              "    </tr>\n",
              "    <tr>\n",
              "      <th>2</th>\n",
              "      <td>China</td>\n",
              "      <td>19373586</td>\n",
              "    </tr>\n",
              "    <tr>\n",
              "      <th>3</th>\n",
              "      <td>Japan</td>\n",
              "      <td>4409738</td>\n",
              "    </tr>\n",
              "    <tr>\n",
              "      <th>4</th>\n",
              "      <td>Germany</td>\n",
              "      <td>4308854</td>\n",
              "    </tr>\n",
              "    <tr>\n",
              "      <th>5</th>\n",
              "      <td>India</td>\n",
              "      <td>3736882</td>\n",
              "    </tr>\n",
              "    <tr>\n",
              "      <th>6</th>\n",
              "      <td>United Kingdom</td>\n",
              "      <td>3158938</td>\n",
              "    </tr>\n",
              "    <tr>\n",
              "      <th>7</th>\n",
              "      <td>France</td>\n",
              "      <td>2923489</td>\n",
              "    </tr>\n",
              "    <tr>\n",
              "      <th>8</th>\n",
              "      <td>Italy</td>\n",
              "      <td>2169745</td>\n",
              "    </tr>\n",
              "    <tr>\n",
              "      <th>9</th>\n",
              "      <td>Canada</td>\n",
              "      <td>2089672</td>\n",
              "    </tr>\n",
              "    <tr>\n",
              "      <th>10</th>\n",
              "      <td>Brazil</td>\n",
              "      <td>2081235</td>\n",
              "    </tr>\n",
              "  </tbody>\n",
              "</table>\n",
              "</div>\n",
              "    <div class=\"colab-df-buttons\">\n",
              "\n",
              "  <div class=\"colab-df-container\">\n",
              "    <button class=\"colab-df-convert\" onclick=\"convertToInteractive('df-2b8a0b92-9975-4e78-adfa-6f3bbb03faad')\"\n",
              "            title=\"Convert this dataframe to an interactive table.\"\n",
              "            style=\"display:none;\">\n",
              "\n",
              "  <svg xmlns=\"http://www.w3.org/2000/svg\" height=\"24px\" viewBox=\"0 -960 960 960\">\n",
              "    <path d=\"M120-120v-720h720v720H120Zm60-500h600v-160H180v160Zm220 220h160v-160H400v160Zm0 220h160v-160H400v160ZM180-400h160v-160H180v160Zm440 0h160v-160H620v160ZM180-180h160v-160H180v160Zm440 0h160v-160H620v160Z\"/>\n",
              "  </svg>\n",
              "    </button>\n",
              "\n",
              "  <style>\n",
              "    .colab-df-container {\n",
              "      display:flex;\n",
              "      gap: 12px;\n",
              "    }\n",
              "\n",
              "    .colab-df-convert {\n",
              "      background-color: #E8F0FE;\n",
              "      border: none;\n",
              "      border-radius: 50%;\n",
              "      cursor: pointer;\n",
              "      display: none;\n",
              "      fill: #1967D2;\n",
              "      height: 32px;\n",
              "      padding: 0 0 0 0;\n",
              "      width: 32px;\n",
              "    }\n",
              "\n",
              "    .colab-df-convert:hover {\n",
              "      background-color: #E2EBFA;\n",
              "      box-shadow: 0px 1px 2px rgba(60, 64, 67, 0.3), 0px 1px 3px 1px rgba(60, 64, 67, 0.15);\n",
              "      fill: #174EA6;\n",
              "    }\n",
              "\n",
              "    .colab-df-buttons div {\n",
              "      margin-bottom: 4px;\n",
              "    }\n",
              "\n",
              "    [theme=dark] .colab-df-convert {\n",
              "      background-color: #3B4455;\n",
              "      fill: #D2E3FC;\n",
              "    }\n",
              "\n",
              "    [theme=dark] .colab-df-convert:hover {\n",
              "      background-color: #434B5C;\n",
              "      box-shadow: 0px 1px 3px 1px rgba(0, 0, 0, 0.15);\n",
              "      filter: drop-shadow(0px 1px 2px rgba(0, 0, 0, 0.3));\n",
              "      fill: #FFFFFF;\n",
              "    }\n",
              "  </style>\n",
              "\n",
              "    <script>\n",
              "      const buttonEl =\n",
              "        document.querySelector('#df-2b8a0b92-9975-4e78-adfa-6f3bbb03faad button.colab-df-convert');\n",
              "      buttonEl.style.display =\n",
              "        google.colab.kernel.accessAllowed ? 'block' : 'none';\n",
              "\n",
              "      async function convertToInteractive(key) {\n",
              "        const element = document.querySelector('#df-2b8a0b92-9975-4e78-adfa-6f3bbb03faad');\n",
              "        const dataTable =\n",
              "          await google.colab.kernel.invokeFunction('convertToInteractive',\n",
              "                                                    [key], {});\n",
              "        if (!dataTable) return;\n",
              "\n",
              "        const docLinkHtml = 'Like what you see? Visit the ' +\n",
              "          '<a target=\"_blank\" href=https://colab.research.google.com/notebooks/data_table.ipynb>data table notebook</a>'\n",
              "          + ' to learn more about interactive tables.';\n",
              "        element.innerHTML = '';\n",
              "        dataTable['output_type'] = 'display_data';\n",
              "        await google.colab.output.renderOutput(dataTable, element);\n",
              "        const docLink = document.createElement('div');\n",
              "        docLink.innerHTML = docLinkHtml;\n",
              "        element.appendChild(docLink);\n",
              "      }\n",
              "    </script>\n",
              "  </div>\n",
              "\n",
              "\n",
              "<div id=\"df-507ebd54-35f4-4f51-8a10-42ff13f7ab37\">\n",
              "  <button class=\"colab-df-quickchart\" onclick=\"quickchart('df-507ebd54-35f4-4f51-8a10-42ff13f7ab37')\"\n",
              "            title=\"Suggest charts\"\n",
              "            style=\"display:none;\">\n",
              "\n",
              "<svg xmlns=\"http://www.w3.org/2000/svg\" height=\"24px\"viewBox=\"0 0 24 24\"\n",
              "     width=\"24px\">\n",
              "    <g>\n",
              "        <path d=\"M19 3H5c-1.1 0-2 .9-2 2v14c0 1.1.9 2 2 2h14c1.1 0 2-.9 2-2V5c0-1.1-.9-2-2-2zM9 17H7v-7h2v7zm4 0h-2V7h2v10zm4 0h-2v-4h2v4z\"/>\n",
              "    </g>\n",
              "</svg>\n",
              "  </button>\n",
              "\n",
              "<style>\n",
              "  .colab-df-quickchart {\n",
              "      --bg-color: #E8F0FE;\n",
              "      --fill-color: #1967D2;\n",
              "      --hover-bg-color: #E2EBFA;\n",
              "      --hover-fill-color: #174EA6;\n",
              "      --disabled-fill-color: #AAA;\n",
              "      --disabled-bg-color: #DDD;\n",
              "  }\n",
              "\n",
              "  [theme=dark] .colab-df-quickchart {\n",
              "      --bg-color: #3B4455;\n",
              "      --fill-color: #D2E3FC;\n",
              "      --hover-bg-color: #434B5C;\n",
              "      --hover-fill-color: #FFFFFF;\n",
              "      --disabled-bg-color: #3B4455;\n",
              "      --disabled-fill-color: #666;\n",
              "  }\n",
              "\n",
              "  .colab-df-quickchart {\n",
              "    background-color: var(--bg-color);\n",
              "    border: none;\n",
              "    border-radius: 50%;\n",
              "    cursor: pointer;\n",
              "    display: none;\n",
              "    fill: var(--fill-color);\n",
              "    height: 32px;\n",
              "    padding: 0;\n",
              "    width: 32px;\n",
              "  }\n",
              "\n",
              "  .colab-df-quickchart:hover {\n",
              "    background-color: var(--hover-bg-color);\n",
              "    box-shadow: 0 1px 2px rgba(60, 64, 67, 0.3), 0 1px 3px 1px rgba(60, 64, 67, 0.15);\n",
              "    fill: var(--button-hover-fill-color);\n",
              "  }\n",
              "\n",
              "  .colab-df-quickchart-complete:disabled,\n",
              "  .colab-df-quickchart-complete:disabled:hover {\n",
              "    background-color: var(--disabled-bg-color);\n",
              "    fill: var(--disabled-fill-color);\n",
              "    box-shadow: none;\n",
              "  }\n",
              "\n",
              "  .colab-df-spinner {\n",
              "    border: 2px solid var(--fill-color);\n",
              "    border-color: transparent;\n",
              "    border-bottom-color: var(--fill-color);\n",
              "    animation:\n",
              "      spin 1s steps(1) infinite;\n",
              "  }\n",
              "\n",
              "  @keyframes spin {\n",
              "    0% {\n",
              "      border-color: transparent;\n",
              "      border-bottom-color: var(--fill-color);\n",
              "      border-left-color: var(--fill-color);\n",
              "    }\n",
              "    20% {\n",
              "      border-color: transparent;\n",
              "      border-left-color: var(--fill-color);\n",
              "      border-top-color: var(--fill-color);\n",
              "    }\n",
              "    30% {\n",
              "      border-color: transparent;\n",
              "      border-left-color: var(--fill-color);\n",
              "      border-top-color: var(--fill-color);\n",
              "      border-right-color: var(--fill-color);\n",
              "    }\n",
              "    40% {\n",
              "      border-color: transparent;\n",
              "      border-right-color: var(--fill-color);\n",
              "      border-top-color: var(--fill-color);\n",
              "    }\n",
              "    60% {\n",
              "      border-color: transparent;\n",
              "      border-right-color: var(--fill-color);\n",
              "    }\n",
              "    80% {\n",
              "      border-color: transparent;\n",
              "      border-right-color: var(--fill-color);\n",
              "      border-bottom-color: var(--fill-color);\n",
              "    }\n",
              "    90% {\n",
              "      border-color: transparent;\n",
              "      border-bottom-color: var(--fill-color);\n",
              "    }\n",
              "  }\n",
              "</style>\n",
              "\n",
              "  <script>\n",
              "    async function quickchart(key) {\n",
              "      const quickchartButtonEl =\n",
              "        document.querySelector('#' + key + ' button');\n",
              "      quickchartButtonEl.disabled = true;  // To prevent multiple clicks.\n",
              "      quickchartButtonEl.classList.add('colab-df-spinner');\n",
              "      try {\n",
              "        const charts = await google.colab.kernel.invokeFunction(\n",
              "            'suggestCharts', [key], {});\n",
              "      } catch (error) {\n",
              "        console.error('Error during call to suggestCharts:', error);\n",
              "      }\n",
              "      quickchartButtonEl.classList.remove('colab-df-spinner');\n",
              "      quickchartButtonEl.classList.add('colab-df-quickchart-complete');\n",
              "    }\n",
              "    (() => {\n",
              "      let quickchartButtonEl =\n",
              "        document.querySelector('#df-507ebd54-35f4-4f51-8a10-42ff13f7ab37 button');\n",
              "      quickchartButtonEl.style.display =\n",
              "        google.colab.kernel.accessAllowed ? 'block' : 'none';\n",
              "    })();\n",
              "  </script>\n",
              "</div>\n",
              "\n",
              "  <div id=\"id_0a6ac4d7-1810-4e55-be43-793e56285af4\">\n",
              "    <style>\n",
              "      .colab-df-generate {\n",
              "        background-color: #E8F0FE;\n",
              "        border: none;\n",
              "        border-radius: 50%;\n",
              "        cursor: pointer;\n",
              "        display: none;\n",
              "        fill: #1967D2;\n",
              "        height: 32px;\n",
              "        padding: 0 0 0 0;\n",
              "        width: 32px;\n",
              "      }\n",
              "\n",
              "      .colab-df-generate:hover {\n",
              "        background-color: #E2EBFA;\n",
              "        box-shadow: 0px 1px 2px rgba(60, 64, 67, 0.3), 0px 1px 3px 1px rgba(60, 64, 67, 0.15);\n",
              "        fill: #174EA6;\n",
              "      }\n",
              "\n",
              "      [theme=dark] .colab-df-generate {\n",
              "        background-color: #3B4455;\n",
              "        fill: #D2E3FC;\n",
              "      }\n",
              "\n",
              "      [theme=dark] .colab-df-generate:hover {\n",
              "        background-color: #434B5C;\n",
              "        box-shadow: 0px 1px 3px 1px rgba(0, 0, 0, 0.15);\n",
              "        filter: drop-shadow(0px 1px 2px rgba(0, 0, 0, 0.3));\n",
              "        fill: #FFFFFF;\n",
              "      }\n",
              "    </style>\n",
              "    <button class=\"colab-df-generate\" onclick=\"generateWithVariable('df')\"\n",
              "            title=\"Generate code using this dataframe.\"\n",
              "            style=\"display:none;\">\n",
              "\n",
              "  <svg xmlns=\"http://www.w3.org/2000/svg\" height=\"24px\"viewBox=\"0 0 24 24\"\n",
              "       width=\"24px\">\n",
              "    <path d=\"M7,19H8.4L18.45,9,17,7.55,7,17.6ZM5,21V16.75L18.45,3.32a2,2,0,0,1,2.83,0l1.4,1.43a1.91,1.91,0,0,1,.58,1.4,1.91,1.91,0,0,1-.58,1.4L9.25,21ZM18.45,9,17,7.55Zm-12,3A5.31,5.31,0,0,0,4.9,8.1,5.31,5.31,0,0,0,1,6.5,5.31,5.31,0,0,0,4.9,4.9,5.31,5.31,0,0,0,6.5,1,5.31,5.31,0,0,0,8.1,4.9,5.31,5.31,0,0,0,12,6.5,5.46,5.46,0,0,0,6.5,12Z\"/>\n",
              "  </svg>\n",
              "    </button>\n",
              "    <script>\n",
              "      (() => {\n",
              "      const buttonEl =\n",
              "        document.querySelector('#id_0a6ac4d7-1810-4e55-be43-793e56285af4 button.colab-df-generate');\n",
              "      buttonEl.style.display =\n",
              "        google.colab.kernel.accessAllowed ? 'block' : 'none';\n",
              "\n",
              "      buttonEl.onclick = () => {\n",
              "        google.colab.notebook.generateWithVariable('df');\n",
              "      }\n",
              "      })();\n",
              "    </script>\n",
              "  </div>\n",
              "\n",
              "    </div>\n",
              "  </div>\n"
            ],
            "application/vnd.google.colaboratory.intrinsic+json": {
              "type": "dataframe",
              "variable_name": "df",
              "summary": "{\n  \"name\": \"df\",\n  \"rows\": 10,\n  \"fields\": [\n    {\n      \"column\": \"Country\",\n      \"properties\": {\n        \"dtype\": \"string\",\n        \"num_unique_values\": 10,\n        \"samples\": [\n          \"Canada\",\n          \"China\",\n          \"United Kingdom\"\n        ],\n        \"semantic_type\": \"\",\n        \"description\": \"\"\n      }\n    },\n    {\n      \"column\": \"GDP (Million USD)\",\n      \"properties\": {\n        \"dtype\": \"string\",\n        \"num_unique_values\": 10,\n        \"samples\": [\n          \"2089672\",\n          \"19373586\",\n          \"3158938\"\n        ],\n        \"semantic_type\": \"\",\n        \"description\": \"\"\n      }\n    }\n  ]\n}"
            }
          },
          "metadata": {},
          "execution_count": 28
        }
      ]
    },
    {
      "cell_type": "markdown",
      "metadata": {
        "id": "6abf949a-0f27-40f2-998a-865e69735fe6"
      },
      "source": [
        "<details>\n",
        "    <summary>Click here for Solution</summary>\n",
        "\n",
        "```python\n",
        "# Extract tables from webpage using Pandas. Retain table number 3 as the required dataframe.\n",
        "tables = pd.read_html(URL)\n",
        "df = tables[3]\n",
        "\n",
        "# Replace the column headers with column numbers\n",
        "df.columns = range(df.shape[1])\n",
        "\n",
        "# Retain columns with index 0 and 2 (name of country and value of GDP quoted by IMF)\n",
        "df = df[[0,2]]\n",
        "\n",
        "# Retain the Rows with index 1 to 10, indicating the top 10 economies of the world.\n",
        "df = df.iloc[1:11,:]\n",
        "\n",
        "# Assign column names as \"Country\" and \"GDP (Million USD)\"\n",
        "df.columns = ['Country','GDP (Million USD)']\n",
        "```\n",
        "\n",
        "</details>\n"
      ]
    },
    {
      "cell_type": "markdown",
      "metadata": {
        "id": "373e6379-7db0-4d6f-a097-198400bf2056"
      },
      "source": [
        "### Exercise 2\n",
        "Modify the GDP column of the DataFrame, converting the value available in Million USD to Billion USD. Use the `round()` method of Numpy library to round the value to 2 decimal places. Modify the header of the DataFrame to `GDP (Billion USD)`.\n"
      ]
    },
    {
      "cell_type": "code",
      "metadata": {
        "id": "334818a1-ab9d-4049-9b9e-12954f874487"
      },
      "outputs": [],
      "source": [
        "# Change the data type of the 'GDP (Million USD)' column to integer. Use astype() method.\n",
        "df['GDP (Million USD)']=df['GDP (Million USD)'].astype(int)\n",
        "\n",
        "# Convert the GDP value in Million USD to Billion USD\n",
        "df[['GDP (Million USD)']]=df[['GDP (Million USD)']]/1000\n",
        "\n",
        "\n",
        "# Use numpy.round() method to round the value to 2 decimal places.\n",
        "df[['GDP (Million USD)']]=np.round(df[['GDP (Million USD)']],2)\n",
        "\n",
        "# Rename the column header from 'GDP (Million USD)' to 'GDP (Billion USD)'\n",
        "df.columns = ['Country','GDP (Billion USD)']"
      ],
      "execution_count": null
    },
    {
      "cell_type": "markdown",
      "metadata": {
        "id": "5c247a54-d7b1-41c7-96a8-7fca3766b7e4"
      },
      "source": [
        "<details>\n",
        "    <summary>Click here for solution</summary>\n",
        "    \n",
        "```python\n",
        "# Change the data type of the 'GDP (Million USD)' column to integer. Use astype() method.\n",
        "df['GDP (Million USD)'] = df['GDP (Million USD)'].astype(int)\n",
        "\n",
        "# Convert the GDP value in Million USD to Billion USD\n",
        "df[['GDP (Million USD)']] = df[['GDP (Million USD)']]/1000\n",
        "\n",
        "# Use numpy.round() method to round the value to 2 decimal places.\n",
        "df[['GDP (Million USD)']] = np.round(df[['GDP (Million USD)']], 2)\n",
        "\n",
        "# Rename the column header from 'GDP (Million USD)' to 'GDP (Billion USD)'\n",
        "df.rename(columns = {'GDP (Million USD)' : 'GDP (Billion USD)'})\n",
        "\n",
        "```\n",
        "</details>\n"
      ]
    },
    {
      "cell_type": "markdown",
      "metadata": {
        "id": "ed6d9e3b-8380-43f9-807a-518ef61d101d"
      },
      "source": [
        "### Exercise 3\n"
      ]
    },
    {
      "cell_type": "markdown",
      "metadata": {
        "id": "a21f3484-36ba-4a4d-82b1-49e25aaf8558"
      },
      "source": [
        "Load the DataFrame to the CSV file named \"Largest_economies.csv\"\n"
      ]
    },
    {
      "cell_type": "code",
      "metadata": {
        "id": "f9cf7d7b-5a11-4e1d-acd2-80556ed04de3"
      },
      "outputs": [],
      "source": [
        "df.to_csv('Largest_economies.csv')\n"
      ],
      "execution_count": null
    },
    {
      "cell_type": "markdown",
      "metadata": {
        "id": "c0f26c82-bfaf-4af3-ae4c-9c1e9271e7a0"
      },
      "source": [
        "<details>\n",
        "    <summary>Click here for Solution</summary>\n",
        "\n",
        "```python\n",
        "# Load the DataFrame to the CSV file named \"Largest_economies.csv\"\n",
        "df.to_csv('./Largest_economies.csv')\n",
        "```\n",
        "\n",
        "</details>\n"
      ]
    },
    {
      "cell_type": "markdown",
      "metadata": {
        "id": "bdd80725-fa87-4ea1-880d-6672e3b349e2"
      },
      "source": [
        "---\n"
      ]
    },
    {
      "cell_type": "markdown",
      "metadata": {
        "id": "14453c15-2beb-421d-a324-800b94aa758d"
      },
      "source": [
        "# Congratulations! You have completed the lab.\n"
      ]
    },
    {
      "cell_type": "markdown",
      "metadata": {
        "id": "8840eaed-efae-4fd2-ac71-abecb6634a86"
      },
      "source": [
        "## Authors\n"
      ]
    },
    {
      "cell_type": "markdown",
      "metadata": {
        "id": "843467f7-cf94-4752-9894-90c4141280cc"
      },
      "source": [
        "[Abhishek Gagneja](https://www.linkedin.com/in/abhishek-gagneja-23051987/)\n"
      ]
    },
    {
      "cell_type": "markdown",
      "metadata": {
        "id": "569c4044-fcc9-43b4-a936-0964bb1dba3f"
      },
      "source": [
        "## Change Log\n"
      ]
    },
    {
      "cell_type": "markdown",
      "metadata": {
        "id": "08cdbbe2-86ec-4286-968d-92806495d481"
      },
      "source": [
        "|Date (YYYY-MM-DD)|Version|Changed By|Change Description|\n",
        "|-|-|-|-|\n",
        "|2023-11-10|0.1|Abhishek Gagneja|Created initial version|\n"
      ]
    },
    {
      "cell_type": "markdown",
      "metadata": {
        "id": "1efa13da-1381-41f0-8fde-d5c94b1a1ee1"
      },
      "source": [
        "Copyright © 2023 IBM Corporation. All rights reserved.\n"
      ]
    },
    {
      "cell_type": "markdown",
      "source": [
        "## Another example of web scrapping\n",
        "\n",
        "For that, I will extract data formatted in .txt of Cone Penetration Tests https://www.geoengineer.org/education/site-characterization-in-situ-testing-general/cone-penetration-testing-cpt\n",
        "\n",
        "Employed as field tests for soil characterization tests and to obtain several parameters of soil shear strength by means of correlations.\n",
        "\n",
        "The source is the USGS website: https://earthquake.usgs.gov/research/cpt/data/imperial/table/\n",
        "\n",
        "\n"
      ],
      "metadata": {
        "id": "34sH0mn2CAG0"
      }
    },
    {
      "cell_type": "code",
      "source": [
        "# Step 1: import Pandas\n",
        "import pandas as pd\n",
        "\n",
        "# Step 2: put the URL of the data\n",
        "url = \"https://earthquake.usgs.gov/research/cpt/data/txt/SCC136.txt\"\n",
        "\n",
        "# Step 3: extract the data and ocnvert it into a dataframe\n",
        "# The original file has several lines which provide the metadata, include the location, date, and so on.\n",
        "# For this example we will skip them.\n",
        "# Using delimiter '\\t' for more accurate splitting based on the tab-separated values\n",
        "df = pd.read_csv(url, skiprows=18, delimiter='\\t', header=None)\n",
        "\n",
        "\n",
        "# Step3:  Manually setting the column names\n",
        "df.columns = ['Depth (m)', 'Tip Resistance (MN/m2)', 'Sleeve Friction (kN/m2)', 'Inclination (degree)', 'S-wave travel time (ms)']\n",
        "# there are fields with N/A so we will replace them by zero\n",
        "df.fillna(0, inplace=True)\n",
        "# Displaying the resulting DataFrame\n",
        "df.head()\n",
        "# Add a calculation to the Dataframe to obtain the friction ratio RF\n",
        "Rf = (df['Sleeve Friction (kN/m2)']/(df['Tip Resistance (MN/m2)']*1000)) * 100\n",
        "df.insert(3, \"Friction Ratio [%]\", Rf, True)\n",
        "df.head()"
      ],
      "metadata": {
        "colab": {
          "base_uri": "https://localhost:8080/",
          "height": 206
        },
        "id": "SYL1Fh3caUpw",
        "outputId": "2ed49201-7beb-4d3d-855b-a75c0530d0a1"
      },
      "execution_count": 83,
      "outputs": [
        {
          "output_type": "execute_result",
          "data": {
            "text/plain": [
              "   Depth (m)  Tip Resistance (MN/m2)  Sleeve Friction (kN/m2)  \\\n",
              "0        0.4                    4.90                   169.93   \n",
              "1        0.6                    4.51                   117.65   \n",
              "2        0.8                    2.94                    91.50   \n",
              "3        1.0                    2.16                    65.36   \n",
              "4        1.2                    1.96                    39.22   \n",
              "\n",
              "   Friction Ratio [%]  Inclination (degree)  S-wave travel time (ms)  \n",
              "0            3.467959                   0.0                      0.0  \n",
              "1            2.608647                   0.0                      0.0  \n",
              "2            3.112245                   0.0                      0.0  \n",
              "3            3.025926                   0.0                      0.0  \n",
              "4            2.001020                   0.0                      0.0  "
            ],
            "text/html": [
              "\n",
              "  <div id=\"df-018d7f5a-2743-41c2-a78a-f93ae04abcf5\" class=\"colab-df-container\">\n",
              "    <div>\n",
              "<style scoped>\n",
              "    .dataframe tbody tr th:only-of-type {\n",
              "        vertical-align: middle;\n",
              "    }\n",
              "\n",
              "    .dataframe tbody tr th {\n",
              "        vertical-align: top;\n",
              "    }\n",
              "\n",
              "    .dataframe thead th {\n",
              "        text-align: right;\n",
              "    }\n",
              "</style>\n",
              "<table border=\"1\" class=\"dataframe\">\n",
              "  <thead>\n",
              "    <tr style=\"text-align: right;\">\n",
              "      <th></th>\n",
              "      <th>Depth (m)</th>\n",
              "      <th>Tip Resistance (MN/m2)</th>\n",
              "      <th>Sleeve Friction (kN/m2)</th>\n",
              "      <th>Friction Ratio [%]</th>\n",
              "      <th>Inclination (degree)</th>\n",
              "      <th>S-wave travel time (ms)</th>\n",
              "    </tr>\n",
              "  </thead>\n",
              "  <tbody>\n",
              "    <tr>\n",
              "      <th>0</th>\n",
              "      <td>0.4</td>\n",
              "      <td>4.90</td>\n",
              "      <td>169.93</td>\n",
              "      <td>3.467959</td>\n",
              "      <td>0.0</td>\n",
              "      <td>0.0</td>\n",
              "    </tr>\n",
              "    <tr>\n",
              "      <th>1</th>\n",
              "      <td>0.6</td>\n",
              "      <td>4.51</td>\n",
              "      <td>117.65</td>\n",
              "      <td>2.608647</td>\n",
              "      <td>0.0</td>\n",
              "      <td>0.0</td>\n",
              "    </tr>\n",
              "    <tr>\n",
              "      <th>2</th>\n",
              "      <td>0.8</td>\n",
              "      <td>2.94</td>\n",
              "      <td>91.50</td>\n",
              "      <td>3.112245</td>\n",
              "      <td>0.0</td>\n",
              "      <td>0.0</td>\n",
              "    </tr>\n",
              "    <tr>\n",
              "      <th>3</th>\n",
              "      <td>1.0</td>\n",
              "      <td>2.16</td>\n",
              "      <td>65.36</td>\n",
              "      <td>3.025926</td>\n",
              "      <td>0.0</td>\n",
              "      <td>0.0</td>\n",
              "    </tr>\n",
              "    <tr>\n",
              "      <th>4</th>\n",
              "      <td>1.2</td>\n",
              "      <td>1.96</td>\n",
              "      <td>39.22</td>\n",
              "      <td>2.001020</td>\n",
              "      <td>0.0</td>\n",
              "      <td>0.0</td>\n",
              "    </tr>\n",
              "  </tbody>\n",
              "</table>\n",
              "</div>\n",
              "    <div class=\"colab-df-buttons\">\n",
              "\n",
              "  <div class=\"colab-df-container\">\n",
              "    <button class=\"colab-df-convert\" onclick=\"convertToInteractive('df-018d7f5a-2743-41c2-a78a-f93ae04abcf5')\"\n",
              "            title=\"Convert this dataframe to an interactive table.\"\n",
              "            style=\"display:none;\">\n",
              "\n",
              "  <svg xmlns=\"http://www.w3.org/2000/svg\" height=\"24px\" viewBox=\"0 -960 960 960\">\n",
              "    <path d=\"M120-120v-720h720v720H120Zm60-500h600v-160H180v160Zm220 220h160v-160H400v160Zm0 220h160v-160H400v160ZM180-400h160v-160H180v160Zm440 0h160v-160H620v160ZM180-180h160v-160H180v160Zm440 0h160v-160H620v160Z\"/>\n",
              "  </svg>\n",
              "    </button>\n",
              "\n",
              "  <style>\n",
              "    .colab-df-container {\n",
              "      display:flex;\n",
              "      gap: 12px;\n",
              "    }\n",
              "\n",
              "    .colab-df-convert {\n",
              "      background-color: #E8F0FE;\n",
              "      border: none;\n",
              "      border-radius: 50%;\n",
              "      cursor: pointer;\n",
              "      display: none;\n",
              "      fill: #1967D2;\n",
              "      height: 32px;\n",
              "      padding: 0 0 0 0;\n",
              "      width: 32px;\n",
              "    }\n",
              "\n",
              "    .colab-df-convert:hover {\n",
              "      background-color: #E2EBFA;\n",
              "      box-shadow: 0px 1px 2px rgba(60, 64, 67, 0.3), 0px 1px 3px 1px rgba(60, 64, 67, 0.15);\n",
              "      fill: #174EA6;\n",
              "    }\n",
              "\n",
              "    .colab-df-buttons div {\n",
              "      margin-bottom: 4px;\n",
              "    }\n",
              "\n",
              "    [theme=dark] .colab-df-convert {\n",
              "      background-color: #3B4455;\n",
              "      fill: #D2E3FC;\n",
              "    }\n",
              "\n",
              "    [theme=dark] .colab-df-convert:hover {\n",
              "      background-color: #434B5C;\n",
              "      box-shadow: 0px 1px 3px 1px rgba(0, 0, 0, 0.15);\n",
              "      filter: drop-shadow(0px 1px 2px rgba(0, 0, 0, 0.3));\n",
              "      fill: #FFFFFF;\n",
              "    }\n",
              "  </style>\n",
              "\n",
              "    <script>\n",
              "      const buttonEl =\n",
              "        document.querySelector('#df-018d7f5a-2743-41c2-a78a-f93ae04abcf5 button.colab-df-convert');\n",
              "      buttonEl.style.display =\n",
              "        google.colab.kernel.accessAllowed ? 'block' : 'none';\n",
              "\n",
              "      async function convertToInteractive(key) {\n",
              "        const element = document.querySelector('#df-018d7f5a-2743-41c2-a78a-f93ae04abcf5');\n",
              "        const dataTable =\n",
              "          await google.colab.kernel.invokeFunction('convertToInteractive',\n",
              "                                                    [key], {});\n",
              "        if (!dataTable) return;\n",
              "\n",
              "        const docLinkHtml = 'Like what you see? Visit the ' +\n",
              "          '<a target=\"_blank\" href=https://colab.research.google.com/notebooks/data_table.ipynb>data table notebook</a>'\n",
              "          + ' to learn more about interactive tables.';\n",
              "        element.innerHTML = '';\n",
              "        dataTable['output_type'] = 'display_data';\n",
              "        await google.colab.output.renderOutput(dataTable, element);\n",
              "        const docLink = document.createElement('div');\n",
              "        docLink.innerHTML = docLinkHtml;\n",
              "        element.appendChild(docLink);\n",
              "      }\n",
              "    </script>\n",
              "  </div>\n",
              "\n",
              "\n",
              "<div id=\"df-834f9fec-b8ed-483a-9d75-a6365b01cf7e\">\n",
              "  <button class=\"colab-df-quickchart\" onclick=\"quickchart('df-834f9fec-b8ed-483a-9d75-a6365b01cf7e')\"\n",
              "            title=\"Suggest charts\"\n",
              "            style=\"display:none;\">\n",
              "\n",
              "<svg xmlns=\"http://www.w3.org/2000/svg\" height=\"24px\"viewBox=\"0 0 24 24\"\n",
              "     width=\"24px\">\n",
              "    <g>\n",
              "        <path d=\"M19 3H5c-1.1 0-2 .9-2 2v14c0 1.1.9 2 2 2h14c1.1 0 2-.9 2-2V5c0-1.1-.9-2-2-2zM9 17H7v-7h2v7zm4 0h-2V7h2v10zm4 0h-2v-4h2v4z\"/>\n",
              "    </g>\n",
              "</svg>\n",
              "  </button>\n",
              "\n",
              "<style>\n",
              "  .colab-df-quickchart {\n",
              "      --bg-color: #E8F0FE;\n",
              "      --fill-color: #1967D2;\n",
              "      --hover-bg-color: #E2EBFA;\n",
              "      --hover-fill-color: #174EA6;\n",
              "      --disabled-fill-color: #AAA;\n",
              "      --disabled-bg-color: #DDD;\n",
              "  }\n",
              "\n",
              "  [theme=dark] .colab-df-quickchart {\n",
              "      --bg-color: #3B4455;\n",
              "      --fill-color: #D2E3FC;\n",
              "      --hover-bg-color: #434B5C;\n",
              "      --hover-fill-color: #FFFFFF;\n",
              "      --disabled-bg-color: #3B4455;\n",
              "      --disabled-fill-color: #666;\n",
              "  }\n",
              "\n",
              "  .colab-df-quickchart {\n",
              "    background-color: var(--bg-color);\n",
              "    border: none;\n",
              "    border-radius: 50%;\n",
              "    cursor: pointer;\n",
              "    display: none;\n",
              "    fill: var(--fill-color);\n",
              "    height: 32px;\n",
              "    padding: 0;\n",
              "    width: 32px;\n",
              "  }\n",
              "\n",
              "  .colab-df-quickchart:hover {\n",
              "    background-color: var(--hover-bg-color);\n",
              "    box-shadow: 0 1px 2px rgba(60, 64, 67, 0.3), 0 1px 3px 1px rgba(60, 64, 67, 0.15);\n",
              "    fill: var(--button-hover-fill-color);\n",
              "  }\n",
              "\n",
              "  .colab-df-quickchart-complete:disabled,\n",
              "  .colab-df-quickchart-complete:disabled:hover {\n",
              "    background-color: var(--disabled-bg-color);\n",
              "    fill: var(--disabled-fill-color);\n",
              "    box-shadow: none;\n",
              "  }\n",
              "\n",
              "  .colab-df-spinner {\n",
              "    border: 2px solid var(--fill-color);\n",
              "    border-color: transparent;\n",
              "    border-bottom-color: var(--fill-color);\n",
              "    animation:\n",
              "      spin 1s steps(1) infinite;\n",
              "  }\n",
              "\n",
              "  @keyframes spin {\n",
              "    0% {\n",
              "      border-color: transparent;\n",
              "      border-bottom-color: var(--fill-color);\n",
              "      border-left-color: var(--fill-color);\n",
              "    }\n",
              "    20% {\n",
              "      border-color: transparent;\n",
              "      border-left-color: var(--fill-color);\n",
              "      border-top-color: var(--fill-color);\n",
              "    }\n",
              "    30% {\n",
              "      border-color: transparent;\n",
              "      border-left-color: var(--fill-color);\n",
              "      border-top-color: var(--fill-color);\n",
              "      border-right-color: var(--fill-color);\n",
              "    }\n",
              "    40% {\n",
              "      border-color: transparent;\n",
              "      border-right-color: var(--fill-color);\n",
              "      border-top-color: var(--fill-color);\n",
              "    }\n",
              "    60% {\n",
              "      border-color: transparent;\n",
              "      border-right-color: var(--fill-color);\n",
              "    }\n",
              "    80% {\n",
              "      border-color: transparent;\n",
              "      border-right-color: var(--fill-color);\n",
              "      border-bottom-color: var(--fill-color);\n",
              "    }\n",
              "    90% {\n",
              "      border-color: transparent;\n",
              "      border-bottom-color: var(--fill-color);\n",
              "    }\n",
              "  }\n",
              "</style>\n",
              "\n",
              "  <script>\n",
              "    async function quickchart(key) {\n",
              "      const quickchartButtonEl =\n",
              "        document.querySelector('#' + key + ' button');\n",
              "      quickchartButtonEl.disabled = true;  // To prevent multiple clicks.\n",
              "      quickchartButtonEl.classList.add('colab-df-spinner');\n",
              "      try {\n",
              "        const charts = await google.colab.kernel.invokeFunction(\n",
              "            'suggestCharts', [key], {});\n",
              "      } catch (error) {\n",
              "        console.error('Error during call to suggestCharts:', error);\n",
              "      }\n",
              "      quickchartButtonEl.classList.remove('colab-df-spinner');\n",
              "      quickchartButtonEl.classList.add('colab-df-quickchart-complete');\n",
              "    }\n",
              "    (() => {\n",
              "      let quickchartButtonEl =\n",
              "        document.querySelector('#df-834f9fec-b8ed-483a-9d75-a6365b01cf7e button');\n",
              "      quickchartButtonEl.style.display =\n",
              "        google.colab.kernel.accessAllowed ? 'block' : 'none';\n",
              "    })();\n",
              "  </script>\n",
              "</div>\n",
              "\n",
              "    </div>\n",
              "  </div>\n"
            ],
            "application/vnd.google.colaboratory.intrinsic+json": {
              "type": "dataframe",
              "variable_name": "df",
              "summary": "{\n  \"name\": \"df\",\n  \"rows\": 51,\n  \"fields\": [\n    {\n      \"column\": \"Depth (m)\",\n      \"properties\": {\n        \"dtype\": \"number\",\n        \"std\": 2.973213749463701,\n        \"min\": 0.4,\n        \"max\": 10.4,\n        \"num_unique_values\": 51,\n        \"samples\": [\n          9.0,\n          8.4,\n          9.6\n        ],\n        \"semantic_type\": \"\",\n        \"description\": \"\"\n      }\n    },\n    {\n      \"column\": \"Tip Resistance (MN/m2)\",\n      \"properties\": {\n        \"dtype\": \"number\",\n        \"std\": 2.871931057668342,\n        \"min\": 0.98,\n        \"max\": 13.73,\n        \"num_unique_values\": 25,\n        \"samples\": [\n          2.35,\n          7.06,\n          4.9\n        ],\n        \"semantic_type\": \"\",\n        \"description\": \"\"\n      }\n    },\n    {\n      \"column\": \"Sleeve Friction (kN/m2)\",\n      \"properties\": {\n        \"dtype\": \"number\",\n        \"std\": 484.666525936517,\n        \"min\": -3278.0,\n        \"max\": 326.8,\n        \"num_unique_values\": 20,\n        \"samples\": [\n          169.93,\n          235.29,\n          104.58\n        ],\n        \"semantic_type\": \"\",\n        \"description\": \"\"\n      }\n    },\n    {\n      \"column\": \"Friction Ratio [%]\",\n      \"properties\": {\n        \"dtype\": \"number\",\n        \"std\": 4.621437153784322,\n        \"min\": -23.874726875455206,\n        \"max\": 11.65668789808917,\n        \"num_unique_values\": 45,\n        \"samples\": [\n          1.0144124168514412,\n          4.236111111111112,\n          3.7136363636363634\n        ],\n        \"semantic_type\": \"\",\n        \"description\": \"\"\n      }\n    },\n    {\n      \"column\": \"Inclination (degree)\",\n      \"properties\": {\n        \"dtype\": \"number\",\n        \"std\": 0.0,\n        \"min\": 0.0,\n        \"max\": 0.0,\n        \"num_unique_values\": 1,\n        \"samples\": [\n          0.0\n        ],\n        \"semantic_type\": \"\",\n        \"description\": \"\"\n      }\n    },\n    {\n      \"column\": \"S-wave travel time (ms)\",\n      \"properties\": {\n        \"dtype\": \"number\",\n        \"std\": 0.0,\n        \"min\": 0.0,\n        \"max\": 0.0,\n        \"num_unique_values\": 1,\n        \"samples\": [\n          0.0\n        ],\n        \"semantic_type\": \"\",\n        \"description\": \"\"\n      }\n    }\n  ]\n}"
            }
          },
          "metadata": {},
          "execution_count": 83
        }
      ]
    },
    {
      "cell_type": "markdown",
      "source": [
        "### Now, let's explore some plots, for instance the tip resistance vs depth and the sleeve resistance with depth."
      ],
      "metadata": {
        "id": "y4s2xcSWFkUc"
      }
    },
    {
      "cell_type": "code",
      "source": [
        "import matplotlib.pyplot as plt\n",
        "import pandas as pd\n",
        "\n",
        "# Disable LaTeX rendering and specify a different serif font\n",
        "# Disable LaTeX rendering and specify a recognized serif font\n",
        "plt.rcParams['text.usetex'] = False\n",
        "plt.rcParams['font.family'] = 'serif'\n",
        "plt.rcParams['font.serif'] = 'DejaVu Serif'  # Use a recognized serif font\n",
        "\n",
        "\n",
        "# We can plot together the tip resistance and sleeve friction\n",
        "# From the alternatives I find this one simple and is similar to Matlab subplots\n",
        "plt.subplot(131)\n",
        "plt.plot( df['Tip Resistance (MN/m2)'],df['Depth (m)'], linestyle='--', color='b')\n",
        "plt.ylabel('Depth (m)')\n",
        "plt.xlabel('Tip Resistance (MN/m2)')\n",
        "plt.title('Tip Resistance vs Depth')\n",
        "plt.gca().invert_yaxis()\n",
        "plt.grid(True)\n",
        "\n",
        "plt.subplot(132)\n",
        "plt.plot( df['Sleeve Friction (kN/m2)'],df['Depth (m)'], linestyle='-', color='r')\n",
        "plt.xlim(-50, 400)\n",
        "plt.ylim(0, 11)\n",
        "plt.ylabel('Depth (m)')\n",
        "plt.xlabel('Sleeve Friction (MN/m2)')\n",
        "plt.title('Sleeve Friction vs Depth')\n",
        "plt.gca().invert_yaxis()\n",
        "plt.grid(True)\n",
        "\n",
        "plt.subplot(133)\n",
        "plt.plot( df['Friction Ratio [%]'],df['Depth (m)'], linestyle='-', color='g')\n",
        "plt.xlim(0, 15)\n",
        "plt.ylim(0, 11)\n",
        "plt.ylabel('Depth (m)')\n",
        "plt.xlabel('Friction Ratio (%)')\n",
        "plt.title('Friction Ratio vs Depth')\n",
        "plt.gca().invert_yaxis()\n",
        "plt.grid(True)"
      ],
      "metadata": {
        "id": "Z3UbhqtoGHEW",
        "colab": {
          "base_uri": "https://localhost:8080/",
          "height": 471
        },
        "outputId": "7733daf6-dfbf-468b-8cf2-219370460065"
      },
      "execution_count": 90,
      "outputs": [
        {
          "output_type": "display_data",
          "data": {
            "text/plain": [
              "<Figure size 640x480 with 3 Axes>"
            ],
            "image/png": "[encoded data removed]"
          },
          "metadata": {}
        }
      ]
    },
    {
      "cell_type": "code",
      "source": [
        "# Set figure size and layout\n",
        "plt.figure(figsize=(8, 8))\n",
        "\n",
        "# Disable LaTeX rendering and specify a recognized serif font\n",
        "plt.rcParams['text.usetex'] = False\n",
        "plt.rcParams['font.family'] = 'serif'\n",
        "plt.rcParams['font.serif'] = 'DejaVu Serif'  # Use a recognized serif font\n",
        "\n",
        "\n",
        "# Plot 1: Tip Resistance vs Depth\n",
        "plt.subplot(131)\n",
        "plt.plot(df['Tip Resistance (MN/m2)'], df['Depth (m)'], linestyle='--', color='b', label='Tip Resistance')\n",
        "plt.xlabel('Tip Resistance (MN/m2)', fontsize=12)\n",
        "plt.ylabel('Depth (m)', fontsize=12)\n",
        "plt.title('Tip Resistance vs Depth', fontsize=14)\n",
        "plt.gca().invert_yaxis()\n",
        "plt.grid(True)\n",
        "plt.legend()\n",
        "\n",
        "# Plot 2: Sleeve Friction vs Depth\n",
        "plt.subplot(132)\n",
        "plt.plot(df['Sleeve Friction (kN/m2)'], df['Depth (m)'], linestyle='-', color='r', label='Sleeve Friction')\n",
        "plt.xlim(-50, 400)\n",
        "plt.ylim(0, 11)\n",
        "plt.xlabel('Sleeve Friction (kN/m2)', fontsize=12)\n",
        "plt.ylabel('Depth (m)', fontsize=12)\n",
        "plt.title('Sleeve Friction vs Depth', fontsize=14)\n",
        "plt.gca().invert_yaxis()\n",
        "plt.grid(True)\n",
        "plt.legend()\n",
        "\n",
        "# Plot 3: Friction Ratio vs Depth\n",
        "plt.subplot(133)\n",
        "plt.plot(df['Friction Ratio [%]'], df['Depth (m)'], linestyle='-', color='g', label='Friction Ratio')\n",
        "plt.xlim(0, 15)\n",
        "plt.ylim(0, 11)\n",
        "plt.xlabel('Friction Ratio (%)', fontsize=12)\n",
        "plt.ylabel('Depth (m)', fontsize=12)\n",
        "plt.title('Friction Ratio vs Depth', fontsize=14)\n",
        "plt.gca().invert_yaxis()\n",
        "plt.grid(True)\n",
        "plt.legend()\n",
        "\n",
        "# Adjust layout\n",
        "plt.tight_layout()\n",
        "\n",
        "# Save the figure\n",
        "plt.savefig('professional_plot.png', dpi=300)\n",
        "\n",
        "# Show the plot\n",
        "plt.show()"
      ],
      "metadata": {
        "id": "f5CDxpKjSyjv",
        "colab": {
          "base_uri": "https://localhost:8080/",
          "height": 807
        },
        "outputId": "ddfedd09-90c8-421a-d398-3ea2d7d3ef9e"
      },
      "execution_count": 94,
      "outputs": [
        {
          "output_type": "display_data",
          "data": {
            "text/plain": [
              "<Figure size 800x800 with 3 Axes>"
            ],
            "image/png": "[encoded data removed]"
          },
          "metadata": {}
        }
      ]
    },
    {
      "cell_type": "markdown",
      "source": [],
      "metadata": {
        "id": "Q1u16niubMhp"
      }
    }
  ],
  "metadata": {
    "kernelspec": {
      "display_name": "Python",
      "language": "python",
      "name": "conda-env-python-py"
    },
    "language_info": {
      "name": "python",
      "version": "3.7.12",
      "mimetype": "text/x-python",
      "codemirror_mode": {
        "name": "ipython",
        "version": 3
      },
      "pygments_lexer": "ipython3",
      "nbconvert_exporter": "python",
      "file_extension": ".py"
    },
    "prev_pub_hash": "42fe50027c5973facbf8ffb0a9084c4a3f3fc5718eb7f62ece63969f9e9cdaa2",
    "colab": {
      "provenance": [],
      "include_colab_link": true
    }
  },
  "nbformat": 4,
  "nbformat_minor": 0
}
