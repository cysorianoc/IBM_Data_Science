{
  "cells": [
    {
      "cell_type": "markdown",
      "metadata": {
        "id": "view-in-github",
        "colab_type": "text"
      },
      "source": [
        "<a href=\"https://colab.research.google.com/github/cysorianoc/IBM_Data_Science/blob/main/Course_4_W5_3.ipynb\" target=\"_parent\"><img src=\"https://colab.research.google.com/assets/colab-badge.svg\" alt=\"Open In Colab\"/></a>"
      ]
    },
    {
      "cell_type": "markdown",
      "metadata": {
        "id": "7a97a061-c532-4fdc-90f5-686bf07a292b"
      },
      "source": [
        "<a href=\"https://cognitiveclass.ai/?utm_medium=Exinfluencer&utm_source=Exinfluencer&utm_content=000026UJ&utm_term=10006555&utm_id=NA-SkillsNetwork-Channel-SkillsNetworkCoursesIBMDeveloperSkillsNetworkPY0101ENSkillsNetwork19487395-2021-01-01\">\n",
        "    <img src=\"https://cf-courses-data.s3.us.cloud-object-storage.appdomain.cloud/IBMDeveloperSkillsNetwork-PY0101EN-SkillsNetwork/IDSNlogo.png\" width=\"300\" align=\"center\">\n",
        "</a>\n"
      ]
    },
    {
      "cell_type": "markdown",
      "metadata": {
        "id": "8535654f-881c-4e20-8852-d189b6f8d945"
      },
      "source": [
        "<h1> HTTP and Requests</h1>\n",
        "\n",
        "Estimated time needed: **30** minutes\n",
        "\n",
        "## Objectives\n",
        "\n",
        "After completing this lab you will be able to:\n",
        "\n",
        "*   Understand HTTP\n",
        "*   Handle HTTP Requests\n"
      ]
    },
    {
      "cell_type": "markdown",
      "metadata": {
        "id": "e74cded7-96ef-4190-b141-a53ae7798c72"
      },
      "source": [
        "<h2>Table of Contents</h2>\n",
        "\n",
        "<div class=\"alert alert-block alert-info\" style=\"margin-top: 20px\">\n",
        "    <ul>\n",
        "        <li>\n",
        "            <a href=\"#Overview-of-HTTP\">Overview of HTTP </a>\n",
        "            <ul>\n",
        "                <li><a href=\"#Uniform-Resource-Locator:URL\">Uniform Resource Locator:URL</a></li>\n",
        "                 <li><a href=\"#Request\">Request</a></li>\n",
        "                <li><a href=\"#Response\">Response</a></li>\n",
        "            </ul>\n",
        "        </li>\n",
        "        <li>\n",
        "            <a href=\"#Requests-in-Python\">Requests in Python  </a>\n",
        "            <ul>\n",
        "                <li><a href=\"#Get-Request-with-URL-Parameters\">Get Request with URL Parameters</a></li>\n",
        "                <li><a href=\"#Post-Requests\">Post Requests </a></li>\n",
        "\n",
        "</ul>\n",
        "\n",
        "</div>\n",
        "\n",
        "<hr>\n"
      ]
    },
    {
      "cell_type": "markdown",
      "metadata": {
        "id": "0d1d3357-6e17-4ccf-95ad-306859d59478"
      },
      "source": [
        "## Overview of HTTP\n"
      ]
    },
    {
      "cell_type": "markdown",
      "metadata": {
        "id": "d4211a76-757d-4c99-b9b2-d69c8065ce01"
      },
      "source": [
        "When you, the **client**, use a web page your browser sends an **HTTP** request to the **server** where the page is hosted. The server tries to find the desired **resource** by default \"<code>index.html</code>\". If your request is successful, the server will send the object to the client in an **HTTP response**. This includes information like the type of the **resource**, the length of the **resource**, and other information.\n",
        "\n",
        "<p>\n",
        "The figure below represents the process. The circle on the left represents the client, the circle on the right represents the Web server. The table under the Web server represents a list of resources stored in the web server. In  this case an <code>HTML</code> file, <code>png</code> image, and <code>txt</code> file .\n",
        "</p>\n",
        "<p>\n",
        "The <b>HTTP</b> protocol allows you to send and receive information through the web including webpages, images, and other web resources. In this lab, we will provide an overview of the Requests library for interacting with the <code>HTTP</code> protocol.\n",
        "</p\n"
      ]
    },
    {
      "cell_type": "markdown",
      "metadata": {
        "id": "06eb93bc-e2dc-4b27-b0bb-496987e38726"
      },
      "source": [
        "<div class=\"alert alert-block alert-info\" style=\"margin-top: 20px\">\n",
        "         <img src=\"https://cf-courses-data.s3.us.cloud-object-storage.appdomain.cloud/IBMDeveloperSkillsNetwork-PY0101EN-SkillsNetwork/labs/Module%205/images/reqest_basics.png\" width=\"750\" align=\"center\">\n",
        "\n",
        "</div>\n"
      ]
    },
    {
      "cell_type": "markdown",
      "metadata": {
        "id": "8d3e5318-26ea-4062-8deb-120b9438aea2"
      },
      "source": [
        "## Uniform Resource Locator:URL\n"
      ]
    },
    {
      "cell_type": "markdown",
      "metadata": {
        "id": "51ba4438-39a7-43eb-9cb6-f9fb7c0429c4"
      },
      "source": [
        "Uniform resource locator (URL) is the most popular way to find resources on the web.  We can break the URL into three parts.\n",
        "\n",
        "<ul>\n",
        "    <li><b>Scheme</b>:- This is this protocol, for this lab it will always be <code>http://</code>  </li>\n",
        "    <li><b> Internet address or  Base URL </b>:- This will be used to find the location here are some examples: <code>www.ibm.com</code> and  <code> www.gitlab.com </code> </li>\n",
        "    <li><b>Route</b>:- Location on the web server for example: <code>/images/IDSNlogo.png</code> </li>\n",
        "</ul>\n"
      ]
    },
    {
      "cell_type": "markdown",
      "metadata": {
        "id": "ea7c24c8-84f3-418c-a0ef-ba200f1c6b2b"
      },
      "source": [
        "You may also hear the term Uniform Resource Identifier (URI), URL are actually a subset of URIs. Another popular term is endpoint, this is the URL of an operation provided by a Web server.\n"
      ]
    },
    {
      "cell_type": "markdown",
      "metadata": {
        "id": "ffd6a77b-ba43-49e5-bf0d-d26f0eb0624c"
      },
      "source": [
        "## Request\n"
      ]
    },
    {
      "cell_type": "markdown",
      "metadata": {
        "id": "a06564c8-eeb0-484b-8291-b0cb8fb0a52f"
      },
      "source": [
        "The process can be broken into the <b>Request</b> and <b>Response </b> process.  The request using the get method is partially illustrated below. In the start line we have the <code>GET</code> method, this is an <code>HTTP</code> method. Also the location of the resource  <code>/index.html</code> and the <code>HTTP</code> version. The Request header passes additional information with an <code>HTTP</code> request:\n"
      ]
    },
    {
      "cell_type": "markdown",
      "metadata": {
        "id": "dca9262f-3fbf-4b68-96b0-455bcd7af589"
      },
      "source": [
        "<div class=\"alert alert-block alert-info\" style=\"margin-top: 20px\">\n",
        "         <img src=\"https://cf-courses-data.s3.us.cloud-object-storage.appdomain.cloud/IBMDeveloperSkillsNetwork-PY0101EN-SkillsNetwork/labs/Module%205/images/reqest_messege.png\" width=\"400\" align=\"center\">\n",
        "</div>\n"
      ]
    },
    {
      "cell_type": "markdown",
      "metadata": {
        "id": "cf97b0c9-f7d0-4442-904b-df5bf61a027f"
      },
      "source": [
        "When an <code>HTTP</code> request is made, an <code>HTTP</code> method is sent, this tells the server what action to perform.  A list of several <code>HTTP</code> methods is shown below. We will go over more examples later.\n"
      ]
    },
    {
      "cell_type": "markdown",
      "metadata": {
        "id": "07673dcf-d022-440b-8ae6-44aa319cf97c"
      },
      "source": [
        "<div class=\"alert alert-block alert-info\" style=\"margin-top: 20px\">\n",
        "         <img src=\"https://cf-courses-data.s3.us.cloud-object-storage.appdomain.cloud/IBMDeveloperSkillsNetwork-PY0101EN-SkillsNetwork/labs/Module%205/images/http_methods.png\" width=\"400\" align=\"center\">\n",
        "</div>\n"
      ]
    },
    {
      "cell_type": "markdown",
      "metadata": {
        "id": "a47afd15-0fa0-4ad1-baf5-b40aea548b71"
      },
      "source": [
        "## Response\n"
      ]
    },
    {
      "cell_type": "markdown",
      "metadata": {
        "id": "67050968-a61c-4e1c-85ba-a796d2edf8ed"
      },
      "source": [
        "The figure below represents the response; the response start line contains the version number <code>HTTP/1.0</code>, a status code (200) meaning success, followed by a descriptive phrase (OK). The response header contains useful information. Finally, we have the response body containing the requested file, an <code> HTML </code> document.  It should be noted that some requests have headers.\n"
      ]
    },
    {
      "cell_type": "markdown",
      "metadata": {
        "id": "f517d651-1a17-4fca-b36d-c358b2e9f956"
      },
      "source": [
        "<div class=\"alert alert-block alert-info\" style=\"margin-top: 20px\">\n",
        "         <img src=\"https://cf-courses-data.s3.us.cloud-object-storage.appdomain.cloud/IBMDeveloperSkillsNetwork-PY0101EN-SkillsNetwork/labs/Module%205/images/response_message.png\" width=\"400\" align=\"center\">\n",
        "</div>\n"
      ]
    },
    {
      "cell_type": "markdown",
      "metadata": {
        "id": "427480bb-0122-4ad2-9245-7ddd9752d85a"
      },
      "source": [
        "Some status code examples are shown in the table below, the prefix indicates the class. These are shown in yellow, with actual status codes shown in  white. Check out the following <a href=\"https://developer.mozilla.org/en-US/docs/Web/HTTP/Status?utm_medium=Exinfluencer&utm_source=Exinfluencer&utm_content=000026UJ&utm_term=10006555&utm_id=NA-SkillsNetwork-Channel-SkillsNetworkCoursesIBMDeveloperSkillsNetworkPY0101ENSkillsNetwork19487395-2021-01-01\">link </a> for more descriptions.\n"
      ]
    },
    {
      "cell_type": "markdown",
      "metadata": {
        "id": "5cb21255-3e8c-45e4-b64e-ffde17bf281b"
      },
      "source": [
        "<div class=\"alert alert-block alert-info\" style=\"margin-top: 20px\">\n",
        "         <img src=\"https://cf-courses-data.s3.us.cloud-object-storage.appdomain.cloud/IBMDeveloperSkillsNetwork-PY0101EN-SkillsNetwork/labs/Module%205/images/status_code.png\" width=\"300\" align=\"center\">\n",
        "</div>\n"
      ]
    },
    {
      "cell_type": "markdown",
      "metadata": {
        "id": "5813f0fc-ae9d-402e-a838-7a5ff8c776a5"
      },
      "source": [
        "## Requests in Python\n"
      ]
    },
    {
      "cell_type": "markdown",
      "metadata": {
        "id": "d454dc24-9002-4df5-8e32-cec6a785d639"
      },
      "source": [
        "Requests is a Python Library that allows you to send <code>HTTP/1.1</code> requests easily. We can import the library as follows:\n"
      ]
    },
    {
      "cell_type": "code",
      "metadata": {
        "id": "7ec3d7f0-7af3-467e-8431-e12c8bc86a85"
      },
      "outputs": [],
      "source": [
        "import requests"
      ],
      "execution_count": null
    },
    {
      "cell_type": "markdown",
      "metadata": {
        "id": "5044b120-3c87-4f22-bdaa-f23f5d2cfa61"
      },
      "source": [
        "We will also use the following libraries:\n"
      ]
    },
    {
      "cell_type": "code",
      "metadata": {
        "id": "9c25ba7c-9d28-47f0-8c3f-b1fe905c6f2c"
      },
      "outputs": [],
      "source": [
        "import os\n",
        "from PIL import Image\n",
        "from IPython.display import IFrame"
      ],
      "execution_count": null
    },
    {
      "cell_type": "markdown",
      "metadata": {
        "id": "50fe8ea5-5882-41da-ae4b-a3e28900999e"
      },
      "source": [
        "You can make a <code>GET</code> request via the method <code>get</code> to [www.ibm.com](http://www.ibm.com/?utm_source=Exinfluencer&utm_content=000026UJ&utm_id=NA-SkillsNetwork-Channel-SkillsNetworkCoursesIBMDeveloperSkillsNetworkPY0101ENSkillsNetwork19487395-2021-01-01&utm_medium=Exinfluencer&utm_term=10006555):\n"
      ]
    },
    {
      "cell_type": "code",
      "metadata": {
        "colab": {
          "base_uri": "https://localhost:8080/"
        },
        "id": "2afec458-50a6-4103-b97d-28b8af3e77c7",
        "outputId": "9b4df6bf-9efb-40ff-ff5e-a6c6652e70d8"
      },
      "outputs": [
        {
          "output_type": "execute_result",
          "data": {
            "text/plain": [
              "<Response [200]>"
            ]
          },
          "metadata": {},
          "execution_count": 4
        }
      ],
      "source": [
        "\n",
        "url='https://www.ibm.com/'\n",
        "r=requests.get(url)\n",
        "r"
      ],
      "execution_count": null
    },
    {
      "cell_type": "markdown",
      "metadata": {
        "id": "0cbae8b4-87a5-4188-9868-03f1da4acb5f"
      },
      "source": [
        "We have the response object <code>r</code>, this has information about the request, like the status of the request. We can view the status code using the attribute <code>status_code</code>.\n"
      ]
    },
    {
      "cell_type": "code",
      "metadata": {
        "colab": {
          "base_uri": "https://localhost:8080/"
        },
        "id": "59daac5e-b681-4d06-94a0-f6bf9dd97b5f",
        "outputId": "62141103-e252-4a91-86cb-86848f4c1f30"
      },
      "outputs": [
        {
          "output_type": "execute_result",
          "data": {
            "text/plain": [
              "200"
            ]
          },
          "metadata": {},
          "execution_count": 5
        }
      ],
      "source": [
        "r.status_code"
      ],
      "execution_count": null
    },
    {
      "cell_type": "markdown",
      "metadata": {
        "id": "85e69bb0-3033-42fd-a25e-d3582dc22358"
      },
      "source": [
        "You can view the request headers:\n"
      ]
    },
    {
      "cell_type": "code",
      "metadata": {
        "colab": {
          "base_uri": "https://localhost:8080/"
        },
        "id": "d648f165-574f-4af9-ae5c-7d0d1f304ac2",
        "outputId": "3868ed2f-e1a2-42ee-8c6d-b07409785009"
      },
      "outputs": [
        {
          "output_type": "stream",
          "name": "stdout",
          "text": [
            "{'User-Agent': 'python-requests/2.31.0', 'Accept-Encoding': 'gzip, deflate', 'Accept': '*/*', 'Connection': 'keep-alive', 'Cookie': '_abck=AD4B56CB5919292C5D595B93ECA77BEC~-1~YAAQnVozuL8I4LaQAQAAw/H1tgzc9MUtIHczBwjJM4aqmKR3JkPU+/0crbn5nyczQfT6BMZj6Y6gR3HEM1mZJZVcuy+deCLoatsaxH6TGhxHfMybXZZJqabbssRzqtkmceh9GsHKq00oiKnuPBuN+bh33K4OBvd3gImwDDqKgXtjUJfOkEXC86Yp8ZJHx+JiMxhxXupllOXb2GqlaG4cFUM0tAp3UtJrvcNUV4hLKH06A+w/hbF4GSrhBmDfXSFSooEnrYYgM76lfjsi2vFV3JPBIsPBLr4rAKA5lJa+pJv1pQd96Jbn22YO6nEaLaocaY9mWGsPfMXM/mKavfHWQMWG0ZZ4OBe3oAqxWvjSE+AhZsbm8Oo=~-1~-1~-1; bm_sz=0124BE8BB7669C593A24B7B9F0354147~YAAQnVozuMAI4LaQAQAAw/H1thjQV034EaNq2wqT2uqUr9bXSnZVpUbJNPnUYfX6TIc/8SQSyWOX66XU/aAuxCy/6J6tic9CQw49gABTV3pfokZOor49LSzIVL40guQlbn2eZzUUFmQO/aVqbH9okNGUSimqhG8/aerRjt2C3cnT0cJZcCXdhQplnkVzw/qX3O0yHUJr3pAndbNZLCyD4PSvTSIjYTdOX1qW5t0d8wjgnBvoPzyLnu40fawaf+aPDlZciM2k+s0gMW5uKfO83o9ytzlGFaQNMGD10fuVRuY+ugWZubuxzXCy6UI/QBqsei2VM5Ezlb988p1swgk+slWw+aUOHX/w~3555649~3290166'}\n"
          ]
        }
      ],
      "source": [
        "print(r.request.headers)"
      ],
      "execution_count": null
    },
    {
      "cell_type": "markdown",
      "metadata": {
        "id": "bedd42f3-37af-43fe-8a75-d8e6213e1a17"
      },
      "source": [
        "You can view the request body, in the following line, as there is no body for a get request we get a <code>None</code>:\n"
      ]
    },
    {
      "cell_type": "code",
      "metadata": {
        "colab": {
          "base_uri": "https://localhost:8080/"
        },
        "id": "35907d40-77ba-4de2-a36d-ec6b4f467ef4",
        "outputId": "278c196b-81e9-4e05-a7fe-b483ccce260a"
      },
      "outputs": [
        {
          "output_type": "stream",
          "name": "stdout",
          "text": [
            "request body: None\n"
          ]
        }
      ],
      "source": [
        "print(\"request body:\", r.request.body)"
      ],
      "execution_count": null
    },
    {
      "cell_type": "markdown",
      "metadata": {
        "id": "b71c9386-d8cf-4942-ae86-453a53f85112"
      },
      "source": [
        "You can view the <code>HTTP</code> response header using the attribute <code>headers</code>. This returns a python dictionary of <code>HTTP</code> response headers.\n"
      ]
    },
    {
      "cell_type": "code",
      "metadata": {
        "colab": {
          "base_uri": "https://localhost:8080/"
        },
        "id": "4a0bfa1e-4027-432c-a5e7-e0f2f9f2e946",
        "outputId": "14c9ad9b-4757-4bdb-b85c-abcb03e1db89"
      },
      "outputs": [
        {
          "output_type": "stream",
          "name": "stdout",
          "text": [
            "{'Content-Security-Policy': 'upgrade-insecure-requests', 'x-frame-options': 'SAMEORIGIN', 'Last-Modified': 'Mon, 15 Jul 2024 15:10:06 GMT', 'ETag': 'W/\"167b3-61d4a9fcdae62-gzip\"', 'Accept-Ranges': 'bytes', 'Content-Type': 'text/html;charset=utf-8', 'X-Content-Type-Options': 'nosniff', 'Cache-Control': 'max-age=600', 'Expires': 'Mon, 15 Jul 2024 15:24:50 GMT', 'X-Akamai-Transformed': '9 13326 0 pmb=mTOE,2', 'Content-Encoding': 'gzip', 'Date': 'Mon, 15 Jul 2024 15:14:50 GMT', 'Content-Length': '13513', 'Connection': 'keep-alive', 'Vary': 'Accept-Encoding', 'Strict-Transport-Security': 'max-age=31536000'}\n"
          ]
        }
      ],
      "source": [
        "header=r.headers\n",
        "print(r.headers)"
      ],
      "execution_count": null
    },
    {
      "cell_type": "code",
      "source": [
        "print(header)"
      ],
      "metadata": {
        "colab": {
          "base_uri": "https://localhost:8080/"
        },
        "id": "pgKu8meE9smW",
        "outputId": "90241665-2126-4bcd-f064-a8b2c161eef2"
      },
      "execution_count": null,
      "outputs": [
        {
          "output_type": "stream",
          "name": "stdout",
          "text": [
            "{'Content-Security-Policy': 'upgrade-insecure-requests', 'x-frame-options': 'SAMEORIGIN', 'Last-Modified': 'Mon, 15 Jul 2024 15:10:06 GMT', 'ETag': 'W/\"167b3-61d4a9fcdae62-gzip\"', 'Accept-Ranges': 'bytes', 'Content-Type': 'text/html;charset=utf-8', 'X-Content-Type-Options': 'nosniff', 'Cache-Control': 'max-age=600', 'Expires': 'Mon, 15 Jul 2024 15:24:50 GMT', 'X-Akamai-Transformed': '9 13326 0 pmb=mTOE,2', 'Content-Encoding': 'gzip', 'Date': 'Mon, 15 Jul 2024 15:14:50 GMT', 'Content-Length': '13513', 'Connection': 'keep-alive', 'Vary': 'Accept-Encoding', 'Strict-Transport-Security': 'max-age=31536000'}\n"
          ]
        }
      ]
    },
    {
      "cell_type": "markdown",
      "metadata": {
        "id": "e9c0ad4a-92fc-41d6-bd58-0cffca02fcf7"
      },
      "source": [
        "We can obtain the date the request was sent using the key <code>Date</code>.\n"
      ]
    },
    {
      "cell_type": "code",
      "metadata": {
        "colab": {
          "base_uri": "https://localhost:8080/",
          "height": 35
        },
        "id": "e7923946-0510-471c-ad05-db14365ae16a",
        "outputId": "b39cfe48-5544-45d3-e8cc-000497b16fd7"
      },
      "outputs": [
        {
          "output_type": "execute_result",
          "data": {
            "text/plain": [
              "'Mon, 15 Jul 2024 15:14:50 GMT'"
            ],
            "application/vnd.google.colaboratory.intrinsic+json": {
              "type": "string"
            }
          },
          "metadata": {},
          "execution_count": 10
        }
      ],
      "source": [
        "header['date']"
      ],
      "execution_count": null
    },
    {
      "cell_type": "markdown",
      "metadata": {
        "id": "42a0584b-bbed-4a97-bfe3-e874e2ad14b4"
      },
      "source": [
        "<code>Content-Type</code> indicates the type of data:\n"
      ]
    },
    {
      "cell_type": "code",
      "metadata": {
        "colab": {
          "base_uri": "https://localhost:8080/",
          "height": 35
        },
        "id": "7664eb3a-0817-4a82-aebb-a11c7eb4e510",
        "outputId": "7a4c3aad-2807-48e9-8625-b53fcd6ec863"
      },
      "outputs": [
        {
          "output_type": "execute_result",
          "data": {
            "text/plain": [
              "'text/html;charset=utf-8'"
            ],
            "application/vnd.google.colaboratory.intrinsic+json": {
              "type": "string"
            }
          },
          "metadata": {},
          "execution_count": 11
        }
      ],
      "source": [
        "header['Content-Type']"
      ],
      "execution_count": null
    },
    {
      "cell_type": "markdown",
      "metadata": {
        "id": "f753bcc0-bc07-4ff1-8e3a-2c579d56c4e4"
      },
      "source": [
        "You can also check the <code>encoding</code>:\n"
      ]
    },
    {
      "cell_type": "code",
      "metadata": {
        "colab": {
          "base_uri": "https://localhost:8080/",
          "height": 35
        },
        "id": "5823f1fe-5a6f-4035-b124-8666cf0aad78",
        "outputId": "6ff1a665-c554-4121-fd48-93eaf8373a53"
      },
      "outputs": [
        {
          "output_type": "execute_result",
          "data": {
            "text/plain": [
              "'utf-8'"
            ],
            "application/vnd.google.colaboratory.intrinsic+json": {
              "type": "string"
            }
          },
          "metadata": {},
          "execution_count": 12
        }
      ],
      "source": [
        " r.encoding"
      ],
      "execution_count": null
    },
    {
      "cell_type": "markdown",
      "metadata": {
        "id": "a5648f96-c2ff-418f-8c6d-7c7ab336a86b"
      },
      "source": [
        "As the <code>Content-Type</code> is <code>text/html</code> we can use the attribute <code>text</code> to display the <code>HTML</code> in the body. We can review the first 100 characters:\n"
      ]
    },
    {
      "cell_type": "code",
      "metadata": {
        "colab": {
          "base_uri": "https://localhost:8080/",
          "height": 53
        },
        "id": "e4730625-b422-4f0c-bbd0-5f914c1a593a",
        "outputId": "051253f1-7b0b-4ad8-b34b-818a7b43fd46"
      },
      "outputs": [
        {
          "output_type": "execute_result",
          "data": {
            "text/plain": [
              "'\\n<!DOCTYPE HTML>\\n<html lang=\"en-us\">\\n<head>\\r\\n    \\r\\n    \\r\\n    \\r\\n    \\r\\n    \\r\\n    \\r\\n    \\r\\n    <meta cha'"
            ],
            "application/vnd.google.colaboratory.intrinsic+json": {
              "type": "string"
            }
          },
          "metadata": {},
          "execution_count": 13
        }
      ],
      "source": [
        "r.text[0:100]"
      ],
      "execution_count": null
    },
    {
      "cell_type": "markdown",
      "metadata": {
        "id": "0f7d0b8e-f6c6-4139-a422-0ee151ffbb80"
      },
      "source": [
        "You can load other types of data for non-text requests, like images. Consider the URL of the following image:\n"
      ]
    },
    {
      "cell_type": "code",
      "metadata": {
        "id": "40be2891-ad2b-4277-a8a5-145d931b6d0c"
      },
      "outputs": [],
      "source": [
        "# Use single quotation marks for defining string\n",
        "url='https://cf-courses-data.s3.us.cloud-object-storage.appdomain.cloud/IBMDeveloperSkillsNetwork-PY0101EN-SkillsNetwork/IDSNlogo.png'"
      ],
      "execution_count": null
    },
    {
      "cell_type": "markdown",
      "metadata": {
        "id": "0534dafe-41a7-4da0-a245-39dec48f85fb"
      },
      "source": [
        "We can make a get request:\n"
      ]
    },
    {
      "cell_type": "code",
      "metadata": {
        "id": "303293d5-ecb7-48dd-8cbd-d36f2378c6d4"
      },
      "outputs": [],
      "source": [
        "r=requests.get(url)"
      ],
      "execution_count": null
    },
    {
      "cell_type": "markdown",
      "metadata": {
        "id": "114c9bbc-71bb-4086-a576-f9df30c22b97"
      },
      "source": [
        "We can look at the response header:\n"
      ]
    },
    {
      "cell_type": "code",
      "metadata": {
        "colab": {
          "base_uri": "https://localhost:8080/"
        },
        "id": "c43fcf5b-88da-4a3c-b4ee-d3c1fa84f874",
        "outputId": "f3ef7541-ccae-42c7-bd84-55cb739f3cce"
      },
      "outputs": [
        {
          "output_type": "stream",
          "name": "stdout",
          "text": [
            "{'Date': 'Mon, 15 Jul 2024 15:16:36 GMT', 'X-Clv-Request-Id': '0ae262d3-4ecd-4856-b3bb-475a8ca23130', 'Server': 'Cleversafe', 'X-Clv-S3-Version': '2.5', 'Accept-Ranges': 'bytes', 'x-amz-request-id': '0ae262d3-4ecd-4856-b3bb-475a8ca23130', 'ETag': '\"8bb44578fff8fdcc3d2972be9ece0164\"', 'Content-Type': 'image/png', 'Last-Modified': 'Wed, 16 Nov 2022 03:32:41 GMT', 'Content-Length': '78776'}\n"
          ]
        }
      ],
      "source": [
        "print(r.headers)"
      ],
      "execution_count": null
    },
    {
      "cell_type": "markdown",
      "metadata": {
        "id": "2d189b95-5d73-46a8-a660-aa8144b49e41"
      },
      "source": [
        "We can see the <code>'Content-Type'</code>\n"
      ]
    },
    {
      "cell_type": "code",
      "metadata": {
        "colab": {
          "base_uri": "https://localhost:8080/",
          "height": 35
        },
        "id": "406dd357-55b5-47b4-bdbf-cda7ff8d6005",
        "outputId": "d6682a1b-d197-452c-fffa-6d244b8e58d5"
      },
      "outputs": [
        {
          "output_type": "execute_result",
          "data": {
            "text/plain": [
              "'image/png'"
            ],
            "application/vnd.google.colaboratory.intrinsic+json": {
              "type": "string"
            }
          },
          "metadata": {},
          "execution_count": 17
        }
      ],
      "source": [
        "r.headers['Content-Type']"
      ],
      "execution_count": null
    },
    {
      "cell_type": "markdown",
      "metadata": {
        "id": "531f0ecf-aa0a-45a5-90d7-cda82dd82b36"
      },
      "source": [
        "An image is a response object that contains the image as a <a href=\"https://docs.python.org/3/glossary.html?utm_medium=Exinfluencer&utm_source=Exinfluencer&utm_content=000026UJ&utm_term=10006555&utm_id=NA-SkillsNetwork-Channel-SkillsNetworkCoursesIBMDeveloperSkillsNetworkPY0101ENSkillsNetwork19487395-2021-01-01#term-bytes-like-object\">bytes-like object</a>. As a result, we must save it using a file object. First, we specify the <u>file path and\n",
        "name</u>\n"
      ]
    },
    {
      "cell_type": "code",
      "metadata": {
        "id": "48eb0639-6c0f-45c4-8ec2-8580d6bf7c73"
      },
      "outputs": [],
      "source": [
        "path=os.path.join(os.getcwd(),'image.png')"
      ],
      "execution_count": null
    },
    {
      "cell_type": "markdown",
      "metadata": {
        "id": "ccb14b4d-bb35-4433-aa57-61a691e6ddad"
      },
      "source": [
        "We save the file, in order to access the body of the response we use the attribute <code>content</code> then save it using the <code>open</code> function and write <code>method</code>:\n"
      ]
    },
    {
      "cell_type": "code",
      "metadata": {
        "id": "5a172209-8134-4f0d-aa25-2ec1a0b13443"
      },
      "outputs": [],
      "source": [
        "with open(path,'wb') as f:\n",
        "    f.write(r.content)"
      ],
      "execution_count": null
    },
    {
      "cell_type": "markdown",
      "metadata": {
        "id": "9318475b-3b28-43a7-af58-ac15a610bb34"
      },
      "source": [
        "We can view the image:\n"
      ]
    },
    {
      "cell_type": "code",
      "metadata": {
        "colab": {
          "base_uri": "https://localhost:8080/",
          "height": 286
        },
        "id": "bf525053-f34f-4bbb-b151-e0b9ab87cef0",
        "outputId": "81fc16fe-c568-4ee7-d493-5767ab8e46af"
      },
      "outputs": [
        {
          "output_type": "execute_result",
          "data": {
            "text/plain": [
              "<PIL.PngImagePlugin.PngImageFile image mode=RGBA size=1880x656>"
            ],
            "image/png": "[encoded data removed]"
          },
          "metadata": {},
          "execution_count": 20
        }
      ],
      "source": [
        "Image.open(path)"
      ],
      "execution_count": null
    },
    {
      "cell_type": "markdown",
      "metadata": {
        "id": "b35bec33-2ba2-432f-89b0-8674510823c5"
      },
      "source": [
        "<h3>Question: Download a file </h3>\n"
      ]
    },
    {
      "cell_type": "markdown",
      "metadata": {
        "id": "a7b74d98-5227-4cb5-902f-706b1f0cfedd"
      },
      "source": [
        "Consider the following URL.\n"
      ]
    },
    {
      "cell_type": "markdown",
      "metadata": {
        "id": "5b9f8669-e85a-4a36-9dcd-a2fccf562a81"
      },
      "source": [
        "<code>URL = <https://cf-courses-data.s3.us.cloud-object-storage.appdomain.cloud/IBMDeveloperSkillsNetwork-PY0101EN-SkillsNetwork/labs/Module%205/data/Example1.txt</code>\n"
      ]
    },
    {
      "cell_type": "markdown",
      "metadata": {
        "id": "451e569b-384a-42dc-b501-2d2f6c27fab1"
      },
      "source": [
        "Write the commands to download the txt file in the given link.\n"
      ]
    },
    {
      "cell_type": "code",
      "metadata": {
        "id": "f6efba0b-9ac1-4c89-a619-99218050572d"
      },
      "outputs": [],
      "source": [
        "url='https://cf-courses-data.s3.us.cloud-object-storage.appdomain.cloud/IBMDeveloperSkillsNetwork-PY0101EN-SkillsNetwork/labs/Module%205/data/Example1.txt'\n",
        "r=requests.get(url)"
      ],
      "execution_count": null
    },
    {
      "cell_type": "code",
      "source": [
        "print(r.headers)"
      ],
      "metadata": {
        "colab": {
          "base_uri": "https://localhost:8080/"
        },
        "id": "bvA-qma--ZQj",
        "outputId": "dbd986f3-e6ca-4832-a601-4e28becd9d34"
      },
      "execution_count": null,
      "outputs": [
        {
          "output_type": "stream",
          "name": "stdout",
          "text": [
            "{'Date': 'Mon, 15 Jul 2024 15:22:26 GMT', 'X-Clv-Request-Id': 'fb38636f-8905-477c-b954-d0adeb2fb409', 'Server': 'Cleversafe', 'X-Clv-S3-Version': '2.5', 'Accept-Ranges': 'bytes', 'x-amz-request-id': 'fb38636f-8905-477c-b954-d0adeb2fb409', 'Cache-Control': 'max-age=0,public', 'ETag': '\"522bc63a850f3569b8924c51131d5fe4\"', 'Content-Type': 'text/plain', 'Last-Modified': 'Wed, 12 Oct 2022 22:36:17 GMT', 'Content-Length': '45'}\n"
          ]
        }
      ]
    },
    {
      "cell_type": "code",
      "source": [
        "r.headers['Content-Type']"
      ],
      "metadata": {
        "colab": {
          "base_uri": "https://localhost:8080/",
          "height": 35
        },
        "id": "lHEfCPmh-vkn",
        "outputId": "1bc07791-5c4d-4b42-afa2-139ee90491ec"
      },
      "execution_count": null,
      "outputs": [
        {
          "output_type": "execute_result",
          "data": {
            "text/plain": [
              "'text/plain'"
            ],
            "application/vnd.google.colaboratory.intrinsic+json": {
              "type": "string"
            }
          },
          "metadata": {},
          "execution_count": 31
        }
      ]
    },
    {
      "cell_type": "code",
      "source": [
        "path=os.path.join(os.getcwd(),'example1.txt')"
      ],
      "metadata": {
        "id": "H-iLnSA4-liQ"
      },
      "execution_count": null,
      "outputs": []
    },
    {
      "cell_type": "code",
      "source": [
        "with open(path,'wb') as f:\n",
        "    f.write(r.content)"
      ],
      "metadata": {
        "id": "FumAzOBr-6gv"
      },
      "execution_count": null,
      "outputs": []
    },
    {
      "cell_type": "markdown",
      "metadata": {
        "id": "35815032-b413-490d-862a-ea2137b103ea"
      },
      "source": [
        "<details><summary>Click here for the solution</summary>\n",
        "\n",
        "```python\n",
        "url='https://cf-courses-data.s3.us.cloud-object-storage.appdomain.cloud/IBMDeveloperSkillsNetwork-PY0101EN-SkillsNetwork/labs/Module%205/data/Example1.txt'\n",
        "path=os.path.join(os.getcwd(),'example1.txt')\n",
        "r=requests.get(url)\n",
        "with open(path,'wb') as f:\n",
        "    f.write(r.content)\n",
        "\n",
        "```\n",
        "\n",
        "</details>\n"
      ]
    },
    {
      "cell_type": "code",
      "source": [
        "# prompt: based on the previous code, how to transform the obtained file into a dataframe\n",
        "\n",
        "import pandas as pd\n",
        "\n",
        "# Read the downloaded file into a dataframe\n",
        "df = pd.read_csv('example1.txt', sep=',', header=None)\n",
        "\n",
        "# Print the dataframe\n",
        "print(df)\n"
      ],
      "metadata": {
        "colab": {
          "base_uri": "https://localhost:8080/"
        },
        "id": "9Af18aph_vYt",
        "outputId": "c9eef28b-16ea-4527-8099-0fa8f3ffdef7"
      },
      "execution_count": null,
      "outputs": [
        {
          "output_type": "stream",
          "name": "stdout",
          "text": [
            "                 0\n",
            "0  This is line 1 \n",
            "1   This is line 2\n",
            "2   This is line 3\n"
          ]
        }
      ]
    },
    {
      "cell_type": "markdown",
      "metadata": {
        "id": "7a4901ca-120e-4077-a339-b309e073f11d"
      },
      "source": [
        "## Get Request with URL Parameters\n"
      ]
    },
    {
      "cell_type": "markdown",
      "metadata": {
        "id": "143fe3b6-e901-4f99-aa2d-27f38c8106e2"
      },
      "source": [
        "You can use the <b>GET</b> method to modify the results of your query, for example retrieving data from an API. We send a <b>GET</b> request to the  server. Like before we have the <b>Base URL</b>, in the <b>Route</b> we append <code>/get</code>, this indicates we would like to preform a <code>GET</code> request.\n"
      ]
    },
    {
      "cell_type": "markdown",
      "metadata": {
        "id": "a7ec770a-8aad-46ed-a6a5-193fd7e2ea40"
      },
      "source": [
        "The Base URL is for <code>[http://httpbin.org/](http://httpbin.org/?utm_medium=Exinfluencer&utm_source=Exinfluencer&utm_content=000026UJ&utm_term=10006555&utm_id=NA-SkillsNetwork-Channel-SkillsNetworkCoursesIBMDeveloperSkillsNetworkPY0101ENSkillsNetwork19487395-2021-01-01)</code> is a simple HTTP Request & Response Service. The <code>URL</code> in Python is given by:\n"
      ]
    },
    {
      "cell_type": "code",
      "metadata": {
        "id": "7fd51ea1-8448-4eae-8fc0-3653e83a972c"
      },
      "outputs": [],
      "source": [
        "url_get='http://httpbin.org/get'"
      ],
      "execution_count": null
    },
    {
      "cell_type": "markdown",
      "metadata": {
        "id": "9da75f16-2b03-45e6-9aa0-2b1e3cba0d8c"
      },
      "source": [
        "A <a href=\"https://en.wikipedia.org/wiki/Query_string?utm_medium=Exinfluencer&utm_source=Exinfluencer&utm_content=000026UJ&utm_term=10006555&utm_id=NA-SkillsNetwork-Channel-SkillsNetworkCoursesIBMDeveloperSkillsNetworkPY0101ENSkillsNetwork19487395-2021-01-01\">query string</a> is a part of a uniform resource locator (URL), this sends other information to the web server. The start of the query is a <code>?</code>, followed by a series of parameter and value pairs, as shown in the table below. The first parameter name is <code>name</code> and the value is <code>Joseph</code>. The second parameter name is <code>ID</code> and the Value is <code>123</code>. Each pair, parameter, and value is separated by an equals sign, <code>=</code>.\n",
        "The series of pairs is separated by the ampersand <code>&</code>.\n"
      ]
    },
    {
      "cell_type": "markdown",
      "metadata": {
        "id": "58511985-1a3b-4321-8129-95982e1d31f1"
      },
      "source": [
        "<div class=\"alert alert-block alert-info\" style=\"margin-top: 20px\">\n",
        "         <img src=\"https://cf-courses-data.s3.us.cloud-object-storage.appdomain.cloud/IBMDeveloperSkillsNetwork-PY0101EN-SkillsNetwork/labs/Module%205/images/query_string.png\" width=\"500\" align=\"center\">\n",
        "</div>\n"
      ]
    },
    {
      "cell_type": "markdown",
      "metadata": {
        "id": "445c5000-de55-405c-99d1-3958f87703f3"
      },
      "source": [
        "To create a Query string, add a dictionary. The keys are the parameter names and the values are the value of the Query string.\n"
      ]
    },
    {
      "cell_type": "code",
      "metadata": {
        "id": "cee3d964-0e2a-42e0-9728-c2b98f74fd12"
      },
      "outputs": [],
      "source": [
        "payload={\"name\":\"Joseph\",\"ID\":\"123\"}"
      ],
      "execution_count": null
    },
    {
      "cell_type": "markdown",
      "metadata": {
        "id": "41604260-a26e-445b-84fe-e35038c1d578"
      },
      "source": [
        "Then passing the dictionary <code>payload</code> to the <code>params</code> parameter of the <code> get()</code> function:\n"
      ]
    },
    {
      "cell_type": "code",
      "metadata": {
        "id": "ceca4589-ea03-421d-9b3b-85232c3d97ea"
      },
      "outputs": [],
      "source": [
        "r=requests.get(url_get,params=payload)"
      ],
      "execution_count": null
    },
    {
      "cell_type": "markdown",
      "metadata": {
        "id": "a47bb3a5-fe7f-407c-b6f8-48b73d47e9d0"
      },
      "source": [
        "We can print out the <code>URL</code> and see the name and values.\n"
      ]
    },
    {
      "cell_type": "code",
      "metadata": {
        "colab": {
          "base_uri": "https://localhost:8080/",
          "height": 35
        },
        "id": "3fddfb1f-f367-45b5-8f5a-c6f2c8c0808a",
        "outputId": "66292149-8b29-416b-b9ee-0520cce20c51"
      },
      "outputs": [
        {
          "output_type": "execute_result",
          "data": {
            "text/plain": [
              "'http://httpbin.org/get?name=Joseph&ID=123'"
            ],
            "application/vnd.google.colaboratory.intrinsic+json": {
              "type": "string"
            }
          },
          "metadata": {},
          "execution_count": 49
        }
      ],
      "source": [
        "r.url"
      ],
      "execution_count": null
    },
    {
      "cell_type": "markdown",
      "metadata": {
        "id": "4a48fc1b-fe17-4f2b-8151-a78a3ae6b8d5"
      },
      "source": [
        "There is no request body.\n"
      ]
    },
    {
      "cell_type": "code",
      "metadata": {
        "colab": {
          "base_uri": "https://localhost:8080/"
        },
        "id": "86b74ac2-a290-4013-89d5-686a60497343",
        "outputId": "75929718-1e4f-4d7c-d842-95a1c8778165"
      },
      "outputs": [
        {
          "output_type": "stream",
          "name": "stdout",
          "text": [
            "request body: None\n"
          ]
        }
      ],
      "source": [
        "print(\"request body:\", r.request.body)"
      ],
      "execution_count": null
    },
    {
      "cell_type": "markdown",
      "metadata": {
        "id": "fc1e3d0b-350f-40dc-96e6-a02ee16a0260"
      },
      "source": [
        "We can print out the status code.\n"
      ]
    },
    {
      "cell_type": "code",
      "metadata": {
        "colab": {
          "base_uri": "https://localhost:8080/"
        },
        "id": "01748a08-3b4c-470f-96a3-097e1eb2ce35",
        "outputId": "acb687b6-dd86-4d97-f68d-ef9e68e981c0"
      },
      "outputs": [
        {
          "output_type": "stream",
          "name": "stdout",
          "text": [
            "200\n"
          ]
        }
      ],
      "source": [
        "print(r.status_code)"
      ],
      "execution_count": null
    },
    {
      "cell_type": "markdown",
      "metadata": {
        "id": "e9a1d807-ffbd-4028-9e4e-629d07911843"
      },
      "source": [
        "We can view the response as text:\n"
      ]
    },
    {
      "cell_type": "code",
      "metadata": {
        "colab": {
          "base_uri": "https://localhost:8080/"
        },
        "id": "9d03541b-5925-4b3d-93b4-d2275ea159d4",
        "outputId": "b7cd5895-ddb7-44d1-932d-15e41b4be982"
      },
      "outputs": [
        {
          "output_type": "stream",
          "name": "stdout",
          "text": [
            "{\n",
            "  \"args\": {\n",
            "    \"ID\": \"123\", \n",
            "    \"name\": \"Joseph\"\n",
            "  }, \n",
            "  \"headers\": {\n",
            "    \"Accept\": \"*/*\", \n",
            "    \"Accept-Encoding\": \"gzip, deflate\", \n",
            "    \"Host\": \"httpbin.org\", \n",
            "    \"User-Agent\": \"python-requests/2.31.0\", \n",
            "    \"X-Amzn-Trace-Id\": \"Root=1-669540cc-355413a8449c176d7ce80e4b\"\n",
            "  }, \n",
            "  \"origin\": \"34.147.31.2\", \n",
            "  \"url\": \"http://httpbin.org/get?name=Joseph&ID=123\"\n",
            "}\n",
            "\n"
          ]
        }
      ],
      "source": [
        "print(r.text)"
      ],
      "execution_count": null
    },
    {
      "cell_type": "markdown",
      "metadata": {
        "id": "14baf7ab-3818-48f6-b50e-8b789ecd8586"
      },
      "source": [
        "We can look at the <code>'Content-Type'</code>.\n"
      ]
    },
    {
      "cell_type": "code",
      "metadata": {
        "colab": {
          "base_uri": "https://localhost:8080/",
          "height": 35
        },
        "id": "6d8b6f93-97ea-4c9f-9e33-1b2ed935d561",
        "outputId": "647ff862-0bca-468d-e336-68d134537068"
      },
      "outputs": [
        {
          "output_type": "execute_result",
          "data": {
            "text/plain": [
              "'application/json'"
            ],
            "application/vnd.google.colaboratory.intrinsic+json": {
              "type": "string"
            }
          },
          "metadata": {},
          "execution_count": 53
        }
      ],
      "source": [
        "r.headers['Content-Type']"
      ],
      "execution_count": null
    },
    {
      "cell_type": "markdown",
      "metadata": {
        "id": "3e1d33af-bdd5-4710-83a6-21554c3f20b4"
      },
      "source": [
        "As the content <code>'Content-Type'</code> is in the <code>JSON</code> format we can use the method <code>json()</code>, it returns a Python <code>dict</code>:\n"
      ]
    },
    {
      "cell_type": "code",
      "metadata": {
        "colab": {
          "base_uri": "https://localhost:8080/"
        },
        "id": "23021e9b-f15d-4e86-947e-e09aea3df3dc",
        "outputId": "c3de7bae-4933-4007-e5c0-9e4f4ee7c2d1"
      },
      "outputs": [
        {
          "output_type": "execute_result",
          "data": {
            "text/plain": [
              "{'args': {'ID': '123', 'name': 'Joseph'},\n",
              " 'headers': {'Accept': '*/*',\n",
              "  'Accept-Encoding': 'gzip, deflate',\n",
              "  'Host': 'httpbin.org',\n",
              "  'User-Agent': 'python-requests/2.31.0',\n",
              "  'X-Amzn-Trace-Id': 'Root=1-669540cc-355413a8449c176d7ce80e4b'},\n",
              " 'origin': '34.147.31.2',\n",
              " 'url': 'http://httpbin.org/get?name=Joseph&ID=123'}"
            ]
          },
          "metadata": {},
          "execution_count": 54
        }
      ],
      "source": [
        "r.json()"
      ],
      "execution_count": null
    },
    {
      "cell_type": "markdown",
      "metadata": {
        "id": "f40bdf0f-1404-40c8-8b1c-a65a35926999"
      },
      "source": [
        "The key <code>args</code> has the name and values:\n"
      ]
    },
    {
      "cell_type": "code",
      "metadata": {
        "colab": {
          "base_uri": "https://localhost:8080/"
        },
        "id": "1d9be5b0-91ee-43c4-ab9e-3f016f37a4d3",
        "outputId": "4843491d-0e28-49bc-98a6-5e17f4e86711"
      },
      "outputs": [
        {
          "output_type": "execute_result",
          "data": {
            "text/plain": [
              "{'ID': '123', 'name': 'Joseph'}"
            ]
          },
          "metadata": {},
          "execution_count": 55
        }
      ],
      "source": [
        "r.json()['args']"
      ],
      "execution_count": null
    },
    {
      "cell_type": "markdown",
      "metadata": {
        "id": "8e3e2ad1-09a1-4d71-842e-b3fa53510885"
      },
      "source": [
        "## Post Requests\n"
      ]
    },
    {
      "cell_type": "markdown",
      "metadata": {
        "id": "90322565-7e6f-4aa1-a812-f3302d01abc6"
      },
      "source": [
        "Like a <code>GET</code> request, a <code>POST</code> is used to send data to a server, but the <code>POST</code> request sends the data in a request body. In order to send the Post Request in Python, in the <code>URL</code> we change the route to <code>POST</code>:\n"
      ]
    },
    {
      "cell_type": "code",
      "metadata": {
        "id": "bc1fd34c-fa49-48b6-81d5-206d63f65034"
      },
      "outputs": [],
      "source": [
        "url_post='http://httpbin.org/post'"
      ],
      "execution_count": null
    },
    {
      "cell_type": "markdown",
      "metadata": {
        "id": "3a333e7c-c723-4cf0-a391-f46188f1c7b9"
      },
      "source": [
        "This endpoint will expect data as a file or as a form. A form is convenient way to configure an HTTP request to send data to a server.\n"
      ]
    },
    {
      "cell_type": "markdown",
      "metadata": {
        "id": "1b9c1eb8-f59b-475d-a4ce-286fb8f48419"
      },
      "source": [
        "To make a <code>POST</code> request we use the <code>post()</code> function, the variable <code>payload</code> is passed to the parameter <code> data </code>:\n"
      ]
    },
    {
      "cell_type": "code",
      "metadata": {
        "id": "61b1b28c-7b11-4e08-8e7a-d3f26dd27628"
      },
      "outputs": [],
      "source": [
        "r_post=requests.post(url_post,data=payload)"
      ],
      "execution_count": null
    },
    {
      "cell_type": "markdown",
      "metadata": {
        "id": "e2b78314-903b-45f9-9e3c-8da5d2f546fb"
      },
      "source": [
        "Comparing the URL from the response object of the <code>GET</code> and <code>POST</code> request we see the <code>POST</code> request has no name or value pairs.\n"
      ]
    },
    {
      "cell_type": "code",
      "metadata": {
        "colab": {
          "base_uri": "https://localhost:8080/"
        },
        "id": "f589b139-90f3-40dd-990d-473200d940e0",
        "outputId": "079e4c09-eb2e-4cdb-9cb6-aa141dd3c8e5"
      },
      "outputs": [
        {
          "output_type": "stream",
          "name": "stdout",
          "text": [
            "POST request URL: http://httpbin.org/post\n",
            "GET request URL: http://httpbin.org/get?name=Joseph&ID=123\n"
          ]
        }
      ],
      "source": [
        "print(\"POST request URL:\",r_post.url )\n",
        "print(\"GET request URL:\",r.url)"
      ],
      "execution_count": null
    },
    {
      "cell_type": "markdown",
      "metadata": {
        "id": "f606f64c-3351-4ad2-be85-ef36d248374e"
      },
      "source": [
        "We can compare the <code>POST</code> and <code>GET</code> request body, we see only the <code>POST</code> request has a body:\n"
      ]
    },
    {
      "cell_type": "code",
      "metadata": {
        "colab": {
          "base_uri": "https://localhost:8080/"
        },
        "id": "191b4973-c7da-4d76-9e69-4dcd4db40e79",
        "outputId": "cc511b35-5ebb-4c47-82a9-74a02ea08bca"
      },
      "outputs": [
        {
          "output_type": "stream",
          "name": "stdout",
          "text": [
            "POST request body: name=Joseph&ID=123\n",
            "GET request body: None\n"
          ]
        }
      ],
      "source": [
        "print(\"POST request body:\",r_post.request.body)\n",
        "print(\"GET request body:\",r.request.body)"
      ],
      "execution_count": null
    },
    {
      "cell_type": "markdown",
      "metadata": {
        "id": "5593d7e8-7fa1-49fd-a539-345db8723ef7"
      },
      "source": [
        "We can view the form as well:\n"
      ]
    },
    {
      "cell_type": "code",
      "metadata": {
        "colab": {
          "base_uri": "https://localhost:8080/"
        },
        "id": "992c108e-c20a-4378-a5ed-ca5a595a8404",
        "outputId": "63bb6e94-474a-436a-c904-440a2a3b9b9d"
      },
      "outputs": [
        {
          "output_type": "execute_result",
          "data": {
            "text/plain": [
              "{'ID': '123', 'name': 'Joseph'}"
            ]
          },
          "metadata": {},
          "execution_count": 60
        }
      ],
      "source": [
        "r_post.json()['form']"
      ],
      "execution_count": null
    },
    {
      "cell_type": "markdown",
      "metadata": {
        "id": "cd28fa57-20ad-44d3-b2d6-7d14be66dde2"
      },
      "source": [
        "There is a lot more you can do. Check out <a href=\"https://requests.readthedocs.io/en/master/?utm_medium=Exinfluencer&utm_source=Exinfluencer&utm_content=000026UJ&utm_term=10006555&utm_id=NA-SkillsNetwork-Channel-SkillsNetworkCoursesIBMDeveloperSkillsNetworkPY0101ENSkillsNetwork19487395-2021-01-01\">Requests </a> for more.\n"
      ]
    },
    {
      "cell_type": "markdown",
      "metadata": {
        "id": "48d5602c-78c1-4ebf-b977-40f30c2ff819"
      },
      "source": [
        "<hr>\n"
      ]
    },
    {
      "cell_type": "markdown",
      "metadata": {
        "id": "1311b484-a05b-49c6-a163-68ad225086d0"
      },
      "source": [
        "## Authors\n",
        "\n",
        "<p><a href=\"https://www.linkedin.com/in/joseph-s-50398b136/?utm_medium=Exinfluencer&utm_source=Exinfluencer&utm_content=000026UJ&utm_term=10006555&utm_id=NA-SkillsNetwork-Channel-SkillsNetworkCoursesIBMDeveloperSkillsNetworkPY0101ENSkillsNetwork19487395-2021-01-01\" target=\"_blank\">Joseph Santarcangelo</a> <br>A Data Scientist at IBM, and holds a PhD in Electrical Engineering. His research focused on using Machine Learning, Signal Processing, and Computer Vision to determine how videos impact human cognition. Joseph has been working for IBM since he completed his PhD.</p>\n"
      ]
    },
    {
      "cell_type": "markdown",
      "metadata": {
        "id": "2317650b-84a1-425a-9f1d-1f467d1a10d9"
      },
      "source": [
        "### Other Contributors\n",
        "\n",
        "<a href=\"https://www.linkedin.com/in/jiahui-mavis-zhou-a4537814a?utm_medium=Exinfluencer&utm_source=Exinfluencer&utm_content=000026UJ&utm_term=10006555&utm_id=NA-SkillsNetwork-Channel-SkillsNetworkCoursesIBMDeveloperSkillsNetworkPY0101ENSkillsNetwork19487395-2021-01-01\">Mavis Zhou</a>\n"
      ]
    },
    {
      "cell_type": "markdown",
      "metadata": {
        "id": "89e20d86-4248-4f2e-ad07-edc85bb69ff9"
      },
      "source": [
        "## Change Log\n",
        "\n",
        "| Date (YYYY-MM-DD) | Version | Changed By | Change Description           |\n",
        "| ----------------- | ------- | ---------- | ---------------------------- |\n",
        "| 2023-11-02 | 2.4 | Abhishek Gagneja | Updated instructions |\n",
        "| 2023-06-07        | 2.3     |Akansha Yadav| Spell Check                 |\n",
        "| 2021-12-20        | 2.1     | Malika     | Updated the links            |\n",
        "| 2020-09-02        | 2.0     | Simran     | Template updates to the file |\n",
        "|                   |         |            |                              |\n",
        "|                   |         |            |                              |\n",
        "\n",
        "## <h3 align=\"center\"> © IBM Corporation 2023. All rights reserved. <h3/>\n"
      ]
    },
    {
      "cell_type": "markdown",
      "source": [
        "## Another Example\n",
        "We will get some CPT test data from the USGS website to apply the request method. At the end the idea is arriving to a dataframe from which we can manipulate the data.\n",
        "Source:\n",
        "https://earthquake.usgs.gov/research/cpt/data/txt/SNC001.txt"
      ],
      "metadata": {
        "id": "I4QdI4vcB2v-"
      }
    },
    {
      "cell_type": "code",
      "metadata": {
        "id": "34eaeb57-7b25-4454-a6e1-f85d21231231"
      },
      "outputs": [],
      "source": [
        "# Step 1: Import the required libraries\n",
        "import requests\n",
        "# Not sure if necessary, but just in case:\n",
        "import os\n",
        "from PIL import Image\n",
        "from IPython.display import IFrame\n",
        "\n",
        "# Place the target URL\n",
        "url='https://earthquake.usgs.gov/research/cpt/data/txt/SNC001.txt'\n",
        "# Code lines to write a text file. I added the name of the file after writing 'CPT_SNC001.txt'\n",
        "path=os.path.join(os.getcwd(),'CPT_SNC001.txt')\n",
        "r=requests.get(url)\n",
        "with open(path,'wb') as f:\n",
        "  f.write(r.content)"
      ],
      "execution_count": 1
    },
    {
      "cell_type": "code",
      "source": [
        "# Step 2: Convert the file into something we can use.\n",
        "# Import the libraries\n",
        "import pandas as pd\n",
        "import numpy as np\n",
        "\n",
        "# Read_csv to convert the text file into a data frame\n",
        "# We skip lines 0 to 17 as they contain some metadata that for the moment we will not use\n",
        "df = pd.read_csv('CPT_SNC001.txt', skiprows=range(0, 17),sep='\\t')\n",
        "# for whole dataframe replace the nan into zero\n",
        "df = df.replace(np.nan, 0)\n",
        "# and now inspect the resulting dataframe\n",
        "df.head()"
      ],
      "metadata": {
        "colab": {
          "base_uri": "https://localhost:8080/",
          "height": 206
        },
        "id": "YpgqZGlxCqqk",
        "outputId": "cf24da6d-a9a4-4d0f-a303-459961092066"
      },
      "execution_count": 2,
      "outputs": [
        {
          "output_type": "execute_result",
          "data": {
            "text/plain": [
              "   Depth (m)  Tip Resistance (MN/m2)  Sleeve Friction (kN/m2)  \\\n",
              "0       0.05                    0.42                      2.9   \n",
              "1       0.10                    0.60                     11.9   \n",
              "2       0.15                    0.40                     25.5   \n",
              "3       0.20                    0.39                     39.7   \n",
              "4       0.25                    0.58                     45.3   \n",
              "\n",
              "   Inclination (degree)  S-wave travel time (ms)  \n",
              "0                  0.20                      0.0  \n",
              "1                  0.11                      0.0  \n",
              "2                  0.07                      0.0  \n",
              "3                  0.04                      0.0  \n",
              "4                  0.06                      0.0  "
            ],
            "text/html": [
              "\n",
              "  <div id=\"df-5110c0dd-60e3-4192-9608-6caaea295a83\" class=\"colab-df-container\">\n",
              "    <div>\n",
              "<style scoped>\n",
              "    .dataframe tbody tr th:only-of-type {\n",
              "        vertical-align: middle;\n",
              "    }\n",
              "\n",
              "    .dataframe tbody tr th {\n",
              "        vertical-align: top;\n",
              "    }\n",
              "\n",
              "    .dataframe thead th {\n",
              "        text-align: right;\n",
              "    }\n",
              "</style>\n",
              "<table border=\"1\" class=\"dataframe\">\n",
              "  <thead>\n",
              "    <tr style=\"text-align: right;\">\n",
              "      <th></th>\n",
              "      <th>Depth (m)</th>\n",
              "      <th>Tip Resistance (MN/m2)</th>\n",
              "      <th>Sleeve Friction (kN/m2)</th>\n",
              "      <th>Inclination (degree)</th>\n",
              "      <th>S-wave travel time (ms)</th>\n",
              "    </tr>\n",
              "  </thead>\n",
              "  <tbody>\n",
              "    <tr>\n",
              "      <th>0</th>\n",
              "      <td>0.05</td>\n",
              "      <td>0.42</td>\n",
              "      <td>2.9</td>\n",
              "      <td>0.20</td>\n",
              "      <td>0.0</td>\n",
              "    </tr>\n",
              "    <tr>\n",
              "      <th>1</th>\n",
              "      <td>0.10</td>\n",
              "      <td>0.60</td>\n",
              "      <td>11.9</td>\n",
              "      <td>0.11</td>\n",
              "      <td>0.0</td>\n",
              "    </tr>\n",
              "    <tr>\n",
              "      <th>2</th>\n",
              "      <td>0.15</td>\n",
              "      <td>0.40</td>\n",
              "      <td>25.5</td>\n",
              "      <td>0.07</td>\n",
              "      <td>0.0</td>\n",
              "    </tr>\n",
              "    <tr>\n",
              "      <th>3</th>\n",
              "      <td>0.20</td>\n",
              "      <td>0.39</td>\n",
              "      <td>39.7</td>\n",
              "      <td>0.04</td>\n",
              "      <td>0.0</td>\n",
              "    </tr>\n",
              "    <tr>\n",
              "      <th>4</th>\n",
              "      <td>0.25</td>\n",
              "      <td>0.58</td>\n",
              "      <td>45.3</td>\n",
              "      <td>0.06</td>\n",
              "      <td>0.0</td>\n",
              "    </tr>\n",
              "  </tbody>\n",
              "</table>\n",
              "</div>\n",
              "    <div class=\"colab-df-buttons\">\n",
              "\n",
              "  <div class=\"colab-df-container\">\n",
              "    <button class=\"colab-df-convert\" onclick=\"convertToInteractive('df-5110c0dd-60e3-4192-9608-6caaea295a83')\"\n",
              "            title=\"Convert this dataframe to an interactive table.\"\n",
              "            style=\"display:none;\">\n",
              "\n",
              "  <svg xmlns=\"http://www.w3.org/2000/svg\" height=\"24px\" viewBox=\"0 -960 960 960\">\n",
              "    <path d=\"M120-120v-720h720v720H120Zm60-500h600v-160H180v160Zm220 220h160v-160H400v160Zm0 220h160v-160H400v160ZM180-400h160v-160H180v160Zm440 0h160v-160H620v160ZM180-180h160v-160H180v160Zm440 0h160v-160H620v160Z\"/>\n",
              "  </svg>\n",
              "    </button>\n",
              "\n",
              "  <style>\n",
              "    .colab-df-container {\n",
              "      display:flex;\n",
              "      gap: 12px;\n",
              "    }\n",
              "\n",
              "    .colab-df-convert {\n",
              "      background-color: #E8F0FE;\n",
              "      border: none;\n",
              "      border-radius: 50%;\n",
              "      cursor: pointer;\n",
              "      display: none;\n",
              "      fill: #1967D2;\n",
              "      height: 32px;\n",
              "      padding: 0 0 0 0;\n",
              "      width: 32px;\n",
              "    }\n",
              "\n",
              "    .colab-df-convert:hover {\n",
              "      background-color: #E2EBFA;\n",
              "      box-shadow: 0px 1px 2px rgba(60, 64, 67, 0.3), 0px 1px 3px 1px rgba(60, 64, 67, 0.15);\n",
              "      fill: #174EA6;\n",
              "    }\n",
              "\n",
              "    .colab-df-buttons div {\n",
              "      margin-bottom: 4px;\n",
              "    }\n",
              "\n",
              "    [theme=dark] .colab-df-convert {\n",
              "      background-color: #3B4455;\n",
              "      fill: #D2E3FC;\n",
              "    }\n",
              "\n",
              "    [theme=dark] .colab-df-convert:hover {\n",
              "      background-color: #434B5C;\n",
              "      box-shadow: 0px 1px 3px 1px rgba(0, 0, 0, 0.15);\n",
              "      filter: drop-shadow(0px 1px 2px rgba(0, 0, 0, 0.3));\n",
              "      fill: #FFFFFF;\n",
              "    }\n",
              "  </style>\n",
              "\n",
              "    <script>\n",
              "      const buttonEl =\n",
              "        document.querySelector('#df-5110c0dd-60e3-4192-9608-6caaea295a83 button.colab-df-convert');\n",
              "      buttonEl.style.display =\n",
              "        google.colab.kernel.accessAllowed ? 'block' : 'none';\n",
              "\n",
              "      async function convertToInteractive(key) {\n",
              "        const element = document.querySelector('#df-5110c0dd-60e3-4192-9608-6caaea295a83');\n",
              "        const dataTable =\n",
              "          await google.colab.kernel.invokeFunction('convertToInteractive',\n",
              "                                                    [key], {});\n",
              "        if (!dataTable) return;\n",
              "\n",
              "        const docLinkHtml = 'Like what you see? Visit the ' +\n",
              "          '<a target=\"_blank\" href=https://colab.research.google.com/notebooks/data_table.ipynb>data table notebook</a>'\n",
              "          + ' to learn more about interactive tables.';\n",
              "        element.innerHTML = '';\n",
              "        dataTable['output_type'] = 'display_data';\n",
              "        await google.colab.output.renderOutput(dataTable, element);\n",
              "        const docLink = document.createElement('div');\n",
              "        docLink.innerHTML = docLinkHtml;\n",
              "        element.appendChild(docLink);\n",
              "      }\n",
              "    </script>\n",
              "  </div>\n",
              "\n",
              "\n",
              "<div id=\"df-b2ba3db7-a655-4034-9596-fbb093271528\">\n",
              "  <button class=\"colab-df-quickchart\" onclick=\"quickchart('df-b2ba3db7-a655-4034-9596-fbb093271528')\"\n",
              "            title=\"Suggest charts\"\n",
              "            style=\"display:none;\">\n",
              "\n",
              "<svg xmlns=\"http://www.w3.org/2000/svg\" height=\"24px\"viewBox=\"0 0 24 24\"\n",
              "     width=\"24px\">\n",
              "    <g>\n",
              "        <path d=\"M19 3H5c-1.1 0-2 .9-2 2v14c0 1.1.9 2 2 2h14c1.1 0 2-.9 2-2V5c0-1.1-.9-2-2-2zM9 17H7v-7h2v7zm4 0h-2V7h2v10zm4 0h-2v-4h2v4z\"/>\n",
              "    </g>\n",
              "</svg>\n",
              "  </button>\n",
              "\n",
              "<style>\n",
              "  .colab-df-quickchart {\n",
              "      --bg-color: #E8F0FE;\n",
              "      --fill-color: #1967D2;\n",
              "      --hover-bg-color: #E2EBFA;\n",
              "      --hover-fill-color: #174EA6;\n",
              "      --disabled-fill-color: #AAA;\n",
              "      --disabled-bg-color: #DDD;\n",
              "  }\n",
              "\n",
              "  [theme=dark] .colab-df-quickchart {\n",
              "      --bg-color: #3B4455;\n",
              "      --fill-color: #D2E3FC;\n",
              "      --hover-bg-color: #434B5C;\n",
              "      --hover-fill-color: #FFFFFF;\n",
              "      --disabled-bg-color: #3B4455;\n",
              "      --disabled-fill-color: #666;\n",
              "  }\n",
              "\n",
              "  .colab-df-quickchart {\n",
              "    background-color: var(--bg-color);\n",
              "    border: none;\n",
              "    border-radius: 50%;\n",
              "    cursor: pointer;\n",
              "    display: none;\n",
              "    fill: var(--fill-color);\n",
              "    height: 32px;\n",
              "    padding: 0;\n",
              "    width: 32px;\n",
              "  }\n",
              "\n",
              "  .colab-df-quickchart:hover {\n",
              "    background-color: var(--hover-bg-color);\n",
              "    box-shadow: 0 1px 2px rgba(60, 64, 67, 0.3), 0 1px 3px 1px rgba(60, 64, 67, 0.15);\n",
              "    fill: var(--button-hover-fill-color);\n",
              "  }\n",
              "\n",
              "  .colab-df-quickchart-complete:disabled,\n",
              "  .colab-df-quickchart-complete:disabled:hover {\n",
              "    background-color: var(--disabled-bg-color);\n",
              "    fill: var(--disabled-fill-color);\n",
              "    box-shadow: none;\n",
              "  }\n",
              "\n",
              "  .colab-df-spinner {\n",
              "    border: 2px solid var(--fill-color);\n",
              "    border-color: transparent;\n",
              "    border-bottom-color: var(--fill-color);\n",
              "    animation:\n",
              "      spin 1s steps(1) infinite;\n",
              "  }\n",
              "\n",
              "  @keyframes spin {\n",
              "    0% {\n",
              "      border-color: transparent;\n",
              "      border-bottom-color: var(--fill-color);\n",
              "      border-left-color: var(--fill-color);\n",
              "    }\n",
              "    20% {\n",
              "      border-color: transparent;\n",
              "      border-left-color: var(--fill-color);\n",
              "      border-top-color: var(--fill-color);\n",
              "    }\n",
              "    30% {\n",
              "      border-color: transparent;\n",
              "      border-left-color: var(--fill-color);\n",
              "      border-top-color: var(--fill-color);\n",
              "      border-right-color: var(--fill-color);\n",
              "    }\n",
              "    40% {\n",
              "      border-color: transparent;\n",
              "      border-right-color: var(--fill-color);\n",
              "      border-top-color: var(--fill-color);\n",
              "    }\n",
              "    60% {\n",
              "      border-color: transparent;\n",
              "      border-right-color: var(--fill-color);\n",
              "    }\n",
              "    80% {\n",
              "      border-color: transparent;\n",
              "      border-right-color: var(--fill-color);\n",
              "      border-bottom-color: var(--fill-color);\n",
              "    }\n",
              "    90% {\n",
              "      border-color: transparent;\n",
              "      border-bottom-color: var(--fill-color);\n",
              "    }\n",
              "  }\n",
              "</style>\n",
              "\n",
              "  <script>\n",
              "    async function quickchart(key) {\n",
              "      const quickchartButtonEl =\n",
              "        document.querySelector('#' + key + ' button');\n",
              "      quickchartButtonEl.disabled = true;  // To prevent multiple clicks.\n",
              "      quickchartButtonEl.classList.add('colab-df-spinner');\n",
              "      try {\n",
              "        const charts = await google.colab.kernel.invokeFunction(\n",
              "            'suggestCharts', [key], {});\n",
              "      } catch (error) {\n",
              "        console.error('Error during call to suggestCharts:', error);\n",
              "      }\n",
              "      quickchartButtonEl.classList.remove('colab-df-spinner');\n",
              "      quickchartButtonEl.classList.add('colab-df-quickchart-complete');\n",
              "    }\n",
              "    (() => {\n",
              "      let quickchartButtonEl =\n",
              "        document.querySelector('#df-b2ba3db7-a655-4034-9596-fbb093271528 button');\n",
              "      quickchartButtonEl.style.display =\n",
              "        google.colab.kernel.accessAllowed ? 'block' : 'none';\n",
              "    })();\n",
              "  </script>\n",
              "</div>\n",
              "\n",
              "    </div>\n",
              "  </div>\n"
            ],
            "application/vnd.google.colaboratory.intrinsic+json": {
              "type": "dataframe",
              "variable_name": "df",
              "summary": "{\n  \"name\": \"df\",\n  \"rows\": 400,\n  \"fields\": [\n    {\n      \"column\": \"Depth (m)\",\n      \"properties\": {\n        \"dtype\": \"number\",\n        \"std\": 5.780715065341542,\n        \"min\": 0.05,\n        \"max\": 20.0,\n        \"num_unique_values\": 400,\n        \"samples\": [\n          10.5,\n          14.05,\n          1.7\n        ],\n        \"semantic_type\": \"\",\n        \"description\": \"\"\n      }\n    },\n    {\n      \"column\": \"Tip Resistance (MN/m2)\",\n      \"properties\": {\n        \"dtype\": \"number\",\n        \"std\": 3.5394897009599777,\n        \"min\": 0.08,\n        \"max\": 21.33,\n        \"num_unique_values\": 235,\n        \"samples\": [\n          0.86,\n          4.66,\n          5.73\n        ],\n        \"semantic_type\": \"\",\n        \"description\": \"\"\n      }\n    },\n    {\n      \"column\": \"Sleeve Friction (kN/m2)\",\n      \"properties\": {\n        \"dtype\": \"number\",\n        \"std\": 2325.076047618178,\n        \"min\": -32768.0,\n        \"max\": 1020.6,\n        \"num_unique_values\": 339,\n        \"samples\": [\n          117.5,\n          37.8,\n          39.9\n        ],\n        \"semantic_type\": \"\",\n        \"description\": \"\"\n      }\n    },\n    {\n      \"column\": \"Inclination (degree)\",\n      \"properties\": {\n        \"dtype\": \"number\",\n        \"std\": 1.3755348479026208,\n        \"min\": 0.04,\n        \"max\": 4.45,\n        \"num_unique_values\": 129,\n        \"samples\": [\n          1.97,\n          1.4,\n          0.31\n        ],\n        \"semantic_type\": \"\",\n        \"description\": \"\"\n      }\n    },\n    {\n      \"column\": \"S-wave travel time (ms)\",\n      \"properties\": {\n        \"dtype\": \"number\",\n        \"std\": 9.393872546161878,\n        \"min\": 0.0,\n        \"max\": 89.14,\n        \"num_unique_values\": 11,\n        \"samples\": [\n          53.53,\n          0.0,\n          82.79\n        ],\n        \"semantic_type\": \"\",\n        \"description\": \"\"\n      }\n    }\n  ]\n}"
            }
          },
          "metadata": {},
          "execution_count": 2
        }
      ]
    },
    {
      "cell_type": "markdown",
      "source": [
        "## Another example for an image"
      ],
      "metadata": {
        "id": "8igzn3YTAbp3"
      }
    },
    {
      "cell_type": "code",
      "source": [
        "# Use single quotation marks for defining string\n",
        "url='https://sample-videos.com/img/Sample-png-image-100kb.png'"
      ],
      "metadata": {
        "id": "BE177BFAAf3y"
      },
      "execution_count": 37,
      "outputs": []
    },
    {
      "cell_type": "code",
      "source": [
        "r=requests.get(url)"
      ],
      "metadata": {
        "id": "_PUr050sAv49"
      },
      "execution_count": 38,
      "outputs": []
    },
    {
      "cell_type": "code",
      "source": [
        "print(r.headers)"
      ],
      "metadata": {
        "colab": {
          "base_uri": "https://localhost:8080/"
        },
        "id": "PoSUAo2WA4fB",
        "outputId": "93fe210f-db9e-40a0-882a-e1ae4e411501"
      },
      "execution_count": 39,
      "outputs": [
        {
          "output_type": "stream",
          "name": "stdout",
          "text": [
            "{'Date': 'Wed, 17 Jul 2024 14:07:31 GMT', 'Server': 'Apache/2.4.6 (CentOS) OpenSSL/1.0.2k-fips PHP/7.3.23', 'Last-Modified': 'Sat, 31 Oct 2020 14:37:26 GMT', 'ETag': '\"19787-5b2f873bacc3e\"', 'Accept-Ranges': 'bytes', 'Content-Length': '104327', 'Keep-Alive': 'timeout=5, max=100', 'Connection': 'Keep-Alive', 'Content-Type': 'image/png'}\n"
          ]
        }
      ]
    },
    {
      "cell_type": "code",
      "source": [
        "r.headers['Content-Type']"
      ],
      "metadata": {
        "colab": {
          "base_uri": "https://localhost:8080/",
          "height": 36
        },
        "id": "Lr3VzflsBArE",
        "outputId": "f06d9532-3c9a-415f-8201-e1c2ad43e6e7"
      },
      "execution_count": 40,
      "outputs": [
        {
          "output_type": "execute_result",
          "data": {
            "text/plain": [
              "'image/png'"
            ],
            "application/vnd.google.colaboratory.intrinsic+json": {
              "type": "string"
            }
          },
          "metadata": {},
          "execution_count": 40
        }
      ]
    },
    {
      "cell_type": "code",
      "source": [
        "path=os.path.join(os.getcwd(),'image.png')"
      ],
      "metadata": {
        "id": "75fBF4LxBGXx"
      },
      "execution_count": 41,
      "outputs": []
    },
    {
      "cell_type": "code",
      "source": [
        "with open(path,'wb') as f:\n",
        "    f.write(r.content)"
      ],
      "metadata": {
        "id": "_7STBi3dBOvq"
      },
      "execution_count": 42,
      "outputs": []
    },
    {
      "cell_type": "code",
      "source": [
        "Image.open(path)"
      ],
      "metadata": {
        "colab": {
          "base_uri": "https://localhost:8080/",
          "height": 187
        },
        "id": "lKrcogffBSFS",
        "outputId": "21319587-e61d-4790-f205-afc4c74a2c22"
      },
      "execution_count": 43,
      "outputs": [
        {
          "output_type": "execute_result",
          "data": {
            "text/plain": [
              "<PIL.PngImagePlugin.PngImageFile image mode=RGBA size=272x170>"
            ],
            "image/png": "[encoded data removed]"
          },
          "metadata": {},
          "execution_count": 43
        }
      ]
    }
  ],
  "metadata": {
    "kernelspec": {
      "display_name": "Python",
      "language": "python",
      "name": "conda-env-python-py"
    },
    "language_info": {
      "name": "python",
      "version": "3.7.12",
      "mimetype": "text/x-python",
      "codemirror_mode": {
        "name": "ipython",
        "version": 3
      },
      "pygments_lexer": "ipython3",
      "nbconvert_exporter": "python",
      "file_extension": ".py"
    },
    "prev_pub_hash": "f8656eccf63ec8124b5c29d5e218184808a02a24089258c726c4d9455f963111",
    "colab": {
      "provenance": [],
      "include_colab_link": true
    }
  },
  "nbformat": 4,
  "nbformat_minor": 0
}
