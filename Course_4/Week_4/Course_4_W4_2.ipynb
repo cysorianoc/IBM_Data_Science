{
  "cells": [
    {
      "cell_type": "markdown",
      "metadata": {
        "id": "view-in-github",
        "colab_type": "text"
      },
      "source": [
        "<a href=\"https://colab.research.google.com/github/cysorianoc/IBM_Data_Science/blob/main/Course_4_W4_2.ipynb\" target=\"_parent\"><img src=\"https://colab.research.google.com/assets/colab-badge.svg\" alt=\"Open In Colab\"/></a>"
      ]
    },
    {
      "cell_type": "markdown",
      "metadata": {
        "id": "797a878a-08cb-4009-88cc-2edf242e9a62"
      },
      "source": [
        "<p style=\"text-align:center\">\n",
        "    <a href=\"https://skills.network\" target=\"_blank\">\n",
        "    <img src=\"https://cf-courses-data.s3.us.cloud-object-storage.appdomain.cloud/assets/logos/SN_web_lightmode.png\" width=\"200\" alt=\"Skills Network Logo\">\n",
        "    </a>\n",
        "</p>\n",
        "\n",
        "\n",
        "# Write and Save Files in Python\n",
        "\n",
        "\n",
        "Estimated time needed: **25** minutes\n",
        "    \n",
        "\n",
        "## Objectives\n",
        "\n",
        "After completing this lab you will be able to:\n",
        "\n",
        "* Write to files using Python libraries\n"
      ]
    },
    {
      "cell_type": "markdown",
      "metadata": {
        "id": "d8e1f070-1047-482d-ae49-dffd564cd14e"
      },
      "source": [
        "<h2>Table of Contents</h2>\n",
        "<div class=\"alert alert-block alert-info\" style=\"margin-top: 20px\">\n",
        "    <ul>\n",
        "        <li><a href=\"write\">Writing Files</a></li>\n",
        "        <li><a href=\"Append\">Appending Files</a></li>\n",
        "        <li><a href=\"add\">Additional File modes</a></li>\n",
        "        <li><a href=\"copy\">Copy a File</a></li>\n",
        "    </ul>\n",
        "\n",
        "</div>\n",
        "\n",
        "<hr>\n"
      ]
    },
    {
      "cell_type": "markdown",
      "metadata": {
        "id": "452a6a38-54ab-463b-a95d-9e6e02ed5ac9"
      },
      "source": [
        "<h2 id=\"write\">Writing Files</h2>\n"
      ]
    },
    {
      "cell_type": "markdown",
      "metadata": {
        "id": "ddb0f761-92f6-427d-842d-a3f06a96e057"
      },
      "source": [
        " We can open a file object using the method <code>write()</code> to save the text file to a list. To write to a file, the mode argument must be set to **w**. Let’s write a file **Example2.txt** with the line: **“This is line A”**\n"
      ]
    },
    {
      "cell_type": "code",
      "metadata": {
        "id": "35e31add-adce-40e6-9175-f8ecbe1b4aa3"
      },
      "outputs": [],
      "source": [
        "# Write line to file\n",
        "exmp2 = 'Example2.txt'\n",
        "with open(exmp2, 'w') as writefile:\n",
        "    writefile.write(\"This is line A\")"
      ],
      "execution_count": 1
    },
    {
      "cell_type": "markdown",
      "metadata": {
        "id": "7006da31-ece9-4519-8397-18da2534271c"
      },
      "source": [
        " We can read the file to see if it worked:\n"
      ]
    },
    {
      "cell_type": "code",
      "metadata": {
        "colab": {
          "base_uri": "https://localhost:8080/"
        },
        "id": "427d2285-ed1d-4b9e-acc9-e11ba2f044a5",
        "outputId": "a7082b0b-1a32-44f9-f226-1f9e7f6ad346"
      },
      "outputs": [
        {
          "output_type": "stream",
          "name": "stdout",
          "text": [
            "This is line A\n"
          ]
        }
      ],
      "source": [
        "# Read file\n",
        "\n",
        "with open(exmp2, 'r') as testwritefile:\n",
        "    print(testwritefile.read())"
      ],
      "execution_count": 2
    },
    {
      "cell_type": "markdown",
      "metadata": {
        "id": "af29e3d1-283f-4352-8787-8923e619ad22"
      },
      "source": [
        "We can write multiple lines:\n"
      ]
    },
    {
      "cell_type": "code",
      "metadata": {
        "id": "89fcb3f5-2b43-4257-9426-cb3b8334fcbf"
      },
      "outputs": [],
      "source": [
        "# Write lines to file\n",
        "\n",
        "with open(exmp2, 'w') as writefile:\n",
        "    writefile.write(\"This is line A\\n\")\n",
        "    writefile.write(\"This is line B\\n\")"
      ],
      "execution_count": 3
    },
    {
      "cell_type": "markdown",
      "metadata": {
        "id": "a3021a93-e83a-4f76-8194-e2fe44c19b83"
      },
      "source": [
        "The method <code>.write()</code> works similarly to the method <code>.readline()</code>, except instead of reading a new line it writes a new line. The process is illustrated in the figure. The different colour coding of the grid represents a new line added to the file after each method call.\n"
      ]
    },
    {
      "cell_type": "markdown",
      "metadata": {
        "id": "94f143e7-7fbf-48c1-b41a-41795eb46095"
      },
      "source": [
        "<img src=\"https://cf-courses-data.s3.us.cloud-object-storage.appdomain.cloud/IBMDeveloperSkillsNetwork-PY0101EN-SkillsNetwork/labs/Module%204/images/WriteLine.png\" width=\"500\">\n"
      ]
    },
    {
      "cell_type": "markdown",
      "metadata": {
        "id": "42d4af75-ed8d-4a8f-bb7b-a3e6eef3accc"
      },
      "source": [
        "You can check the file to see if your results are correct.\n"
      ]
    },
    {
      "cell_type": "code",
      "metadata": {
        "colab": {
          "base_uri": "https://localhost:8080/"
        },
        "id": "40a2df5e-e9f8-45f6-8083-fee0fd9270c0",
        "outputId": "b75a438b-b36b-47c3-a93d-0751ee01411b"
      },
      "outputs": [
        {
          "output_type": "stream",
          "name": "stdout",
          "text": [
            "This is line A\n",
            "This is line B\n",
            "\n"
          ]
        }
      ],
      "source": [
        "# Check whether write to file\n",
        "\n",
        "with open(exmp2, 'r') as testwritefile:\n",
        "    print(testwritefile.read())"
      ],
      "execution_count": null
    },
    {
      "cell_type": "markdown",
      "metadata": {
        "id": "22f238e2-9be8-4352-b2ca-ac24e75525e7"
      },
      "source": [
        " We write a list to a **.txt** file  as follows:\n"
      ]
    },
    {
      "cell_type": "code",
      "metadata": {
        "colab": {
          "base_uri": "https://localhost:8080/"
        },
        "id": "40537774-e98d-490f-b1a0-a50ffc01d521",
        "outputId": "20af0ab7-d0bf-4ce4-c31b-229e314f011d"
      },
      "outputs": [
        {
          "output_type": "execute_result",
          "data": {
            "text/plain": [
              "['This is line A\\n', 'This is line B\\n', 'This is line C\\n']"
            ]
          },
          "metadata": {},
          "execution_count": 4
        }
      ],
      "source": [
        "# Sample list of text\n",
        "\n",
        "Lines = [\"This is line A\\n\", \"This is line B\\n\", \"This is line C\\n\"]\n",
        "Lines"
      ],
      "execution_count": 4
    },
    {
      "cell_type": "code",
      "metadata": {
        "colab": {
          "base_uri": "https://localhost:8080/"
        },
        "id": "3e4c5849-b5b9-46e7-98c1-a7edcbe0f87b",
        "outputId": "7d2d6d4c-fcc5-49be-b06a-d85830daf55d"
      },
      "outputs": [
        {
          "output_type": "stream",
          "name": "stdout",
          "text": [
            "This is line A\n",
            "\n",
            "This is line B\n",
            "\n",
            "This is line C\n",
            "\n"
          ]
        }
      ],
      "source": [
        "# Write the strings in the list to text file\n",
        "\n",
        "with open('Example2.txt', 'w') as writefile:\n",
        "    for line in Lines:\n",
        "        print(line)\n",
        "        writefile.write(line)"
      ],
      "execution_count": 9
    },
    {
      "cell_type": "markdown",
      "metadata": {
        "id": "f08c2259-5283-4a13-9b70-77d26bcbc64a"
      },
      "source": [
        " We can verify the file is written by reading it and printing out the values:  \n"
      ]
    },
    {
      "cell_type": "code",
      "metadata": {
        "colab": {
          "base_uri": "https://localhost:8080/"
        },
        "id": "f62730df-5144-41cd-8eaa-3f88eb606a5e",
        "outputId": "2add17e1-f311-4d6b-ace5-1a0f90c365f4"
      },
      "outputs": [
        {
          "output_type": "stream",
          "name": "stdout",
          "text": [
            "This is line A\n",
            "This is line B\n",
            "This is line C\n",
            "\n"
          ]
        }
      ],
      "source": [
        "# Verify if writing to file is successfully executed\n",
        "\n",
        "with open('Example2.txt', 'r') as testwritefile:\n",
        "    print(testwritefile.read())"
      ],
      "execution_count": 10
    },
    {
      "cell_type": "markdown",
      "metadata": {
        "id": "e7123448-8fd9-49e2-b372-b340721c1ae5"
      },
      "source": [
        "However, note that setting the mode to __w__ overwrites all the existing data in the file.\n"
      ]
    },
    {
      "cell_type": "code",
      "metadata": {
        "colab": {
          "base_uri": "https://localhost:8080/"
        },
        "id": "fbf84f9b-8df6-4743-b0d5-515394067723",
        "outputId": "90623451-8ce9-4e0e-a241-717002c588ec"
      },
      "outputs": [
        {
          "output_type": "stream",
          "name": "stdout",
          "text": [
            "Overwrite\n",
            "\n"
          ]
        }
      ],
      "source": [
        "with open('Example2.txt', 'w') as writefile:\n",
        "    writefile.write(\"Overwrite\\n\")\n",
        "with open('Example2.txt', 'r') as testwritefile:\n",
        "    print(testwritefile.read())"
      ],
      "execution_count": 8
    },
    {
      "cell_type": "markdown",
      "metadata": {
        "id": "81f1dfa6-3645-489b-868c-1bf7a6eb591c"
      },
      "source": [
        "<hr>\n",
        "<h2 id=\"Append\">Appending Files</h2>\n"
      ]
    },
    {
      "cell_type": "markdown",
      "metadata": {
        "id": "42e09469-bdcf-428d-a1fe-7be6a0b10c88"
      },
      "source": [
        " We can write to files without losing any of the existing data as follows by setting the mode argument to append: **a**.  You can append a new line as follows:\n"
      ]
    },
    {
      "cell_type": "code",
      "metadata": {
        "id": "644e30d1-1842-4e58-a0e5-359b9b0c0e2b"
      },
      "outputs": [],
      "source": [
        "# Write a new line to text file\n",
        "\n",
        "with open('Example2.txt', 'a') as testwritefile:\n",
        "    testwritefile.write(\"This is line C\\n\")\n",
        "    testwritefile.write(\"This is line D\\n\")\n",
        "    testwritefile.write(\"This is line E\\n\")"
      ],
      "execution_count": 11
    },
    {
      "cell_type": "markdown",
      "metadata": {
        "id": "f28f0500-7157-46bd-bf45-b10127802215"
      },
      "source": [
        " You can verify the file has changed by running the following cell:\n"
      ]
    },
    {
      "cell_type": "code",
      "metadata": {
        "colab": {
          "base_uri": "https://localhost:8080/"
        },
        "id": "71b4b1b5-f8f8-4613-8307-f4d1195601e1",
        "outputId": "44a6f810-9384-4f9b-b992-812fe6d7cd3c"
      },
      "outputs": [
        {
          "output_type": "stream",
          "name": "stdout",
          "text": [
            "This is line A\n",
            "This is line B\n",
            "This is line C\n",
            "This is line C\n",
            "This is line D\n",
            "This is line E\n",
            "\n"
          ]
        }
      ],
      "source": [
        "# Verify if the new line is in the text file\n",
        "\n",
        "with open('Example2.txt', 'r') as testwritefile:\n",
        "    print(testwritefile.read())"
      ],
      "execution_count": 12
    },
    {
      "cell_type": "markdown",
      "metadata": {
        "id": "af50f45e-67ce-454b-9c2b-6e8951a68b0b"
      },
      "source": [
        "<hr>\n",
        "<h2 id=\"add\">Additional modes</h2>\n"
      ]
    },
    {
      "cell_type": "markdown",
      "metadata": {
        "id": "37c76c7d-21d9-49cf-a003-37b354d88ac4"
      },
      "source": [
        "It's fairly inefficient to open the file in **a** or **w** and then reopen it in **r** to read any lines. Luckily we can access the file in the following modes:\n",
        "- **r+** : Reading and writing. Cannot truncate the file.\n",
        "- **w+** : Writing and reading. Truncates the file.\n",
        "- **a+** : Appending and Reading. Creates a new file, if none exists.\n",
        "You dont have to dwell on the specifics of each mode for this lab.\n"
      ]
    },
    {
      "cell_type": "markdown",
      "metadata": {
        "id": "f086768d-e6d1-480e-93a4-550547ee4fd1"
      },
      "source": [
        "Let's try out the __a+__ mode:\n"
      ]
    },
    {
      "cell_type": "code",
      "metadata": {
        "colab": {
          "base_uri": "https://localhost:8080/"
        },
        "id": "90441963-d913-4291-8645-12b623c82d70",
        "outputId": "cead2a1a-8ce0-4721-b0d3-b9c18983c95c"
      },
      "outputs": [
        {
          "output_type": "stream",
          "name": "stdout",
          "text": [
            "\n"
          ]
        }
      ],
      "source": [
        "with open('Example2.txt', 'a+') as testwritefile:\n",
        "    testwritefile.write(\"This is line E\\n\")\n",
        "    print(testwritefile.read())"
      ],
      "execution_count": 13
    },
    {
      "cell_type": "markdown",
      "metadata": {
        "id": "6d123ecc-604d-49af-937d-63e5dc6ec67a"
      },
      "source": [
        "There were no errors but <code>read()</code> also did not output anything. This is because of our location in the file.\n"
      ]
    },
    {
      "cell_type": "markdown",
      "metadata": {
        "id": "32e9a0be-68e0-4322-a369-63a88c406fe4"
      },
      "source": [
        "Most of the file methods we've looked at work in a certain location in the file. <code>.write() </code> writes at a certain location in the file. <code>.read()</code> reads at a certain location in the file and so on. You can think of this as moving your pointer around in the notepad to make changes at a specific location.\n"
      ]
    },
    {
      "cell_type": "markdown",
      "metadata": {
        "id": "9192e144-e919-4032-9e4f-700733fd0453"
      },
      "source": [
        "Opening the file in **w** is akin to opening the .txt file, moving your cursor to the beginning of the text file, writing new text and deleting everything that follows.\n",
        "Whereas opening the file in **a** is similar to opening the .txt file, moving your cursor to the very end and then adding the new pieces of text. <br>\n",
        "It is often very useful to know where the 'cursor' is in a file and be able to control it. The following methods allow us to do precisely this -\n",
        "- <code>.tell()</code> - returns the current position in bytes\n",
        "- <code>.seek(offset,from)</code> - changes the position by 'offset' bytes with respect to 'from'. From can take the value of 0,1,2 corresponding to the beginning, relative to current position and end\n"
      ]
    },
    {
      "cell_type": "markdown",
      "metadata": {
        "id": "791e6013-c886-46fa-874a-ba2e2f8db911"
      },
      "source": [
        "Now lets revisit **a+**\n"
      ]
    },
    {
      "cell_type": "code",
      "metadata": {
        "colab": {
          "base_uri": "https://localhost:8080/"
        },
        "id": "4e2f082b-660a-4def-827b-d28640c92920",
        "outputId": "5bf079bc-ff43-41fe-c7f3-cf4087e145a6"
      },
      "outputs": [
        {
          "output_type": "stream",
          "name": "stdout",
          "text": [
            "Initial Location: 105\n",
            "Read nothing\n",
            "\n",
            "New Location : 0\n",
            "This is line A\n",
            "This is line B\n",
            "This is line C\n",
            "This is line C\n",
            "This is line D\n",
            "This is line E\n",
            "This is line E\n",
            "\n",
            "Location after read: 105\n"
          ]
        }
      ],
      "source": [
        "with open('Example2.txt', 'a+') as testwritefile:\n",
        "    print(\"Initial Location: {}\".format(testwritefile.tell()))\n",
        "\n",
        "    data = testwritefile.read()\n",
        "    if (not data):  #empty strings return false in python\n",
        "            print('Read nothing')\n",
        "    else:\n",
        "            print(testwritefile.read())\n",
        "\n",
        "    testwritefile.seek(0,0) # move 0 bytes from beginning.\n",
        "\n",
        "    print(\"\\nNew Location : {}\".format(testwritefile.tell()))\n",
        "    data = testwritefile.read()\n",
        "    if (not data):\n",
        "            print('Read nothing')\n",
        "    else:\n",
        "            print(data)\n",
        "\n",
        "    print(\"Location after read: {}\".format(testwritefile.tell()) )"
      ],
      "execution_count": 14
    },
    {
      "cell_type": "markdown",
      "metadata": {
        "id": "33935fea-1417-4b5d-9d38-1301db901b75"
      },
      "source": [
        "Finally, a note on the difference between **w+** and **r+**. Both of these modes allow access to read and write methods; however, opening a file in **w+** overwrites it and deletes all pre-existing data. <br>\n"
      ]
    },
    {
      "cell_type": "code",
      "metadata": {
        "colab": {
          "base_uri": "https://localhost:8080/"
        },
        "id": "0d9871f0-ef6c-4c9d-af5a-f3a0b99ba90b",
        "outputId": "b0a416f3-02ab-405a-8273-4e12a55bdcf8"
      },
      "outputs": [
        {
          "output_type": "stream",
          "name": "stdout",
          "text": [
            "Line 1\n",
            "Line 2\n",
            "Line 3\n",
            "Line 4\n",
            "finished\n",
            " line C\n",
            "This is line C\n",
            "This is line D\n",
            "This is line E\n",
            "This is line E\n",
            "\n"
          ]
        }
      ],
      "source": [
        "with open('Example2.txt', 'r+') as testwritefile:\n",
        "    testwritefile.seek(0,0) #write at beginning of file\n",
        "\n",
        "    testwritefile.write(\"Line 1\" + \"\\n\")\n",
        "    testwritefile.write(\"Line 2\" + \"\\n\")\n",
        "    testwritefile.write(\"Line 3\" + \"\\n\")\n",
        "    testwritefile.write(\"Line 4\" + \"\\n\")\n",
        "    testwritefile.write(\"finished\\n\")\n",
        "    testwritefile.seek(0,0)\n",
        "    print(testwritefile.read())"
      ],
      "execution_count": 15
    },
    {
      "cell_type": "markdown",
      "metadata": {
        "id": "c1c724af-9f6e-4e67-8468-2627e9292d8b"
      },
      "source": [
        "To work with a file on existing data, use **r+** and **a+**. While using **r+**, it can be useful to add a <code>.truncate()</code> method at the end of your data. This will reduce the file to your data and delete everything that follows. <br>\n"
      ]
    },
    {
      "cell_type": "code",
      "metadata": {
        "colab": {
          "base_uri": "https://localhost:8080/"
        },
        "id": "a9665fa2-09cf-4da9-8e6d-d24d7ebc50c6",
        "outputId": "6c1319b3-5d9b-4bb7-cac9-2060206ea9a4"
      },
      "outputs": [
        {
          "output_type": "stream",
          "name": "stdout",
          "text": [
            "Line 1\n",
            "Line 2\n",
            "Line 3\n",
            "Line 4\n",
            "finished\n",
            "\n"
          ]
        }
      ],
      "source": [
        "with open('Example2.txt', 'r+') as testwritefile:\n",
        "    testwritefile.seek(0,0) #write at beginning of file\n",
        "\n",
        "    testwritefile.write(\"Line 1\" + \"\\n\")\n",
        "    testwritefile.write(\"Line 2\" + \"\\n\")\n",
        "    testwritefile.write(\"Line 3\" + \"\\n\")\n",
        "    testwritefile.write(\"Line 4\" + \"\\n\")\n",
        "    testwritefile.write(\"finished\\n\")\n",
        "    testwritefile.truncate()\n",
        "    testwritefile.seek(0,0)\n",
        "    print(testwritefile.read())\n"
      ],
      "execution_count": null
    },
    {
      "cell_type": "markdown",
      "metadata": {
        "id": "f78991f2-d3d9-4a74-b8b5-8556942288ff"
      },
      "source": [
        "<hr>\n"
      ]
    },
    {
      "cell_type": "markdown",
      "metadata": {
        "id": "3e4c33d1-390d-48e5-8fe5-fb08cae63a9f"
      },
      "source": [
        "<h2 id=\"copy\">Copy a File</h2>\n"
      ]
    },
    {
      "cell_type": "markdown",
      "metadata": {
        "id": "9f31a38d-f2fb-4786-8a16-2d8b202a0fd7"
      },
      "source": [
        "Let's copy the file **Example2.txt** to the file **Example3.txt**:\n"
      ]
    },
    {
      "cell_type": "code",
      "metadata": {
        "id": "3f53fc09-de21-4ab5-93b3-6f0f07667309"
      },
      "outputs": [],
      "source": [
        "# Copy file to another\n",
        "\n",
        "with open('Example2.txt','r') as readfile:\n",
        "    with open('Example3.txt','w') as writefile:\n",
        "          for line in readfile:\n",
        "                writefile.write(line)"
      ],
      "execution_count": null
    },
    {
      "cell_type": "markdown",
      "metadata": {
        "id": "0ff282b4-3f11-4343-9ddd-59ca1c2cf6b5"
      },
      "source": [
        "We can read the file to see if everything works:\n"
      ]
    },
    {
      "cell_type": "code",
      "metadata": {
        "colab": {
          "base_uri": "https://localhost:8080/"
        },
        "id": "fc0834bb-078c-4e75-b4d9-f22a93f564fb",
        "outputId": "bfb67fc2-2f7c-4e44-8929-afa3f37705b1"
      },
      "outputs": [
        {
          "output_type": "stream",
          "name": "stdout",
          "text": [
            "Line 1\n",
            "Line 2\n",
            "Line 3\n",
            "Line 4\n",
            "finished\n",
            "\n"
          ]
        }
      ],
      "source": [
        "# Verify if the copy is successfully executed\n",
        "\n",
        "with open('Example3.txt','r') as testwritefile:\n",
        "    print(testwritefile.read())"
      ],
      "execution_count": null
    },
    {
      "cell_type": "markdown",
      "metadata": {
        "id": "bd7e5f1a-624f-4768-9ff6-d3073b6edf52"
      },
      "source": [
        " After reading files, we can also write data into files and save them in different file formats like **.txt, .csv, .xls (for excel files) etc**. You will come across these in further examples\n"
      ]
    },
    {
      "cell_type": "markdown",
      "metadata": {
        "id": "3692afc8-09d2-4f28-83dd-50a34ee90b49"
      },
      "source": [
        "**NOTE:** If you wish to open and view the `example3.txt` file, download this lab [here](https://cf-courses-data.s3.us.cloud-object-storage.appdomain.cloud/IBMDeveloperSkillsNetwork-PY0101EN-SkillsNetwork/labs/Module%204/PY0101EN-4-2-WriteFile.ipynb) and run it locally on your machine. Then go to the working directory to ensure the `example3.txt` file exists and contains the summary data that we wrote.\n"
      ]
    },
    {
      "cell_type": "markdown",
      "metadata": {
        "id": "d18b0ed1-6d85-4fb1-8422-882884e6c146"
      },
      "source": [
        "<hr>\n"
      ]
    },
    {
      "cell_type": "markdown",
      "metadata": {
        "id": "a3c9eabd-2e1d-465f-b41a-42e7f7364d3e"
      },
      "source": [
        "<h2> Exercise </h2>\n"
      ]
    },
    {
      "cell_type": "markdown",
      "metadata": {
        "id": "4bdfbf43-7635-4347-b758-76e0301bfcbc"
      },
      "source": [
        "Your local university's Raptors fan club maintains a register of its active members on a .txt document. Every month they update the file by removing the members who are not active. You have been tasked with automating this with your Python skills. <br>\n",
        "Given the file `currentMem`, Remove each member with a 'no' in their Active column. Keep track of each of the removed members and append them to the `exMem` file. Make sure that the format of the original files in preserved.   (*Hint: Do this by reading/writing whole lines and ensuring the header remains* )\n",
        "<br>\n",
        "Run the code block below prior to starting the exercise. The skeleton code has been provided for you. Edit only the `cleanFiles` function.\n"
      ]
    },
    {
      "cell_type": "code",
      "metadata": {
        "id": "f97c51a0-e79b-4ef7-a17f-d39a17a03a27"
      },
      "outputs": [],
      "source": [
        "#Run this prior to starting the exercise\n",
        "from random import randint as rnd\n",
        "\n",
        "memReg = 'members.txt'\n",
        "exReg = 'inactive.txt'\n",
        "fee =('yes','no')\n",
        "\n",
        "def genFiles(current,old):\n",
        "    with open(current,'w+') as writefile:\n",
        "        writefile.write('Membership No  Date Joined  Active  \\n')\n",
        "        data = \"{:^13}  {:<11}  {:<6}\\n\"\n",
        "\n",
        "        for rowno in range(20):\n",
        "            date = str(rnd(2015,2020))+ '-' + str(rnd(1,12))+'-'+str(rnd(1,25))\n",
        "            writefile.write(data.format(rnd(10000,99999),date,fee[rnd(0,1)]))\n",
        "\n",
        "\n",
        "    with open(old,'w+') as writefile:\n",
        "        writefile.write('Membership No  Date Joined  Active  \\n')\n",
        "        data = \"{:^13}  {:<11}  {:<6}\\n\"\n",
        "        for rowno in range(3):\n",
        "            date = str(rnd(2015,2020))+ '-' + str(rnd(1,12))+'-'+str(rnd(1,25))\n",
        "            writefile.write(data.format(rnd(10000,99999),date,fee[1]))\n",
        "\n",
        "\n",
        "genFiles(memReg,exReg)\n"
      ],
      "execution_count": 16
    },
    {
      "cell_type": "markdown",
      "metadata": {
        "id": "6f922d4e-aad7-45cd-8e6e-f293128f44f4"
      },
      "source": [
        "Now that you've run the prerequisite code cell above, which prepared the files for this exercise, you are ready to move on to the implementation.\n",
        "\n",
        "#### **Exercise:** Implement the cleanFiles function in the code cell below.\n"
      ]
    },
    {
      "cell_type": "code",
      "metadata": {
        "colab": {
          "base_uri": "https://localhost:8080/"
        },
        "id": "7476e437-e11d-4097-ae7b-46fc226ded45",
        "outputId": "368c3925-7bac-4052-de01-97c174694a57"
      },
      "outputs": [
        {
          "output_type": "stream",
          "name": "stdout",
          "text": [
            "Active Members: \n",
            "\n",
            "\n",
            "Membership No  Date Joined  Active  \n",
            "    97483      2020-9-23    yes   \n",
            "    20358      2016-12-1    no    \n",
            "    85347      2015-5-9     yes   \n",
            "    62175      2019-1-16    no    \n",
            "    61985      2015-12-6    yes   \n",
            "    51566      2018-10-12   no    \n",
            "    85711      2020-2-15    yes   \n",
            "    63652      2016-12-2    yes   \n",
            "    54879      2020-11-22   yes   \n",
            "    31715      2017-7-19    yes   \n",
            "    49905      2017-8-19    yes   \n",
            "    78593      2020-2-14    yes   \n",
            "    21572      2015-11-12   no    \n",
            "    34783      2016-10-4    yes   \n",
            "    40554      2019-5-2     yes   \n",
            "    71091      2015-6-11    no    \n",
            "    75622      2018-9-25    no    \n",
            "    37422      2020-2-23    yes   \n",
            "    10782      2015-8-4     yes   \n",
            "    76363      2020-4-18    no    \n",
            "\n",
            "Inactive Members: \n",
            "\n",
            "\n",
            "Membership No  Date Joined  Active  \n",
            "    43040      2018-3-11    no    \n",
            "    28171      2019-4-25    no    \n",
            "    88577      2019-9-24    no    \n",
            "\n"
          ]
        }
      ],
      "source": [
        "\n",
        "'''\n",
        "The two arguments for this function are the files:\n",
        "    - currentMem: File containing list of current members\n",
        "    - exMem: File containing list of old members\n",
        "\n",
        "    This function should remove all rows from currentMem containing 'no'\n",
        "    in the 'Active' column and appends them to exMem.\n",
        "    '''\n",
        "def cleanFiles(currentMem, exMem):\n",
        "    # TODO: Open the currentMem file as in r+ mode\n",
        "        #TODO: Open the exMem file in a+ mode\n",
        "\n",
        "        #TODO: Read each member in the currentMem (1 member per row) file into a list.\n",
        "        # Hint: Recall that the first line in the file is the header.\n",
        "\n",
        "        #TODO: iterate through the members and create a new list of the innactive members\n",
        "\n",
        "        # Go to the beginning of the currentMem file\n",
        "        # TODO: Iterate through the members list.\n",
        "        # If a member is inactive, add them to exMem, otherwise write them into currentMem\n",
        "\n",
        "\n",
        "\n",
        "    pass # Remove this line when done implementation\n",
        "\n",
        "\n",
        "# The code below is to help you view the files.\n",
        "# Do not modify this code for this exercise.\n",
        "memReg = 'members.txt'\n",
        "exReg = 'inactive.txt'\n",
        "cleanFiles(memReg,exReg)\n",
        "\n",
        "\n",
        "headers = \"Membership No  Date Joined  Active  \\n\"\n",
        "with open(memReg,'r') as readFile:\n",
        "    print(\"Active Members: \\n\\n\")\n",
        "    print(readFile.read())\n",
        "\n",
        "with open(exReg,'r') as readFile:\n",
        "    print(\"Inactive Members: \\n\\n\")\n",
        "    print(readFile.read())\n",
        "\n"
      ],
      "execution_count": 17
    },
    {
      "cell_type": "markdown",
      "metadata": {
        "id": "091f25e1-f631-4de4-a963-276f2e30a2a5"
      },
      "source": [
        "The code cell below is to verify your solution. Please do not modify the code and run it to test your implementation of `cleanFiles`.\n"
      ]
    },
    {
      "cell_type": "code",
      "metadata": {
        "colab": {
          "base_uri": "https://localhost:8080/"
        },
        "id": "8c8da530-7230-4116-90d7-7aaa3960f517",
        "outputId": "1501787f-37bd-4dec-fe7a-fca3cb15ef9c"
      },
      "outputs": [
        {
          "output_type": "stream",
          "name": "stdout",
          "text": [
            "Inactive members in file\n",
            "Test Failed\n"
          ]
        }
      ],
      "source": [
        "def testMsg(passed):\n",
        "    if passed:\n",
        "       return 'Test Passed'\n",
        "    else :\n",
        "       return 'Test Failed'\n",
        "\n",
        "testWrite = \"testWrite.txt\"\n",
        "testAppend = \"testAppend.txt\"\n",
        "passed = True\n",
        "\n",
        "genFiles(testWrite,testAppend)\n",
        "\n",
        "with open(testWrite,'r') as file:\n",
        "    ogWrite = file.readlines()\n",
        "\n",
        "with open(testAppend,'r') as file:\n",
        "    ogAppend = file.readlines()\n",
        "\n",
        "try:\n",
        "    cleanFiles(testWrite,testAppend)\n",
        "except:\n",
        "    print('Error')\n",
        "\n",
        "with open(testWrite,'r') as file:\n",
        "    clWrite = file.readlines()\n",
        "\n",
        "with open(testAppend,'r') as file:\n",
        "    clAppend = file.readlines()\n",
        "\n",
        "# checking if total no of rows is same, including headers\n",
        "\n",
        "if (len(ogWrite) + len(ogAppend) != len(clWrite) + len(clAppend)):\n",
        "    print(\"The number of rows do not add up. Make sure your final files have the same header and format.\")\n",
        "    passed = False\n",
        "\n",
        "for line in clWrite:\n",
        "    if  'no' in line:\n",
        "        passed = False\n",
        "        print(\"Inactive members in file\")\n",
        "        break\n",
        "    else:\n",
        "        if line not in ogWrite:\n",
        "            print(\"Data in file does not match original file\")\n",
        "            passed = False\n",
        "print (\"{}\".format(testMsg(passed)))\n",
        "\n",
        "\n"
      ],
      "execution_count": null
    },
    {
      "cell_type": "markdown",
      "metadata": {
        "id": "9e894093-450c-4d94-8f6b-1c00b25122dc"
      },
      "source": [
        "<details><summary>Click here for the solution</summary>\n",
        "\n",
        "```python\n",
        "def cleanFiles(currentMem,exMem):\n",
        "    with open(currentMem,'r+') as writeFile:\n",
        "        with open(exMem,'a+') as appendFile:\n",
        "            #get the data\n",
        "            writeFile.seek(0)\n",
        "            members = writeFile.readlines()\n",
        "            #remove header\n",
        "            header = members[0]\n",
        "            members.pop(0)\n",
        "                \n",
        "            inactive = [member for member in members if ('no' in member)]\n",
        "            '''\n",
        "            The above is the same as\n",
        "\n",
        "            for member in members:\n",
        "            if 'no' in member:\n",
        "                inactive.append(member)\n",
        "            '''\n",
        "            #go to the beginning of the write file\n",
        "            writeFile.seek(0)\n",
        "            writeFile.write(header)\n",
        "            for member in members:\n",
        "                if (member in inactive):\n",
        "                    appendFile.write(member)\n",
        "                else:\n",
        "                    writeFile.write(member)      \n",
        "            writeFile.truncate()\n",
        "                \n",
        "memReg = 'members.txt'\n",
        "exReg = 'inactive.txt'\n",
        "cleanFiles(memReg,exReg)\n",
        "\n",
        "# code to help you see the files\n",
        "\n",
        "headers = \"Membership No  Date Joined  Active  \\n\"\n",
        "\n",
        "with open(memReg,'r') as readFile:\n",
        "    print(\"Active Members: \\n\\n\")\n",
        "    print(readFile.read())\n",
        "    \n",
        "with open(exReg,'r') as readFile:\n",
        "    print(\"Inactive Members: \\n\\n\")\n",
        "    print(readFile.read())\n",
        "    \n",
        "```\n",
        "\n",
        "</details>\n",
        "\n",
        "    \n"
      ]
    },
    {
      "cell_type": "code",
      "source": [
        "data = \"\"\"\n",
        "Membership No  Date Joined  Active\n",
        "59756      2020-11-21   yes\n",
        "13179      2018-2-14    no\n",
        "63912      2020-6-4     yes\n",
        "13465      2018-2-13    no\n",
        "22508      2020-11-4    no\n",
        "24536      2017-2-3     yes\n",
        "18034      2020-8-19    no\n",
        "32091      2020-8-8     no\n",
        "45303      2017-1-25    yes\n",
        "27908      2019-5-5     yes\n",
        "53474      2015-2-14    yes\n",
        "36323      2015-1-10    yes\n",
        "73448      2020-10-19   no\n",
        "50693      2017-6-2     yes\n",
        "19265      2015-3-3     yes\n",
        "25752      2020-8-8     yes\n",
        "59081      2020-7-4     yes\n",
        "76396      2017-4-8     no\n",
        "69566      2017-2-22    no\n",
        "97072      2015-8-23    yes\n",
        "\"\"\"\n",
        "\n",
        "# Split the data into lines\n",
        "lines = data.strip().split(\"\\n\")\n",
        "\n",
        "# Extract the header\n",
        "header = lines[0]\n",
        "\n",
        "# Initialize lists for active and inactive members\n",
        "active_members = [header]\n",
        "inactive_members = [header]\n",
        "\n",
        "# Process each line after the header\n",
        "for line in lines[1:]:\n",
        "    parts = line.split()\n",
        "    membership_no = parts[0]\n",
        "    date_joined = parts[1]\n",
        "    active = parts[2]\n",
        "\n",
        "    if active == \"yes\":\n",
        "        active_members.append(line)\n",
        "    else:\n",
        "        inactive_members.append(line)\n",
        "\n",
        "# Write active members to a file\n",
        "with open(\"active_members.txt\", \"w\") as active_file:\n",
        "    for member in active_members:\n",
        "        active_file.write(member + \"\\n\")\n",
        "\n",
        "# Write inactive members to a file\n",
        "with open(\"inactive_members.txt\", \"w\") as inactive_file:\n",
        "    for member in inactive_members:\n",
        "        inactive_file.write(member + \"\\n\")\n",
        "\n",
        "print(\"Files created successfully!\")\n"
      ],
      "metadata": {
        "colab": {
          "base_uri": "https://localhost:8080/"
        },
        "id": "bHamdbQaMAOd",
        "outputId": "ed46fb92-74f1-464b-9ed1-50224ac2ed7c"
      },
      "execution_count": null,
      "outputs": [
        {
          "output_type": "stream",
          "name": "stdout",
          "text": [
            "Files created successfully!\n"
          ]
        }
      ]
    },
    {
      "cell_type": "code",
      "source": [
        "# Function to process the membership data\n",
        "def process_membership_data(input_file, active_file, inactive_file):\n",
        "    # Read the data from the input file\n",
        "    with open(input_file, \"r\") as file:\n",
        "        lines = file.readlines()\n",
        "\n",
        "    # Extract the header\n",
        "    header = lines[0].strip()\n",
        "\n",
        "    # Initialize lists for active and inactive members\n",
        "    active_members = [header]\n",
        "    inactive_members = [header]\n",
        "\n",
        "    # Process each line after the header\n",
        "    for line in lines[1:]:\n",
        "        parts = line.strip().split()\n",
        "        membership_no = parts[0]\n",
        "        date_joined = parts[1]\n",
        "        active = parts[2]\n",
        "\n",
        "        if active == \"yes\":\n",
        "            active_members.append(line.strip())\n",
        "        else:\n",
        "            inactive_members.append(line.strip())\n",
        "\n",
        "    # Write active members to a file\n",
        "    with open(active_file, \"w\") as active_file:\n",
        "        for member in active_members:\n",
        "            active_file.write(member + \"\\n\")\n",
        "\n",
        "    # Write inactive members to a file\n",
        "    with open(inactive_file, \"w\") as inactive_file:\n",
        "        for member in inactive_members:\n",
        "            inactive_file.write(member + \"\\n\")\n",
        "\n",
        "    print(\"Files created successfully!\")\n",
        "\n",
        "# Define the input and output file names\n",
        "input_file = \"members.txt\"\n",
        "active_file = \"active_members.txt\"\n",
        "inactive_file = \"inactive_members.txt\"\n",
        "\n",
        "# Process the membership data\n",
        "process_membership_data(input_file, active_file, inactive_file)\n"
      ],
      "metadata": {
        "colab": {
          "base_uri": "https://localhost:8080/"
        },
        "id": "NjSZqGq-NKzu",
        "outputId": "a52f4363-3a5e-4785-894b-cfc13d3ce551"
      },
      "execution_count": null,
      "outputs": [
        {
          "output_type": "stream",
          "name": "stdout",
          "text": [
            "Files created successfully!\n"
          ]
        }
      ]
    },
    {
      "cell_type": "markdown",
      "metadata": {
        "id": "d2ca4838-e809-4cd5-9b4e-687f342edc3a"
      },
      "source": [
        "<hr>\n",
        "<h2>The last exercise!</h2>\n",
        "<p>Congratulations, you have completed this lesson and hands-on lab in Python.\n",
        "<hr>\n"
      ]
    },
    {
      "cell_type": "markdown",
      "metadata": {
        "id": "a3292cd9-9d47-426b-b252-993fc0436fa5"
      },
      "source": [
        "## Author\n",
        "\n",
        "<a href=\"https://www.linkedin.com/in/joseph-s-50398b136/\" target=\"_blank\">Joseph Santarcangelo</a>\n",
        "\n",
        "\n",
        "### Other Contributors\n",
        "<a href=\"www.linkedin.com/in/jiahui-mavis-zhou-a4537814a\">Mavis Zhou</a>\n",
        "\n",
        "\n",
        "## Change Log\n",
        "\n",
        "\n",
        "|  Date (YYYY-MM-DD) |  Version | Changed By  |  Change Description |\n",
        "|---|---|---|---|\n",
        "| 2023-11-02 | 2.2 | Abhishek Gagneja | Updated instructions |\n",
        "| 2022-01-10  | 2.1  | Malika  | Removed the readme for GitShare|\n",
        "| 2020-10-16  | 1.3  | Arjun Swani  |  Added exercise |\n",
        "| 2020-10-16  | 1.2  | Arjun Swani  |  Added section additional file modes |\n",
        "| 2020-10-16  | 1.1  | Arjun Swani |  Made append a different section |\n",
        "| 2020-08-28  | 0.2  | Lavanya  |  Moved lab to course repo in GitLab |\n",
        "\n",
        "\n",
        "\n",
        "<hr>\n",
        "\n",
        "## <h3 align=\"center\"> © IBM Corporation 2020. All rights reserved. <h3/>\n"
      ]
    },
    {
      "cell_type": "code",
      "metadata": {
        "id": "54543715-b558-4432-a425-fd4ac9be7e24"
      },
      "outputs": [],
      "source": [
        "# Let's see the code by parts\n",
        "with open(input_file, \"r\") as file:\n",
        "        lines = file.readlines()"
      ],
      "execution_count": null
    },
    {
      "cell_type": "code",
      "source": [
        "# Now we see print the lines\n",
        "lines"
      ],
      "metadata": {
        "colab": {
          "base_uri": "https://localhost:8080/"
        },
        "id": "gFX8IE59PVC3",
        "outputId": "cc60e8cd-c845-4bfc-c1d0-e5718abe52d6"
      },
      "execution_count": null,
      "outputs": [
        {
          "output_type": "execute_result",
          "data": {
            "text/plain": [
              "['Membership No  Date Joined  Active  \\n',\n",
              " '    59756      2020-11-21   yes   \\n',\n",
              " '    13179      2018-2-14    no    \\n',\n",
              " '    63912      2020-6-4     yes   \\n',\n",
              " '    13465      2018-2-13    no    \\n',\n",
              " '    22508      2020-11-4    no    \\n',\n",
              " '    24536      2017-2-3     yes   \\n',\n",
              " '    18034      2020-8-19    no    \\n',\n",
              " '    32091      2020-8-8     no    \\n',\n",
              " '    45303      2017-1-25    yes   \\n',\n",
              " '    27908      2019-5-5     yes   \\n',\n",
              " '    53474      2015-2-14    yes   \\n',\n",
              " '    36323      2015-1-10    yes   \\n',\n",
              " '    73448      2020-10-19   no    \\n',\n",
              " '    50693      2017-6-2     yes   \\n',\n",
              " '    19265      2015-3-3     yes   \\n',\n",
              " '    25752      2020-8-8     yes   \\n',\n",
              " '    59081      2020-7-4     yes   \\n',\n",
              " '    76396      2017-4-8     no    \\n',\n",
              " '    69566      2017-2-22    no    \\n',\n",
              " '    97072      2015-8-23    yes   \\n']"
            ]
          },
          "metadata": {},
          "execution_count": 37
        }
      ]
    },
    {
      "cell_type": "code",
      "source": [
        "lines[0].strip() #where strip() Remove spaces at the beginning and at the end of the string:"
      ],
      "metadata": {
        "colab": {
          "base_uri": "https://localhost:8080/",
          "height": 36
        },
        "id": "BhwJFYbGOUj1",
        "outputId": "c8707475-6bca-4293-f74d-89306069c7e7"
      },
      "execution_count": null,
      "outputs": [
        {
          "output_type": "execute_result",
          "data": {
            "text/plain": [
              "'Membership No  Date Joined  Active'"
            ],
            "application/vnd.google.colaboratory.intrinsic+json": {
              "type": "string"
            }
          },
          "metadata": {},
          "execution_count": 38
        }
      ]
    },
    {
      "cell_type": "code",
      "source": [
        "# More examples\n",
        "lines = ['Readme', 'How to write text files in Python']\n",
        "with open('readme.txt', 'w') as f:\n",
        "    for line in lines:\n",
        "        f.write(line)\n",
        "        f.write('\\n')"
      ],
      "metadata": {
        "id": "vtL3p5qpQ-Oc"
      },
      "execution_count": null,
      "outputs": []
    }
  ],
  "metadata": {
    "kernelspec": {
      "display_name": "Python",
      "language": "python",
      "name": "conda-env-python-py"
    },
    "language_info": {
      "name": ""
    },
    "colab": {
      "provenance": [],
      "include_colab_link": true
    }
  },
  "nbformat": 4,
  "nbformat_minor": 0
}
