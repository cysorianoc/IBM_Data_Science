{
  "cells": [
    {
      "cell_type": "markdown",
      "metadata": {
        "id": "view-in-github",
        "colab_type": "text"
      },
      "source": [
        "<a href=\"https://colab.research.google.com/github/cysorianoc/IBM_Data_Science/blob/main/Week_5_final_project.ipynb\" target=\"_parent\"><img src=\"https://colab.research.google.com/assets/colab-badge.svg\" alt=\"Open In Colab\"/></a>"
      ]
    },
    {
      "cell_type": "markdown",
      "metadata": {
        "id": "a528759d-0280-4776-925b-51d1abc66f17"
      },
      "source": [
        "<center>\n",
        "    <img src=\"https://cf-courses-data.s3.us.cloud-object-storage.appdomain.cloud/IBMDeveloperSkillsNetwork-DB0201EN-SkillsNetwork/labs/FinalModule_Coursera_V5/images/SN_web_lightmode.png\" width=\"300\" alt=\"cognitiveclass.ai logo\">\n",
        "</center>\n",
        "\n",
        "<h1 align=center><font size = 5>Assignment: Notebook for Graded Assessment</font></h1>\n"
      ]
    },
    {
      "cell_type": "markdown",
      "metadata": {
        "id": "f2c80fe7-99b5-4671-b510-301bc45173c1"
      },
      "source": [
        "# Introduction\n",
        "\n",
        "Using this Python notebook you will:\n",
        "\n",
        "1.  Understand three Chicago datasets\n",
        "2.  Load the three datasets into three tables in a SQLIte database\n",
        "3.  Execute SQL queries to answer assignment questions\n"
      ]
    },
    {
      "cell_type": "markdown",
      "metadata": {
        "id": "352ed13f-e4c4-49e2-ade3-1af77123f696"
      },
      "source": [
        "## Understand the datasets\n",
        "\n",
        "To complete the assignment problems in this notebook you will be using three datasets that are available on the city of Chicago's Data Portal:\n",
        "\n",
        "1.  <a href=\"https://data.cityofchicago.org/Health-Human-Services/Census-Data-Selected-socioeconomic-indicators-in-C/kn9c-c2s2?utm_medium=Exinfluencer&utm_source=Exinfluencer&utm_content=000026UJ&utm_term=10006555&utm_id=NA-SkillsNetwork-Channel-SkillsNetworkCoursesIBMDeveloperSkillsNetworkDB0201ENSkillsNetwork20127838-2021-01-01\">Socioeconomic Indicators in Chicago</a>\n",
        "2.  <a href=\"https://data.cityofchicago.org/Education/Chicago-Public-Schools-Progress-Report-Cards-2011-/9xs2-f89t?utm_medium=Exinfluencer&utm_source=Exinfluencer&utm_content=000026UJ&utm_term=10006555&utm_id=NA-SkillsNetwork-Channel-SkillsNetworkCoursesIBMDeveloperSkillsNetworkDB0201ENSkillsNetwork20127838-2021-01-01\">Chicago Public Schools</a>\n",
        "3.  <a href=\"https://data.cityofchicago.org/Public-Safety/Crimes-2001-to-present/ijzp-q8t2?utm_medium=Exinfluencer&utm_source=Exinfluencer&utm_content=000026UJ&utm_term=10006555&utm_id=NA-SkillsNetwork-Channel-SkillsNetworkCoursesIBMDeveloperSkillsNetworkDB0201ENSkillsNetwork20127838-2021-01-01\">Chicago Crime Data</a>\n",
        "\n",
        "### 1. Socioeconomic Indicators in Chicago\n",
        "\n",
        "This dataset contains a selection of six socioeconomic indicators of public health significance and a “hardship index,” for each Chicago community area, for the years 2008 – 2012.\n",
        "\n",
        "A detailed description of this dataset and the original dataset can be obtained from the Chicago Data Portal at:\n",
        "\n",
        "[https://data.cityofchicago.org/Health-Human-Services/Census-Data-Selected-socioeconomic-indicators-in-C/kn9c-c2s2](https://data.cityofchicago.org/Health-Human-Services/Census-Data-Selected-socioeconomic-indicators-in-C/kn9c-c2s2?utm_medium=Exinfluencer&utm_source=Exinfluencer&utm_content=000026UJ&utm_term=10006555&utm_id=NA-SkillsNetwork-Channel-SkillsNetworkCoursesIBMDeveloperSkillsNetworkDB0201ENSkillsNetwork20127838-2021-01-01&cm_mmc=Email_Newsletter-\\_-Developer_Ed%2BTech-\\_-WW_WW-\\_-SkillsNetwork-Courses-IBMDeveloperSkillsNetwork-DB0201EN-SkillsNetwork-20127838&cm_mmca1=000026UJ&cm_mmca2=10006555&cm_mmca3=M12345678&cvosrc=email.Newsletter.M12345678&cvo_campaign=000026UJ)\n",
        "\n",
        "### 2. Chicago Public Schools\n",
        "\n",
        "This dataset shows all school level performance data used to create CPS School Report Cards for the 2011-2012 school year. This dataset is provided by the city of Chicago's Data Portal.\n",
        "\n",
        "A detailed description of this dataset and the original dataset can be obtained from the Chicago Data Portal at:\n",
        "\n",
        "[https://data.cityofchicago.org/Education/Chicago-Public-Schools-Progress-Report-Cards-2011-/9xs2-f89t](https://data.cityofchicago.org/Education/Chicago-Public-Schools-Progress-Report-Cards-2011-/9xs2-f89t?utm_medium=Exinfluencer&utm_source=Exinfluencer&utm_content=000026UJ&utm_term=10006555&utm_id=NA-SkillsNetwork-Channel-SkillsNetworkCoursesIBMDeveloperSkillsNetworkDB0201ENSkillsNetwork20127838-2021-01-01&cm_mmc=Email_Newsletter-\\_-Developer_Ed%2BTech-\\_-WW_WW-\\_-SkillsNetwork-Courses-IBMDeveloperSkillsNetwork-DB0201EN-SkillsNetwork-20127838&cm_mmca1=000026UJ&cm_mmca2=10006555&cm_mmca3=M12345678&cvosrc=email.Newsletter.M12345678&cvo_campaign=000026UJ)\n",
        "\n",
        "### 3. Chicago Crime Data\n",
        "\n",
        "This dataset reflects reported incidents of crime (with the exception of murders where data exists for each victim) that occurred in the City of Chicago from 2001 to present, minus the most recent seven days.\n",
        "\n",
        "A detailed description of this dataset and the original dataset can be obtained from the Chicago Data Portal at:\n",
        "\n",
        "[https://data.cityofchicago.org/Public-Safety/Crimes-2001-to-present/ijzp-q8t2](https://data.cityofchicago.org/Public-Safety/Crimes-2001-to-present/ijzp-q8t2?utm_medium=Exinfluencer&utm_source=Exinfluencer&utm_content=000026UJ&utm_term=10006555&utm_id=NA-SkillsNetwork-Channel-SkillsNetworkCoursesIBMDeveloperSkillsNetworkDB0201ENSkillsNetwork20127838-2021-01-01&cm_mmc=Email_Newsletter-\\_-Developer_Ed%2BTech-\\_-WW_WW-\\_-SkillsNetwork-Courses-IBMDeveloperSkillsNetwork-DB0201EN-SkillsNetwork-20127838&cm_mmca1=000026UJ&cm_mmca2=10006555&cm_mmca3=M12345678&cvosrc=email.Newsletter.M12345678&cvo_campaign=000026UJ)\n"
      ]
    },
    {
      "cell_type": "markdown",
      "metadata": {
        "id": "e327355b-7453-492c-9df8-005c81cd195c"
      },
      "source": [
        "### Download the datasets\n",
        "\n",
        "This assignment requires you to have these three tables populated with a subset of the whole datasets.\n",
        "\n",
        "In many cases the dataset to be analyzed is available as a .CSV (comma separated values) file, perhaps on the internet.\n",
        "\n",
        "Use the links below to read the data files using the Pandas library.\n",
        "\n",
        "* Chicago Census Data\n",
        "\n",
        "https://cf-courses-data.s3.us.cloud-object-storage.appdomain.cloud/IBMDeveloperSkillsNetwork-DB0201EN-SkillsNetwork/labs/FinalModule_Coursera_V5/data/ChicagoCensusData.csv?utm_medium=Exinfluencer&utm_source=Exinfluencer&utm_content=000026UJ&utm_term=10006555&utm_id=NA-SkillsNetwork-Channel-SkillsNetworkCoursesIBMDeveloperSkillsNetworkDB0201ENSkillsNetwork20127838-2021-01-01\n",
        "\n",
        "* Chicago Public Schools\n",
        "\n",
        "https://cf-courses-data.s3.us.cloud-object-storage.appdomain.cloud/IBMDeveloperSkillsNetwork-DB0201EN-SkillsNetwork/labs/FinalModule_Coursera_V5/data/ChicagoPublicSchools.csv?utm_medium=Exinfluencer&utm_source=Exinfluencer&utm_content=000026UJ&utm_term=10006555&utm_id=NA-SkillsNetwork-Channel-SkillsNetworkCoursesIBMDeveloperSkillsNetworkDB0201ENSkillsNetwork20127838-2021-01-01\n",
        "\n",
        "* Chicago Crime Data\n",
        "\n",
        "https://cf-courses-data.s3.us.cloud-object-storage.appdomain.cloud/IBMDeveloperSkillsNetwork-DB0201EN-SkillsNetwork/labs/FinalModule_Coursera_V5/data/ChicagoCrimeData.csv?utm_medium=Exinfluencer&utm_source=Exinfluencer&utm_content=000026UJ&utm_term=10006555&utm_id=NA-SkillsNetwork-Channel-SkillsNetworkCoursesIBMDeveloperSkillsNetworkDB0201ENSkillsNetwork20127838-2021-01-01\n",
        "\n",
        "**NOTE:** Ensure you use the datasets available on the links above instead of directly from the Chicago Data Portal. The versions linked here are subsets of the original datasets and have some of the column names modified to be more database friendly which will make it easier to complete this assignment.\n"
      ]
    },
    {
      "cell_type": "markdown",
      "metadata": {
        "id": "099f4b52-e64d-4e79-a6d4-8e7eecda15cc"
      },
      "source": [
        "### Store the datasets in database tables\n",
        "\n",
        "To analyze the data using SQL, it first needs to be loaded into SQLite DB.\n",
        "We will create three tables in as under:\n",
        "\n",
        "1.  **CENSUS_DATA**\n",
        "2.  **CHICAGO_PUBLIC_SCHOOLS**\n",
        "3.  **CHICAGO_CRIME_DATA**\n"
      ]
    },
    {
      "cell_type": "markdown",
      "metadata": {
        "id": "0108d466-d5cb-47d8-8378-0b701fcf9121"
      },
      "source": [
        "Load the `pandas` and `sqlite3` libraries and establish a connection to `FinalDB.db`\n"
      ]
    },
    {
      "cell_type": "code",
      "metadata": {
        "id": "bbf7c5f8-5369-4888-9523-3256396353b1"
      },
      "outputs": [],
      "source": [
        "import pandas as pd\n",
        "import sqlite3\n",
        "conn = sqlite3.connect('FinalDB.db')\n",
        "cur=conn.cursor()"
      ],
      "execution_count": 3
    },
    {
      "cell_type": "markdown",
      "metadata": {
        "id": "1400004e-b879-49e7-9da1-83c5a1fb4f8d"
      },
      "source": [
        "Load the SQL magic module\n"
      ]
    },
    {
      "cell_type": "code",
      "metadata": {
        "id": "e82e93dc-a427-42fd-8909-ee4979865ba4"
      },
      "outputs": [],
      "source": [
        "%load_ext sql"
      ],
      "execution_count": 2
    },
    {
      "cell_type": "markdown",
      "metadata": {
        "id": "d66c6f31-0c30-4f2c-9749-736f23d77be7"
      },
      "source": [
        "Use `Pandas` to load the data available in the links above to dataframes. Use these dataframes to load data on to the database `FinalDB.db` as required tables.\n"
      ]
    },
    {
      "cell_type": "code",
      "metadata": {
        "colab": {
          "base_uri": "https://localhost:8080/"
        },
        "id": "eb06173b-80d6-4d00-92e2-dda7dfcc2e51",
        "outputId": "5ec45e9d-b4d9-48dc-b691-053222d9df7c"
      },
      "outputs": [
        {
          "output_type": "execute_result",
          "data": {
            "text/plain": [
              "533"
            ]
          },
          "metadata": {},
          "execution_count": 4
        }
      ],
      "source": [
        "CENSUS_DATA=pd.read_csv('ChicagoCensusData.csv')\n",
        "CHICAGO_PUBLIC_SCHOOLS=pd.read_csv('ChicagoPublicSchools.csv')\n",
        "CHICAGO_CRIME_DATA=pd.read_csv('ChicagoCrimeData.csv')\n",
        "\n",
        "CENSUS_DATA.to_sql('CENSUS_DATA',conn,if_exists='replace',index=False,method='multi')\n",
        "CHICAGO_PUBLIC_SCHOOLS.to_sql('CHICAGO_PUBLIC_SCHOOLS',conn,if_exists='replace',index=False,method='multi')\n",
        "CHICAGO_CRIME_DATA.to_sql('CHICAGO_CRIME_DATA',conn,if_exists='replace',index=False,method='multi')\n"
      ],
      "execution_count": 4
    },
    {
      "cell_type": "markdown",
      "metadata": {
        "id": "73eb0e08-4338-4a78-b35f-ff02cb6ba89a"
      },
      "source": [
        "Establish a connection between SQL magic module and the database `FinalDB.db`\n"
      ]
    },
    {
      "cell_type": "code",
      "metadata": {
        "id": "667656c3-e6fc-4ae9-81b3-8085c342705f"
      },
      "outputs": [],
      "source": [
        "%sql sqlite:///FinalDB.db"
      ],
      "execution_count": 6
    },
    {
      "cell_type": "code",
      "source": [
        "# We can do a check to see if the tables are loaded in the final Database\n",
        "%sql SELECT NAME FROM sqlite_master WHERE type='table'"
      ],
      "metadata": {
        "colab": {
          "base_uri": "https://localhost:8080/",
          "height": 137
        },
        "id": "o3kb4NnIUNUX",
        "outputId": "10f3885a-8406-483e-a237-11d2a7a2e9e8"
      },
      "execution_count": 8,
      "outputs": [
        {
          "output_type": "stream",
          "name": "stdout",
          "text": [
            " * sqlite:///FinalDB.db\n",
            "Done.\n"
          ]
        },
        {
          "output_type": "execute_result",
          "data": {
            "text/plain": [
              "[('CENSUS_DATA',), ('CHICAGO_PUBLIC_SCHOOLS',), ('CHICAGO_CRIME_DATA',)]"
            ],
            "text/html": [
              "<table>\n",
              "    <thead>\n",
              "        <tr>\n",
              "            <th>name</th>\n",
              "        </tr>\n",
              "    </thead>\n",
              "    <tbody>\n",
              "        <tr>\n",
              "            <td>CENSUS_DATA</td>\n",
              "        </tr>\n",
              "        <tr>\n",
              "            <td>CHICAGO_PUBLIC_SCHOOLS</td>\n",
              "        </tr>\n",
              "        <tr>\n",
              "            <td>CHICAGO_CRIME_DATA</td>\n",
              "        </tr>\n",
              "    </tbody>\n",
              "</table>"
            ]
          },
          "metadata": {},
          "execution_count": 8
        }
      ]
    },
    {
      "cell_type": "code",
      "source": [
        "# Also let's see the contents of the first five rows\n",
        "%sql SELECT * FROM CENSUS_DATA LIMIT 5"
      ],
      "metadata": {
        "colab": {
          "base_uri": "https://localhost:8080/",
          "height": 199
        },
        "id": "wTIUGRJ8UhN_",
        "outputId": "e52709b6-e7d0-4f50-b111-633cd51c6845"
      },
      "execution_count": 10,
      "outputs": [
        {
          "output_type": "stream",
          "name": "stdout",
          "text": [
            " * sqlite:///FinalDB.db\n",
            "Done.\n"
          ]
        },
        {
          "output_type": "execute_result",
          "data": {
            "text/plain": [
              "[(1.0, 'Rogers Park', 7.7, 23.6, 8.7, 18.2, 27.5, 23939, 39.0),\n",
              " (2.0, 'West Ridge', 7.8, 17.2, 8.8, 20.8, 38.5, 23040, 46.0),\n",
              " (3.0, 'Uptown', 3.8, 24.0, 8.9, 11.8, 22.2, 35787, 20.0),\n",
              " (4.0, 'Lincoln Square', 3.4, 10.9, 8.2, 13.4, 25.5, 37524, 17.0),\n",
              " (5.0, 'North Center', 0.3, 7.5, 5.2, 4.5, 26.2, 57123, 6.0)]"
            ],
            "text/html": [
              "<table>\n",
              "    <thead>\n",
              "        <tr>\n",
              "            <th>COMMUNITY_AREA_NUMBER</th>\n",
              "            <th>COMMUNITY_AREA_NAME</th>\n",
              "            <th>PERCENT_OF_HOUSING_CROWDED</th>\n",
              "            <th>PERCENT_HOUSEHOLDS_BELOW_POVERTY</th>\n",
              "            <th>PERCENT_AGED_16__UNEMPLOYED</th>\n",
              "            <th>PERCENT_AGED_25__WITHOUT_HIGH_SCHOOL_DIPLOMA</th>\n",
              "            <th>PERCENT_AGED_UNDER_18_OR_OVER_64</th>\n",
              "            <th>PER_CAPITA_INCOME</th>\n",
              "            <th>HARDSHIP_INDEX</th>\n",
              "        </tr>\n",
              "    </thead>\n",
              "    <tbody>\n",
              "        <tr>\n",
              "            <td>1.0</td>\n",
              "            <td>Rogers Park</td>\n",
              "            <td>7.7</td>\n",
              "            <td>23.6</td>\n",
              "            <td>8.7</td>\n",
              "            <td>18.2</td>\n",
              "            <td>27.5</td>\n",
              "            <td>23939</td>\n",
              "            <td>39.0</td>\n",
              "        </tr>\n",
              "        <tr>\n",
              "            <td>2.0</td>\n",
              "            <td>West Ridge</td>\n",
              "            <td>7.8</td>\n",
              "            <td>17.2</td>\n",
              "            <td>8.8</td>\n",
              "            <td>20.8</td>\n",
              "            <td>38.5</td>\n",
              "            <td>23040</td>\n",
              "            <td>46.0</td>\n",
              "        </tr>\n",
              "        <tr>\n",
              "            <td>3.0</td>\n",
              "            <td>Uptown</td>\n",
              "            <td>3.8</td>\n",
              "            <td>24.0</td>\n",
              "            <td>8.9</td>\n",
              "            <td>11.8</td>\n",
              "            <td>22.2</td>\n",
              "            <td>35787</td>\n",
              "            <td>20.0</td>\n",
              "        </tr>\n",
              "        <tr>\n",
              "            <td>4.0</td>\n",
              "            <td>Lincoln Square</td>\n",
              "            <td>3.4</td>\n",
              "            <td>10.9</td>\n",
              "            <td>8.2</td>\n",
              "            <td>13.4</td>\n",
              "            <td>25.5</td>\n",
              "            <td>37524</td>\n",
              "            <td>17.0</td>\n",
              "        </tr>\n",
              "        <tr>\n",
              "            <td>5.0</td>\n",
              "            <td>North Center</td>\n",
              "            <td>0.3</td>\n",
              "            <td>7.5</td>\n",
              "            <td>5.2</td>\n",
              "            <td>4.5</td>\n",
              "            <td>26.2</td>\n",
              "            <td>57123</td>\n",
              "            <td>6.0</td>\n",
              "        </tr>\n",
              "    </tbody>\n",
              "</table>"
            ]
          },
          "metadata": {},
          "execution_count": 10
        }
      ]
    },
    {
      "cell_type": "code",
      "source": [
        "%sql SELECT * FROM CHICAGO_PUBLIC_SCHOOLS LIMIT 5"
      ],
      "metadata": {
        "colab": {
          "base_uri": "https://localhost:8080/",
          "height": 459
        },
        "id": "fu3yYVIjUpmM",
        "outputId": "55e12188-6228-42c2-95aa-e63a59fc3387"
      },
      "execution_count": 11,
      "outputs": [
        {
          "output_type": "stream",
          "name": "stdout",
          "text": [
            " * sqlite:///FinalDB.db\n",
            "Done.\n"
          ]
        },
        {
          "output_type": "execute_result",
          "data": {
            "text/plain": [
              "[(610038, 'Abraham Lincoln Elementary School', 'ES', '615 W Kemper Pl', 'Chicago', 'IL', 60614, '(773) 534-5720', 'http://schoolreports.cps.edu/SchoolProgressReport_Eng/Spring2011Eng_610038.pdf', 'Fullerton Elementary Network', 'NORTH-NORTHWEST SIDE COLLABORATIVE', 'No', 'Standard', 'Not on Probation', 'Level 1', 'Yes', 'Very Strong', 99.0, 'Very Strong', '99', 'Strong', 74.0, 'Strong', 66.0, 'Weak', '65', 'Strong', '70', 'Strong', '56', 'Average', '47', '96.00%', 2.0, '96.40%', '95.80%', '80.1', '43.3', '89.6', '84.9', '60.7', '62.6', '81.9', '85.2', '52', '62.4', '66.3', '77.9', 69.7, 64.4, 0.2, 0.9, 'Yellow', 'Green', '67.1', '54.5', 'NDA', 'NDA', 'NDA', 'NDA', 'NDA', 'NDA', 'NDA', 'NDA', 'NDA', 'NDA', 813, 33, 'NDA', 1171699.458, 1915829.428, 41.92449696, -87.64452163, 7, 'LINCOLN PARK', 43, 18, '(41.92449696, -87.64452163)'),\n",
              " (610281, 'Adam Clayton Powell Paideia Community Academy Elementary School', 'ES', '7511 S South Shore Dr', 'Chicago', 'IL', 60649, '(773) 535-6650', 'http://schoolreports.cps.edu/SchoolProgressReport_Eng/Spring2011Eng_610281.pdf', 'Skyway Elementary Network', 'SOUTH SIDE COLLABORATIVE', 'No', 'Track_E', 'Not on Probation', 'Level 1', 'No', 'Average', 54.0, 'Strong', '66', 'Strong', 74.0, 'Very Strong', 84.0, 'Weak', '63', 'Strong', '76', 'Weak', '46', 'Average', '50', '95.60%', 15.7, '95.30%', '100.00%', '62.4', '51.7', '21.9', '15.1', '29', '42.8', '38.5', '27.4', '44.8', '42.7', '14.1', '34.4', 16.8, 16.5, 0.7, 1.4, 'Green', 'Green', '17.2', '27.3', 'NDA', 'NDA', 'NDA', 'NDA', 'NDA', 'NDA', 'NDA', 'NDA', 'NDA', 'NDA', 521, 46, 'NDA', 1196129.985, 1856209.466, 41.76032435, -87.55673627, 43, 'SOUTH SHORE', 7, 4, '(41.76032435, -87.55673627)'),\n",
              " (610185, 'Adlai E Stevenson Elementary School', 'ES', '8010 S Kostner Ave', 'Chicago', 'IL', 60652, '(773) 535-2280', 'http://schoolreports.cps.edu/SchoolProgressReport_Eng/Spring2011Eng_610185.pdf', 'Midway Elementary Network', 'SOUTHWEST SIDE COLLABORATIVE', 'No', 'Standard', 'Not on Probation', 'Level 2', 'No', 'Strong', 61.0, 'NDA', 'NDA', 'Average', 50.0, 'Weak', 36.0, 'Weak', 'NDA', 'NDA', 'NDA', 'Average', '47', 'Weak', '41', '95.70%', 2.3, '94.70%', '98.30%', '53.7', '26.6', '38.3', '34.7', '43.7', '57.3', '48.8', '39.2', '46.8', '44', '7.5', '21.9', 18.3, 15.5, -0.9, -1.0, 'Red', 'Red', 'NDA', 'NDA', 'NDA', 'NDA', 'NDA', 'NDA', 'NDA', 'NDA', 'NDA', 'NDA', 'NDA', 'NDA', 1324, 44, 'NDA', 1148427.165, 1851012.215, 41.74711093, -87.73170248, 70, 'ASHBURN', 13, 8, '(41.74711093, -87.73170248)'),\n",
              " (609993, 'Agustin Lara Elementary Academy', 'ES', '4619 S Wolcott Ave', 'Chicago', 'IL', 60609, '(773) 535-4389', 'http://schoolreports.cps.edu/SchoolProgressReport_Eng/Spring2011Eng_609993.pdf', 'Pershing Elementary Network', 'SOUTHWEST SIDE COLLABORATIVE', 'No', 'Track_E', 'Not on Probation', 'Level 1', 'No', 'Average', 56.0, 'Average', '44', 'Average', 45.0, 'Weak', 37.0, 'Weak', '65', 'Average', '48', 'Average', '53', 'Strong', '58', '95.50%', 10.4, '95.80%', '100.00%', '76.9', 'NDA', '26', '24.7', '61.8', '49.7', '39.2', '27.2', '69.7', '60.6', '9.1', '18.2', 11.1, 9.6, 0.9, 2.4, 'Green', 'Green', '42.9', '25', 'NDA', 'NDA', 'NDA', 'NDA', 'NDA', 'NDA', 'NDA', 'NDA', 'NDA', 'NDA', 556, 42, 'NDA', 1164504.29, 1873959.199, 41.8097569, -87.6721446, 61, 'NEW CITY', 20, 9, '(41.8097569, -87.6721446)'),\n",
              " (610513, 'Air Force Academy High School', 'HS', '3630 S Wells St', 'Chicago', 'IL', 60609, '(773) 535-1590', 'http://schoolreports.cps.edu/SchoolProgressReport_Eng/Spring2011Eng_610513.pdf', 'Southwest Side High School Network', 'SOUTHWEST SIDE COLLABORATIVE', 'NDA', 'Standard', 'Not on Probation', 'Not Enough Data', 'Yes', 'Average', 49.0, 'Strong', '60', 'Strong', 60.0, 'Average', 55.0, 'Weak', '45', 'Average', '54', 'Average', '53', 'Average', '49', '93.30%', 15.6, '96.90%', '100.00%', 'NDA', 'NDA', 'NDA', 'NDA', 'NDA', 'NDA', 'NDA', 'NDA', 'NDA', 'NDA', 'NDA', 'NDA', None, None, None, None, 'NDA', 'NDA', 'NDA', 'NDA', '14.6', '14.8', 'NDA', '16', '1.4', 'NDA', 'NDA', 'NDA', 'NDA', 'NDA', 302, 40, '91.8', 1175177.622, 1880745.126, 41.82814609, -87.63279369, 34, 'ARMOUR SQUARE', 11, 9, '(41.82814609, -87.63279369)')]"
            ],
            "text/html": [
              "<table>\n",
              "    <thead>\n",
              "        <tr>\n",
              "            <th>School_ID</th>\n",
              "            <th>NAME_OF_SCHOOL</th>\n",
              "            <th>Elementary, Middle, or High School</th>\n",
              "            <th>Street_Address</th>\n",
              "            <th>City</th>\n",
              "            <th>State</th>\n",
              "            <th>ZIP_Code</th>\n",
              "            <th>Phone_Number</th>\n",
              "            <th>Link</th>\n",
              "            <th>Network_Manager</th>\n",
              "            <th>Collaborative_Name</th>\n",
              "            <th>Adequate_Yearly_Progress_Made_</th>\n",
              "            <th>Track_Schedule</th>\n",
              "            <th>CPS_Performance_Policy_Status</th>\n",
              "            <th>CPS_Performance_Policy_Level</th>\n",
              "            <th>HEALTHY_SCHOOL_CERTIFIED</th>\n",
              "            <th>Safety_Icon</th>\n",
              "            <th>SAFETY_SCORE</th>\n",
              "            <th>Family_Involvement_Icon</th>\n",
              "            <th>Family_Involvement_Score</th>\n",
              "            <th>Environment_Icon</th>\n",
              "            <th>Environment_Score</th>\n",
              "            <th>Instruction_Icon</th>\n",
              "            <th>Instruction_Score</th>\n",
              "            <th>Leaders_Icon</th>\n",
              "            <th>Leaders_Score</th>\n",
              "            <th>Teachers_Icon</th>\n",
              "            <th>Teachers_Score</th>\n",
              "            <th>Parent_Engagement_Icon</th>\n",
              "            <th>Parent_Engagement_Score</th>\n",
              "            <th>Parent_Environment_Icon</th>\n",
              "            <th>Parent_Environment_Score</th>\n",
              "            <th>AVERAGE_STUDENT_ATTENDANCE</th>\n",
              "            <th>Rate_of_Misconducts__per_100_students_</th>\n",
              "            <th>Average_Teacher_Attendance</th>\n",
              "            <th>Individualized_Education_Program_Compliance_Rate</th>\n",
              "            <th>Pk_2_Literacy__</th>\n",
              "            <th>Pk_2_Math__</th>\n",
              "            <th>Gr3_5_Grade_Level_Math__</th>\n",
              "            <th>Gr3_5_Grade_Level_Read__</th>\n",
              "            <th>Gr3_5_Keep_Pace_Read__</th>\n",
              "            <th>Gr3_5_Keep_Pace_Math__</th>\n",
              "            <th>Gr6_8_Grade_Level_Math__</th>\n",
              "            <th>Gr6_8_Grade_Level_Read__</th>\n",
              "            <th>Gr6_8_Keep_Pace_Math_</th>\n",
              "            <th>Gr6_8_Keep_Pace_Read__</th>\n",
              "            <th>Gr_8_Explore_Math__</th>\n",
              "            <th>Gr_8_Explore_Read__</th>\n",
              "            <th>ISAT_Exceeding_Math__</th>\n",
              "            <th>ISAT_Exceeding_Reading__</th>\n",
              "            <th>ISAT_Value_Add_Math</th>\n",
              "            <th>ISAT_Value_Add_Read</th>\n",
              "            <th>ISAT_Value_Add_Color_Math</th>\n",
              "            <th>ISAT_Value_Add_Color_Read</th>\n",
              "            <th>Students_Taking__Algebra__</th>\n",
              "            <th>Students_Passing__Algebra__</th>\n",
              "            <th>9th Grade EXPLORE (2009)</th>\n",
              "            <th>9th Grade EXPLORE (2010)</th>\n",
              "            <th>10th Grade PLAN (2009)</th>\n",
              "            <th>10th Grade PLAN (2010)</th>\n",
              "            <th>Net_Change_EXPLORE_and_PLAN</th>\n",
              "            <th>11th Grade Average ACT (2011)</th>\n",
              "            <th>Net_Change_PLAN_and_ACT</th>\n",
              "            <th>College_Eligibility__</th>\n",
              "            <th>Graduation_Rate__</th>\n",
              "            <th>College_Enrollment_Rate__</th>\n",
              "            <th>COLLEGE_ENROLLMENT</th>\n",
              "            <th>General_Services_Route</th>\n",
              "            <th>Freshman_on_Track_Rate__</th>\n",
              "            <th>X_COORDINATE</th>\n",
              "            <th>Y_COORDINATE</th>\n",
              "            <th>Latitude</th>\n",
              "            <th>Longitude</th>\n",
              "            <th>COMMUNITY_AREA_NUMBER</th>\n",
              "            <th>COMMUNITY_AREA_NAME</th>\n",
              "            <th>Ward</th>\n",
              "            <th>Police_District</th>\n",
              "            <th>Location</th>\n",
              "        </tr>\n",
              "    </thead>\n",
              "    <tbody>\n",
              "        <tr>\n",
              "            <td>610038</td>\n",
              "            <td>Abraham Lincoln Elementary School</td>\n",
              "            <td>ES</td>\n",
              "            <td>615 W Kemper Pl</td>\n",
              "            <td>Chicago</td>\n",
              "            <td>IL</td>\n",
              "            <td>60614</td>\n",
              "            <td>(773) 534-5720</td>\n",
              "            <td>http://schoolreports.cps.edu/SchoolProgressReport_Eng/Spring2011Eng_610038.pdf</td>\n",
              "            <td>Fullerton Elementary Network</td>\n",
              "            <td>NORTH-NORTHWEST SIDE COLLABORATIVE</td>\n",
              "            <td>No</td>\n",
              "            <td>Standard</td>\n",
              "            <td>Not on Probation</td>\n",
              "            <td>Level 1</td>\n",
              "            <td>Yes</td>\n",
              "            <td>Very Strong</td>\n",
              "            <td>99.0</td>\n",
              "            <td>Very Strong</td>\n",
              "            <td>99</td>\n",
              "            <td>Strong</td>\n",
              "            <td>74.0</td>\n",
              "            <td>Strong</td>\n",
              "            <td>66.0</td>\n",
              "            <td>Weak</td>\n",
              "            <td>65</td>\n",
              "            <td>Strong</td>\n",
              "            <td>70</td>\n",
              "            <td>Strong</td>\n",
              "            <td>56</td>\n",
              "            <td>Average</td>\n",
              "            <td>47</td>\n",
              "            <td>96.00%</td>\n",
              "            <td>2.0</td>\n",
              "            <td>96.40%</td>\n",
              "            <td>95.80%</td>\n",
              "            <td>80.1</td>\n",
              "            <td>43.3</td>\n",
              "            <td>89.6</td>\n",
              "            <td>84.9</td>\n",
              "            <td>60.7</td>\n",
              "            <td>62.6</td>\n",
              "            <td>81.9</td>\n",
              "            <td>85.2</td>\n",
              "            <td>52</td>\n",
              "            <td>62.4</td>\n",
              "            <td>66.3</td>\n",
              "            <td>77.9</td>\n",
              "            <td>69.7</td>\n",
              "            <td>64.4</td>\n",
              "            <td>0.2</td>\n",
              "            <td>0.9</td>\n",
              "            <td>Yellow</td>\n",
              "            <td>Green</td>\n",
              "            <td>67.1</td>\n",
              "            <td>54.5</td>\n",
              "            <td>NDA</td>\n",
              "            <td>NDA</td>\n",
              "            <td>NDA</td>\n",
              "            <td>NDA</td>\n",
              "            <td>NDA</td>\n",
              "            <td>NDA</td>\n",
              "            <td>NDA</td>\n",
              "            <td>NDA</td>\n",
              "            <td>NDA</td>\n",
              "            <td>NDA</td>\n",
              "            <td>813</td>\n",
              "            <td>33</td>\n",
              "            <td>NDA</td>\n",
              "            <td>1171699.458</td>\n",
              "            <td>1915829.428</td>\n",
              "            <td>41.92449696</td>\n",
              "            <td>-87.64452163</td>\n",
              "            <td>7</td>\n",
              "            <td>LINCOLN PARK</td>\n",
              "            <td>43</td>\n",
              "            <td>18</td>\n",
              "            <td>(41.92449696, -87.64452163)</td>\n",
              "        </tr>\n",
              "        <tr>\n",
              "            <td>610281</td>\n",
              "            <td>Adam Clayton Powell Paideia Community Academy Elementary School</td>\n",
              "            <td>ES</td>\n",
              "            <td>7511 S South Shore Dr</td>\n",
              "            <td>Chicago</td>\n",
              "            <td>IL</td>\n",
              "            <td>60649</td>\n",
              "            <td>(773) 535-6650</td>\n",
              "            <td>http://schoolreports.cps.edu/SchoolProgressReport_Eng/Spring2011Eng_610281.pdf</td>\n",
              "            <td>Skyway Elementary Network</td>\n",
              "            <td>SOUTH SIDE COLLABORATIVE</td>\n",
              "            <td>No</td>\n",
              "            <td>Track_E</td>\n",
              "            <td>Not on Probation</td>\n",
              "            <td>Level 1</td>\n",
              "            <td>No</td>\n",
              "            <td>Average</td>\n",
              "            <td>54.0</td>\n",
              "            <td>Strong</td>\n",
              "            <td>66</td>\n",
              "            <td>Strong</td>\n",
              "            <td>74.0</td>\n",
              "            <td>Very Strong</td>\n",
              "            <td>84.0</td>\n",
              "            <td>Weak</td>\n",
              "            <td>63</td>\n",
              "            <td>Strong</td>\n",
              "            <td>76</td>\n",
              "            <td>Weak</td>\n",
              "            <td>46</td>\n",
              "            <td>Average</td>\n",
              "            <td>50</td>\n",
              "            <td>95.60%</td>\n",
              "            <td>15.7</td>\n",
              "            <td>95.30%</td>\n",
              "            <td>100.00%</td>\n",
              "            <td>62.4</td>\n",
              "            <td>51.7</td>\n",
              "            <td>21.9</td>\n",
              "            <td>15.1</td>\n",
              "            <td>29</td>\n",
              "            <td>42.8</td>\n",
              "            <td>38.5</td>\n",
              "            <td>27.4</td>\n",
              "            <td>44.8</td>\n",
              "            <td>42.7</td>\n",
              "            <td>14.1</td>\n",
              "            <td>34.4</td>\n",
              "            <td>16.8</td>\n",
              "            <td>16.5</td>\n",
              "            <td>0.7</td>\n",
              "            <td>1.4</td>\n",
              "            <td>Green</td>\n",
              "            <td>Green</td>\n",
              "            <td>17.2</td>\n",
              "            <td>27.3</td>\n",
              "            <td>NDA</td>\n",
              "            <td>NDA</td>\n",
              "            <td>NDA</td>\n",
              "            <td>NDA</td>\n",
              "            <td>NDA</td>\n",
              "            <td>NDA</td>\n",
              "            <td>NDA</td>\n",
              "            <td>NDA</td>\n",
              "            <td>NDA</td>\n",
              "            <td>NDA</td>\n",
              "            <td>521</td>\n",
              "            <td>46</td>\n",
              "            <td>NDA</td>\n",
              "            <td>1196129.985</td>\n",
              "            <td>1856209.466</td>\n",
              "            <td>41.76032435</td>\n",
              "            <td>-87.55673627</td>\n",
              "            <td>43</td>\n",
              "            <td>SOUTH SHORE</td>\n",
              "            <td>7</td>\n",
              "            <td>4</td>\n",
              "            <td>(41.76032435, -87.55673627)</td>\n",
              "        </tr>\n",
              "        <tr>\n",
              "            <td>610185</td>\n",
              "            <td>Adlai E Stevenson Elementary School</td>\n",
              "            <td>ES</td>\n",
              "            <td>8010 S Kostner Ave</td>\n",
              "            <td>Chicago</td>\n",
              "            <td>IL</td>\n",
              "            <td>60652</td>\n",
              "            <td>(773) 535-2280</td>\n",
              "            <td>http://schoolreports.cps.edu/SchoolProgressReport_Eng/Spring2011Eng_610185.pdf</td>\n",
              "            <td>Midway Elementary Network</td>\n",
              "            <td>SOUTHWEST SIDE COLLABORATIVE</td>\n",
              "            <td>No</td>\n",
              "            <td>Standard</td>\n",
              "            <td>Not on Probation</td>\n",
              "            <td>Level 2</td>\n",
              "            <td>No</td>\n",
              "            <td>Strong</td>\n",
              "            <td>61.0</td>\n",
              "            <td>NDA</td>\n",
              "            <td>NDA</td>\n",
              "            <td>Average</td>\n",
              "            <td>50.0</td>\n",
              "            <td>Weak</td>\n",
              "            <td>36.0</td>\n",
              "            <td>Weak</td>\n",
              "            <td>NDA</td>\n",
              "            <td>NDA</td>\n",
              "            <td>NDA</td>\n",
              "            <td>Average</td>\n",
              "            <td>47</td>\n",
              "            <td>Weak</td>\n",
              "            <td>41</td>\n",
              "            <td>95.70%</td>\n",
              "            <td>2.3</td>\n",
              "            <td>94.70%</td>\n",
              "            <td>98.30%</td>\n",
              "            <td>53.7</td>\n",
              "            <td>26.6</td>\n",
              "            <td>38.3</td>\n",
              "            <td>34.7</td>\n",
              "            <td>43.7</td>\n",
              "            <td>57.3</td>\n",
              "            <td>48.8</td>\n",
              "            <td>39.2</td>\n",
              "            <td>46.8</td>\n",
              "            <td>44</td>\n",
              "            <td>7.5</td>\n",
              "            <td>21.9</td>\n",
              "            <td>18.3</td>\n",
              "            <td>15.5</td>\n",
              "            <td>-0.9</td>\n",
              "            <td>-1.0</td>\n",
              "            <td>Red</td>\n",
              "            <td>Red</td>\n",
              "            <td>NDA</td>\n",
              "            <td>NDA</td>\n",
              "            <td>NDA</td>\n",
              "            <td>NDA</td>\n",
              "            <td>NDA</td>\n",
              "            <td>NDA</td>\n",
              "            <td>NDA</td>\n",
              "            <td>NDA</td>\n",
              "            <td>NDA</td>\n",
              "            <td>NDA</td>\n",
              "            <td>NDA</td>\n",
              "            <td>NDA</td>\n",
              "            <td>1324</td>\n",
              "            <td>44</td>\n",
              "            <td>NDA</td>\n",
              "            <td>1148427.165</td>\n",
              "            <td>1851012.215</td>\n",
              "            <td>41.74711093</td>\n",
              "            <td>-87.73170248</td>\n",
              "            <td>70</td>\n",
              "            <td>ASHBURN</td>\n",
              "            <td>13</td>\n",
              "            <td>8</td>\n",
              "            <td>(41.74711093, -87.73170248)</td>\n",
              "        </tr>\n",
              "        <tr>\n",
              "            <td>609993</td>\n",
              "            <td>Agustin Lara Elementary Academy</td>\n",
              "            <td>ES</td>\n",
              "            <td>4619 S Wolcott Ave</td>\n",
              "            <td>Chicago</td>\n",
              "            <td>IL</td>\n",
              "            <td>60609</td>\n",
              "            <td>(773) 535-4389</td>\n",
              "            <td>http://schoolreports.cps.edu/SchoolProgressReport_Eng/Spring2011Eng_609993.pdf</td>\n",
              "            <td>Pershing Elementary Network</td>\n",
              "            <td>SOUTHWEST SIDE COLLABORATIVE</td>\n",
              "            <td>No</td>\n",
              "            <td>Track_E</td>\n",
              "            <td>Not on Probation</td>\n",
              "            <td>Level 1</td>\n",
              "            <td>No</td>\n",
              "            <td>Average</td>\n",
              "            <td>56.0</td>\n",
              "            <td>Average</td>\n",
              "            <td>44</td>\n",
              "            <td>Average</td>\n",
              "            <td>45.0</td>\n",
              "            <td>Weak</td>\n",
              "            <td>37.0</td>\n",
              "            <td>Weak</td>\n",
              "            <td>65</td>\n",
              "            <td>Average</td>\n",
              "            <td>48</td>\n",
              "            <td>Average</td>\n",
              "            <td>53</td>\n",
              "            <td>Strong</td>\n",
              "            <td>58</td>\n",
              "            <td>95.50%</td>\n",
              "            <td>10.4</td>\n",
              "            <td>95.80%</td>\n",
              "            <td>100.00%</td>\n",
              "            <td>76.9</td>\n",
              "            <td>NDA</td>\n",
              "            <td>26</td>\n",
              "            <td>24.7</td>\n",
              "            <td>61.8</td>\n",
              "            <td>49.7</td>\n",
              "            <td>39.2</td>\n",
              "            <td>27.2</td>\n",
              "            <td>69.7</td>\n",
              "            <td>60.6</td>\n",
              "            <td>9.1</td>\n",
              "            <td>18.2</td>\n",
              "            <td>11.1</td>\n",
              "            <td>9.6</td>\n",
              "            <td>0.9</td>\n",
              "            <td>2.4</td>\n",
              "            <td>Green</td>\n",
              "            <td>Green</td>\n",
              "            <td>42.9</td>\n",
              "            <td>25</td>\n",
              "            <td>NDA</td>\n",
              "            <td>NDA</td>\n",
              "            <td>NDA</td>\n",
              "            <td>NDA</td>\n",
              "            <td>NDA</td>\n",
              "            <td>NDA</td>\n",
              "            <td>NDA</td>\n",
              "            <td>NDA</td>\n",
              "            <td>NDA</td>\n",
              "            <td>NDA</td>\n",
              "            <td>556</td>\n",
              "            <td>42</td>\n",
              "            <td>NDA</td>\n",
              "            <td>1164504.29</td>\n",
              "            <td>1873959.199</td>\n",
              "            <td>41.8097569</td>\n",
              "            <td>-87.6721446</td>\n",
              "            <td>61</td>\n",
              "            <td>NEW CITY</td>\n",
              "            <td>20</td>\n",
              "            <td>9</td>\n",
              "            <td>(41.8097569, -87.6721446)</td>\n",
              "        </tr>\n",
              "        <tr>\n",
              "            <td>610513</td>\n",
              "            <td>Air Force Academy High School</td>\n",
              "            <td>HS</td>\n",
              "            <td>3630 S Wells St</td>\n",
              "            <td>Chicago</td>\n",
              "            <td>IL</td>\n",
              "            <td>60609</td>\n",
              "            <td>(773) 535-1590</td>\n",
              "            <td>http://schoolreports.cps.edu/SchoolProgressReport_Eng/Spring2011Eng_610513.pdf</td>\n",
              "            <td>Southwest Side High School Network</td>\n",
              "            <td>SOUTHWEST SIDE COLLABORATIVE</td>\n",
              "            <td>NDA</td>\n",
              "            <td>Standard</td>\n",
              "            <td>Not on Probation</td>\n",
              "            <td>Not Enough Data</td>\n",
              "            <td>Yes</td>\n",
              "            <td>Average</td>\n",
              "            <td>49.0</td>\n",
              "            <td>Strong</td>\n",
              "            <td>60</td>\n",
              "            <td>Strong</td>\n",
              "            <td>60.0</td>\n",
              "            <td>Average</td>\n",
              "            <td>55.0</td>\n",
              "            <td>Weak</td>\n",
              "            <td>45</td>\n",
              "            <td>Average</td>\n",
              "            <td>54</td>\n",
              "            <td>Average</td>\n",
              "            <td>53</td>\n",
              "            <td>Average</td>\n",
              "            <td>49</td>\n",
              "            <td>93.30%</td>\n",
              "            <td>15.6</td>\n",
              "            <td>96.90%</td>\n",
              "            <td>100.00%</td>\n",
              "            <td>NDA</td>\n",
              "            <td>NDA</td>\n",
              "            <td>NDA</td>\n",
              "            <td>NDA</td>\n",
              "            <td>NDA</td>\n",
              "            <td>NDA</td>\n",
              "            <td>NDA</td>\n",
              "            <td>NDA</td>\n",
              "            <td>NDA</td>\n",
              "            <td>NDA</td>\n",
              "            <td>NDA</td>\n",
              "            <td>NDA</td>\n",
              "            <td>None</td>\n",
              "            <td>None</td>\n",
              "            <td>None</td>\n",
              "            <td>None</td>\n",
              "            <td>NDA</td>\n",
              "            <td>NDA</td>\n",
              "            <td>NDA</td>\n",
              "            <td>NDA</td>\n",
              "            <td>14.6</td>\n",
              "            <td>14.8</td>\n",
              "            <td>NDA</td>\n",
              "            <td>16</td>\n",
              "            <td>1.4</td>\n",
              "            <td>NDA</td>\n",
              "            <td>NDA</td>\n",
              "            <td>NDA</td>\n",
              "            <td>NDA</td>\n",
              "            <td>NDA</td>\n",
              "            <td>302</td>\n",
              "            <td>40</td>\n",
              "            <td>91.8</td>\n",
              "            <td>1175177.622</td>\n",
              "            <td>1880745.126</td>\n",
              "            <td>41.82814609</td>\n",
              "            <td>-87.63279369</td>\n",
              "            <td>34</td>\n",
              "            <td>ARMOUR SQUARE</td>\n",
              "            <td>11</td>\n",
              "            <td>9</td>\n",
              "            <td>(41.82814609, -87.63279369)</td>\n",
              "        </tr>\n",
              "    </tbody>\n",
              "</table>"
            ]
          },
          "metadata": {},
          "execution_count": 11
        }
      ]
    },
    {
      "cell_type": "code",
      "source": [
        "%sql SELECT * FROM CHICAGO_CRIME_DATA LIMIT 5"
      ],
      "metadata": {
        "colab": {
          "base_uri": "https://localhost:8080/",
          "height": 355
        },
        "id": "7GHODDRKUw5J",
        "outputId": "397a96f0-c7e6-41e1-d964-c06103a3df1b"
      },
      "execution_count": 12,
      "outputs": [
        {
          "output_type": "stream",
          "name": "stdout",
          "text": [
            " * sqlite:///FinalDB.db\n",
            "Done.\n"
          ]
        },
        {
          "output_type": "execute_result",
          "data": {
            "text/plain": [
              "[(3512276, 'HK587712', '2004-08-28', '047XX S KEDZIE AVE', '890', 'THEFT', 'FROM BUILDING', 'SMALL RETAIL STORE', 0, 0, 911, 9, 14.0, 58.0, '6', 1155838.0, 1873050.0, 2004, 41.8074405, -87.70395585, '(41.8074405, -87.703955849)'),\n",
              " (3406613, 'HK456306', '2004-06-26', '009XX N CENTRAL PARK AVE', '820', 'THEFT', '$500 AND UNDER', 'OTHER', 0, 0, 1112, 11, 27.0, 23.0, '6', 1152206.0, 1906127.0, 2004, 41.89827996, -87.71640551, '(41.898279962, -87.716405505)'),\n",
              " (8002131, 'HT233595', '2011-04-04', '043XX S WABASH AVE', '820', 'THEFT', '$500 AND UNDER', 'NURSING HOME/RETIREMENT HOME', 0, 0, 221, 2, 3.0, 38.0, '6', 1177436.0, 1876313.0, 2011, 41.81593313, -87.62464213, '(41.815933131, -87.624642127)'),\n",
              " (7903289, 'HT133522', '2010-12-30', '083XX S KINGSTON AVE', '840', 'THEFT', 'FINANCIAL ID THEFT: OVER $300', 'RESIDENCE', 0, 0, 423, 4, 7.0, 46.0, '6', 1194622.0, 1850125.0, 2010, 41.74366532, -87.56246276, '(41.743665322, -87.562462756)'),\n",
              " (10402076, 'HZ138551', '2016-02-02', '033XX W 66TH ST', '820', 'THEFT', '$500 AND UNDER', 'ALLEY', 0, 0, 831, 8, 15.0, 66.0, '6', 1155240.0, 1860661.0, 2016, 41.7734553, -87.70648047, '(41.773455295, -87.706480471)')]"
            ],
            "text/html": [
              "<table>\n",
              "    <thead>\n",
              "        <tr>\n",
              "            <th>ID</th>\n",
              "            <th>CASE_NUMBER</th>\n",
              "            <th>DATE</th>\n",
              "            <th>BLOCK</th>\n",
              "            <th>IUCR</th>\n",
              "            <th>PRIMARY_TYPE</th>\n",
              "            <th>DESCRIPTION</th>\n",
              "            <th>LOCATION_DESCRIPTION</th>\n",
              "            <th>ARREST</th>\n",
              "            <th>DOMESTIC</th>\n",
              "            <th>BEAT</th>\n",
              "            <th>DISTRICT</th>\n",
              "            <th>WARD</th>\n",
              "            <th>COMMUNITY_AREA_NUMBER</th>\n",
              "            <th>FBICODE</th>\n",
              "            <th>X_COORDINATE</th>\n",
              "            <th>Y_COORDINATE</th>\n",
              "            <th>YEAR</th>\n",
              "            <th>LATITUDE</th>\n",
              "            <th>LONGITUDE</th>\n",
              "            <th>LOCATION</th>\n",
              "        </tr>\n",
              "    </thead>\n",
              "    <tbody>\n",
              "        <tr>\n",
              "            <td>3512276</td>\n",
              "            <td>HK587712</td>\n",
              "            <td>2004-08-28</td>\n",
              "            <td>047XX S KEDZIE AVE</td>\n",
              "            <td>890</td>\n",
              "            <td>THEFT</td>\n",
              "            <td>FROM BUILDING</td>\n",
              "            <td>SMALL RETAIL STORE</td>\n",
              "            <td>0</td>\n",
              "            <td>0</td>\n",
              "            <td>911</td>\n",
              "            <td>9</td>\n",
              "            <td>14.0</td>\n",
              "            <td>58.0</td>\n",
              "            <td>6</td>\n",
              "            <td>1155838.0</td>\n",
              "            <td>1873050.0</td>\n",
              "            <td>2004</td>\n",
              "            <td>41.8074405</td>\n",
              "            <td>-87.70395585</td>\n",
              "            <td>(41.8074405, -87.703955849)</td>\n",
              "        </tr>\n",
              "        <tr>\n",
              "            <td>3406613</td>\n",
              "            <td>HK456306</td>\n",
              "            <td>2004-06-26</td>\n",
              "            <td>009XX N CENTRAL PARK AVE</td>\n",
              "            <td>820</td>\n",
              "            <td>THEFT</td>\n",
              "            <td>$500 AND UNDER</td>\n",
              "            <td>OTHER</td>\n",
              "            <td>0</td>\n",
              "            <td>0</td>\n",
              "            <td>1112</td>\n",
              "            <td>11</td>\n",
              "            <td>27.0</td>\n",
              "            <td>23.0</td>\n",
              "            <td>6</td>\n",
              "            <td>1152206.0</td>\n",
              "            <td>1906127.0</td>\n",
              "            <td>2004</td>\n",
              "            <td>41.89827996</td>\n",
              "            <td>-87.71640551</td>\n",
              "            <td>(41.898279962, -87.716405505)</td>\n",
              "        </tr>\n",
              "        <tr>\n",
              "            <td>8002131</td>\n",
              "            <td>HT233595</td>\n",
              "            <td>2011-04-04</td>\n",
              "            <td>043XX S WABASH AVE</td>\n",
              "            <td>820</td>\n",
              "            <td>THEFT</td>\n",
              "            <td>$500 AND UNDER</td>\n",
              "            <td>NURSING HOME/RETIREMENT HOME</td>\n",
              "            <td>0</td>\n",
              "            <td>0</td>\n",
              "            <td>221</td>\n",
              "            <td>2</td>\n",
              "            <td>3.0</td>\n",
              "            <td>38.0</td>\n",
              "            <td>6</td>\n",
              "            <td>1177436.0</td>\n",
              "            <td>1876313.0</td>\n",
              "            <td>2011</td>\n",
              "            <td>41.81593313</td>\n",
              "            <td>-87.62464213</td>\n",
              "            <td>(41.815933131, -87.624642127)</td>\n",
              "        </tr>\n",
              "        <tr>\n",
              "            <td>7903289</td>\n",
              "            <td>HT133522</td>\n",
              "            <td>2010-12-30</td>\n",
              "            <td>083XX S KINGSTON AVE</td>\n",
              "            <td>840</td>\n",
              "            <td>THEFT</td>\n",
              "            <td>FINANCIAL ID THEFT: OVER $300</td>\n",
              "            <td>RESIDENCE</td>\n",
              "            <td>0</td>\n",
              "            <td>0</td>\n",
              "            <td>423</td>\n",
              "            <td>4</td>\n",
              "            <td>7.0</td>\n",
              "            <td>46.0</td>\n",
              "            <td>6</td>\n",
              "            <td>1194622.0</td>\n",
              "            <td>1850125.0</td>\n",
              "            <td>2010</td>\n",
              "            <td>41.74366532</td>\n",
              "            <td>-87.56246276</td>\n",
              "            <td>(41.743665322, -87.562462756)</td>\n",
              "        </tr>\n",
              "        <tr>\n",
              "            <td>10402076</td>\n",
              "            <td>HZ138551</td>\n",
              "            <td>2016-02-02</td>\n",
              "            <td>033XX W 66TH ST</td>\n",
              "            <td>820</td>\n",
              "            <td>THEFT</td>\n",
              "            <td>$500 AND UNDER</td>\n",
              "            <td>ALLEY</td>\n",
              "            <td>0</td>\n",
              "            <td>0</td>\n",
              "            <td>831</td>\n",
              "            <td>8</td>\n",
              "            <td>15.0</td>\n",
              "            <td>66.0</td>\n",
              "            <td>6</td>\n",
              "            <td>1155240.0</td>\n",
              "            <td>1860661.0</td>\n",
              "            <td>2016</td>\n",
              "            <td>41.7734553</td>\n",
              "            <td>-87.70648047</td>\n",
              "            <td>(41.773455295, -87.706480471)</td>\n",
              "        </tr>\n",
              "    </tbody>\n",
              "</table>"
            ]
          },
          "metadata": {},
          "execution_count": 12
        }
      ]
    },
    {
      "cell_type": "code",
      "source": [
        "# Here I did something similar but with the dataframe as it is esier to read the column headers\n",
        "CENSUS_DATA.head()"
      ],
      "metadata": {
        "colab": {
          "base_uri": "https://localhost:8080/",
          "height": 226
        },
        "id": "y1pB79N9VTyx",
        "outputId": "0af3396a-c3f4-42e6-e0fd-177000ebc74b"
      },
      "execution_count": 16,
      "outputs": [
        {
          "output_type": "execute_result",
          "data": {
            "text/plain": [
              "   COMMUNITY_AREA_NUMBER COMMUNITY_AREA_NAME  PERCENT_OF_HOUSING_CROWDED  \\\n",
              "0                    1.0         Rogers Park                         7.7   \n",
              "1                    2.0          West Ridge                         7.8   \n",
              "2                    3.0              Uptown                         3.8   \n",
              "3                    4.0      Lincoln Square                         3.4   \n",
              "4                    5.0        North Center                         0.3   \n",
              "\n",
              "   PERCENT_HOUSEHOLDS_BELOW_POVERTY  PERCENT_AGED_16__UNEMPLOYED  \\\n",
              "0                              23.6                          8.7   \n",
              "1                              17.2                          8.8   \n",
              "2                              24.0                          8.9   \n",
              "3                              10.9                          8.2   \n",
              "4                               7.5                          5.2   \n",
              "\n",
              "   PERCENT_AGED_25__WITHOUT_HIGH_SCHOOL_DIPLOMA  \\\n",
              "0                                          18.2   \n",
              "1                                          20.8   \n",
              "2                                          11.8   \n",
              "3                                          13.4   \n",
              "4                                           4.5   \n",
              "\n",
              "   PERCENT_AGED_UNDER_18_OR_OVER_64  PER_CAPITA_INCOME  HARDSHIP_INDEX  \n",
              "0                              27.5              23939            39.0  \n",
              "1                              38.5              23040            46.0  \n",
              "2                              22.2              35787            20.0  \n",
              "3                              25.5              37524            17.0  \n",
              "4                              26.2              57123             6.0  "
            ],
            "text/html": [
              "\n",
              "  <div id=\"df-196991ae-32be-4f81-85a1-d6d615e08ede\" class=\"colab-df-container\">\n",
              "    <div>\n",
              "<style scoped>\n",
              "    .dataframe tbody tr th:only-of-type {\n",
              "        vertical-align: middle;\n",
              "    }\n",
              "\n",
              "    .dataframe tbody tr th {\n",
              "        vertical-align: top;\n",
              "    }\n",
              "\n",
              "    .dataframe thead th {\n",
              "        text-align: right;\n",
              "    }\n",
              "</style>\n",
              "<table border=\"1\" class=\"dataframe\">\n",
              "  <thead>\n",
              "    <tr style=\"text-align: right;\">\n",
              "      <th></th>\n",
              "      <th>COMMUNITY_AREA_NUMBER</th>\n",
              "      <th>COMMUNITY_AREA_NAME</th>\n",
              "      <th>PERCENT_OF_HOUSING_CROWDED</th>\n",
              "      <th>PERCENT_HOUSEHOLDS_BELOW_POVERTY</th>\n",
              "      <th>PERCENT_AGED_16__UNEMPLOYED</th>\n",
              "      <th>PERCENT_AGED_25__WITHOUT_HIGH_SCHOOL_DIPLOMA</th>\n",
              "      <th>PERCENT_AGED_UNDER_18_OR_OVER_64</th>\n",
              "      <th>PER_CAPITA_INCOME</th>\n",
              "      <th>HARDSHIP_INDEX</th>\n",
              "    </tr>\n",
              "  </thead>\n",
              "  <tbody>\n",
              "    <tr>\n",
              "      <th>0</th>\n",
              "      <td>1.0</td>\n",
              "      <td>Rogers Park</td>\n",
              "      <td>7.7</td>\n",
              "      <td>23.6</td>\n",
              "      <td>8.7</td>\n",
              "      <td>18.2</td>\n",
              "      <td>27.5</td>\n",
              "      <td>23939</td>\n",
              "      <td>39.0</td>\n",
              "    </tr>\n",
              "    <tr>\n",
              "      <th>1</th>\n",
              "      <td>2.0</td>\n",
              "      <td>West Ridge</td>\n",
              "      <td>7.8</td>\n",
              "      <td>17.2</td>\n",
              "      <td>8.8</td>\n",
              "      <td>20.8</td>\n",
              "      <td>38.5</td>\n",
              "      <td>23040</td>\n",
              "      <td>46.0</td>\n",
              "    </tr>\n",
              "    <tr>\n",
              "      <th>2</th>\n",
              "      <td>3.0</td>\n",
              "      <td>Uptown</td>\n",
              "      <td>3.8</td>\n",
              "      <td>24.0</td>\n",
              "      <td>8.9</td>\n",
              "      <td>11.8</td>\n",
              "      <td>22.2</td>\n",
              "      <td>35787</td>\n",
              "      <td>20.0</td>\n",
              "    </tr>\n",
              "    <tr>\n",
              "      <th>3</th>\n",
              "      <td>4.0</td>\n",
              "      <td>Lincoln Square</td>\n",
              "      <td>3.4</td>\n",
              "      <td>10.9</td>\n",
              "      <td>8.2</td>\n",
              "      <td>13.4</td>\n",
              "      <td>25.5</td>\n",
              "      <td>37524</td>\n",
              "      <td>17.0</td>\n",
              "    </tr>\n",
              "    <tr>\n",
              "      <th>4</th>\n",
              "      <td>5.0</td>\n",
              "      <td>North Center</td>\n",
              "      <td>0.3</td>\n",
              "      <td>7.5</td>\n",
              "      <td>5.2</td>\n",
              "      <td>4.5</td>\n",
              "      <td>26.2</td>\n",
              "      <td>57123</td>\n",
              "      <td>6.0</td>\n",
              "    </tr>\n",
              "  </tbody>\n",
              "</table>\n",
              "</div>\n",
              "    <div class=\"colab-df-buttons\">\n",
              "\n",
              "  <div class=\"colab-df-container\">\n",
              "    <button class=\"colab-df-convert\" onclick=\"convertToInteractive('df-196991ae-32be-4f81-85a1-d6d615e08ede')\"\n",
              "            title=\"Convert this dataframe to an interactive table.\"\n",
              "            style=\"display:none;\">\n",
              "\n",
              "  <svg xmlns=\"http://www.w3.org/2000/svg\" height=\"24px\" viewBox=\"0 -960 960 960\">\n",
              "    <path d=\"M120-120v-720h720v720H120Zm60-500h600v-160H180v160Zm220 220h160v-160H400v160Zm0 220h160v-160H400v160ZM180-400h160v-160H180v160Zm440 0h160v-160H620v160ZM180-180h160v-160H180v160Zm440 0h160v-160H620v160Z\"/>\n",
              "  </svg>\n",
              "    </button>\n",
              "\n",
              "  <style>\n",
              "    .colab-df-container {\n",
              "      display:flex;\n",
              "      gap: 12px;\n",
              "    }\n",
              "\n",
              "    .colab-df-convert {\n",
              "      background-color: #E8F0FE;\n",
              "      border: none;\n",
              "      border-radius: 50%;\n",
              "      cursor: pointer;\n",
              "      display: none;\n",
              "      fill: #1967D2;\n",
              "      height: 32px;\n",
              "      padding: 0 0 0 0;\n",
              "      width: 32px;\n",
              "    }\n",
              "\n",
              "    .colab-df-convert:hover {\n",
              "      background-color: #E2EBFA;\n",
              "      box-shadow: 0px 1px 2px rgba(60, 64, 67, 0.3), 0px 1px 3px 1px rgba(60, 64, 67, 0.15);\n",
              "      fill: #174EA6;\n",
              "    }\n",
              "\n",
              "    .colab-df-buttons div {\n",
              "      margin-bottom: 4px;\n",
              "    }\n",
              "\n",
              "    [theme=dark] .colab-df-convert {\n",
              "      background-color: #3B4455;\n",
              "      fill: #D2E3FC;\n",
              "    }\n",
              "\n",
              "    [theme=dark] .colab-df-convert:hover {\n",
              "      background-color: #434B5C;\n",
              "      box-shadow: 0px 1px 3px 1px rgba(0, 0, 0, 0.15);\n",
              "      filter: drop-shadow(0px 1px 2px rgba(0, 0, 0, 0.3));\n",
              "      fill: #FFFFFF;\n",
              "    }\n",
              "  </style>\n",
              "\n",
              "    <script>\n",
              "      const buttonEl =\n",
              "        document.querySelector('#df-196991ae-32be-4f81-85a1-d6d615e08ede button.colab-df-convert');\n",
              "      buttonEl.style.display =\n",
              "        google.colab.kernel.accessAllowed ? 'block' : 'none';\n",
              "\n",
              "      async function convertToInteractive(key) {\n",
              "        const element = document.querySelector('#df-196991ae-32be-4f81-85a1-d6d615e08ede');\n",
              "        const dataTable =\n",
              "          await google.colab.kernel.invokeFunction('convertToInteractive',\n",
              "                                                    [key], {});\n",
              "        if (!dataTable) return;\n",
              "\n",
              "        const docLinkHtml = 'Like what you see? Visit the ' +\n",
              "          '<a target=\"_blank\" href=https://colab.research.google.com/notebooks/data_table.ipynb>data table notebook</a>'\n",
              "          + ' to learn more about interactive tables.';\n",
              "        element.innerHTML = '';\n",
              "        dataTable['output_type'] = 'display_data';\n",
              "        await google.colab.output.renderOutput(dataTable, element);\n",
              "        const docLink = document.createElement('div');\n",
              "        docLink.innerHTML = docLinkHtml;\n",
              "        element.appendChild(docLink);\n",
              "      }\n",
              "    </script>\n",
              "  </div>\n",
              "\n",
              "\n",
              "<div id=\"df-2c1c2d79-0b6f-4aa8-949c-03471cbbde21\">\n",
              "  <button class=\"colab-df-quickchart\" onclick=\"quickchart('df-2c1c2d79-0b6f-4aa8-949c-03471cbbde21')\"\n",
              "            title=\"Suggest charts\"\n",
              "            style=\"display:none;\">\n",
              "\n",
              "<svg xmlns=\"http://www.w3.org/2000/svg\" height=\"24px\"viewBox=\"0 0 24 24\"\n",
              "     width=\"24px\">\n",
              "    <g>\n",
              "        <path d=\"M19 3H5c-1.1 0-2 .9-2 2v14c0 1.1.9 2 2 2h14c1.1 0 2-.9 2-2V5c0-1.1-.9-2-2-2zM9 17H7v-7h2v7zm4 0h-2V7h2v10zm4 0h-2v-4h2v4z\"/>\n",
              "    </g>\n",
              "</svg>\n",
              "  </button>\n",
              "\n",
              "<style>\n",
              "  .colab-df-quickchart {\n",
              "      --bg-color: #E8F0FE;\n",
              "      --fill-color: #1967D2;\n",
              "      --hover-bg-color: #E2EBFA;\n",
              "      --hover-fill-color: #174EA6;\n",
              "      --disabled-fill-color: #AAA;\n",
              "      --disabled-bg-color: #DDD;\n",
              "  }\n",
              "\n",
              "  [theme=dark] .colab-df-quickchart {\n",
              "      --bg-color: #3B4455;\n",
              "      --fill-color: #D2E3FC;\n",
              "      --hover-bg-color: #434B5C;\n",
              "      --hover-fill-color: #FFFFFF;\n",
              "      --disabled-bg-color: #3B4455;\n",
              "      --disabled-fill-color: #666;\n",
              "  }\n",
              "\n",
              "  .colab-df-quickchart {\n",
              "    background-color: var(--bg-color);\n",
              "    border: none;\n",
              "    border-radius: 50%;\n",
              "    cursor: pointer;\n",
              "    display: none;\n",
              "    fill: var(--fill-color);\n",
              "    height: 32px;\n",
              "    padding: 0;\n",
              "    width: 32px;\n",
              "  }\n",
              "\n",
              "  .colab-df-quickchart:hover {\n",
              "    background-color: var(--hover-bg-color);\n",
              "    box-shadow: 0 1px 2px rgba(60, 64, 67, 0.3), 0 1px 3px 1px rgba(60, 64, 67, 0.15);\n",
              "    fill: var(--button-hover-fill-color);\n",
              "  }\n",
              "\n",
              "  .colab-df-quickchart-complete:disabled,\n",
              "  .colab-df-quickchart-complete:disabled:hover {\n",
              "    background-color: var(--disabled-bg-color);\n",
              "    fill: var(--disabled-fill-color);\n",
              "    box-shadow: none;\n",
              "  }\n",
              "\n",
              "  .colab-df-spinner {\n",
              "    border: 2px solid var(--fill-color);\n",
              "    border-color: transparent;\n",
              "    border-bottom-color: var(--fill-color);\n",
              "    animation:\n",
              "      spin 1s steps(1) infinite;\n",
              "  }\n",
              "\n",
              "  @keyframes spin {\n",
              "    0% {\n",
              "      border-color: transparent;\n",
              "      border-bottom-color: var(--fill-color);\n",
              "      border-left-color: var(--fill-color);\n",
              "    }\n",
              "    20% {\n",
              "      border-color: transparent;\n",
              "      border-left-color: var(--fill-color);\n",
              "      border-top-color: var(--fill-color);\n",
              "    }\n",
              "    30% {\n",
              "      border-color: transparent;\n",
              "      border-left-color: var(--fill-color);\n",
              "      border-top-color: var(--fill-color);\n",
              "      border-right-color: var(--fill-color);\n",
              "    }\n",
              "    40% {\n",
              "      border-color: transparent;\n",
              "      border-right-color: var(--fill-color);\n",
              "      border-top-color: var(--fill-color);\n",
              "    }\n",
              "    60% {\n",
              "      border-color: transparent;\n",
              "      border-right-color: var(--fill-color);\n",
              "    }\n",
              "    80% {\n",
              "      border-color: transparent;\n",
              "      border-right-color: var(--fill-color);\n",
              "      border-bottom-color: var(--fill-color);\n",
              "    }\n",
              "    90% {\n",
              "      border-color: transparent;\n",
              "      border-bottom-color: var(--fill-color);\n",
              "    }\n",
              "  }\n",
              "</style>\n",
              "\n",
              "  <script>\n",
              "    async function quickchart(key) {\n",
              "      const quickchartButtonEl =\n",
              "        document.querySelector('#' + key + ' button');\n",
              "      quickchartButtonEl.disabled = true;  // To prevent multiple clicks.\n",
              "      quickchartButtonEl.classList.add('colab-df-spinner');\n",
              "      try {\n",
              "        const charts = await google.colab.kernel.invokeFunction(\n",
              "            'suggestCharts', [key], {});\n",
              "      } catch (error) {\n",
              "        console.error('Error during call to suggestCharts:', error);\n",
              "      }\n",
              "      quickchartButtonEl.classList.remove('colab-df-spinner');\n",
              "      quickchartButtonEl.classList.add('colab-df-quickchart-complete');\n",
              "    }\n",
              "    (() => {\n",
              "      let quickchartButtonEl =\n",
              "        document.querySelector('#df-2c1c2d79-0b6f-4aa8-949c-03471cbbde21 button');\n",
              "      quickchartButtonEl.style.display =\n",
              "        google.colab.kernel.accessAllowed ? 'block' : 'none';\n",
              "    })();\n",
              "  </script>\n",
              "</div>\n",
              "\n",
              "    </div>\n",
              "  </div>\n"
            ],
            "application/vnd.google.colaboratory.intrinsic+json": {
              "type": "dataframe",
              "variable_name": "CENSUS_DATA",
              "summary": "{\n  \"name\": \"CENSUS_DATA\",\n  \"rows\": 78,\n  \"fields\": [\n    {\n      \"column\": \"COMMUNITY_AREA_NUMBER\",\n      \"properties\": {\n        \"dtype\": \"number\",\n        \"std\": 22.371857321197094,\n        \"min\": 1.0,\n        \"max\": 77.0,\n        \"num_unique_values\": 77,\n        \"samples\": [\n          5.0,\n          36.0,\n          11.0\n        ],\n        \"semantic_type\": \"\",\n        \"description\": \"\"\n      }\n    },\n    {\n      \"column\": \"COMMUNITY_AREA_NAME\",\n      \"properties\": {\n        \"dtype\": \"string\",\n        \"num_unique_values\": 78,\n        \"samples\": [\n          \"Armour Square\",\n          \"Rogers Park\",\n          \"Douglas\"\n        ],\n        \"semantic_type\": \"\",\n        \"description\": \"\"\n      }\n    },\n    {\n      \"column\": \"PERCENT_OF_HOUSING_CROWDED\",\n      \"properties\": {\n        \"dtype\": \"number\",\n        \"std\": 3.6589814413502,\n        \"min\": 0.3,\n        \"max\": 15.8,\n        \"num_unique_values\": 56,\n        \"samples\": [\n          7.7,\n          1.1,\n          5.6\n        ],\n        \"semantic_type\": \"\",\n        \"description\": \"\"\n      }\n    },\n    {\n      \"column\": \"PERCENT_HOUSEHOLDS_BELOW_POVERTY\",\n      \"properties\": {\n        \"dtype\": \"number\",\n        \"std\": 11.457230912971085,\n        \"min\": 3.3,\n        \"max\": 56.5,\n        \"num_unique_values\": 68,\n        \"samples\": [\n          25.9,\n          15.3,\n          7.5\n        ],\n        \"semantic_type\": \"\",\n        \"description\": \"\"\n      }\n    },\n    {\n      \"column\": \"PERCENT_AGED_16__UNEMPLOYED\",\n      \"properties\": {\n        \"dtype\": \"number\",\n        \"std\": 7.499496708609911,\n        \"min\": 4.7,\n        \"max\": 35.9,\n        \"num_unique_values\": 67,\n        \"samples\": [\n          8.4,\n          14.6,\n          5.2\n        ],\n        \"semantic_type\": \"\",\n        \"description\": \"\"\n      }\n    },\n    {\n      \"column\": \"PERCENT_AGED_25__WITHOUT_HIGH_SCHOOL_DIPLOMA\",\n      \"properties\": {\n        \"dtype\": \"number\",\n        \"std\": 11.746514351100048,\n        \"min\": 2.5,\n        \"max\": 54.8,\n        \"num_unique_values\": 70,\n        \"samples\": [\n          12.9,\n          18.2,\n          27.5\n        ],\n        \"semantic_type\": \"\",\n        \"description\": \"\"\n      }\n    },\n    {\n      \"column\": \"PERCENT_AGED_UNDER_18_OR_OVER_64\",\n      \"properties\": {\n        \"dtype\": \"number\",\n        \"std\": 7.284421084944948,\n        \"min\": 13.5,\n        \"max\": 51.5,\n        \"num_unique_values\": 67,\n        \"samples\": [\n          42.8,\n          33.6,\n          26.2\n        ],\n        \"semantic_type\": \"\",\n        \"description\": \"\"\n      }\n    },\n    {\n      \"column\": \"PER_CAPITA_INCOME\",\n      \"properties\": {\n        \"dtype\": \"number\",\n        \"std\": 15196,\n        \"min\": 8201,\n        \"max\": 88669,\n        \"num_unique_values\": 78,\n        \"samples\": [\n          16148,\n          23939,\n          23791\n        ],\n        \"semantic_type\": \"\",\n        \"description\": \"\"\n      }\n    },\n    {\n      \"column\": \"HARDSHIP_INDEX\",\n      \"properties\": {\n        \"dtype\": \"number\",\n        \"std\": 28.690555651561578,\n        \"min\": 1.0,\n        \"max\": 98.0,\n        \"num_unique_values\": 77,\n        \"samples\": [\n          6.0,\n          78.0,\n          25.0\n        ],\n        \"semantic_type\": \"\",\n        \"description\": \"\"\n      }\n    }\n  ]\n}"
            }
          },
          "metadata": {},
          "execution_count": 16
        }
      ]
    },
    {
      "cell_type": "markdown",
      "metadata": {
        "id": "5c6c3f39-ad9f-4ea0-bf55-778805cc27df"
      },
      "source": [
        "You can now proceed to the the following questions. Please note that a graded assignment will follow this lab and there will be a question on each of the problems stated below. It can be from the answer you received or the code you write for this problem. Therefore, please keep a note of both your codes as well as the response you generate.\n"
      ]
    },
    {
      "cell_type": "markdown",
      "metadata": {
        "id": "1bb59f11-3308-4625-8e28-fb8320043150"
      },
      "source": [
        "## Problems\n",
        "\n",
        "Now write and execute SQL queries to solve assignment problems\n",
        "\n",
        "### Problem 1\n",
        "\n",
        "##### Find the total number of crimes recorded in the CRIME table.\n"
      ]
    },
    {
      "cell_type": "code",
      "metadata": {
        "colab": {
          "base_uri": "https://localhost:8080/",
          "height": 95
        },
        "id": "28666fa5-ecf7-45db-b417-9dfc7fbe1078",
        "outputId": "c01d0ab6-3be1-405e-e814-903419ca4adb"
      },
      "outputs": [
        {
          "output_type": "stream",
          "name": "stdout",
          "text": [
            " * sqlite:///FinalDB.db\n",
            "Done.\n"
          ]
        },
        {
          "output_type": "execute_result",
          "data": {
            "text/plain": [
              "[(533,)]"
            ],
            "text/html": [
              "<table>\n",
              "    <thead>\n",
              "        <tr>\n",
              "            <th>COUNT(*)</th>\n",
              "        </tr>\n",
              "    </thead>\n",
              "    <tbody>\n",
              "        <tr>\n",
              "            <td>533</td>\n",
              "        </tr>\n",
              "    </tbody>\n",
              "</table>"
            ]
          },
          "metadata": {},
          "execution_count": 13
        }
      ],
      "source": [
        "%sql SELECT COUNT(*) FROM CHICAGO_CRIME_DATA"
      ],
      "execution_count": 13
    },
    {
      "cell_type": "markdown",
      "metadata": {
        "id": "18751eee-cb5d-4d90-9876-8ed77d457c20"
      },
      "source": [
        "### Problem 2\n",
        "\n",
        "##### List community area names and numbers with per capita income less than 11000.\n"
      ]
    },
    {
      "cell_type": "code",
      "metadata": {
        "colab": {
          "base_uri": "https://localhost:8080/",
          "height": 158
        },
        "id": "b369da8e-49e0-4562-b3a0-462ac5ec19aa",
        "outputId": "24a7542c-9747-4e17-847f-e7b1d042b0c6"
      },
      "outputs": [
        {
          "output_type": "stream",
          "name": "stdout",
          "text": [
            " * sqlite:///FinalDB.db\n",
            "Done.\n"
          ]
        },
        {
          "output_type": "execute_result",
          "data": {
            "text/plain": [
              "[('West Garfield Park', 26.0),\n",
              " ('South Lawndale', 30.0),\n",
              " ('Fuller Park', 37.0),\n",
              " ('Riverdale', 54.0)]"
            ],
            "text/html": [
              "<table>\n",
              "    <thead>\n",
              "        <tr>\n",
              "            <th>COMMUNITY_AREA_NAME</th>\n",
              "            <th>COMMUNITY_AREA_NUMBER</th>\n",
              "        </tr>\n",
              "    </thead>\n",
              "    <tbody>\n",
              "        <tr>\n",
              "            <td>West Garfield Park</td>\n",
              "            <td>26.0</td>\n",
              "        </tr>\n",
              "        <tr>\n",
              "            <td>South Lawndale</td>\n",
              "            <td>30.0</td>\n",
              "        </tr>\n",
              "        <tr>\n",
              "            <td>Fuller Park</td>\n",
              "            <td>37.0</td>\n",
              "        </tr>\n",
              "        <tr>\n",
              "            <td>Riverdale</td>\n",
              "            <td>54.0</td>\n",
              "        </tr>\n",
              "    </tbody>\n",
              "</table>"
            ]
          },
          "metadata": {},
          "execution_count": 14
        }
      ],
      "source": [
        "%sql SELECT COMMUNITY_AREA_NAME,COMMUNITY_AREA_NUMBER FROM CENSUS_DATA WHERE PER_CAPITA_INCOME<11000"
      ],
      "execution_count": 14
    },
    {
      "cell_type": "markdown",
      "metadata": {
        "id": "3d8c56d3-bd9f-4c50-bace-bbd879f37f35"
      },
      "source": [
        "### Problem 3\n",
        "\n",
        "##### List all case numbers for crimes involving minors?(children are not considered minors for the purposes of crime analysis)\n"
      ]
    },
    {
      "cell_type": "code",
      "metadata": {
        "colab": {
          "base_uri": "https://localhost:8080/",
          "height": 116
        },
        "id": "a1d2d193-b220-4afd-99e1-7e3336c63b60",
        "outputId": "45ae78ed-1202-4596-b068-a068da063b28"
      },
      "outputs": [
        {
          "output_type": "stream",
          "name": "stdout",
          "text": [
            " * sqlite:///FinalDB.db\n",
            "Done.\n"
          ]
        },
        {
          "output_type": "execute_result",
          "data": {
            "text/plain": [
              "[('HL266884',), ('HK238408',)]"
            ],
            "text/html": [
              "<table>\n",
              "    <thead>\n",
              "        <tr>\n",
              "            <th>CASE_NUMBER</th>\n",
              "        </tr>\n",
              "    </thead>\n",
              "    <tbody>\n",
              "        <tr>\n",
              "            <td>HL266884</td>\n",
              "        </tr>\n",
              "        <tr>\n",
              "            <td>HK238408</td>\n",
              "        </tr>\n",
              "    </tbody>\n",
              "</table>"
            ]
          },
          "metadata": {},
          "execution_count": 17
        }
      ],
      "source": [
        "%sql SELECT CASE_NUMBER FROM CHICAGO_CRIME_DATA WHERE DESCRIPTION LIKE '%MINOR%'"
      ],
      "execution_count": 17
    },
    {
      "cell_type": "markdown",
      "metadata": {
        "id": "504dd43a-5058-4f0d-83f4-d06ddf1df89b"
      },
      "source": [
        "### Problem 4\n",
        "\n",
        "##### List all kidnapping crimes involving a child?\n"
      ]
    },
    {
      "cell_type": "code",
      "metadata": {
        "colab": {
          "base_uri": "https://localhost:8080/",
          "height": 167
        },
        "id": "8f1b4341-f751-4644-b001-2df86d896e57",
        "outputId": "8bedde4a-e8e5-4cb6-e9e9-1912179b6d6d"
      },
      "outputs": [
        {
          "output_type": "stream",
          "name": "stdout",
          "text": [
            " * sqlite:///FinalDB.db\n",
            "Done.\n"
          ]
        },
        {
          "output_type": "execute_result",
          "data": {
            "text/plain": [
              "[(5276766, 'HN144152', '2007-01-26', '050XX W VAN BUREN ST', '1792', 'KIDNAPPING', 'CHILD ABDUCTION/STRANGER', 'STREET', 0, 0, 1533, 15, 29.0, 25.0, '20', 1143050.0, 1897546.0, 2007, 41.87490841, -87.75024931, '(41.874908413, -87.750249307)')]"
            ],
            "text/html": [
              "<table>\n",
              "    <thead>\n",
              "        <tr>\n",
              "            <th>ID</th>\n",
              "            <th>CASE_NUMBER</th>\n",
              "            <th>DATE</th>\n",
              "            <th>BLOCK</th>\n",
              "            <th>IUCR</th>\n",
              "            <th>PRIMARY_TYPE</th>\n",
              "            <th>DESCRIPTION</th>\n",
              "            <th>LOCATION_DESCRIPTION</th>\n",
              "            <th>ARREST</th>\n",
              "            <th>DOMESTIC</th>\n",
              "            <th>BEAT</th>\n",
              "            <th>DISTRICT</th>\n",
              "            <th>WARD</th>\n",
              "            <th>COMMUNITY_AREA_NUMBER</th>\n",
              "            <th>FBICODE</th>\n",
              "            <th>X_COORDINATE</th>\n",
              "            <th>Y_COORDINATE</th>\n",
              "            <th>YEAR</th>\n",
              "            <th>LATITUDE</th>\n",
              "            <th>LONGITUDE</th>\n",
              "            <th>LOCATION</th>\n",
              "        </tr>\n",
              "    </thead>\n",
              "    <tbody>\n",
              "        <tr>\n",
              "            <td>5276766</td>\n",
              "            <td>HN144152</td>\n",
              "            <td>2007-01-26</td>\n",
              "            <td>050XX W VAN BUREN ST</td>\n",
              "            <td>1792</td>\n",
              "            <td>KIDNAPPING</td>\n",
              "            <td>CHILD ABDUCTION/STRANGER</td>\n",
              "            <td>STREET</td>\n",
              "            <td>0</td>\n",
              "            <td>0</td>\n",
              "            <td>1533</td>\n",
              "            <td>15</td>\n",
              "            <td>29.0</td>\n",
              "            <td>25.0</td>\n",
              "            <td>20</td>\n",
              "            <td>1143050.0</td>\n",
              "            <td>1897546.0</td>\n",
              "            <td>2007</td>\n",
              "            <td>41.87490841</td>\n",
              "            <td>-87.75024931</td>\n",
              "            <td>(41.874908413, -87.750249307)</td>\n",
              "        </tr>\n",
              "    </tbody>\n",
              "</table>"
            ]
          },
          "metadata": {},
          "execution_count": 18
        }
      ],
      "source": [
        "%sql SELECT * FROM CHICAGO_CRIME_DATA WHERE PRIMARY_TYPE='KIDNAPPING' AND DESCRIPTION LIKE '%CHILD%'"
      ],
      "execution_count": 18
    },
    {
      "cell_type": "markdown",
      "metadata": {
        "id": "f0f170e7-c35e-445a-a56b-f6f9e3809408"
      },
      "source": [
        "### Problem 5\n",
        "\n",
        "##### List the kind of crimes that were recorded at schools. (No repetitions)\n"
      ]
    },
    {
      "cell_type": "code",
      "metadata": {
        "colab": {
          "base_uri": "https://localhost:8080/",
          "height": 200
        },
        "id": "4a1c4110-11c5-460b-a722-0177cb217449",
        "outputId": "4ac8e7a2-7359-4112-a930-929d70e7209e"
      },
      "outputs": [
        {
          "output_type": "stream",
          "name": "stdout",
          "text": [
            " * sqlite:///FinalDB.db\n",
            "Done.\n"
          ]
        },
        {
          "output_type": "execute_result",
          "data": {
            "text/plain": [
              "[('BATTERY',),\n",
              " ('CRIMINAL DAMAGE',),\n",
              " ('NARCOTICS',),\n",
              " ('ASSAULT',),\n",
              " ('CRIMINAL TRESPASS',),\n",
              " ('PUBLIC PEACE VIOLATION',)]"
            ],
            "text/html": [
              "<table>\n",
              "    <thead>\n",
              "        <tr>\n",
              "            <th>PRIMARY_TYPE</th>\n",
              "        </tr>\n",
              "    </thead>\n",
              "    <tbody>\n",
              "        <tr>\n",
              "            <td>BATTERY</td>\n",
              "        </tr>\n",
              "        <tr>\n",
              "            <td>CRIMINAL DAMAGE</td>\n",
              "        </tr>\n",
              "        <tr>\n",
              "            <td>NARCOTICS</td>\n",
              "        </tr>\n",
              "        <tr>\n",
              "            <td>ASSAULT</td>\n",
              "        </tr>\n",
              "        <tr>\n",
              "            <td>CRIMINAL TRESPASS</td>\n",
              "        </tr>\n",
              "        <tr>\n",
              "            <td>PUBLIC PEACE VIOLATION</td>\n",
              "        </tr>\n",
              "    </tbody>\n",
              "</table>"
            ]
          },
          "metadata": {},
          "execution_count": 19
        }
      ],
      "source": [
        "%sql SELECT DISTINCT(PRIMARY_TYPE) FROM CHICAGO_CRIME_DATA WHERE LOCATION_DESCRIPTION LIKE '%SCHOOL%'"
      ],
      "execution_count": 19
    },
    {
      "cell_type": "markdown",
      "metadata": {
        "id": "9945dfd1-c38a-4682-91f9-488322994834"
      },
      "source": [
        "### Problem 6\n",
        "\n",
        "##### List the type of schools along with the average safety score for each type.\n"
      ]
    },
    {
      "cell_type": "code",
      "metadata": {
        "colab": {
          "base_uri": "https://localhost:8080/",
          "height": 137
        },
        "id": "29c55b5a-e626-4a06-9925-7e4ca3a3af41",
        "outputId": "0b2fd6ac-c932-4e30-bd58-f4c9345bed72"
      },
      "outputs": [
        {
          "output_type": "stream",
          "name": "stdout",
          "text": [
            " * sqlite:///FinalDB.db\n",
            "Done.\n"
          ]
        },
        {
          "output_type": "execute_result",
          "data": {
            "text/plain": [
              "[('ES', 49.52038369304557), ('HS', 49.62352941176471), ('MS', 48.0)]"
            ],
            "text/html": [
              "<table>\n",
              "    <thead>\n",
              "        <tr>\n",
              "            <th>Elementary, Middle, or High School</th>\n",
              "            <th>AVG(SAFETY_SCORE)</th>\n",
              "        </tr>\n",
              "    </thead>\n",
              "    <tbody>\n",
              "        <tr>\n",
              "            <td>ES</td>\n",
              "            <td>49.52038369304557</td>\n",
              "        </tr>\n",
              "        <tr>\n",
              "            <td>HS</td>\n",
              "            <td>49.62352941176471</td>\n",
              "        </tr>\n",
              "        <tr>\n",
              "            <td>MS</td>\n",
              "            <td>48.0</td>\n",
              "        </tr>\n",
              "    </tbody>\n",
              "</table>"
            ]
          },
          "metadata": {},
          "execution_count": 20
        }
      ],
      "source": [
        "%sql SELECT \"Elementary, Middle, or High School\",AVG(SAFETY_SCORE) FROM CHICAGO_PUBLIC_SCHOOLS GROUP BY \"Elementary, Middle, or High School\""
      ],
      "execution_count": 20
    },
    {
      "cell_type": "markdown",
      "metadata": {
        "id": "0eed90b0-7f2b-44a3-b43e-61185f3c3ddf"
      },
      "source": [
        "### Problem 7\n",
        "\n",
        "##### List 5 community areas with highest % of households below poverty line\n"
      ]
    },
    {
      "cell_type": "code",
      "metadata": {
        "colab": {
          "base_uri": "https://localhost:8080/",
          "height": 179
        },
        "id": "388ccb64-34ba-4308-9d84-c63034cff4d1",
        "outputId": "83e2c6b5-2b69-48f1-8209-750ea671e105"
      },
      "outputs": [
        {
          "output_type": "stream",
          "name": "stdout",
          "text": [
            " * sqlite:///FinalDB.db\n",
            "Done.\n"
          ]
        },
        {
          "output_type": "execute_result",
          "data": {
            "text/plain": [
              "[('Riverdale', 56.5),\n",
              " ('Fuller Park', 51.2),\n",
              " ('Englewood', 46.6),\n",
              " ('North Lawndale', 43.1),\n",
              " ('East Garfield Park', 42.4)]"
            ],
            "text/html": [
              "<table>\n",
              "    <thead>\n",
              "        <tr>\n",
              "            <th>COMMUNITY_AREA_NAME</th>\n",
              "            <th>PERCENT_HOUSEHOLDS_BELOW_POVERTY</th>\n",
              "        </tr>\n",
              "    </thead>\n",
              "    <tbody>\n",
              "        <tr>\n",
              "            <td>Riverdale</td>\n",
              "            <td>56.5</td>\n",
              "        </tr>\n",
              "        <tr>\n",
              "            <td>Fuller Park</td>\n",
              "            <td>51.2</td>\n",
              "        </tr>\n",
              "        <tr>\n",
              "            <td>Englewood</td>\n",
              "            <td>46.6</td>\n",
              "        </tr>\n",
              "        <tr>\n",
              "            <td>North Lawndale</td>\n",
              "            <td>43.1</td>\n",
              "        </tr>\n",
              "        <tr>\n",
              "            <td>East Garfield Park</td>\n",
              "            <td>42.4</td>\n",
              "        </tr>\n",
              "    </tbody>\n",
              "</table>"
            ]
          },
          "metadata": {},
          "execution_count": 21
        }
      ],
      "source": [
        "%sql SELECT COMMUNITY_AREA_NAME,PERCENT_HOUSEHOLDS_BELOW_POVERTY FROM CENSUS_DATA ORDER BY PERCENT_HOUSEHOLDS_BELOW_POVERTY DESC LIMIT 5"
      ],
      "execution_count": 21
    },
    {
      "cell_type": "markdown",
      "metadata": {
        "id": "970a6de7-9f6a-407b-b137-771d1e92e8eb"
      },
      "source": [
        "### Problem 8\n",
        "\n",
        "##### Which community area is most crime prone? Display the coumminty area number only.\n"
      ]
    },
    {
      "cell_type": "code",
      "metadata": {
        "colab": {
          "base_uri": "https://localhost:8080/",
          "height": 95
        },
        "id": "3c390847-1803-4909-8dec-7ed66ce97505",
        "outputId": "676a13d0-2221-4afe-95e7-c7e4a8095f1c"
      },
      "outputs": [
        {
          "output_type": "stream",
          "name": "stdout",
          "text": [
            " * sqlite:///FinalDB.db\n",
            "Done.\n"
          ]
        },
        {
          "output_type": "execute_result",
          "data": {
            "text/plain": [
              "[(25.0, 43)]"
            ],
            "text/html": [
              "<table>\n",
              "    <thead>\n",
              "        <tr>\n",
              "            <th>COMMUNITY_AREA_NUMBER</th>\n",
              "            <th>COUNT(COMMUNITY_AREA_NUMBER)</th>\n",
              "        </tr>\n",
              "    </thead>\n",
              "    <tbody>\n",
              "        <tr>\n",
              "            <td>25.0</td>\n",
              "            <td>43</td>\n",
              "        </tr>\n",
              "    </tbody>\n",
              "</table>"
            ]
          },
          "metadata": {},
          "execution_count": 22
        }
      ],
      "source": [
        "%sql SELECT COMMUNITY_AREA_NUMBER,COUNT(COMMUNITY_AREA_NUMBER) FROM CHICAGO_CRIME_DATA GROUP BY COMMUNITY_AREA_NUMBER ORDER BY COUNT(COMMUNITY_AREA_NUMBER) DESC LIMIT 1"
      ],
      "execution_count": 22
    },
    {
      "cell_type": "markdown",
      "metadata": {
        "id": "104b9aa4-6a8b-45c0-97ec-c15a5c012a1d"
      },
      "source": [
        "\n",
        "Double-click **here** for a hint\n",
        "\n",
        "<!--\n",
        "Query for the 'community area number' that has most number of incidents\n",
        "-->\n"
      ]
    },
    {
      "cell_type": "markdown",
      "metadata": {
        "id": "45490dbb-7c75-4bc5-8e03-9e550c0d1dfc"
      },
      "source": [
        "### Problem 9\n",
        "\n",
        "##### Use a sub-query to find the name of the community area with highest hardship index\n"
      ]
    },
    {
      "cell_type": "code",
      "metadata": {
        "colab": {
          "base_uri": "https://localhost:8080/",
          "height": 95
        },
        "id": "4c6c65e0-bdb7-49c7-a774-3828bcf9e9e9",
        "outputId": "dd5deb66-d7f8-45ec-b40f-7536224d92ec"
      },
      "outputs": [
        {
          "output_type": "stream",
          "name": "stdout",
          "text": [
            " * sqlite:///FinalDB.db\n",
            "Done.\n"
          ]
        },
        {
          "output_type": "execute_result",
          "data": {
            "text/plain": [
              "[('Riverdale',)]"
            ],
            "text/html": [
              "<table>\n",
              "    <thead>\n",
              "        <tr>\n",
              "            <th>COMMUNITY_AREA_NAME</th>\n",
              "        </tr>\n",
              "    </thead>\n",
              "    <tbody>\n",
              "        <tr>\n",
              "            <td>Riverdale</td>\n",
              "        </tr>\n",
              "    </tbody>\n",
              "</table>"
            ]
          },
          "metadata": {},
          "execution_count": 26
        }
      ],
      "source": [
        "%sql SELECT COMMUNITY_AREA_NAME FROM CENSUS_DATA WHERE HARDSHIP_INDEX in (SELECT MAX(HARDSHIP_INDEX) FROM CENSUS_DATA)"
      ],
      "execution_count": 26
    },
    {
      "cell_type": "markdown",
      "metadata": {
        "id": "c192c6db-9939-4d98-8d3a-f58b55b162d8"
      },
      "source": [
        "### Problem 10\n",
        "\n",
        "##### Use a sub-query to determine the Community Area Name with most number of crimes?\n"
      ]
    },
    {
      "cell_type": "code",
      "metadata": {
        "colab": {
          "base_uri": "https://localhost:8080/",
          "height": 95
        },
        "id": "1ff5b032-0132-412c-889d-e5fc772db962",
        "outputId": "f0cb58bc-b32b-454c-bba4-09bb5aefd6b3"
      },
      "outputs": [
        {
          "output_type": "stream",
          "name": "stdout",
          "text": [
            " * sqlite:///FinalDB.db\n",
            "Done.\n"
          ]
        },
        {
          "output_type": "execute_result",
          "data": {
            "text/plain": [
              "[('Austin',)]"
            ],
            "text/html": [
              "<table>\n",
              "    <thead>\n",
              "        <tr>\n",
              "            <th>COMMUNITY_AREA_NAME</th>\n",
              "        </tr>\n",
              "    </thead>\n",
              "    <tbody>\n",
              "        <tr>\n",
              "            <td>Austin</td>\n",
              "        </tr>\n",
              "    </tbody>\n",
              "</table>"
            ]
          },
          "metadata": {},
          "execution_count": 24
        }
      ],
      "source": [
        "%sql SELECT COMMUNITY_AREA_NAME FROM CENSUS_DATA WHERE COMMUNITY_AREA_NUMBER=(SELECT COMMUNITY_AREA_NUMBER FROM CHICAGO_CRIME_DATA GROUP BY COMMUNITY_AREA_NUMBER ORDER BY COUNT(COMMUNITY_AREA_NUMBER) DESC LIMIT 1)"
      ],
      "execution_count": 24
    },
    {
      "cell_type": "markdown",
      "metadata": {
        "id": "767b7a13-9503-4252-968e-75a6a050a457"
      },
      "source": [
        "## Author(s)\n",
        "\n",
        "<h4> Hima Vasudevan </h4>\n",
        "<h4> Rav Ahuja </h4>\n",
        "<h4> Ramesh Sannreddy </h4>\n",
        "\n",
        "## Contribtuor(s)\n",
        "\n",
        "<h4> Malika Singla </h4>\n",
        "<h4>Abhishek Gagneja</h4>\n",
        "<!--\n",
        "## Change log\n",
        "\n",
        "| Date       | Version | Changed by        | Change Description                             |\n",
        "| ---------- | ------- | ----------------- | ---------------------------------------------- |\n",
        "|2023-10-18  | 2.6     | Abhishek Gagneja  | Modified instruction set |\n",
        "| 2022-03-04 | 2.5     | Lakshmi Holla     | Changed markdown.                   |\n",
        "| 2021-05-19 | 2.4     | Lakshmi Holla     | Updated the question                           |\n",
        "| 2021-04-30 | 2.3     | Malika Singla     | Updated the libraries                          |\n",
        "| 2021-01-15 | 2.2     | Rav Ahuja         | Removed problem 11 and fixed changelog         |\n",
        "| 2020-11-25 | 2.1     | Ramesh Sannareddy | Updated the problem statements, and datasets   |\n",
        "| 2020-09-05 | 2.0     | Malika Singla     | Moved lab to course repo in GitLab             |\n",
        "| 2018-07-18 | 1.0     | Rav Ahuja         | Several updates including loading instructions |\n",
        "| 2018-05-04 | 0.1     | Hima Vasudevan    | Created initial version                        |\n",
        "-->\n",
        "## <h3 align=\"center\"> © IBM Corporation 2023. All rights reserved. <h3/>\n"
      ]
    }
  ],
  "metadata": {
    "kernelspec": {
      "display_name": "Python",
      "language": "python",
      "name": "conda-env-python-py"
    },
    "language_info": {
      "name": "python",
      "version": "3.7.12",
      "mimetype": "text/x-python",
      "codemirror_mode": {
        "name": "ipython",
        "version": 3
      },
      "pygments_lexer": "ipython3",
      "nbconvert_exporter": "python",
      "file_extension": ".py"
    },
    "prev_pub_hash": "3c6bc487a66d442614b3071a4d6ea7fa0785b37ce97cb46f3bcb7a9010c84b6f",
    "colab": {
      "provenance": [],
      "include_colab_link": true
    }
  },
  "nbformat": 4,
  "nbformat_minor": 0
}