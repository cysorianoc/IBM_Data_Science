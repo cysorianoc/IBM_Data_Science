{
  "cells": [
    {
      "cell_type": "markdown",
      "metadata": {
        "id": "view-in-github",
        "colab_type": "text"
      },
      "source": [
        "<a href=\"https://colab.research.google.com/github/cysorianoc/IBM_Data_Science/blob/main/Module_6_practice_Insurance_cost.ipynb\" target=\"_parent\"><img src=\"https://colab.research.google.com/assets/colab-badge.svg\" alt=\"Open In Colab\"/></a>"
      ]
    },
    {
      "cell_type": "markdown",
      "metadata": {
        "id": "9d2d654d-5502-4e66-871f-1f5907c4c53a"
      },
      "source": [
        "<p style=\"text-align:center\">\n",
        "    <a href=\"https://skills.network\" target=\"_blank\">\n",
        "    <img src=\"https://cf-courses-data.s3.us.cloud-object-storage.appdomain.cloud/assets/logos/SN_web_lightmode.png\" width=\"200\" alt=\"Skills Network Logo\">\n",
        "    </a>\n",
        "</p>\n"
      ]
    },
    {
      "cell_type": "markdown",
      "metadata": {
        "id": "8c09024f-5fd1-4df4-a845-ea1a43e18189"
      },
      "source": [
        "# **Practice Project: Insurance Cost Analysis**\n",
        "\n",
        "Estimated time needed: **75** minutes\n",
        "\n",
        "In this project, you have to perform analytics operations on an insurance database that uses the below mentioned parameters.\n",
        "\n",
        "| Parameter |Description| Content type |\n",
        "|---|----|---|\n",
        "|age| Age in years| integer |\n",
        "|gender| Male or Female|integer (1 or 2)|\n",
        "| bmi | Body mass index | float |\n",
        "|no_of_children| Number of children | integer|\n",
        "|smoker| Whether smoker or not | integer (0 or 1)|\n",
        "|region| Which US region - NW, NE, SW, SE | integer (1,2,3 or 4 respectively)|\n",
        "|charges| Annual Insurance charges in USD | float|\n",
        "\n",
        "## Objectives\n",
        "In this project, you will:\n",
        " - Load the data as a `pandas` dataframe\n",
        " - Clean the data, taking care of the blank entries\n",
        " - Run exploratory data analysis (EDA) and identify the attributes that most affect the `charges`\n",
        " - Develop single variable and multi variable Linear Regression models for predicting the `charges`\n",
        " - Use Ridge regression to refine the performance of Linear regression models.\n",
        "\n"
      ]
    },
    {
      "cell_type": "markdown",
      "metadata": {
        "id": "e2a576e8-95fc-44f8-a4da-3452fab03ef6"
      },
      "source": [
        "# Setup\n"
      ]
    },
    {
      "cell_type": "markdown",
      "metadata": {
        "id": "6c3c57a8-9e38-4a98-b373-6ea268a0e758"
      },
      "source": [
        "For this lab, we will be using the following libraries:\n",
        "\n",
        "*   [`pandas`](https://pandas.pydata.org/?utm_medium=Exinfluencer&utm_source=Exinfluencer&utm_content=000026UJ&utm_term=10006555&utm_id=NA-SkillsNetwork-Channel-SkillsNetworkCoursesIBMML0187ENSkillsNetwork31430127-2021-01-01) for managing the data.\n",
        "*   [`numpy`](https://numpy.org/?utm_medium=Exinfluencer&utm_source=Exinfluencer&utm_content=000026UJ&utm_term=10006555&utm_id=NA-SkillsNetwork-Channel-SkillsNetworkCoursesIBMML0187ENSkillsNetwork31430127-2021-01-01) for mathematical operations.\n",
        "*   [`sklearn`](https://scikit-learn.org/stable/?utm_medium=Exinfluencer&utm_source=Exinfluencer&utm_content=000026UJ&utm_term=10006555&utm_id=NA-SkillsNetwork-Channel-SkillsNetworkCoursesIBMML0187ENSkillsNetwork31430127-2021-01-01) for machine learning and machine-learning-pipeline related functions.\n",
        "*   [`seaborn`](https://seaborn.pydata.org/?utm_medium=Exinfluencer&utm_source=Exinfluencer&utm_content=000026UJ&utm_term=10006555&utm_id=NA-SkillsNetwork-Channel-SkillsNetworkCoursesIBMML0187ENSkillsNetwork31430127-2021-01-01) for visualizing the data.\n",
        "*   [`matplotlib`](https://matplotlib.org/?utm_medium=Exinfluencer&utm_source=Exinfluencer&utm_content=000026UJ&utm_term=10006555&utm_id=NA-SkillsNetwork-Channel-SkillsNetworkCoursesIBMML0187ENSkillsNetwork31430127-2021-01-01) for additional plotting tools.\n"
      ]
    },
    {
      "cell_type": "markdown",
      "metadata": {
        "id": "a958065c-70f2-4fc9-b44d-c0a41617f244"
      },
      "source": [
        "The following required libraries are __not__ pre-installed in the Skills Network Labs environment. __You will need to run the following cell__ to install them:\n"
      ]
    },
    {
      "cell_type": "code",
      "metadata": {
        "id": "621f6a1f-1045-4152-9db7-0fc67434b2da"
      },
      "outputs": [],
      "source": [
        "%pip install seaborn"
      ],
      "execution_count": null
    },
    {
      "cell_type": "markdown",
      "metadata": {
        "id": "36868f00-7a59-4124-8527-e5260c56071a"
      },
      "source": [
        "### Importing Required Libraries\n",
        "\n",
        "_We recommend you import all required libraries in one place (here):_\n"
      ]
    },
    {
      "cell_type": "code",
      "metadata": {
        "id": "a9f3be1b-f82d-4e08-b312-fdeacb6a7a95"
      },
      "outputs": [],
      "source": [
        "import pandas as pd\n",
        "import matplotlib.pyplot as plt\n",
        "import numpy as np\n",
        "import seaborn as sns\n",
        "from sklearn.pipeline import Pipeline\n",
        "from sklearn.preprocessing import StandardScaler, PolynomialFeatures\n",
        "from sklearn.linear_model import LinearRegression, Ridge\n",
        "from sklearn.metrics import mean_squared_error, r2_score\n",
        "from sklearn.model_selection import cross_val_score, train_test_split"
      ],
      "execution_count": 2
    },
    {
      "cell_type": "markdown",
      "metadata": {
        "id": "dcdfb30f-39cb-45e0-b406-47843d6088c7"
      },
      "source": [
        "<details>\n",
        "    <summary>Click here for Solution</summary>\n",
        "\n",
        "```python\n",
        "import pandas as pd\n",
        "import matplotlib.pyplot as plt\n",
        "import numpy as np\n",
        "import seaborn as sns\n",
        "from sklearn.pipeline import Pipeline\n",
        "from sklearn.preprocessing import StandardScaler, PolynomialFeatures\n",
        "from sklearn.linear_model import LinearRegression, Ridge\n",
        "from sklearn.metrics import mean_squared_error, r2_score\n",
        "from sklearn.model_selection import cross_val_score, train_test_split\n",
        "```\n",
        "\n",
        "</details>\n"
      ]
    },
    {
      "cell_type": "markdown",
      "metadata": {
        "id": "981d8188-8291-4d15-bf99-526c2fd2a491"
      },
      "source": [
        "### Download the dataset to this lab environment\n",
        "\n",
        "Run the cell below to load the dataset to this lab environment.\n"
      ]
    },
    {
      "cell_type": "code",
      "metadata": {
        "id": "271af0ff-0345-4af3-b764-285178882646"
      },
      "outputs": [],
      "source": [
        "path = 'https://cf-courses-data.s3.us.cloud-object-storage.appdomain.cloud/IBMDeveloperSkillsNetwork-DA0101EN-Coursera/medical_insurance_dataset.csv'"
      ],
      "execution_count": 3
    },
    {
      "cell_type": "markdown",
      "metadata": {
        "id": "cd761e9b-e54e-4c0c-892f-04a272e4ae2c"
      },
      "source": [
        "# Task 1 : Import the dataset\n",
        "\n",
        "Import the dataset into a `pandas` dataframe. Note that there are currently no headers in the CSV file.\n",
        "\n",
        "Print the first 10 rows of the dataframe to confirm successful loading.\n"
      ]
    },
    {
      "cell_type": "code",
      "metadata": {
        "colab": {
          "base_uri": "https://localhost:8080/",
          "height": 206
        },
        "id": "3f256a00-bece-4048-af93-e2f55abe19a8",
        "outputId": "88c865f9-9ffe-4510-9d07-e4ad595cd48d"
      },
      "outputs": [
        {
          "output_type": "execute_result",
          "data": {
            "text/plain": [
              "    0  1       2  3  4  5            6\n",
              "0  19  1  27.900  0  1  3  16884.92400\n",
              "1  18  2  33.770  1  0  4   1725.55230\n",
              "2  28  2  33.000  3  0  4   4449.46200\n",
              "3  33  2  22.705  0  0  1  21984.47061\n",
              "4  32  2  28.880  0  0  1   3866.85520"
            ],
            "text/html": [
              "\n",
              "  <div id=\"df-4bfae15a-4971-493b-8419-f0c7f26aba59\" class=\"colab-df-container\">\n",
              "    <div>\n",
              "<style scoped>\n",
              "    .dataframe tbody tr th:only-of-type {\n",
              "        vertical-align: middle;\n",
              "    }\n",
              "\n",
              "    .dataframe tbody tr th {\n",
              "        vertical-align: top;\n",
              "    }\n",
              "\n",
              "    .dataframe thead th {\n",
              "        text-align: right;\n",
              "    }\n",
              "</style>\n",
              "<table border=\"1\" class=\"dataframe\">\n",
              "  <thead>\n",
              "    <tr style=\"text-align: right;\">\n",
              "      <th></th>\n",
              "      <th>0</th>\n",
              "      <th>1</th>\n",
              "      <th>2</th>\n",
              "      <th>3</th>\n",
              "      <th>4</th>\n",
              "      <th>5</th>\n",
              "      <th>6</th>\n",
              "    </tr>\n",
              "  </thead>\n",
              "  <tbody>\n",
              "    <tr>\n",
              "      <th>0</th>\n",
              "      <td>19</td>\n",
              "      <td>1</td>\n",
              "      <td>27.900</td>\n",
              "      <td>0</td>\n",
              "      <td>1</td>\n",
              "      <td>3</td>\n",
              "      <td>16884.92400</td>\n",
              "    </tr>\n",
              "    <tr>\n",
              "      <th>1</th>\n",
              "      <td>18</td>\n",
              "      <td>2</td>\n",
              "      <td>33.770</td>\n",
              "      <td>1</td>\n",
              "      <td>0</td>\n",
              "      <td>4</td>\n",
              "      <td>1725.55230</td>\n",
              "    </tr>\n",
              "    <tr>\n",
              "      <th>2</th>\n",
              "      <td>28</td>\n",
              "      <td>2</td>\n",
              "      <td>33.000</td>\n",
              "      <td>3</td>\n",
              "      <td>0</td>\n",
              "      <td>4</td>\n",
              "      <td>4449.46200</td>\n",
              "    </tr>\n",
              "    <tr>\n",
              "      <th>3</th>\n",
              "      <td>33</td>\n",
              "      <td>2</td>\n",
              "      <td>22.705</td>\n",
              "      <td>0</td>\n",
              "      <td>0</td>\n",
              "      <td>1</td>\n",
              "      <td>21984.47061</td>\n",
              "    </tr>\n",
              "    <tr>\n",
              "      <th>4</th>\n",
              "      <td>32</td>\n",
              "      <td>2</td>\n",
              "      <td>28.880</td>\n",
              "      <td>0</td>\n",
              "      <td>0</td>\n",
              "      <td>1</td>\n",
              "      <td>3866.85520</td>\n",
              "    </tr>\n",
              "  </tbody>\n",
              "</table>\n",
              "</div>\n",
              "    <div class=\"colab-df-buttons\">\n",
              "\n",
              "  <div class=\"colab-df-container\">\n",
              "    <button class=\"colab-df-convert\" onclick=\"convertToInteractive('df-4bfae15a-4971-493b-8419-f0c7f26aba59')\"\n",
              "            title=\"Convert this dataframe to an interactive table.\"\n",
              "            style=\"display:none;\">\n",
              "\n",
              "  <svg xmlns=\"http://www.w3.org/2000/svg\" height=\"24px\" viewBox=\"0 -960 960 960\">\n",
              "    <path d=\"M120-120v-720h720v720H120Zm60-500h600v-160H180v160Zm220 220h160v-160H400v160Zm0 220h160v-160H400v160ZM180-400h160v-160H180v160Zm440 0h160v-160H620v160ZM180-180h160v-160H180v160Zm440 0h160v-160H620v160Z\"/>\n",
              "  </svg>\n",
              "    </button>\n",
              "\n",
              "  <style>\n",
              "    .colab-df-container {\n",
              "      display:flex;\n",
              "      gap: 12px;\n",
              "    }\n",
              "\n",
              "    .colab-df-convert {\n",
              "      background-color: #E8F0FE;\n",
              "      border: none;\n",
              "      border-radius: 50%;\n",
              "      cursor: pointer;\n",
              "      display: none;\n",
              "      fill: #1967D2;\n",
              "      height: 32px;\n",
              "      padding: 0 0 0 0;\n",
              "      width: 32px;\n",
              "    }\n",
              "\n",
              "    .colab-df-convert:hover {\n",
              "      background-color: #E2EBFA;\n",
              "      box-shadow: 0px 1px 2px rgba(60, 64, 67, 0.3), 0px 1px 3px 1px rgba(60, 64, 67, 0.15);\n",
              "      fill: #174EA6;\n",
              "    }\n",
              "\n",
              "    .colab-df-buttons div {\n",
              "      margin-bottom: 4px;\n",
              "    }\n",
              "\n",
              "    [theme=dark] .colab-df-convert {\n",
              "      background-color: #3B4455;\n",
              "      fill: #D2E3FC;\n",
              "    }\n",
              "\n",
              "    [theme=dark] .colab-df-convert:hover {\n",
              "      background-color: #434B5C;\n",
              "      box-shadow: 0px 1px 3px 1px rgba(0, 0, 0, 0.15);\n",
              "      filter: drop-shadow(0px 1px 2px rgba(0, 0, 0, 0.3));\n",
              "      fill: #FFFFFF;\n",
              "    }\n",
              "  </style>\n",
              "\n",
              "    <script>\n",
              "      const buttonEl =\n",
              "        document.querySelector('#df-4bfae15a-4971-493b-8419-f0c7f26aba59 button.colab-df-convert');\n",
              "      buttonEl.style.display =\n",
              "        google.colab.kernel.accessAllowed ? 'block' : 'none';\n",
              "\n",
              "      async function convertToInteractive(key) {\n",
              "        const element = document.querySelector('#df-4bfae15a-4971-493b-8419-f0c7f26aba59');\n",
              "        const dataTable =\n",
              "          await google.colab.kernel.invokeFunction('convertToInteractive',\n",
              "                                                    [key], {});\n",
              "        if (!dataTable) return;\n",
              "\n",
              "        const docLinkHtml = 'Like what you see? Visit the ' +\n",
              "          '<a target=\"_blank\" href=https://colab.research.google.com/notebooks/data_table.ipynb>data table notebook</a>'\n",
              "          + ' to learn more about interactive tables.';\n",
              "        element.innerHTML = '';\n",
              "        dataTable['output_type'] = 'display_data';\n",
              "        await google.colab.output.renderOutput(dataTable, element);\n",
              "        const docLink = document.createElement('div');\n",
              "        docLink.innerHTML = docLinkHtml;\n",
              "        element.appendChild(docLink);\n",
              "      }\n",
              "    </script>\n",
              "  </div>\n",
              "\n",
              "\n",
              "<div id=\"df-47a54530-9d55-462b-9d7d-31b37f916fbf\">\n",
              "  <button class=\"colab-df-quickchart\" onclick=\"quickchart('df-47a54530-9d55-462b-9d7d-31b37f916fbf')\"\n",
              "            title=\"Suggest charts\"\n",
              "            style=\"display:none;\">\n",
              "\n",
              "<svg xmlns=\"http://www.w3.org/2000/svg\" height=\"24px\"viewBox=\"0 0 24 24\"\n",
              "     width=\"24px\">\n",
              "    <g>\n",
              "        <path d=\"M19 3H5c-1.1 0-2 .9-2 2v14c0 1.1.9 2 2 2h14c1.1 0 2-.9 2-2V5c0-1.1-.9-2-2-2zM9 17H7v-7h2v7zm4 0h-2V7h2v10zm4 0h-2v-4h2v4z\"/>\n",
              "    </g>\n",
              "</svg>\n",
              "  </button>\n",
              "\n",
              "<style>\n",
              "  .colab-df-quickchart {\n",
              "      --bg-color: #E8F0FE;\n",
              "      --fill-color: #1967D2;\n",
              "      --hover-bg-color: #E2EBFA;\n",
              "      --hover-fill-color: #174EA6;\n",
              "      --disabled-fill-color: #AAA;\n",
              "      --disabled-bg-color: #DDD;\n",
              "  }\n",
              "\n",
              "  [theme=dark] .colab-df-quickchart {\n",
              "      --bg-color: #3B4455;\n",
              "      --fill-color: #D2E3FC;\n",
              "      --hover-bg-color: #434B5C;\n",
              "      --hover-fill-color: #FFFFFF;\n",
              "      --disabled-bg-color: #3B4455;\n",
              "      --disabled-fill-color: #666;\n",
              "  }\n",
              "\n",
              "  .colab-df-quickchart {\n",
              "    background-color: var(--bg-color);\n",
              "    border: none;\n",
              "    border-radius: 50%;\n",
              "    cursor: pointer;\n",
              "    display: none;\n",
              "    fill: var(--fill-color);\n",
              "    height: 32px;\n",
              "    padding: 0;\n",
              "    width: 32px;\n",
              "  }\n",
              "\n",
              "  .colab-df-quickchart:hover {\n",
              "    background-color: var(--hover-bg-color);\n",
              "    box-shadow: 0 1px 2px rgba(60, 64, 67, 0.3), 0 1px 3px 1px rgba(60, 64, 67, 0.15);\n",
              "    fill: var(--button-hover-fill-color);\n",
              "  }\n",
              "\n",
              "  .colab-df-quickchart-complete:disabled,\n",
              "  .colab-df-quickchart-complete:disabled:hover {\n",
              "    background-color: var(--disabled-bg-color);\n",
              "    fill: var(--disabled-fill-color);\n",
              "    box-shadow: none;\n",
              "  }\n",
              "\n",
              "  .colab-df-spinner {\n",
              "    border: 2px solid var(--fill-color);\n",
              "    border-color: transparent;\n",
              "    border-bottom-color: var(--fill-color);\n",
              "    animation:\n",
              "      spin 1s steps(1) infinite;\n",
              "  }\n",
              "\n",
              "  @keyframes spin {\n",
              "    0% {\n",
              "      border-color: transparent;\n",
              "      border-bottom-color: var(--fill-color);\n",
              "      border-left-color: var(--fill-color);\n",
              "    }\n",
              "    20% {\n",
              "      border-color: transparent;\n",
              "      border-left-color: var(--fill-color);\n",
              "      border-top-color: var(--fill-color);\n",
              "    }\n",
              "    30% {\n",
              "      border-color: transparent;\n",
              "      border-left-color: var(--fill-color);\n",
              "      border-top-color: var(--fill-color);\n",
              "      border-right-color: var(--fill-color);\n",
              "    }\n",
              "    40% {\n",
              "      border-color: transparent;\n",
              "      border-right-color: var(--fill-color);\n",
              "      border-top-color: var(--fill-color);\n",
              "    }\n",
              "    60% {\n",
              "      border-color: transparent;\n",
              "      border-right-color: var(--fill-color);\n",
              "    }\n",
              "    80% {\n",
              "      border-color: transparent;\n",
              "      border-right-color: var(--fill-color);\n",
              "      border-bottom-color: var(--fill-color);\n",
              "    }\n",
              "    90% {\n",
              "      border-color: transparent;\n",
              "      border-bottom-color: var(--fill-color);\n",
              "    }\n",
              "  }\n",
              "</style>\n",
              "\n",
              "  <script>\n",
              "    async function quickchart(key) {\n",
              "      const quickchartButtonEl =\n",
              "        document.querySelector('#' + key + ' button');\n",
              "      quickchartButtonEl.disabled = true;  // To prevent multiple clicks.\n",
              "      quickchartButtonEl.classList.add('colab-df-spinner');\n",
              "      try {\n",
              "        const charts = await google.colab.kernel.invokeFunction(\n",
              "            'suggestCharts', [key], {});\n",
              "      } catch (error) {\n",
              "        console.error('Error during call to suggestCharts:', error);\n",
              "      }\n",
              "      quickchartButtonEl.classList.remove('colab-df-spinner');\n",
              "      quickchartButtonEl.classList.add('colab-df-quickchart-complete');\n",
              "    }\n",
              "    (() => {\n",
              "      let quickchartButtonEl =\n",
              "        document.querySelector('#df-47a54530-9d55-462b-9d7d-31b37f916fbf button');\n",
              "      quickchartButtonEl.style.display =\n",
              "        google.colab.kernel.accessAllowed ? 'block' : 'none';\n",
              "    })();\n",
              "  </script>\n",
              "</div>\n",
              "\n",
              "    </div>\n",
              "  </div>\n"
            ],
            "application/vnd.google.colaboratory.intrinsic+json": {
              "type": "dataframe",
              "variable_name": "df",
              "summary": "{\n  \"name\": \"df\",\n  \"rows\": 2772,\n  \"fields\": [\n    {\n      \"column\": 0,\n      \"properties\": {\n        \"dtype\": \"category\",\n        \"num_unique_values\": 48,\n        \"samples\": [\n          \"21\",\n          \"54\",\n          \"36\"\n        ],\n        \"semantic_type\": \"\",\n        \"description\": \"\"\n      }\n    },\n    {\n      \"column\": 1,\n      \"properties\": {\n        \"dtype\": \"number\",\n        \"std\": 0,\n        \"min\": 1,\n        \"max\": 2,\n        \"num_unique_values\": 2,\n        \"samples\": [\n          2,\n          1\n        ],\n        \"semantic_type\": \"\",\n        \"description\": \"\"\n      }\n    },\n    {\n      \"column\": 2,\n      \"properties\": {\n        \"dtype\": \"number\",\n        \"std\": 6.129448694965217,\n        \"min\": 15.96,\n        \"max\": 53.13,\n        \"num_unique_values\": 548,\n        \"samples\": [\n          23.18,\n          26.885\n        ],\n        \"semantic_type\": \"\",\n        \"description\": \"\"\n      }\n    },\n    {\n      \"column\": 3,\n      \"properties\": {\n        \"dtype\": \"number\",\n        \"std\": 1,\n        \"min\": 0,\n        \"max\": 5,\n        \"num_unique_values\": 6,\n        \"samples\": [\n          0,\n          1\n        ],\n        \"semantic_type\": \"\",\n        \"description\": \"\"\n      }\n    },\n    {\n      \"column\": 4,\n      \"properties\": {\n        \"dtype\": \"category\",\n        \"num_unique_values\": 3,\n        \"samples\": [\n          \"1\",\n          \"0\"\n        ],\n        \"semantic_type\": \"\",\n        \"description\": \"\"\n      }\n    },\n    {\n      \"column\": 5,\n      \"properties\": {\n        \"dtype\": \"number\",\n        \"std\": 1,\n        \"min\": 1,\n        \"max\": 4,\n        \"num_unique_values\": 4,\n        \"samples\": [\n          4,\n          2\n        ],\n        \"semantic_type\": \"\",\n        \"description\": \"\"\n      }\n    },\n    {\n      \"column\": 6,\n      \"properties\": {\n        \"dtype\": \"number\",\n        \"std\": 12151.768945168034,\n        \"min\": 1121.8739,\n        \"max\": 63770.42801,\n        \"num_unique_values\": 1337,\n        \"samples\": [\n          8688.85885,\n          5708.867\n        ],\n        \"semantic_type\": \"\",\n        \"description\": \"\"\n      }\n    }\n  ]\n}"
            }
          },
          "metadata": {},
          "execution_count": 4
        }
      ],
      "source": [
        "df=pd.read_csv(path, header=None)\n",
        "df.head()"
      ],
      "execution_count": 4
    },
    {
      "cell_type": "markdown",
      "metadata": {
        "id": "e6ccd2d7-c7e0-4690-ab7e-6099baa4e676"
      },
      "source": [
        "<details>\n",
        "    <summary>Click here for Solution</summary>\n",
        "\n",
        "```python\n",
        "df = pd.read_csv(path, header=None)\n",
        "print(df.head(10))\n",
        "```\n",
        "\n",
        "</details>\n"
      ]
    },
    {
      "cell_type": "markdown",
      "metadata": {
        "id": "397d549b-d998-4b47-bf49-14f0ed67f5c1"
      },
      "source": [
        "Add the headers to the dataframe, as mentioned in the project scenario.\n"
      ]
    },
    {
      "cell_type": "code",
      "metadata": {
        "colab": {
          "base_uri": "https://localhost:8080/",
          "height": 363
        },
        "id": "7b55cb26-5a6d-4d42-b370-792b81bd50dc",
        "outputId": "14864d13-522f-46e0-a520-fc05d75d5941"
      },
      "outputs": [
        {
          "output_type": "execute_result",
          "data": {
            "text/plain": [
              "  age  gender     bmi  no_of_children smoker  region      charges\n",
              "0  19       1  27.900               0      1       3  16884.92400\n",
              "1  18       2  33.770               1      0       4   1725.55230\n",
              "2  28       2  33.000               3      0       4   4449.46200\n",
              "3  33       2  22.705               0      0       1  21984.47061\n",
              "4  32       2  28.880               0      0       1   3866.85520\n",
              "5  31       1  25.740               0      ?       4   3756.62160\n",
              "6  46       1  33.440               1      0       4   8240.58960\n",
              "7  37       1  27.740               3      0       1   7281.50560\n",
              "8  37       2  29.830               2      0       2   6406.41070\n",
              "9  60       1  25.840               0      0       1  28923.13692"
            ],
            "text/html": [
              "\n",
              "  <div id=\"df-ee28a762-da39-4671-b277-e3e42f953713\" class=\"colab-df-container\">\n",
              "    <div>\n",
              "<style scoped>\n",
              "    .dataframe tbody tr th:only-of-type {\n",
              "        vertical-align: middle;\n",
              "    }\n",
              "\n",
              "    .dataframe tbody tr th {\n",
              "        vertical-align: top;\n",
              "    }\n",
              "\n",
              "    .dataframe thead th {\n",
              "        text-align: right;\n",
              "    }\n",
              "</style>\n",
              "<table border=\"1\" class=\"dataframe\">\n",
              "  <thead>\n",
              "    <tr style=\"text-align: right;\">\n",
              "      <th></th>\n",
              "      <th>age</th>\n",
              "      <th>gender</th>\n",
              "      <th>bmi</th>\n",
              "      <th>no_of_children</th>\n",
              "      <th>smoker</th>\n",
              "      <th>region</th>\n",
              "      <th>charges</th>\n",
              "    </tr>\n",
              "  </thead>\n",
              "  <tbody>\n",
              "    <tr>\n",
              "      <th>0</th>\n",
              "      <td>19</td>\n",
              "      <td>1</td>\n",
              "      <td>27.900</td>\n",
              "      <td>0</td>\n",
              "      <td>1</td>\n",
              "      <td>3</td>\n",
              "      <td>16884.92400</td>\n",
              "    </tr>\n",
              "    <tr>\n",
              "      <th>1</th>\n",
              "      <td>18</td>\n",
              "      <td>2</td>\n",
              "      <td>33.770</td>\n",
              "      <td>1</td>\n",
              "      <td>0</td>\n",
              "      <td>4</td>\n",
              "      <td>1725.55230</td>\n",
              "    </tr>\n",
              "    <tr>\n",
              "      <th>2</th>\n",
              "      <td>28</td>\n",
              "      <td>2</td>\n",
              "      <td>33.000</td>\n",
              "      <td>3</td>\n",
              "      <td>0</td>\n",
              "      <td>4</td>\n",
              "      <td>4449.46200</td>\n",
              "    </tr>\n",
              "    <tr>\n",
              "      <th>3</th>\n",
              "      <td>33</td>\n",
              "      <td>2</td>\n",
              "      <td>22.705</td>\n",
              "      <td>0</td>\n",
              "      <td>0</td>\n",
              "      <td>1</td>\n",
              "      <td>21984.47061</td>\n",
              "    </tr>\n",
              "    <tr>\n",
              "      <th>4</th>\n",
              "      <td>32</td>\n",
              "      <td>2</td>\n",
              "      <td>28.880</td>\n",
              "      <td>0</td>\n",
              "      <td>0</td>\n",
              "      <td>1</td>\n",
              "      <td>3866.85520</td>\n",
              "    </tr>\n",
              "    <tr>\n",
              "      <th>5</th>\n",
              "      <td>31</td>\n",
              "      <td>1</td>\n",
              "      <td>25.740</td>\n",
              "      <td>0</td>\n",
              "      <td>?</td>\n",
              "      <td>4</td>\n",
              "      <td>3756.62160</td>\n",
              "    </tr>\n",
              "    <tr>\n",
              "      <th>6</th>\n",
              "      <td>46</td>\n",
              "      <td>1</td>\n",
              "      <td>33.440</td>\n",
              "      <td>1</td>\n",
              "      <td>0</td>\n",
              "      <td>4</td>\n",
              "      <td>8240.58960</td>\n",
              "    </tr>\n",
              "    <tr>\n",
              "      <th>7</th>\n",
              "      <td>37</td>\n",
              "      <td>1</td>\n",
              "      <td>27.740</td>\n",
              "      <td>3</td>\n",
              "      <td>0</td>\n",
              "      <td>1</td>\n",
              "      <td>7281.50560</td>\n",
              "    </tr>\n",
              "    <tr>\n",
              "      <th>8</th>\n",
              "      <td>37</td>\n",
              "      <td>2</td>\n",
              "      <td>29.830</td>\n",
              "      <td>2</td>\n",
              "      <td>0</td>\n",
              "      <td>2</td>\n",
              "      <td>6406.41070</td>\n",
              "    </tr>\n",
              "    <tr>\n",
              "      <th>9</th>\n",
              "      <td>60</td>\n",
              "      <td>1</td>\n",
              "      <td>25.840</td>\n",
              "      <td>0</td>\n",
              "      <td>0</td>\n",
              "      <td>1</td>\n",
              "      <td>28923.13692</td>\n",
              "    </tr>\n",
              "  </tbody>\n",
              "</table>\n",
              "</div>\n",
              "    <div class=\"colab-df-buttons\">\n",
              "\n",
              "  <div class=\"colab-df-container\">\n",
              "    <button class=\"colab-df-convert\" onclick=\"convertToInteractive('df-ee28a762-da39-4671-b277-e3e42f953713')\"\n",
              "            title=\"Convert this dataframe to an interactive table.\"\n",
              "            style=\"display:none;\">\n",
              "\n",
              "  <svg xmlns=\"http://www.w3.org/2000/svg\" height=\"24px\" viewBox=\"0 -960 960 960\">\n",
              "    <path d=\"M120-120v-720h720v720H120Zm60-500h600v-160H180v160Zm220 220h160v-160H400v160Zm0 220h160v-160H400v160ZM180-400h160v-160H180v160Zm440 0h160v-160H620v160ZM180-180h160v-160H180v160Zm440 0h160v-160H620v160Z\"/>\n",
              "  </svg>\n",
              "    </button>\n",
              "\n",
              "  <style>\n",
              "    .colab-df-container {\n",
              "      display:flex;\n",
              "      gap: 12px;\n",
              "    }\n",
              "\n",
              "    .colab-df-convert {\n",
              "      background-color: #E8F0FE;\n",
              "      border: none;\n",
              "      border-radius: 50%;\n",
              "      cursor: pointer;\n",
              "      display: none;\n",
              "      fill: #1967D2;\n",
              "      height: 32px;\n",
              "      padding: 0 0 0 0;\n",
              "      width: 32px;\n",
              "    }\n",
              "\n",
              "    .colab-df-convert:hover {\n",
              "      background-color: #E2EBFA;\n",
              "      box-shadow: 0px 1px 2px rgba(60, 64, 67, 0.3), 0px 1px 3px 1px rgba(60, 64, 67, 0.15);\n",
              "      fill: #174EA6;\n",
              "    }\n",
              "\n",
              "    .colab-df-buttons div {\n",
              "      margin-bottom: 4px;\n",
              "    }\n",
              "\n",
              "    [theme=dark] .colab-df-convert {\n",
              "      background-color: #3B4455;\n",
              "      fill: #D2E3FC;\n",
              "    }\n",
              "\n",
              "    [theme=dark] .colab-df-convert:hover {\n",
              "      background-color: #434B5C;\n",
              "      box-shadow: 0px 1px 3px 1px rgba(0, 0, 0, 0.15);\n",
              "      filter: drop-shadow(0px 1px 2px rgba(0, 0, 0, 0.3));\n",
              "      fill: #FFFFFF;\n",
              "    }\n",
              "  </style>\n",
              "\n",
              "    <script>\n",
              "      const buttonEl =\n",
              "        document.querySelector('#df-ee28a762-da39-4671-b277-e3e42f953713 button.colab-df-convert');\n",
              "      buttonEl.style.display =\n",
              "        google.colab.kernel.accessAllowed ? 'block' : 'none';\n",
              "\n",
              "      async function convertToInteractive(key) {\n",
              "        const element = document.querySelector('#df-ee28a762-da39-4671-b277-e3e42f953713');\n",
              "        const dataTable =\n",
              "          await google.colab.kernel.invokeFunction('convertToInteractive',\n",
              "                                                    [key], {});\n",
              "        if (!dataTable) return;\n",
              "\n",
              "        const docLinkHtml = 'Like what you see? Visit the ' +\n",
              "          '<a target=\"_blank\" href=https://colab.research.google.com/notebooks/data_table.ipynb>data table notebook</a>'\n",
              "          + ' to learn more about interactive tables.';\n",
              "        element.innerHTML = '';\n",
              "        dataTable['output_type'] = 'display_data';\n",
              "        await google.colab.output.renderOutput(dataTable, element);\n",
              "        const docLink = document.createElement('div');\n",
              "        docLink.innerHTML = docLinkHtml;\n",
              "        element.appendChild(docLink);\n",
              "      }\n",
              "    </script>\n",
              "  </div>\n",
              "\n",
              "\n",
              "<div id=\"df-adc3a2fd-692b-48c3-ad87-7f2b1eb14346\">\n",
              "  <button class=\"colab-df-quickchart\" onclick=\"quickchart('df-adc3a2fd-692b-48c3-ad87-7f2b1eb14346')\"\n",
              "            title=\"Suggest charts\"\n",
              "            style=\"display:none;\">\n",
              "\n",
              "<svg xmlns=\"http://www.w3.org/2000/svg\" height=\"24px\"viewBox=\"0 0 24 24\"\n",
              "     width=\"24px\">\n",
              "    <g>\n",
              "        <path d=\"M19 3H5c-1.1 0-2 .9-2 2v14c0 1.1.9 2 2 2h14c1.1 0 2-.9 2-2V5c0-1.1-.9-2-2-2zM9 17H7v-7h2v7zm4 0h-2V7h2v10zm4 0h-2v-4h2v4z\"/>\n",
              "    </g>\n",
              "</svg>\n",
              "  </button>\n",
              "\n",
              "<style>\n",
              "  .colab-df-quickchart {\n",
              "      --bg-color: #E8F0FE;\n",
              "      --fill-color: #1967D2;\n",
              "      --hover-bg-color: #E2EBFA;\n",
              "      --hover-fill-color: #174EA6;\n",
              "      --disabled-fill-color: #AAA;\n",
              "      --disabled-bg-color: #DDD;\n",
              "  }\n",
              "\n",
              "  [theme=dark] .colab-df-quickchart {\n",
              "      --bg-color: #3B4455;\n",
              "      --fill-color: #D2E3FC;\n",
              "      --hover-bg-color: #434B5C;\n",
              "      --hover-fill-color: #FFFFFF;\n",
              "      --disabled-bg-color: #3B4455;\n",
              "      --disabled-fill-color: #666;\n",
              "  }\n",
              "\n",
              "  .colab-df-quickchart {\n",
              "    background-color: var(--bg-color);\n",
              "    border: none;\n",
              "    border-radius: 50%;\n",
              "    cursor: pointer;\n",
              "    display: none;\n",
              "    fill: var(--fill-color);\n",
              "    height: 32px;\n",
              "    padding: 0;\n",
              "    width: 32px;\n",
              "  }\n",
              "\n",
              "  .colab-df-quickchart:hover {\n",
              "    background-color: var(--hover-bg-color);\n",
              "    box-shadow: 0 1px 2px rgba(60, 64, 67, 0.3), 0 1px 3px 1px rgba(60, 64, 67, 0.15);\n",
              "    fill: var(--button-hover-fill-color);\n",
              "  }\n",
              "\n",
              "  .colab-df-quickchart-complete:disabled,\n",
              "  .colab-df-quickchart-complete:disabled:hover {\n",
              "    background-color: var(--disabled-bg-color);\n",
              "    fill: var(--disabled-fill-color);\n",
              "    box-shadow: none;\n",
              "  }\n",
              "\n",
              "  .colab-df-spinner {\n",
              "    border: 2px solid var(--fill-color);\n",
              "    border-color: transparent;\n",
              "    border-bottom-color: var(--fill-color);\n",
              "    animation:\n",
              "      spin 1s steps(1) infinite;\n",
              "  }\n",
              "\n",
              "  @keyframes spin {\n",
              "    0% {\n",
              "      border-color: transparent;\n",
              "      border-bottom-color: var(--fill-color);\n",
              "      border-left-color: var(--fill-color);\n",
              "    }\n",
              "    20% {\n",
              "      border-color: transparent;\n",
              "      border-left-color: var(--fill-color);\n",
              "      border-top-color: var(--fill-color);\n",
              "    }\n",
              "    30% {\n",
              "      border-color: transparent;\n",
              "      border-left-color: var(--fill-color);\n",
              "      border-top-color: var(--fill-color);\n",
              "      border-right-color: var(--fill-color);\n",
              "    }\n",
              "    40% {\n",
              "      border-color: transparent;\n",
              "      border-right-color: var(--fill-color);\n",
              "      border-top-color: var(--fill-color);\n",
              "    }\n",
              "    60% {\n",
              "      border-color: transparent;\n",
              "      border-right-color: var(--fill-color);\n",
              "    }\n",
              "    80% {\n",
              "      border-color: transparent;\n",
              "      border-right-color: var(--fill-color);\n",
              "      border-bottom-color: var(--fill-color);\n",
              "    }\n",
              "    90% {\n",
              "      border-color: transparent;\n",
              "      border-bottom-color: var(--fill-color);\n",
              "    }\n",
              "  }\n",
              "</style>\n",
              "\n",
              "  <script>\n",
              "    async function quickchart(key) {\n",
              "      const quickchartButtonEl =\n",
              "        document.querySelector('#' + key + ' button');\n",
              "      quickchartButtonEl.disabled = true;  // To prevent multiple clicks.\n",
              "      quickchartButtonEl.classList.add('colab-df-spinner');\n",
              "      try {\n",
              "        const charts = await google.colab.kernel.invokeFunction(\n",
              "            'suggestCharts', [key], {});\n",
              "      } catch (error) {\n",
              "        console.error('Error during call to suggestCharts:', error);\n",
              "      }\n",
              "      quickchartButtonEl.classList.remove('colab-df-spinner');\n",
              "      quickchartButtonEl.classList.add('colab-df-quickchart-complete');\n",
              "    }\n",
              "    (() => {\n",
              "      let quickchartButtonEl =\n",
              "        document.querySelector('#df-adc3a2fd-692b-48c3-ad87-7f2b1eb14346 button');\n",
              "      quickchartButtonEl.style.display =\n",
              "        google.colab.kernel.accessAllowed ? 'block' : 'none';\n",
              "    })();\n",
              "  </script>\n",
              "</div>\n",
              "\n",
              "    </div>\n",
              "  </div>\n"
            ],
            "application/vnd.google.colaboratory.intrinsic+json": {
              "type": "dataframe",
              "variable_name": "df",
              "summary": "{\n  \"name\": \"df\",\n  \"rows\": 2772,\n  \"fields\": [\n    {\n      \"column\": \"age\",\n      \"properties\": {\n        \"dtype\": \"category\",\n        \"num_unique_values\": 48,\n        \"samples\": [\n          \"21\",\n          \"54\",\n          \"36\"\n        ],\n        \"semantic_type\": \"\",\n        \"description\": \"\"\n      }\n    },\n    {\n      \"column\": \"gender\",\n      \"properties\": {\n        \"dtype\": \"number\",\n        \"std\": 0,\n        \"min\": 1,\n        \"max\": 2,\n        \"num_unique_values\": 2,\n        \"samples\": [\n          2,\n          1\n        ],\n        \"semantic_type\": \"\",\n        \"description\": \"\"\n      }\n    },\n    {\n      \"column\": \"bmi\",\n      \"properties\": {\n        \"dtype\": \"number\",\n        \"std\": 6.129448694965217,\n        \"min\": 15.96,\n        \"max\": 53.13,\n        \"num_unique_values\": 548,\n        \"samples\": [\n          23.18,\n          26.885\n        ],\n        \"semantic_type\": \"\",\n        \"description\": \"\"\n      }\n    },\n    {\n      \"column\": \"no_of_children\",\n      \"properties\": {\n        \"dtype\": \"number\",\n        \"std\": 1,\n        \"min\": 0,\n        \"max\": 5,\n        \"num_unique_values\": 6,\n        \"samples\": [\n          0,\n          1\n        ],\n        \"semantic_type\": \"\",\n        \"description\": \"\"\n      }\n    },\n    {\n      \"column\": \"smoker\",\n      \"properties\": {\n        \"dtype\": \"category\",\n        \"num_unique_values\": 3,\n        \"samples\": [\n          \"1\",\n          \"0\"\n        ],\n        \"semantic_type\": \"\",\n        \"description\": \"\"\n      }\n    },\n    {\n      \"column\": \"region\",\n      \"properties\": {\n        \"dtype\": \"number\",\n        \"std\": 1,\n        \"min\": 1,\n        \"max\": 4,\n        \"num_unique_values\": 4,\n        \"samples\": [\n          4,\n          2\n        ],\n        \"semantic_type\": \"\",\n        \"description\": \"\"\n      }\n    },\n    {\n      \"column\": \"charges\",\n      \"properties\": {\n        \"dtype\": \"number\",\n        \"std\": 12151.768945168034,\n        \"min\": 1121.8739,\n        \"max\": 63770.42801,\n        \"num_unique_values\": 1337,\n        \"samples\": [\n          8688.85885,\n          5708.867\n        ],\n        \"semantic_type\": \"\",\n        \"description\": \"\"\n      }\n    }\n  ]\n}"
            }
          },
          "metadata": {},
          "execution_count": 5
        }
      ],
      "source": [
        "# Step 1: define the headers based on the table provided above\n",
        "headers=['age', 'gender', 'bmi','no_of_children','smoker','region','charges']\n",
        "# Replace the default headers\n",
        "df.columns=headers\n",
        "# Check again the dataframe\n",
        "df.head(10)"
      ],
      "execution_count": 5
    },
    {
      "cell_type": "markdown",
      "metadata": {
        "id": "ca4a8ef0-3a1d-416f-9341-f934ab6683d2"
      },
      "source": [
        "<details>\n",
        "    <summary>Click here for Solution</summary>\n",
        "\n",
        "```python\n",
        "headers = [\"age\", \"gender\", \"bmi\", \"no_of_children\", \"smoker\", \"region\", \"charges\"]\n",
        "df.columns = headers\n",
        "```\n",
        "\n",
        "</details>\n"
      ]
    },
    {
      "cell_type": "markdown",
      "metadata": {
        "id": "34ef47c6-93e1-4bfa-8c0d-816733587559"
      },
      "source": [
        "Now, replace the '?' entries with 'NaN' values.\n"
      ]
    },
    {
      "cell_type": "code",
      "metadata": {
        "colab": {
          "base_uri": "https://localhost:8080/",
          "height": 363
        },
        "id": "b93d3eb8-1954-4203-a001-467363c07e48",
        "outputId": "7c94db40-5215-4b90-d62d-4f2580cfd645"
      },
      "outputs": [
        {
          "output_type": "execute_result",
          "data": {
            "text/plain": [
              "  age  gender     bmi  no_of_children smoker  region      charges\n",
              "0  19       1  27.900               0      1       3  16884.92400\n",
              "1  18       2  33.770               1      0       4   1725.55230\n",
              "2  28       2  33.000               3      0       4   4449.46200\n",
              "3  33       2  22.705               0      0       1  21984.47061\n",
              "4  32       2  28.880               0      0       1   3866.85520\n",
              "5  31       1  25.740               0    NaN       4   3756.62160\n",
              "6  46       1  33.440               1      0       4   8240.58960\n",
              "7  37       1  27.740               3      0       1   7281.50560\n",
              "8  37       2  29.830               2      0       2   6406.41070\n",
              "9  60       1  25.840               0      0       1  28923.13692"
            ],
            "text/html": [
              "\n",
              "  <div id=\"df-c768e24c-78d5-4f79-b4f9-8a4a14e2a11b\" class=\"colab-df-container\">\n",
              "    <div>\n",
              "<style scoped>\n",
              "    .dataframe tbody tr th:only-of-type {\n",
              "        vertical-align: middle;\n",
              "    }\n",
              "\n",
              "    .dataframe tbody tr th {\n",
              "        vertical-align: top;\n",
              "    }\n",
              "\n",
              "    .dataframe thead th {\n",
              "        text-align: right;\n",
              "    }\n",
              "</style>\n",
              "<table border=\"1\" class=\"dataframe\">\n",
              "  <thead>\n",
              "    <tr style=\"text-align: right;\">\n",
              "      <th></th>\n",
              "      <th>age</th>\n",
              "      <th>gender</th>\n",
              "      <th>bmi</th>\n",
              "      <th>no_of_children</th>\n",
              "      <th>smoker</th>\n",
              "      <th>region</th>\n",
              "      <th>charges</th>\n",
              "    </tr>\n",
              "  </thead>\n",
              "  <tbody>\n",
              "    <tr>\n",
              "      <th>0</th>\n",
              "      <td>19</td>\n",
              "      <td>1</td>\n",
              "      <td>27.900</td>\n",
              "      <td>0</td>\n",
              "      <td>1</td>\n",
              "      <td>3</td>\n",
              "      <td>16884.92400</td>\n",
              "    </tr>\n",
              "    <tr>\n",
              "      <th>1</th>\n",
              "      <td>18</td>\n",
              "      <td>2</td>\n",
              "      <td>33.770</td>\n",
              "      <td>1</td>\n",
              "      <td>0</td>\n",
              "      <td>4</td>\n",
              "      <td>1725.55230</td>\n",
              "    </tr>\n",
              "    <tr>\n",
              "      <th>2</th>\n",
              "      <td>28</td>\n",
              "      <td>2</td>\n",
              "      <td>33.000</td>\n",
              "      <td>3</td>\n",
              "      <td>0</td>\n",
              "      <td>4</td>\n",
              "      <td>4449.46200</td>\n",
              "    </tr>\n",
              "    <tr>\n",
              "      <th>3</th>\n",
              "      <td>33</td>\n",
              "      <td>2</td>\n",
              "      <td>22.705</td>\n",
              "      <td>0</td>\n",
              "      <td>0</td>\n",
              "      <td>1</td>\n",
              "      <td>21984.47061</td>\n",
              "    </tr>\n",
              "    <tr>\n",
              "      <th>4</th>\n",
              "      <td>32</td>\n",
              "      <td>2</td>\n",
              "      <td>28.880</td>\n",
              "      <td>0</td>\n",
              "      <td>0</td>\n",
              "      <td>1</td>\n",
              "      <td>3866.85520</td>\n",
              "    </tr>\n",
              "    <tr>\n",
              "      <th>5</th>\n",
              "      <td>31</td>\n",
              "      <td>1</td>\n",
              "      <td>25.740</td>\n",
              "      <td>0</td>\n",
              "      <td>NaN</td>\n",
              "      <td>4</td>\n",
              "      <td>3756.62160</td>\n",
              "    </tr>\n",
              "    <tr>\n",
              "      <th>6</th>\n",
              "      <td>46</td>\n",
              "      <td>1</td>\n",
              "      <td>33.440</td>\n",
              "      <td>1</td>\n",
              "      <td>0</td>\n",
              "      <td>4</td>\n",
              "      <td>8240.58960</td>\n",
              "    </tr>\n",
              "    <tr>\n",
              "      <th>7</th>\n",
              "      <td>37</td>\n",
              "      <td>1</td>\n",
              "      <td>27.740</td>\n",
              "      <td>3</td>\n",
              "      <td>0</td>\n",
              "      <td>1</td>\n",
              "      <td>7281.50560</td>\n",
              "    </tr>\n",
              "    <tr>\n",
              "      <th>8</th>\n",
              "      <td>37</td>\n",
              "      <td>2</td>\n",
              "      <td>29.830</td>\n",
              "      <td>2</td>\n",
              "      <td>0</td>\n",
              "      <td>2</td>\n",
              "      <td>6406.41070</td>\n",
              "    </tr>\n",
              "    <tr>\n",
              "      <th>9</th>\n",
              "      <td>60</td>\n",
              "      <td>1</td>\n",
              "      <td>25.840</td>\n",
              "      <td>0</td>\n",
              "      <td>0</td>\n",
              "      <td>1</td>\n",
              "      <td>28923.13692</td>\n",
              "    </tr>\n",
              "  </tbody>\n",
              "</table>\n",
              "</div>\n",
              "    <div class=\"colab-df-buttons\">\n",
              "\n",
              "  <div class=\"colab-df-container\">\n",
              "    <button class=\"colab-df-convert\" onclick=\"convertToInteractive('df-c768e24c-78d5-4f79-b4f9-8a4a14e2a11b')\"\n",
              "            title=\"Convert this dataframe to an interactive table.\"\n",
              "            style=\"display:none;\">\n",
              "\n",
              "  <svg xmlns=\"http://www.w3.org/2000/svg\" height=\"24px\" viewBox=\"0 -960 960 960\">\n",
              "    <path d=\"M120-120v-720h720v720H120Zm60-500h600v-160H180v160Zm220 220h160v-160H400v160Zm0 220h160v-160H400v160ZM180-400h160v-160H180v160Zm440 0h160v-160H620v160ZM180-180h160v-160H180v160Zm440 0h160v-160H620v160Z\"/>\n",
              "  </svg>\n",
              "    </button>\n",
              "\n",
              "  <style>\n",
              "    .colab-df-container {\n",
              "      display:flex;\n",
              "      gap: 12px;\n",
              "    }\n",
              "\n",
              "    .colab-df-convert {\n",
              "      background-color: #E8F0FE;\n",
              "      border: none;\n",
              "      border-radius: 50%;\n",
              "      cursor: pointer;\n",
              "      display: none;\n",
              "      fill: #1967D2;\n",
              "      height: 32px;\n",
              "      padding: 0 0 0 0;\n",
              "      width: 32px;\n",
              "    }\n",
              "\n",
              "    .colab-df-convert:hover {\n",
              "      background-color: #E2EBFA;\n",
              "      box-shadow: 0px 1px 2px rgba(60, 64, 67, 0.3), 0px 1px 3px 1px rgba(60, 64, 67, 0.15);\n",
              "      fill: #174EA6;\n",
              "    }\n",
              "\n",
              "    .colab-df-buttons div {\n",
              "      margin-bottom: 4px;\n",
              "    }\n",
              "\n",
              "    [theme=dark] .colab-df-convert {\n",
              "      background-color: #3B4455;\n",
              "      fill: #D2E3FC;\n",
              "    }\n",
              "\n",
              "    [theme=dark] .colab-df-convert:hover {\n",
              "      background-color: #434B5C;\n",
              "      box-shadow: 0px 1px 3px 1px rgba(0, 0, 0, 0.15);\n",
              "      filter: drop-shadow(0px 1px 2px rgba(0, 0, 0, 0.3));\n",
              "      fill: #FFFFFF;\n",
              "    }\n",
              "  </style>\n",
              "\n",
              "    <script>\n",
              "      const buttonEl =\n",
              "        document.querySelector('#df-c768e24c-78d5-4f79-b4f9-8a4a14e2a11b button.colab-df-convert');\n",
              "      buttonEl.style.display =\n",
              "        google.colab.kernel.accessAllowed ? 'block' : 'none';\n",
              "\n",
              "      async function convertToInteractive(key) {\n",
              "        const element = document.querySelector('#df-c768e24c-78d5-4f79-b4f9-8a4a14e2a11b');\n",
              "        const dataTable =\n",
              "          await google.colab.kernel.invokeFunction('convertToInteractive',\n",
              "                                                    [key], {});\n",
              "        if (!dataTable) return;\n",
              "\n",
              "        const docLinkHtml = 'Like what you see? Visit the ' +\n",
              "          '<a target=\"_blank\" href=https://colab.research.google.com/notebooks/data_table.ipynb>data table notebook</a>'\n",
              "          + ' to learn more about interactive tables.';\n",
              "        element.innerHTML = '';\n",
              "        dataTable['output_type'] = 'display_data';\n",
              "        await google.colab.output.renderOutput(dataTable, element);\n",
              "        const docLink = document.createElement('div');\n",
              "        docLink.innerHTML = docLinkHtml;\n",
              "        element.appendChild(docLink);\n",
              "      }\n",
              "    </script>\n",
              "  </div>\n",
              "\n",
              "\n",
              "<div id=\"df-a58f60e4-8193-4e3c-bb06-de15d0fd1930\">\n",
              "  <button class=\"colab-df-quickchart\" onclick=\"quickchart('df-a58f60e4-8193-4e3c-bb06-de15d0fd1930')\"\n",
              "            title=\"Suggest charts\"\n",
              "            style=\"display:none;\">\n",
              "\n",
              "<svg xmlns=\"http://www.w3.org/2000/svg\" height=\"24px\"viewBox=\"0 0 24 24\"\n",
              "     width=\"24px\">\n",
              "    <g>\n",
              "        <path d=\"M19 3H5c-1.1 0-2 .9-2 2v14c0 1.1.9 2 2 2h14c1.1 0 2-.9 2-2V5c0-1.1-.9-2-2-2zM9 17H7v-7h2v7zm4 0h-2V7h2v10zm4 0h-2v-4h2v4z\"/>\n",
              "    </g>\n",
              "</svg>\n",
              "  </button>\n",
              "\n",
              "<style>\n",
              "  .colab-df-quickchart {\n",
              "      --bg-color: #E8F0FE;\n",
              "      --fill-color: #1967D2;\n",
              "      --hover-bg-color: #E2EBFA;\n",
              "      --hover-fill-color: #174EA6;\n",
              "      --disabled-fill-color: #AAA;\n",
              "      --disabled-bg-color: #DDD;\n",
              "  }\n",
              "\n",
              "  [theme=dark] .colab-df-quickchart {\n",
              "      --bg-color: #3B4455;\n",
              "      --fill-color: #D2E3FC;\n",
              "      --hover-bg-color: #434B5C;\n",
              "      --hover-fill-color: #FFFFFF;\n",
              "      --disabled-bg-color: #3B4455;\n",
              "      --disabled-fill-color: #666;\n",
              "  }\n",
              "\n",
              "  .colab-df-quickchart {\n",
              "    background-color: var(--bg-color);\n",
              "    border: none;\n",
              "    border-radius: 50%;\n",
              "    cursor: pointer;\n",
              "    display: none;\n",
              "    fill: var(--fill-color);\n",
              "    height: 32px;\n",
              "    padding: 0;\n",
              "    width: 32px;\n",
              "  }\n",
              "\n",
              "  .colab-df-quickchart:hover {\n",
              "    background-color: var(--hover-bg-color);\n",
              "    box-shadow: 0 1px 2px rgba(60, 64, 67, 0.3), 0 1px 3px 1px rgba(60, 64, 67, 0.15);\n",
              "    fill: var(--button-hover-fill-color);\n",
              "  }\n",
              "\n",
              "  .colab-df-quickchart-complete:disabled,\n",
              "  .colab-df-quickchart-complete:disabled:hover {\n",
              "    background-color: var(--disabled-bg-color);\n",
              "    fill: var(--disabled-fill-color);\n",
              "    box-shadow: none;\n",
              "  }\n",
              "\n",
              "  .colab-df-spinner {\n",
              "    border: 2px solid var(--fill-color);\n",
              "    border-color: transparent;\n",
              "    border-bottom-color: var(--fill-color);\n",
              "    animation:\n",
              "      spin 1s steps(1) infinite;\n",
              "  }\n",
              "\n",
              "  @keyframes spin {\n",
              "    0% {\n",
              "      border-color: transparent;\n",
              "      border-bottom-color: var(--fill-color);\n",
              "      border-left-color: var(--fill-color);\n",
              "    }\n",
              "    20% {\n",
              "      border-color: transparent;\n",
              "      border-left-color: var(--fill-color);\n",
              "      border-top-color: var(--fill-color);\n",
              "    }\n",
              "    30% {\n",
              "      border-color: transparent;\n",
              "      border-left-color: var(--fill-color);\n",
              "      border-top-color: var(--fill-color);\n",
              "      border-right-color: var(--fill-color);\n",
              "    }\n",
              "    40% {\n",
              "      border-color: transparent;\n",
              "      border-right-color: var(--fill-color);\n",
              "      border-top-color: var(--fill-color);\n",
              "    }\n",
              "    60% {\n",
              "      border-color: transparent;\n",
              "      border-right-color: var(--fill-color);\n",
              "    }\n",
              "    80% {\n",
              "      border-color: transparent;\n",
              "      border-right-color: var(--fill-color);\n",
              "      border-bottom-color: var(--fill-color);\n",
              "    }\n",
              "    90% {\n",
              "      border-color: transparent;\n",
              "      border-bottom-color: var(--fill-color);\n",
              "    }\n",
              "  }\n",
              "</style>\n",
              "\n",
              "  <script>\n",
              "    async function quickchart(key) {\n",
              "      const quickchartButtonEl =\n",
              "        document.querySelector('#' + key + ' button');\n",
              "      quickchartButtonEl.disabled = true;  // To prevent multiple clicks.\n",
              "      quickchartButtonEl.classList.add('colab-df-spinner');\n",
              "      try {\n",
              "        const charts = await google.colab.kernel.invokeFunction(\n",
              "            'suggestCharts', [key], {});\n",
              "      } catch (error) {\n",
              "        console.error('Error during call to suggestCharts:', error);\n",
              "      }\n",
              "      quickchartButtonEl.classList.remove('colab-df-spinner');\n",
              "      quickchartButtonEl.classList.add('colab-df-quickchart-complete');\n",
              "    }\n",
              "    (() => {\n",
              "      let quickchartButtonEl =\n",
              "        document.querySelector('#df-a58f60e4-8193-4e3c-bb06-de15d0fd1930 button');\n",
              "      quickchartButtonEl.style.display =\n",
              "        google.colab.kernel.accessAllowed ? 'block' : 'none';\n",
              "    })();\n",
              "  </script>\n",
              "</div>\n",
              "\n",
              "    </div>\n",
              "  </div>\n"
            ],
            "application/vnd.google.colaboratory.intrinsic+json": {
              "type": "dataframe",
              "variable_name": "df",
              "summary": "{\n  \"name\": \"df\",\n  \"rows\": 2772,\n  \"fields\": [\n    {\n      \"column\": \"age\",\n      \"properties\": {\n        \"dtype\": \"category\",\n        \"num_unique_values\": 47,\n        \"samples\": [\n          \"21\",\n          \"45\",\n          \"36\"\n        ],\n        \"semantic_type\": \"\",\n        \"description\": \"\"\n      }\n    },\n    {\n      \"column\": \"gender\",\n      \"properties\": {\n        \"dtype\": \"number\",\n        \"std\": 0,\n        \"min\": 1,\n        \"max\": 2,\n        \"num_unique_values\": 2,\n        \"samples\": [\n          2,\n          1\n        ],\n        \"semantic_type\": \"\",\n        \"description\": \"\"\n      }\n    },\n    {\n      \"column\": \"bmi\",\n      \"properties\": {\n        \"dtype\": \"number\",\n        \"std\": 6.129448694965217,\n        \"min\": 15.96,\n        \"max\": 53.13,\n        \"num_unique_values\": 548,\n        \"samples\": [\n          23.18,\n          26.885\n        ],\n        \"semantic_type\": \"\",\n        \"description\": \"\"\n      }\n    },\n    {\n      \"column\": \"no_of_children\",\n      \"properties\": {\n        \"dtype\": \"number\",\n        \"std\": 1,\n        \"min\": 0,\n        \"max\": 5,\n        \"num_unique_values\": 6,\n        \"samples\": [\n          0,\n          1\n        ],\n        \"semantic_type\": \"\",\n        \"description\": \"\"\n      }\n    },\n    {\n      \"column\": \"smoker\",\n      \"properties\": {\n        \"dtype\": \"category\",\n        \"num_unique_values\": 2,\n        \"samples\": [\n          \"0\",\n          \"1\"\n        ],\n        \"semantic_type\": \"\",\n        \"description\": \"\"\n      }\n    },\n    {\n      \"column\": \"region\",\n      \"properties\": {\n        \"dtype\": \"number\",\n        \"std\": 1,\n        \"min\": 1,\n        \"max\": 4,\n        \"num_unique_values\": 4,\n        \"samples\": [\n          4,\n          2\n        ],\n        \"semantic_type\": \"\",\n        \"description\": \"\"\n      }\n    },\n    {\n      \"column\": \"charges\",\n      \"properties\": {\n        \"dtype\": \"number\",\n        \"std\": 12151.768945168034,\n        \"min\": 1121.8739,\n        \"max\": 63770.42801,\n        \"num_unique_values\": 1337,\n        \"samples\": [\n          8688.85885,\n          5708.867\n        ],\n        \"semantic_type\": \"\",\n        \"description\": \"\"\n      }\n    }\n  ]\n}"
            }
          },
          "metadata": {},
          "execution_count": 6
        }
      ],
      "source": [
        "# Step 1: use the method .replace\n",
        "df.replace('?',np.NaN,inplace=True)\n",
        "# Step 2: check again the dataframe, see that line 5 changed from ? to NaN in smoker\n",
        "df.head(10)"
      ],
      "execution_count": 6
    },
    {
      "cell_type": "markdown",
      "metadata": {
        "id": "d755db34-6799-4f82-b500-3ab4f6cb281d"
      },
      "source": [
        "<details>\n",
        "    <summary>Click here for Solution</summary>\n",
        "\n",
        "```python\n",
        "df.replace('?', np.nan, inplace = True)\n",
        "```\n",
        "\n",
        "</details>\n"
      ]
    },
    {
      "cell_type": "markdown",
      "metadata": {
        "id": "9ba9548b-3bd3-4310-8b69-5591deba8928"
      },
      "source": [
        "# Task 2 : Data Wrangling\n"
      ]
    },
    {
      "cell_type": "markdown",
      "metadata": {
        "id": "1a307170-dfae-4bd9-8668-ab759b475958"
      },
      "source": [
        "Use `dataframe.info()` to identify the columns that have some 'Null' (or NaN) information.\n"
      ]
    },
    {
      "cell_type": "code",
      "metadata": {
        "colab": {
          "base_uri": "https://localhost:8080/"
        },
        "id": "4e324742-9106-464f-b689-c5af987642ab",
        "outputId": "ce97554a-8401-44a6-9b2a-16b08fcf15d8"
      },
      "outputs": [
        {
          "output_type": "stream",
          "name": "stdout",
          "text": [
            "<class 'pandas.core.frame.DataFrame'>\n",
            "RangeIndex: 2772 entries, 0 to 2771\n",
            "Data columns (total 7 columns):\n",
            " #   Column          Non-Null Count  Dtype  \n",
            "---  ------          --------------  -----  \n",
            " 0   age             2768 non-null   object \n",
            " 1   gender          2772 non-null   int64  \n",
            " 2   bmi             2772 non-null   float64\n",
            " 3   no_of_children  2772 non-null   int64  \n",
            " 4   smoker          2765 non-null   object \n",
            " 5   region          2772 non-null   int64  \n",
            " 6   charges         2772 non-null   float64\n",
            "dtypes: float64(2), int64(3), object(2)\n",
            "memory usage: 151.7+ KB\n"
          ]
        }
      ],
      "source": [
        "df.info()"
      ],
      "execution_count": 7
    },
    {
      "cell_type": "markdown",
      "metadata": {
        "id": "83ec1324-216b-4f9a-a809-879a7ba282bb"
      },
      "source": [
        "<details>\n",
        "    <summary>Click here for Solution</summary>\n",
        "\n",
        "```python\n",
        "print(df.info())\n",
        "```\n",
        "\n",
        "</details>\n"
      ]
    },
    {
      "cell_type": "markdown",
      "metadata": {
        "id": "2f7ca9fd-8bef-4f8b-9053-a80602878bcf"
      },
      "source": [
        "Handle missing data:\n",
        "\n",
        "- For continuous attributes (e.g., age), replace missing values with the mean.\n",
        "- For categorical attributes (e.g., smoker), replace missing values with the most frequent value.\n",
        "- Update the data types of the respective columns.\n",
        "- Verify the update using `df.info()`.\n"
      ]
    },
    {
      "cell_type": "code",
      "metadata": {
        "id": "0cd45889-201d-45cb-a4ab-921423676130"
      },
      "outputs": [],
      "source": [
        "# Replace NaN values in 'age' with the average value\n",
        "avg_age = df['age'].astype('float').mean(axis=0)\n",
        "df['age'] = df['age'].replace(np.nan, avg_age)\n",
        "\n",
        "# Replace NaN values in 'smoker' with the most common value\n",
        "common_smoker = df['smoker'].value_counts().idxmax()\n",
        "df['smoker'] = df['smoker'].replace(np.nan, common_smoker)\n",
        "\n",
        "# Convert 'age' and 'smoker' columns to integer type\n",
        "df[['age', 'smoker']] = df[['age', 'smoker']].astype('int')\n"
      ],
      "execution_count": 8
    },
    {
      "cell_type": "code",
      "source": [
        "df.info()"
      ],
      "metadata": {
        "colab": {
          "base_uri": "https://localhost:8080/"
        },
        "id": "aZPbrpWXt8yQ",
        "outputId": "1d61e25d-d416-4633-b08c-58a5318be140"
      },
      "execution_count": 9,
      "outputs": [
        {
          "output_type": "stream",
          "name": "stdout",
          "text": [
            "<class 'pandas.core.frame.DataFrame'>\n",
            "RangeIndex: 2772 entries, 0 to 2771\n",
            "Data columns (total 7 columns):\n",
            " #   Column          Non-Null Count  Dtype  \n",
            "---  ------          --------------  -----  \n",
            " 0   age             2772 non-null   int64  \n",
            " 1   gender          2772 non-null   int64  \n",
            " 2   bmi             2772 non-null   float64\n",
            " 3   no_of_children  2772 non-null   int64  \n",
            " 4   smoker          2772 non-null   int64  \n",
            " 5   region          2772 non-null   int64  \n",
            " 6   charges         2772 non-null   float64\n",
            "dtypes: float64(2), int64(5)\n",
            "memory usage: 151.7 KB\n"
          ]
        }
      ]
    },
    {
      "cell_type": "markdown",
      "metadata": {
        "id": "9fbe014d-9303-42f9-8695-b63e965fdfb1"
      },
      "source": [
        "<details>\n",
        "    <summary>Click here for Solution</summary>\n",
        "\n",
        "```python\n",
        "# smoker is a categorical attribute, replace with most frequent entry\n",
        "is_smoker = df['smoker'].value_counts().idxmax()\n",
        "df[\"smoker\"].replace(np.nan, is_smoker, inplace=True)\n",
        "\n",
        "# age is a continuous variable, replace with mean age\n",
        "mean_age = df['age'].astype('float').mean(axis=0)\n",
        "df[\"age\"].replace(np.nan, mean_age, inplace=True)\n",
        "\n",
        "# Update data types\n",
        "df[[\"age\",\"smoker\"]] = df[[\"age\",\"smoker\"]].astype(\"int\")\n",
        "\n",
        "print(df.info())\n",
        "```\n",
        "\n",
        "</details>\n"
      ]
    },
    {
      "cell_type": "markdown",
      "metadata": {
        "id": "a6c89bca-c7d2-407d-8874-d1e1cfce1216"
      },
      "source": [
        "Also note, that the `charges` column has values which are more than 2 decimal places long. Update the `charges` column such that all values are rounded to nearest 2 decimal places. Verify conversion by printing the first 5 values of the updated dataframe.\n"
      ]
    },
    {
      "cell_type": "code",
      "metadata": {
        "colab": {
          "base_uri": "https://localhost:8080/",
          "height": 206
        },
        "id": "aecbd133-94f1-418f-8050-873deb97e285",
        "outputId": "fa7021bf-a61a-4d5b-e558-9957d2a15142"
      },
      "outputs": [
        {
          "output_type": "execute_result",
          "data": {
            "text/plain": [
              "   age  gender     bmi  no_of_children  smoker  region   charges\n",
              "0   19       1  27.900               0       1       3  16884.92\n",
              "1   18       2  33.770               1       0       4   1725.55\n",
              "2   28       2  33.000               3       0       4   4449.46\n",
              "3   33       2  22.705               0       0       1  21984.47\n",
              "4   32       2  28.880               0       0       1   3866.86"
            ],
            "text/html": [
              "\n",
              "  <div id=\"df-473f3d69-ba97-4e89-bcf0-ed14f3ce696d\" class=\"colab-df-container\">\n",
              "    <div>\n",
              "<style scoped>\n",
              "    .dataframe tbody tr th:only-of-type {\n",
              "        vertical-align: middle;\n",
              "    }\n",
              "\n",
              "    .dataframe tbody tr th {\n",
              "        vertical-align: top;\n",
              "    }\n",
              "\n",
              "    .dataframe thead th {\n",
              "        text-align: right;\n",
              "    }\n",
              "</style>\n",
              "<table border=\"1\" class=\"dataframe\">\n",
              "  <thead>\n",
              "    <tr style=\"text-align: right;\">\n",
              "      <th></th>\n",
              "      <th>age</th>\n",
              "      <th>gender</th>\n",
              "      <th>bmi</th>\n",
              "      <th>no_of_children</th>\n",
              "      <th>smoker</th>\n",
              "      <th>region</th>\n",
              "      <th>charges</th>\n",
              "    </tr>\n",
              "  </thead>\n",
              "  <tbody>\n",
              "    <tr>\n",
              "      <th>0</th>\n",
              "      <td>19</td>\n",
              "      <td>1</td>\n",
              "      <td>27.900</td>\n",
              "      <td>0</td>\n",
              "      <td>1</td>\n",
              "      <td>3</td>\n",
              "      <td>16884.92</td>\n",
              "    </tr>\n",
              "    <tr>\n",
              "      <th>1</th>\n",
              "      <td>18</td>\n",
              "      <td>2</td>\n",
              "      <td>33.770</td>\n",
              "      <td>1</td>\n",
              "      <td>0</td>\n",
              "      <td>4</td>\n",
              "      <td>1725.55</td>\n",
              "    </tr>\n",
              "    <tr>\n",
              "      <th>2</th>\n",
              "      <td>28</td>\n",
              "      <td>2</td>\n",
              "      <td>33.000</td>\n",
              "      <td>3</td>\n",
              "      <td>0</td>\n",
              "      <td>4</td>\n",
              "      <td>4449.46</td>\n",
              "    </tr>\n",
              "    <tr>\n",
              "      <th>3</th>\n",
              "      <td>33</td>\n",
              "      <td>2</td>\n",
              "      <td>22.705</td>\n",
              "      <td>0</td>\n",
              "      <td>0</td>\n",
              "      <td>1</td>\n",
              "      <td>21984.47</td>\n",
              "    </tr>\n",
              "    <tr>\n",
              "      <th>4</th>\n",
              "      <td>32</td>\n",
              "      <td>2</td>\n",
              "      <td>28.880</td>\n",
              "      <td>0</td>\n",
              "      <td>0</td>\n",
              "      <td>1</td>\n",
              "      <td>3866.86</td>\n",
              "    </tr>\n",
              "  </tbody>\n",
              "</table>\n",
              "</div>\n",
              "    <div class=\"colab-df-buttons\">\n",
              "\n",
              "  <div class=\"colab-df-container\">\n",
              "    <button class=\"colab-df-convert\" onclick=\"convertToInteractive('df-473f3d69-ba97-4e89-bcf0-ed14f3ce696d')\"\n",
              "            title=\"Convert this dataframe to an interactive table.\"\n",
              "            style=\"display:none;\">\n",
              "\n",
              "  <svg xmlns=\"http://www.w3.org/2000/svg\" height=\"24px\" viewBox=\"0 -960 960 960\">\n",
              "    <path d=\"M120-120v-720h720v720H120Zm60-500h600v-160H180v160Zm220 220h160v-160H400v160Zm0 220h160v-160H400v160ZM180-400h160v-160H180v160Zm440 0h160v-160H620v160ZM180-180h160v-160H180v160Zm440 0h160v-160H620v160Z\"/>\n",
              "  </svg>\n",
              "    </button>\n",
              "\n",
              "  <style>\n",
              "    .colab-df-container {\n",
              "      display:flex;\n",
              "      gap: 12px;\n",
              "    }\n",
              "\n",
              "    .colab-df-convert {\n",
              "      background-color: #E8F0FE;\n",
              "      border: none;\n",
              "      border-radius: 50%;\n",
              "      cursor: pointer;\n",
              "      display: none;\n",
              "      fill: #1967D2;\n",
              "      height: 32px;\n",
              "      padding: 0 0 0 0;\n",
              "      width: 32px;\n",
              "    }\n",
              "\n",
              "    .colab-df-convert:hover {\n",
              "      background-color: #E2EBFA;\n",
              "      box-shadow: 0px 1px 2px rgba(60, 64, 67, 0.3), 0px 1px 3px 1px rgba(60, 64, 67, 0.15);\n",
              "      fill: #174EA6;\n",
              "    }\n",
              "\n",
              "    .colab-df-buttons div {\n",
              "      margin-bottom: 4px;\n",
              "    }\n",
              "\n",
              "    [theme=dark] .colab-df-convert {\n",
              "      background-color: #3B4455;\n",
              "      fill: #D2E3FC;\n",
              "    }\n",
              "\n",
              "    [theme=dark] .colab-df-convert:hover {\n",
              "      background-color: #434B5C;\n",
              "      box-shadow: 0px 1px 3px 1px rgba(0, 0, 0, 0.15);\n",
              "      filter: drop-shadow(0px 1px 2px rgba(0, 0, 0, 0.3));\n",
              "      fill: #FFFFFF;\n",
              "    }\n",
              "  </style>\n",
              "\n",
              "    <script>\n",
              "      const buttonEl =\n",
              "        document.querySelector('#df-473f3d69-ba97-4e89-bcf0-ed14f3ce696d button.colab-df-convert');\n",
              "      buttonEl.style.display =\n",
              "        google.colab.kernel.accessAllowed ? 'block' : 'none';\n",
              "\n",
              "      async function convertToInteractive(key) {\n",
              "        const element = document.querySelector('#df-473f3d69-ba97-4e89-bcf0-ed14f3ce696d');\n",
              "        const dataTable =\n",
              "          await google.colab.kernel.invokeFunction('convertToInteractive',\n",
              "                                                    [key], {});\n",
              "        if (!dataTable) return;\n",
              "\n",
              "        const docLinkHtml = 'Like what you see? Visit the ' +\n",
              "          '<a target=\"_blank\" href=https://colab.research.google.com/notebooks/data_table.ipynb>data table notebook</a>'\n",
              "          + ' to learn more about interactive tables.';\n",
              "        element.innerHTML = '';\n",
              "        dataTable['output_type'] = 'display_data';\n",
              "        await google.colab.output.renderOutput(dataTable, element);\n",
              "        const docLink = document.createElement('div');\n",
              "        docLink.innerHTML = docLinkHtml;\n",
              "        element.appendChild(docLink);\n",
              "      }\n",
              "    </script>\n",
              "  </div>\n",
              "\n",
              "\n",
              "<div id=\"df-8fd4942d-2a39-4098-94dc-6359e8a3d601\">\n",
              "  <button class=\"colab-df-quickchart\" onclick=\"quickchart('df-8fd4942d-2a39-4098-94dc-6359e8a3d601')\"\n",
              "            title=\"Suggest charts\"\n",
              "            style=\"display:none;\">\n",
              "\n",
              "<svg xmlns=\"http://www.w3.org/2000/svg\" height=\"24px\"viewBox=\"0 0 24 24\"\n",
              "     width=\"24px\">\n",
              "    <g>\n",
              "        <path d=\"M19 3H5c-1.1 0-2 .9-2 2v14c0 1.1.9 2 2 2h14c1.1 0 2-.9 2-2V5c0-1.1-.9-2-2-2zM9 17H7v-7h2v7zm4 0h-2V7h2v10zm4 0h-2v-4h2v4z\"/>\n",
              "    </g>\n",
              "</svg>\n",
              "  </button>\n",
              "\n",
              "<style>\n",
              "  .colab-df-quickchart {\n",
              "      --bg-color: #E8F0FE;\n",
              "      --fill-color: #1967D2;\n",
              "      --hover-bg-color: #E2EBFA;\n",
              "      --hover-fill-color: #174EA6;\n",
              "      --disabled-fill-color: #AAA;\n",
              "      --disabled-bg-color: #DDD;\n",
              "  }\n",
              "\n",
              "  [theme=dark] .colab-df-quickchart {\n",
              "      --bg-color: #3B4455;\n",
              "      --fill-color: #D2E3FC;\n",
              "      --hover-bg-color: #434B5C;\n",
              "      --hover-fill-color: #FFFFFF;\n",
              "      --disabled-bg-color: #3B4455;\n",
              "      --disabled-fill-color: #666;\n",
              "  }\n",
              "\n",
              "  .colab-df-quickchart {\n",
              "    background-color: var(--bg-color);\n",
              "    border: none;\n",
              "    border-radius: 50%;\n",
              "    cursor: pointer;\n",
              "    display: none;\n",
              "    fill: var(--fill-color);\n",
              "    height: 32px;\n",
              "    padding: 0;\n",
              "    width: 32px;\n",
              "  }\n",
              "\n",
              "  .colab-df-quickchart:hover {\n",
              "    background-color: var(--hover-bg-color);\n",
              "    box-shadow: 0 1px 2px rgba(60, 64, 67, 0.3), 0 1px 3px 1px rgba(60, 64, 67, 0.15);\n",
              "    fill: var(--button-hover-fill-color);\n",
              "  }\n",
              "\n",
              "  .colab-df-quickchart-complete:disabled,\n",
              "  .colab-df-quickchart-complete:disabled:hover {\n",
              "    background-color: var(--disabled-bg-color);\n",
              "    fill: var(--disabled-fill-color);\n",
              "    box-shadow: none;\n",
              "  }\n",
              "\n",
              "  .colab-df-spinner {\n",
              "    border: 2px solid var(--fill-color);\n",
              "    border-color: transparent;\n",
              "    border-bottom-color: var(--fill-color);\n",
              "    animation:\n",
              "      spin 1s steps(1) infinite;\n",
              "  }\n",
              "\n",
              "  @keyframes spin {\n",
              "    0% {\n",
              "      border-color: transparent;\n",
              "      border-bottom-color: var(--fill-color);\n",
              "      border-left-color: var(--fill-color);\n",
              "    }\n",
              "    20% {\n",
              "      border-color: transparent;\n",
              "      border-left-color: var(--fill-color);\n",
              "      border-top-color: var(--fill-color);\n",
              "    }\n",
              "    30% {\n",
              "      border-color: transparent;\n",
              "      border-left-color: var(--fill-color);\n",
              "      border-top-color: var(--fill-color);\n",
              "      border-right-color: var(--fill-color);\n",
              "    }\n",
              "    40% {\n",
              "      border-color: transparent;\n",
              "      border-right-color: var(--fill-color);\n",
              "      border-top-color: var(--fill-color);\n",
              "    }\n",
              "    60% {\n",
              "      border-color: transparent;\n",
              "      border-right-color: var(--fill-color);\n",
              "    }\n",
              "    80% {\n",
              "      border-color: transparent;\n",
              "      border-right-color: var(--fill-color);\n",
              "      border-bottom-color: var(--fill-color);\n",
              "    }\n",
              "    90% {\n",
              "      border-color: transparent;\n",
              "      border-bottom-color: var(--fill-color);\n",
              "    }\n",
              "  }\n",
              "</style>\n",
              "\n",
              "  <script>\n",
              "    async function quickchart(key) {\n",
              "      const quickchartButtonEl =\n",
              "        document.querySelector('#' + key + ' button');\n",
              "      quickchartButtonEl.disabled = true;  // To prevent multiple clicks.\n",
              "      quickchartButtonEl.classList.add('colab-df-spinner');\n",
              "      try {\n",
              "        const charts = await google.colab.kernel.invokeFunction(\n",
              "            'suggestCharts', [key], {});\n",
              "      } catch (error) {\n",
              "        console.error('Error during call to suggestCharts:', error);\n",
              "      }\n",
              "      quickchartButtonEl.classList.remove('colab-df-spinner');\n",
              "      quickchartButtonEl.classList.add('colab-df-quickchart-complete');\n",
              "    }\n",
              "    (() => {\n",
              "      let quickchartButtonEl =\n",
              "        document.querySelector('#df-8fd4942d-2a39-4098-94dc-6359e8a3d601 button');\n",
              "      quickchartButtonEl.style.display =\n",
              "        google.colab.kernel.accessAllowed ? 'block' : 'none';\n",
              "    })();\n",
              "  </script>\n",
              "</div>\n",
              "\n",
              "    </div>\n",
              "  </div>\n"
            ],
            "application/vnd.google.colaboratory.intrinsic+json": {
              "type": "dataframe",
              "variable_name": "df",
              "summary": "{\n  \"name\": \"df\",\n  \"rows\": 2772,\n  \"fields\": [\n    {\n      \"column\": \"age\",\n      \"properties\": {\n        \"dtype\": \"number\",\n        \"std\": 14,\n        \"min\": 18,\n        \"max\": 64,\n        \"num_unique_values\": 47,\n        \"samples\": [\n          21,\n          45,\n          36\n        ],\n        \"semantic_type\": \"\",\n        \"description\": \"\"\n      }\n    },\n    {\n      \"column\": \"gender\",\n      \"properties\": {\n        \"dtype\": \"number\",\n        \"std\": 0,\n        \"min\": 1,\n        \"max\": 2,\n        \"num_unique_values\": 2,\n        \"samples\": [\n          2,\n          1\n        ],\n        \"semantic_type\": \"\",\n        \"description\": \"\"\n      }\n    },\n    {\n      \"column\": \"bmi\",\n      \"properties\": {\n        \"dtype\": \"number\",\n        \"std\": 6.129448694965217,\n        \"min\": 15.96,\n        \"max\": 53.13,\n        \"num_unique_values\": 548,\n        \"samples\": [\n          23.18,\n          26.885\n        ],\n        \"semantic_type\": \"\",\n        \"description\": \"\"\n      }\n    },\n    {\n      \"column\": \"no_of_children\",\n      \"properties\": {\n        \"dtype\": \"number\",\n        \"std\": 1,\n        \"min\": 0,\n        \"max\": 5,\n        \"num_unique_values\": 6,\n        \"samples\": [\n          0,\n          1\n        ],\n        \"semantic_type\": \"\",\n        \"description\": \"\"\n      }\n    },\n    {\n      \"column\": \"smoker\",\n      \"properties\": {\n        \"dtype\": \"number\",\n        \"std\": 0,\n        \"min\": 0,\n        \"max\": 1,\n        \"num_unique_values\": 2,\n        \"samples\": [\n          0,\n          1\n        ],\n        \"semantic_type\": \"\",\n        \"description\": \"\"\n      }\n    },\n    {\n      \"column\": \"region\",\n      \"properties\": {\n        \"dtype\": \"number\",\n        \"std\": 1,\n        \"min\": 1,\n        \"max\": 4,\n        \"num_unique_values\": 4,\n        \"samples\": [\n          4,\n          2\n        ],\n        \"semantic_type\": \"\",\n        \"description\": \"\"\n      }\n    },\n    {\n      \"column\": \"charges\",\n      \"properties\": {\n        \"dtype\": \"number\",\n        \"std\": 12151.768969791221,\n        \"min\": 1121.87,\n        \"max\": 63770.43,\n        \"num_unique_values\": 1337,\n        \"samples\": [\n          8688.86,\n          5708.87\n        ],\n        \"semantic_type\": \"\",\n        \"description\": \"\"\n      }\n    }\n  ]\n}"
            }
          },
          "metadata": {},
          "execution_count": 10
        }
      ],
      "source": [
        "df['charges']=df['charges'].round(2)\n",
        "df.head()"
      ],
      "execution_count": 10
    },
    {
      "cell_type": "markdown",
      "metadata": {
        "id": "47762271-f81e-4b7b-9782-27c33d34c067"
      },
      "source": [
        "<details>\n",
        "    <summary>Click here for Solution</summary>\n",
        "\n",
        "```python\n",
        "df[[\"charges\"]] = np.round(df[[\"charges\"]],2)\n",
        "print(df.head())\n",
        "```\n",
        "</details>\n"
      ]
    },
    {
      "cell_type": "markdown",
      "metadata": {
        "id": "42b99733-2d6e-44a8-8128-fa21010f9ff3"
      },
      "source": [
        "# Task 3 : Exploratory Data Analysis (EDA)\n",
        "\n",
        "Implement the regression plot for `charges` with respect to `bmi`.\n"
      ]
    },
    {
      "cell_type": "code",
      "metadata": {
        "id": "7a68dcb2-2c34-4698-abe3-0376f2bb3489",
        "colab": {
          "base_uri": "https://localhost:8080/",
          "height": 467
        },
        "outputId": "0a907330-39b7-41ef-b801-56a9892777f3"
      },
      "outputs": [
        {
          "output_type": "execute_result",
          "data": {
            "text/plain": [
              "(0.0, 66902.85800000001)"
            ]
          },
          "metadata": {},
          "execution_count": 11
        },
        {
          "output_type": "display_data",
          "data": {
            "text/plain": [
              "<Figure size 640x480 with 1 Axes>"
            ],
            "image/png": "[encoded data removed]"
          },
          "metadata": {}
        }
      ],
      "source": [
        "sns.regplot(x='bmi', y='charges',data=df, line_kws={\"color\": \"red\", \"linewidth\": 1.5},scatter_kws={'s':2})\n",
        "# scatter_kws={'s':2}  -- is optional and controls marker size\n",
        "# line_kws={\"color\": \"red\", \"linewidth\": 1.5} -- is optional and controls the regression line thickness\n",
        "# so the plot can be done just with sns.regplot(x='bmi', y='charges',data=df)\n",
        "plt.ylim(0,)"
      ],
      "execution_count": 11
    },
    {
      "cell_type": "markdown",
      "metadata": {
        "id": "f96fb73c-b78b-4dcd-8de3-fea8965c53d6"
      },
      "source": [
        "<details>\n",
        "    <summary>Click here for Solution</summary>\n",
        "\n",
        "```python\n",
        "sns.regplot(x=\"bmi\", y=\"charges\", data=df, line_kws={\"color\": \"red\"})\n",
        "plt.ylim(0,)\n",
        "```\n",
        "</details>\n"
      ]
    },
    {
      "cell_type": "markdown",
      "metadata": {
        "id": "5a7d9451-d246-45e7-92c9-e65481c093d0"
      },
      "source": [
        "Implement the box plot for `charges` with respect to `smoker`.\n"
      ]
    },
    {
      "cell_type": "code",
      "metadata": {
        "id": "b425ab42-04ef-4747-a954-8c7dc1939dc0",
        "colab": {
          "base_uri": "https://localhost:8080/",
          "height": 467
        },
        "outputId": "8a20f49c-729b-44e7-9491-9dcd7f282b59"
      },
      "outputs": [
        {
          "output_type": "execute_result",
          "data": {
            "text/plain": [
              "<Axes: xlabel='smoker', ylabel='charges'>"
            ]
          },
          "metadata": {},
          "execution_count": 12
        },
        {
          "output_type": "display_data",
          "data": {
            "text/plain": [
              "<Figure size 640x480 with 1 Axes>"
            ],
            "image/png": "[encoded data removed]"
          },
          "metadata": {}
        }
      ],
      "source": [
        "sns.boxplot(x='smoker', y='charges', data=df)"
      ],
      "execution_count": 12
    },
    {
      "cell_type": "markdown",
      "metadata": {
        "id": "6f3dc66f-4359-4323-ab7e-3bb2228d5c2f"
      },
      "source": [
        "<details>\n",
        "    <summary>Click here for Solution</summary>\n",
        "\n",
        "```python\n",
        "sns.boxplot(x=\"smoker\", y=\"charges\", data=df)\n",
        "```\n",
        "</details>\n"
      ]
    },
    {
      "cell_type": "markdown",
      "metadata": {
        "id": "681e06b7-f162-447b-843e-d256cfcb3fa2"
      },
      "source": [
        "Print the correlation matrix for the dataset.\n"
      ]
    },
    {
      "cell_type": "code",
      "metadata": {
        "id": "e74e3f04-3063-4ab7-aedc-24f822262e26",
        "colab": {
          "base_uri": "https://localhost:8080/"
        },
        "outputId": "bda395c8-b60c-4bd2-ef52-b33a2c47b5cd"
      },
      "outputs": [
        {
          "output_type": "stream",
          "name": "stdout",
          "text": [
            "                     age    gender       bmi  no_of_children    smoker  \\\n",
            "age             1.000000 -0.026046  0.113048        0.037574 -0.023286   \n",
            "gender         -0.026046  1.000000  0.042924        0.016020  0.082326   \n",
            "bmi             0.113048  0.042924  1.000000       -0.001492  0.011489   \n",
            "no_of_children  0.037574  0.016020 -0.001492        1.000000  0.006362   \n",
            "smoker         -0.023286  0.082326  0.011489        0.006362  1.000000   \n",
            "region         -0.007167  0.022213  0.271119       -0.025717  0.054077   \n",
            "charges         0.298624  0.062837  0.199846        0.066442  0.788783   \n",
            "\n",
            "                  region   charges  \n",
            "age            -0.007167  0.298624  \n",
            "gender          0.022213  0.062837  \n",
            "bmi             0.271119  0.199846  \n",
            "no_of_children -0.025717  0.066442  \n",
            "smoker          0.054077  0.788783  \n",
            "region          1.000000  0.054058  \n",
            "charges         0.054058  1.000000  \n"
          ]
        }
      ],
      "source": [
        "print(df.corr())"
      ],
      "execution_count": 13
    },
    {
      "cell_type": "markdown",
      "metadata": {
        "id": "8c7298bd-5d2e-44bb-91b8-0c39b91ccff2"
      },
      "source": [
        "<details>\n",
        "    <summary>Click here for Solution</summary>\n",
        "\n",
        "```python\n",
        "print(df.corr())\n",
        "```\n",
        "</details>\n"
      ]
    },
    {
      "cell_type": "code",
      "source": [
        "# Alternatively we can build a heatmap containing the correlation between the variables\n",
        "sns.heatmap(df.corr(),cmap=\"YlGnBu\", annot=True)"
      ],
      "metadata": {
        "colab": {
          "base_uri": "https://localhost:8080/",
          "height": 540
        },
        "id": "ZapbhF4KhXOq",
        "outputId": "a67de395-592b-4b91-981f-fffcf1cb5459"
      },
      "execution_count": 16,
      "outputs": [
        {
          "output_type": "execute_result",
          "data": {
            "text/plain": [
              "<Axes: >"
            ]
          },
          "metadata": {},
          "execution_count": 16
        },
        {
          "output_type": "display_data",
          "data": {
            "text/plain": [
              "<Figure size 640x480 with 2 Axes>"
            ],
            "image/png": "[encoded data removed]"
          },
          "metadata": {}
        }
      ]
    },
    {
      "cell_type": "markdown",
      "metadata": {
        "id": "b5a03c3d-ef46-4a38-928e-f53e5e694840"
      },
      "source": [
        "# Task 4 : Model Development\n",
        "\n",
        "Fit a linear regression model that may be used to predict the `charges` value, just by using the `smoker` attribute of the dataset. Print the $ R^2 $ score of this model.\n"
      ]
    },
    {
      "cell_type": "code",
      "metadata": {
        "id": "ad126824-7f90-404b-b063-0be76fab5298",
        "colab": {
          "base_uri": "https://localhost:8080/"
        },
        "outputId": "793f4b26-7354-4487-b125-a224531bc006"
      },
      "outputs": [
        {
          "output_type": "stream",
          "name": "stdout",
          "text": [
            "The R-square is:  0.6221791733924185\n"
          ]
        }
      ],
      "source": [
        "# Step 1: create a linear regression object\n",
        "lm_single=LinearRegression()\n",
        "# Step 2: define the independent variable 'smoker' and the target varianble 'charges'\n",
        "X=df[['smoker']]\n",
        "Y=df['charges']\n",
        "# Step 3: fit the model with .fit(X,Y) method\n",
        "lm_single.fit(X,Y)\n",
        "# Print the R-square calculated with .score(X,Y) method\n",
        "print('The R-square is: ', lm_single.score(X,Y))\n",
        "\n",
        "## Notice that the calculates value is the same as the shown in the correlation heatmap obtained from the previous step"
      ],
      "execution_count": 34
    },
    {
      "cell_type": "markdown",
      "metadata": {
        "id": "05907bea-f279-4c26-abef-834b80a60fa5"
      },
      "source": [
        "<details>\n",
        "    <summary>Click here for Solution</summary>\n",
        "\n",
        "```python\n",
        "X = df[['smoker']]\n",
        "Y = df['charges']\n",
        "lm = LinearRegression()\n",
        "lm.fit(X,Y)\n",
        "print(lm.score(X, Y))\n",
        "```\n",
        "</details>\n"
      ]
    },
    {
      "cell_type": "markdown",
      "metadata": {
        "id": "2f196d1b-62f0-4297-8923-9f20e0f121a1"
      },
      "source": [
        "Fit a linear regression model that may be used to predict the `charges` value, just by using all other attributes of the dataset. Print the $ R^2 $ score of this model. You should see an improvement in the performance.\n"
      ]
    },
    {
      "cell_type": "code",
      "metadata": {
        "id": "f9561829-912c-456b-9b6e-86315424ea2c",
        "colab": {
          "base_uri": "https://localhost:8080/"
        },
        "outputId": "fc305fe4-d65b-4f8d-899f-a70734d026b0"
      },
      "outputs": [
        {
          "output_type": "stream",
          "name": "stdout",
          "text": [
            "The R-square is:  0.12426185633470044\n"
          ]
        }
      ],
      "source": [
        "# Step 1: create a linear regression object\n",
        "lm=LinearRegression()\n",
        "# Step 2: define the independent variable(s) and the target variable 'charges'\n",
        "Z=df[['age', 'gender', 'bmi','no_of_children','region']]\n",
        "# Step 3: fit the model with .fit(X,Y) method\n",
        "lm.fit(Z,Y)\n",
        "# Print the R-square calculated with .score(X,Y) method\n",
        "print('The R-square is: ', lm.score(Z,Y))"
      ],
      "execution_count": 35
    },
    {
      "cell_type": "markdown",
      "metadata": {
        "id": "4ab645e3-e827-45fd-a95a-fd3dc25da356"
      },
      "source": [
        "<details>\n",
        "    <summary>Click here for Solution</summary>\n",
        "\n",
        "```python\n",
        "# definition of Y and lm remain same as used in last cell.\n",
        "Z = df[[\"age\", \"gender\", \"bmi\", \"no_of_children\", \"smoker\", \"region\"]]\n",
        "lm.fit(Z,Y)\n",
        "print(lm.score(Z, Y))\n",
        "```\n",
        "</details>\n"
      ]
    },
    {
      "cell_type": "markdown",
      "metadata": {
        "id": "1776a321-581a-4332-a5e5-dfd7b7956288"
      },
      "source": [
        "Create a training pipeline that uses `StandardScaler()`, `PolynomialFeatures()` and `LinearRegression()` to create a model that can predict the `charges` value using all the other attributes of the dataset. There should be even further improvement in the performance.\n"
      ]
    },
    {
      "cell_type": "code",
      "metadata": {
        "id": "6808a34e-c191-4f7f-9e26-0a6fe36a4a23",
        "colab": {
          "base_uri": "https://localhost:8080/"
        },
        "outputId": "4ad055af-9c26-4440-e246-cf1b5af784ce"
      },
      "outputs": [
        {
          "output_type": "stream",
          "name": "stdout",
          "text": [
            "The R-square is:  0.13742866869196957\n"
          ]
        }
      ],
      "source": [
        "Input=[('scale',StandardScaler()), ('polynomial', PolynomialFeatures(include_bias=False)), ('model',LinearRegression())]\n",
        "pipe=Pipeline(Input)\n",
        "pipe.fit(Z,Y)\n",
        "ypipe=pipe.predict(Z)\n",
        "print('The R-square is: ', r2_score(Y,ypipe))"
      ],
      "execution_count": 19
    },
    {
      "cell_type": "markdown",
      "metadata": {
        "id": "02668585-353e-4660-9f24-feb2d80d2ef3"
      },
      "source": [
        "<details>\n",
        "    <summary>Click here for Solution</summary>\n",
        "\n",
        "```python\n",
        "# Y and Z use the same values as defined in previous cells\n",
        "Input=[('scale',StandardScaler()), ('polynomial', PolynomialFeatures(include_bias=False)), ('model', LinearRegression())]\n",
        "pipe=Pipeline(Input)\n",
        "Z = Z.astype(float)\n",
        "pipe.fit(Z,Y)\n",
        "ypipe=pipe.predict(Z)\n",
        "print(r2_score(Y,ypipe))\n",
        "```\n",
        "</details>\n"
      ]
    },
    {
      "cell_type": "code",
      "source": [
        "# Alternatively, doing something similar as with the linear model, we can obtain R-square\n",
        "Input=[('scale',StandardScaler()), ('polynomial', PolynomialFeatures(include_bias=False)), ('model',LinearRegression())]\n",
        "pipe=Pipeline(Input)\n",
        "pipe.fit(Z,Y)\n",
        "print('The R-square is: ', pipe.score(Z,Y))"
      ],
      "metadata": {
        "colab": {
          "base_uri": "https://localhost:8080/"
        },
        "id": "G5N4NuIWlH2m",
        "outputId": "cf945dad-73a0-495f-8265-bfe1eac87f8c"
      },
      "execution_count": 20,
      "outputs": [
        {
          "output_type": "stream",
          "name": "stdout",
          "text": [
            "The R-square is:  0.13742866869196957\n"
          ]
        }
      ]
    },
    {
      "cell_type": "markdown",
      "metadata": {
        "id": "5a16a947-85ae-4466-ac49-a2dcdb234481"
      },
      "source": [
        "# Task 5 : Model Refinement\n",
        "\n",
        "Split the data into training and testing subsets, assuming that 20% of the data will be reserved for testing.\n"
      ]
    },
    {
      "cell_type": "code",
      "metadata": {
        "id": "a12e8460-01de-4aae-beb9-53abe4c486fd",
        "colab": {
          "base_uri": "https://localhost:8080/"
        },
        "outputId": "596c565e-b83b-4f82-a18f-542822390647"
      },
      "outputs": [
        {
          "output_type": "stream",
          "name": "stdout",
          "text": [
            "number of test samples : 555\n",
            "number of training samples: 2217\n"
          ]
        }
      ],
      "source": [
        "# We will use the multiple attributes variable Z and we will call it x_data - THIS IS OPTIONAL\n",
        "# We can rename Y, the target variable as Y data just to identify the datasets - THIS IS optional\n",
        "\n",
        "x_data=Z\n",
        "y_data=Y\n",
        "\n",
        "x_train, x_test, y_train, y_test=train_test_split(x_data, y_data, test_size=0.2, random_state=1)\n",
        "print(\"number of test samples :\", x_test.shape[0])\n",
        "print(\"number of training samples:\",x_train.shape[0])"
      ],
      "execution_count": 21
    },
    {
      "cell_type": "markdown",
      "metadata": {
        "id": "89574325-87fa-491b-a1f4-7b06f738cf58"
      },
      "source": [
        "<details>\n",
        "    <summary>Click here for Solution</summary>\n",
        "\n",
        "```python\n",
        "# Z and Y hold same values as in previous cells\n",
        "x_train, x_test, y_train, y_test = train_test_split(Z, Y, test_size=0.2, random_state=1)\n",
        "```\n",
        "</details>\n"
      ]
    },
    {
      "cell_type": "markdown",
      "metadata": {
        "id": "06c8b22d-11b0-41e7-b987-1663e4c73821"
      },
      "source": [
        "Initialize a Ridge regressor that used hyperparameter $ \\alpha = 0.1 $. Fit the model using training data data subset. Print the $ R^2 $ score for the testing data.\n"
      ]
    },
    {
      "cell_type": "code",
      "metadata": {
        "id": "1c650a5d-cce5-4f4c-a7eb-c67b1cbe502b",
        "colab": {
          "base_uri": "https://localhost:8080/"
        },
        "outputId": "98c55620-19dc-44fd-d254-65120355070b"
      },
      "outputs": [
        {
          "output_type": "execute_result",
          "data": {
            "text/plain": [
              "0.08006811608292919"
            ]
          },
          "metadata": {},
          "execution_count": 53
        }
      ],
      "source": [
        "# create a Ridge regression object and define the value for hyperparameter alpha\n",
        "RidgeModel=Ridge(alpha=0.1)\n",
        "# fit the ridge model with the training data\n",
        "RidgeModel.fit(x_train, y_train)\n",
        "# Evaluate the model, with R-square using the testing data: remember that test data is a better metrics\n",
        "RidgeModel.score(x_test, y_test)"
      ],
      "execution_count": 53
    },
    {
      "cell_type": "markdown",
      "metadata": {
        "id": "ef9b2ad8-3e05-42d5-9135-fa3dba18d842"
      },
      "source": [
        "<details>\n",
        "    <summary>Click here for Solution</summary>\n",
        "\n",
        "```python\n",
        "# x_train, x_test, y_train, y_test hold same values as in previous cells\n",
        "RidgeModel=Ridge(alpha=0.1)\n",
        "RidgeModel.fit(x_train, y_train)\n",
        "yhat = RidgeModel.predict(x_test)\n",
        "print(r2_score(y_test,yhat))\n",
        "```\n",
        "</details>\n"
      ]
    },
    {
      "cell_type": "markdown",
      "metadata": {
        "id": "34aeac81-890b-4895-8dad-c4507ad519ac"
      },
      "source": [
        "Apply polynomial transformation to the training parameters with degree=2. Use this transformed feature set to fit the same regression model, as above, using the training subset. Print the $ R^2 $ score for the testing subset.\n"
      ]
    },
    {
      "cell_type": "code",
      "metadata": {
        "id": "51a28cf2-633d-48a8-9796-6d1af5144bb7",
        "colab": {
          "base_uri": "https://localhost:8080/"
        },
        "outputId": "b2b0cbe8-db6a-48c2-ec16-4fcde0e8372b"
      },
      "outputs": [
        {
          "output_type": "execute_result",
          "data": {
            "text/plain": [
              "0.09249788299987072"
            ]
          },
          "metadata": {},
          "execution_count": 23
        }
      ],
      "source": [
        "pr=PolynomialFeatures(degree=2)\n",
        "x_train_pr=pr.fit_transform(x_train) # use fit_transform() on train data\n",
        "x_test_pr=pr.transform(x_test) # use transform() on test data  - read about data leakage\n",
        "RigeModel=Ridge(alpha=0.1)\n",
        "RigeModel.fit(x_train_pr, y_train)\n",
        "RigeModel.score(x_test_pr, y_test)"
      ],
      "execution_count": 23
    },
    {
      "cell_type": "markdown",
      "metadata": {
        "id": "329564be-00a2-487e-8c90-4f50f490aa17"
      },
      "source": [
        "<details>\n",
        "    <summary>Click here for Solution</summary>\n",
        "\n",
        "```python\n",
        "# x_train, x_test, y_train, y_test hold same values as in previous cells\n",
        "pr = PolynomialFeatures(degree=2)\n",
        "x_train_pr = pr.fit_transform(x_train)\n",
        "x_test_pr = pr.fit_transform(x_test)\n",
        "RidgeModel.fit(x_train_pr, y_train)\n",
        "y_hat = RidgeModel.predict(x_test_pr)\n",
        "print(r2_score(y_test,y_hat))\n",
        "```\n",
        "</details>\n"
      ]
    },
    {
      "cell_type": "markdown",
      "source": [
        "## Some notes about the last part of code\n",
        "```\n",
        "pr=PolynomialFeatures(degree=2)\n",
        "x_train_pr=pr.fit_transform(x_train)\n",
        "x_test_pr=pr.transform(x_test)\n",
        "RigeModel=Ridge(alpha=0.1)\n",
        "RigeModel.fit(x_train_pr, y_train)\n",
        "RigeModel.score(x_test_pr, y_test)\n",
        "```\n",
        "- `PolynomialFeatures(degree=2)` is used to generate polynomial combinations of the features in `x_train` and `x_test`.\n",
        "\n",
        "- When `degree=2`, this function generates all polynomial combinations up to the second degree (squared terms and interactions between features).\n",
        "\n",
        "- For instance, if you have two features, $x_1$ and $x_2$, `PolynomialFeatures` with `degree=2` would create:\n",
        "\n",
        "\n",
        "$1, x_1, x_2, x_1^2, x_1 \\times x_2, x_2^2$\n",
        "\n",
        "- For the five original features in `Z`, this transformation will generate new features like $\\text{age}^2 $, $\\text{age} \\times \\text{bmi}$, and so on. This can help the model capture more complex relationships between the predictors and the target variable.\n",
        "\n",
        "- A ridge regression model is initialized with ```alpha=0.1```. Ridge regression is a regularized linear regression method that adds a penalty term to the cost function to reduce overfitting, which is particularly useful when using polynomial features as they can lead to a large number of predictors.\n",
        "\n",
        "- The model is then trained on the transformed training data ```x_train_pr```.\n",
        "\n"
      ],
      "metadata": {
        "id": "N3Lnea6DzNZs"
      }
    },
    {
      "cell_type": "markdown",
      "source": [
        "## Understanding ```fit_transform``` and ```transform```\n",
        "\n",
        "### ```fit_transform```\n",
        "\n",
        "Purpose: Combines the fit and transform steps into one operation.\n",
        "\n",
        "Usage: Used on the training data to learn the parameters (e.g., mean and standard deviation) and apply the transformation.\n",
        "```\n",
        "from sklearn.preprocessing import StandardScaler\n",
        "scaler = StandardScaler()\n",
        "X_train_scaled = scaler.fit_transform(X_train)\n",
        "```\n",
        "\n",
        "### ```transform```\n",
        "\n",
        "Purpose: Applies a transformation to the data using parameters learned during the fit step.\n",
        "\n",
        "Usage: Used on the test data (or any new data) to apply the same transformation learned from the training data\n",
        "```\n",
        "X_test_scaled = scaler.transform(X_test)\n",
        "```"
      ],
      "metadata": {
        "id": "b-UU_CvY3WAa"
      }
    },
    {
      "cell_type": "markdown",
      "metadata": {
        "id": "420e328b-3344-443e-8fdc-1582fbde160d"
      },
      "source": [
        "# Congratulations! You have completed this project\n"
      ]
    },
    {
      "cell_type": "markdown",
      "metadata": {
        "id": "dbb62135-f9c8-4d37-8633-464e5371c5b6"
      },
      "source": [
        "## Authors\n"
      ]
    },
    {
      "cell_type": "markdown",
      "metadata": {
        "id": "83c8a3e8-a124-4a88-bdde-165b12f285c8"
      },
      "source": [
        "[Abhishek Gagneja](https://www.coursera.org/instructor/~129186572)\n",
        "\n",
        "[Vicky Kuo](https://author.skills.network/instructors/vicky_kuo)\n"
      ]
    },
    {
      "cell_type": "markdown",
      "metadata": {
        "id": "6cec297a-d46b-4737-952f-ca033cf45bfa"
      },
      "source": [
        "## Change Log\n"
      ]
    },
    {
      "cell_type": "markdown",
      "metadata": {
        "id": "47195a46-5c29-435c-ad70-2a0e93feae96"
      },
      "source": [
        "|Date (YYYY-MM-DD)|Version|Changed By|Change Description|\n",
        "|-|-|-|-|\n",
        "|2023-09-16|0.1|Abhishek Gagneja|Initial Version Created|\n",
        "|2023-09-19|0.2|Vicky Kuo|Reviewed and Revised|\n"
      ]
    },
    {
      "cell_type": "markdown",
      "metadata": {
        "id": "102e52f2-5ce6-4a60-87e8-b2d7ed41aee3"
      },
      "source": [
        "<h3> Copyright © 2023 IBM Corporation. All rights reserved. </h3>\n"
      ]
    },
    {
      "cell_type": "markdown",
      "source": [
        "# How to use the models ?\n",
        "\n",
        "- Once you've developed and trained your models, you can use them to preduct medical charges for a new patient based on its attributes (age, gender, BMI, etc).\n",
        "\n",
        "\n",
        "## Example scenario\n",
        "\n",
        "Let's say a new patient has the following characteristics:\n",
        "\n",
        "- Age: 45\n",
        "- Gender: 1 (where 1 might represent male, and 2 represents female based on your dataset coding)\n",
        "- BMI: 29.5\n",
        "- Number of Children: 2\n",
        "- Smoker: 0 (0 = non-smoker, 1 = smoker)\n",
        "- Region: 3\n",
        "\n",
        "Using these values, we can predict the charges using each of your trained models.\n"
      ],
      "metadata": {
        "id": "DdDALOSXs8Ii"
      }
    },
    {
      "cell_type": "markdown",
      "source": [
        "## 1. Using the Single-Varianle Linear Regression model\n",
        "\n",
        "In this model, you've used smoker status as the single variable to predict charges. We can only use it if we have just one input feature, the smoker status."
      ],
      "metadata": {
        "id": "f63Z6qhutfZd"
      }
    },
    {
      "cell_type": "code",
      "source": [
        "# Set up the input for the model\n",
        "X_new = [[0]]  # 0 here means non-smoker in this case\n",
        "X_new_df = pd.DataFrame(X_new, columns=['smoker'])  # Convert the input to a DataFrame\n",
        "# Predict the charges using the single-variable linear regression model\n",
        "predicted_charges_single = lm_single.predict(X_new_df)\n",
        "print(\"Predicted Charges (Single Variable Model - Smoker Only):\", predicted_charges_single[0])"
      ],
      "metadata": {
        "colab": {
          "base_uri": "https://localhost:8080/"
        },
        "id": "Q9BZ4Bcste_Y",
        "outputId": "1b2a60f4-33a6-40fc-c2d9-52077e9339b8"
      },
      "execution_count": 44,
      "outputs": [
        {
          "output_type": "stream",
          "name": "stdout",
          "text": [
            "Predicted Charges (Single Variable Model - Smoker Only): 8417.87439311594\n"
          ]
        }
      ]
    },
    {
      "cell_type": "markdown",
      "source": [
        "Note: ```X_new_df = pd.DataFrame(X_new, columns=['smoker'])  # Convert the input to a DataFrame``` is a conversion of the input into a Dataframe. The model was trained on a Dataframe and  ```X_new = [[0]]``` is an array without names. Then a warning may appear.\n",
        "\n"
      ],
      "metadata": {
        "id": "6JqgYYcGwcPY"
      }
    },
    {
      "cell_type": "markdown",
      "source": [
        "## 2. Using Multi-Variable Linear Regression Model\n",
        "Here, you've trained a model that takes into account several factors like age, gender, BMI, number of children, and region. You can use all these details for a more refined prediction."
      ],
      "metadata": {
        "id": "T0CRDCAhugMI"
      }
    },
    {
      "cell_type": "code",
      "source": [
        "# Define the input based on the new patient’s details\n",
        "Z_new = [[45, 1, 29.5, 2, 3]]  # Age, Gender, BMI, No. of Children, Region\n",
        "Z_new_df = pd.DataFrame(Z_new, columns=['age', 'gender', 'bmi', 'no_of_children', 'region'])  # Convert the input to a DataFrame\n",
        "# Predict the charges using the multi-variable linear regression model\n",
        "predicted_charges_multi = lm.predict(Z_new_df)\n",
        "print(\"Predicted Charges (Multi-Variable Linear Regression Model):\", predicted_charges_multi[0])\n"
      ],
      "metadata": {
        "colab": {
          "base_uri": "https://localhost:8080/"
        },
        "id": "IeAHHF6rs7vn",
        "outputId": "131a98ce-1ca8-4dd0-a9b7-8cbce091344c"
      },
      "execution_count": 45,
      "outputs": [
        {
          "output_type": "stream",
          "name": "stdout",
          "text": [
            "Predicted Charges (Multi-Variable Linear Regression Model): 14088.966676797678\n"
          ]
        }
      ]
    },
    {
      "cell_type": "markdown",
      "source": [
        "## 3. Using Polynomial Regression (Pipeline)\n",
        "\n",
        "This model uses polynomial features, which capture more complex relationships between input features and the target variable."
      ],
      "metadata": {
        "id": "nmxDsj4Muysj"
      }
    },
    {
      "cell_type": "code",
      "source": [
        "# Predict charges using the polynomial regression pipeline\n",
        "predicted_charges_poly = pipe.predict(Z_new_df)\n",
        "print(\"Predicted Charges (Polynomial Regression Model):\", predicted_charges_poly[0])\n"
      ],
      "metadata": {
        "colab": {
          "base_uri": "https://localhost:8080/"
        },
        "id": "rUaYm6X7u768",
        "outputId": "b9ccdc6a-5a79-464a-ee6a-724cc0287767"
      },
      "execution_count": 46,
      "outputs": [
        {
          "output_type": "stream",
          "name": "stdout",
          "text": [
            "Predicted Charges (Polynomial Regression Model): 14030.927734375\n"
          ]
        }
      ]
    },
    {
      "cell_type": "markdown",
      "source": [
        "## 4. Using Ridge Regression\n",
        "\n",
        "The Ridge regression model is a regularized linear regression, which often generalizes better on unseen data by penalizing large coefficients. It’s particularly useful for reducing overfitting in models with many variables."
      ],
      "metadata": {
        "id": "DKE4cQP4u_Q2"
      }
    },
    {
      "cell_type": "code",
      "source": [
        "# Predict charges using the Ridge regression model\n",
        "predicted_charges_ridge = RidgeModel.predict(Z_new_df)\n",
        "print(\"Predicted Charges (Ridge Regression Model):\", predicted_charges_ridge[0])\n"
      ],
      "metadata": {
        "colab": {
          "base_uri": "https://localhost:8080/"
        },
        "id": "3JlluvhQvGxx",
        "outputId": "cab63b91-ac7b-48b9-90b5-02821dfaecb8"
      },
      "execution_count": 54,
      "outputs": [
        {
          "output_type": "stream",
          "name": "stdout",
          "text": [
            "Predicted Charges (Ridge Regression Model): 14056.821382672815\n"
          ]
        }
      ]
    },
    {
      "cell_type": "markdown",
      "source": [
        "## 5. Using Ridge Regression with Polynomial Features\n",
        "\n",
        "This combines the power of polynomial features and Ridge regression to capture complex patterns while keeping the model from overfitting. You’d typically use this only if polynomial regression alone showed improvement."
      ],
      "metadata": {
        "id": "AqsUrE6rvKfQ"
      }
    },
    {
      "cell_type": "code",
      "source": [
        "# Transform the new data point for polynomial features\n",
        "Z_new_pr = pr.transform(Z_new_df)  # Polynomial transformation of the new patient's data\n",
        "\n",
        "# Predict using the Ridge regression model on polynomial features\n",
        "predicted_charges_ridge_poly = RigeModel.predict(Z_new_pr)\n",
        "print(\"Predicted Charges (Ridge with Polynomial Features):\", predicted_charges_ridge_poly[0])\n"
      ],
      "metadata": {
        "colab": {
          "base_uri": "https://localhost:8080/"
        },
        "id": "O23WwxI5vTUF",
        "outputId": "0a8cd3e7-e0c0-45a8-da20-694343d00ee0"
      },
      "execution_count": 56,
      "outputs": [
        {
          "output_type": "stream",
          "name": "stdout",
          "text": [
            "Predicted Charges (Ridge with Polynomial Features): 13991.10313515054\n"
          ]
        }
      ]
    },
    {
      "cell_type": "markdown",
      "source": [
        "What is the reason of using ?\n",
        "\n",
        "```\n",
        "Z_new_pr = pr.transform(Z_new_df)  # Polynomial transformation of the new patient's data\n",
        "```\n",
        "\n",
        "The reason we do ```pr.transform(Z_new_df)``` before predicting with RigeModel.predict is because RigeModel was trained on polynomial features. Here’s a breakdown of why this step:\n",
        "\n",
        "### Polynomial Features Transformation:\n",
        "\n",
        "- When we trained the ```RigeModel```, we used a PolynomialFeatures transformation on the input data to create new features (squared, interaction terms, etc.). This transformation expands the original features (like age, gender, etc.) to include additional polynomial terms.\n",
        "\n",
        "- The ```pr``` object (an instance of PolynomialFeatures) was fitted to the training data to define the exact transformations applied to the features.\n",
        "\n",
        "### Ensuring Consistent Input for Prediction:\n",
        "\n",
        "- If we pass the original features directly to ```predict(Z_new_df)```, the ```RigeModel``` won’t know about the polynomial terms and will expect fewer input features than what it was trained on.\n",
        "\n",
        "- To provide a consistent input format, we use ```pr.transform(Z_new_df)```, which applies the same polynomial transformation to the new input data as was applied during training.\n",
        "\n",
        "### Pipeline Consistency:\n",
        "\n",
        "- The transformed data (```Z_new_pr```) has the same structure as the training data that was used for ```RigeModel.fit(...)```, allowing for a valid prediction.\n",
        "\n",
        "- In summary, calling pr.transform(Z_new_df) ensures that our input to predict has all the polynomial features required by the trained model. Without this step, predict would throw an error due to a mismatch in the number of features.\n"
      ],
      "metadata": {
        "id": "XiSE8IlTx1WH"
      }
    },
    {
      "cell_type": "code",
      "source": [
        "# this CODE IS A DRAFT\n",
        "from sklearn.preprocessing import PolynomialFeatures, StandardScaler\n",
        "from sklearn.linear_model import Ridge\n",
        "\n",
        "# Define the transformers and model\n",
        "pr = PolynomialFeatures(degree=2)\n",
        "scaler = StandardScaler()\n",
        "RidgeModel_scalled = Ridge(alpha=0.1)\n",
        "\n",
        "# Transform the data\n",
        "x_train_pr = pr.fit_transform(x_train)   # Polynomial transformation\n",
        "x_train_scaled = scaler.fit_transform(x_train_pr)  # Scale the transformed training data\n",
        "\n",
        "# Use only transform on test data to avoid data leakage\n",
        "x_test_pr = pr.transform(x_test)\n",
        "x_test_scaled = scaler.transform(x_test_pr)\n",
        "\n",
        "# Train and evaluate the model\n",
        "RidgeModel_scalled.fit(x_train_scaled, y_train)\n",
        "RidgeModel_scalled.score(x_test_scaled, y_test)\n"
      ],
      "metadata": {
        "colab": {
          "base_uri": "https://localhost:8080/"
        },
        "id": "eGQokBBD4a2H",
        "outputId": "dc0ad9b6-a2fe-4a3e-e304-bb261720242c"
      },
      "execution_count": 57,
      "outputs": [
        {
          "output_type": "execute_result",
          "data": {
            "text/plain": [
              "0.09248465169967213"
            ]
          },
          "metadata": {},
          "execution_count": 57
        }
      ]
    },
    {
      "cell_type": "code",
      "source": [
        "# Define the new patient’s data\n",
        "Z_new = [[45, 1, 29.5, 2, 3]]  # age, gender, bmi, no_of_children, region\n",
        "Z_new_df = pd.DataFrame(Z_new, columns=['age', 'gender', 'bmi', 'no_of_children', 'region'])  # Convert the input to a DataFrame\n",
        "# Apply transformations to match the trained model’s input\n",
        "Z_new_pr = pr.transform(Z_new_df)       # Polynomial features transformation\n",
        "Z_new_scaled = scaler.transform(Z_new_pr)  # Scale the transformed data\n",
        "\n",
        "# Predict the charges using the Ridge regression model\n",
        "predicted_charges_ridge_poly_scaled = RidgeModel_scalled.predict(Z_new_scaled)\n",
        "print(\"Predicted Charges (Ridge with Polynomial Features and Scaling):\", predicted_charges_ridge_poly_scaled[0])\n"
      ],
      "metadata": {
        "colab": {
          "base_uri": "https://localhost:8080/"
        },
        "id": "jTNvH1brzfUk",
        "outputId": "4ebcc969-33f1-4a5f-834b-0c1006b265b7"
      },
      "execution_count": 59,
      "outputs": [
        {
          "output_type": "stream",
          "name": "stdout",
          "text": [
            "Predicted Charges (Ridge with Polynomial Features and Scaling): 13991.474448756877\n"
          ]
        }
      ]
    }
  ],
  "metadata": {
    "kernelspec": {
      "display_name": "Python 3",
      "name": "python3"
    },
    "language_info": {
      "name": "python"
    },
    "colab": {
      "provenance": [],
      "include_colab_link": true
    }
  },
  "nbformat": 4,
  "nbformat_minor": 0
}
